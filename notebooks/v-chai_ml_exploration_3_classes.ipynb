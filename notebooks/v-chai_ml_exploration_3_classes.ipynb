{
 "cells": [
  {
   "cell_type": "code",
   "execution_count": 8,
   "id": "f07136a7",
   "metadata": {},
   "outputs": [],
   "source": [
    "%load_ext autoreload\n",
    "%autoreload 2"
   ]
  },
  {
   "cell_type": "code",
   "execution_count": 10,
   "id": "965fd90e",
   "metadata": {},
   "outputs": [],
   "source": [
    "from happysadsongs.data import *"
   ]
  },
  {
   "cell_type": "code",
   "execution_count": 13,
   "id": "faa6e10a",
   "metadata": {},
   "outputs": [],
   "source": [
    "import pandas as pd\n",
    "import numpy as np\n",
    "import re\n",
    "from sklearn.linear_model import LogisticRegression\n",
    "from sklearn.naive_bayes import MultinomialNB\n",
    "from sklearn.model_selection import train_test_split\n",
    "from sklearn.feature_extraction.text import TfidfVectorizer"
   ]
  },
  {
   "cell_type": "code",
   "execution_count": 3,
   "id": "3a190a18",
   "metadata": {},
   "outputs": [],
   "source": [
    "df = get_training_data()"
   ]
  },
  {
   "cell_type": "code",
   "execution_count": 11,
   "id": "76ff25ed",
   "metadata": {},
   "outputs": [],
   "source": [
    "df['clean_text'] = df['text'].apply(clean, rem_punc=True)\n",
    "emotion_dict = {'happy': 0, 'sad': 1, 'angry': 2}\n",
    "df['label'] = df.word_label.replace(emotion_dict)"
   ]
  },
  {
   "cell_type": "code",
   "execution_count": 4,
   "id": "5a75771d",
   "metadata": {},
   "outputs": [],
   "source": [
    "lyrics = get_test_lyrics()"
   ]
  },
  {
   "cell_type": "code",
   "execution_count": 15,
   "id": "5521fc78",
   "metadata": {},
   "outputs": [],
   "source": [
    "train_df, eval_df = train_test_split(df, test_size=0.2)"
   ]
  },
  {
   "cell_type": "code",
   "execution_count": 16,
   "id": "e49eaf08",
   "metadata": {},
   "outputs": [],
   "source": [
    "vectorizer = TfidfVectorizer(ngram_range = (1,5), max_df=.9, min_df=25, strip_accents=\"unicode\", max_features=10000, dtype=np.float32)\n",
    "\n",
    "vectorizer = vectorizer.fit(train_df.clean_text)\n",
    "X_train = vectorizer.transform(train_df.clean_text)\n",
    "y_train = train_df.label\n",
    "X_val = vectorizer.transform(eval_df.clean_text)\n",
    "y_val = eval_df.label\n",
    "X_test = vectorizer.transform(lyrics['lyrics'].apply(clean, rem_punc=True))\n",
    "y_test = lyrics['label'].map(emotion_dict)"
   ]
  },
  {
   "cell_type": "code",
   "execution_count": 52,
   "id": "de045a8c",
   "metadata": {},
   "outputs": [
    {
     "data": {
      "text/plain": [
       "<260x3514 sparse matrix of type '<class 'numpy.float32'>'\n",
       "\twith 23059 stored elements in Compressed Sparse Row format>"
      ]
     },
     "execution_count": 52,
     "metadata": {},
     "output_type": "execute_result"
    }
   ],
   "source": [
    "X_test"
   ]
  },
  {
   "cell_type": "code",
   "execution_count": 17,
   "id": "445550aa",
   "metadata": {},
   "outputs": [],
   "source": [
    "lr_multi_model = LogisticRegression(C=1.8, class_weight=None, dual=False,\n",
    "                                          fit_intercept=True,\n",
    "                                          intercept_scaling=1, l1_ratio=None,\n",
    "                                          max_iter=300, multi_class='auto',\n",
    "                                          n_jobs=None, penalty='l1',\n",
    "                                          random_state=None, solver='saga',\n",
    "                                          tol=0.0001, verbose=0,\n",
    "                                          warm_start=False)"
   ]
  },
  {
   "cell_type": "code",
   "execution_count": 18,
   "id": "79d952e6",
   "metadata": {},
   "outputs": [
    {
     "data": {
      "text/plain": [
       "0.8019889372719784"
      ]
     },
     "execution_count": 18,
     "metadata": {},
     "output_type": "execute_result"
    }
   ],
   "source": [
    "lr_multi_model.fit(X_train, y_train)\n",
    "lr_multi_model.score(X_train, y_train)"
   ]
  },
  {
   "cell_type": "code",
   "execution_count": 248,
   "id": "9dd00a09",
   "metadata": {},
   "outputs": [
    {
     "data": {
      "text/plain": [
       "0.7439096151582911"
      ]
     },
     "execution_count": 248,
     "metadata": {},
     "output_type": "execute_result"
    }
   ],
   "source": [
    "lr_multi_model.score(X_val, y_val)"
   ]
  },
  {
   "cell_type": "code",
   "execution_count": 249,
   "id": "3d79de65",
   "metadata": {},
   "outputs": [
    {
     "data": {
      "text/plain": [
       "0.6230769230769231"
      ]
     },
     "execution_count": 249,
     "metadata": {},
     "output_type": "execute_result"
    }
   ],
   "source": [
    "lr_multi_model.score(X_test, y_test)"
   ]
  },
  {
   "cell_type": "markdown",
   "id": "4dd3752f",
   "metadata": {},
   "source": [
    "## Split lyrics"
   ]
  },
  {
   "cell_type": "code",
   "execution_count": 36,
   "id": "288a8a8c",
   "metadata": {},
   "outputs": [],
   "source": [
    "def get_split(lyric):\n",
    "    l_total = []\n",
    "    l_part = []\n",
    "    if len(lyric.split())//25 >0:\n",
    "        n = len(lyric.split())//25\n",
    "    else: \n",
    "        n = 1\n",
    "    for w in range(n):\n",
    "        if w == 0:\n",
    "            l_part = lyric.split()[:40]\n",
    "            l_total.append(\" \".join(l_part))\n",
    "        else:\n",
    "            l_part = lyric.split()[w*25:w*25 + 40]\n",
    "            l_total.append(\" \".join(l_part))\n",
    "    return l_total"
   ]
  },
  {
   "cell_type": "code",
   "execution_count": 37,
   "id": "966adfd8",
   "metadata": {},
   "outputs": [],
   "source": [
    "lyrics['text'] = lyrics['lyrics'].apply(clean, rem_punc=True)\n",
    "lyrics['split_text'] = lyrics['text'].apply(get_split)"
   ]
  },
  {
   "cell_type": "code",
   "execution_count": 38,
   "id": "2e0913c1",
   "metadata": {},
   "outputs": [],
   "source": [
    "lyrics['nlabel'] = lyrics['label'].map(emotion_dict)"
   ]
  },
  {
   "cell_type": "code",
   "execution_count": 39,
   "id": "035f2b33",
   "metadata": {},
   "outputs": [
    {
     "data": {
      "text/plain": [
       "14"
      ]
     },
     "execution_count": 39,
     "metadata": {},
     "output_type": "execute_result"
    }
   ],
   "source": [
    "len(lyrics['split_text'][2])"
   ]
  },
  {
   "cell_type": "code",
   "execution_count": 53,
   "id": "641e34f5",
   "metadata": {},
   "outputs": [],
   "source": [
    "def vec_transform(lyrics):\n",
    "    vecs = vectorizer.transform(lyrics)\n",
    "    return vecs"
   ]
  },
  {
   "cell_type": "code",
   "execution_count": 58,
   "id": "d2aac9d3",
   "metadata": {},
   "outputs": [],
   "source": [
    "def vec_transform_and_predict(lyrics, model):\n",
    "    vecs = vectorizer.transform(lyrics)\n",
    "    return model.predict(vecs)\n"
   ]
  },
  {
   "cell_type": "code",
   "execution_count": 60,
   "id": "ea952bad",
   "metadata": {},
   "outputs": [
    {
     "data": {
      "text/plain": [
       "array([0, 0, 0, 2, 0, 0, 2])"
      ]
     },
     "execution_count": 60,
     "metadata": {},
     "output_type": "execute_result"
    }
   ],
   "source": [
    "vec_transform_and_predict(lyrics['split_text'][1], lr_multi_model)"
   ]
  },
  {
   "cell_type": "code",
   "execution_count": 57,
   "id": "0afc94e6",
   "metadata": {},
   "outputs": [
    {
     "data": {
      "text/plain": [
       "array([0, 0, 0, 2, 0, 0, 2])"
      ]
     },
     "execution_count": 57,
     "metadata": {},
     "output_type": "execute_result"
    }
   ],
   "source": [
    "lr_multi_model.predict(vec_transform(lyrics['split_text'][1]))"
   ]
  },
  {
   "cell_type": "code",
   "execution_count": 62,
   "id": "3aa7c28d",
   "metadata": {},
   "outputs": [],
   "source": [
    "lyrics['split_preds'] = lyrics['split_text'].apply(vec_transform_and_predict, model=lr_multi_model)"
   ]
  },
  {
   "cell_type": "code",
   "execution_count": 63,
   "id": "f035b2dc",
   "metadata": {},
   "outputs": [
    {
     "data": {
      "text/html": [
       "<div>\n",
       "<style scoped>\n",
       "    .dataframe tbody tr th:only-of-type {\n",
       "        vertical-align: middle;\n",
       "    }\n",
       "\n",
       "    .dataframe tbody tr th {\n",
       "        vertical-align: top;\n",
       "    }\n",
       "\n",
       "    .dataframe thead th {\n",
       "        text-align: right;\n",
       "    }\n",
       "</style>\n",
       "<table border=\"1\" class=\"dataframe\">\n",
       "  <thead>\n",
       "    <tr style=\"text-align: right;\">\n",
       "      <th></th>\n",
       "      <th>Unnamed: 0</th>\n",
       "      <th>Unnamed: 0.1</th>\n",
       "      <th>title</th>\n",
       "      <th>artist</th>\n",
       "      <th>label</th>\n",
       "      <th>lyrics</th>\n",
       "      <th>text</th>\n",
       "      <th>split_text</th>\n",
       "      <th>nlabel</th>\n",
       "      <th>split_preds</th>\n",
       "    </tr>\n",
       "  </thead>\n",
       "  <tbody>\n",
       "    <tr>\n",
       "      <th>0</th>\n",
       "      <td>0</td>\n",
       "      <td>0</td>\n",
       "      <td>If I Die Young</td>\n",
       "      <td>Naya Rivera</td>\n",
       "      <td>sad</td>\n",
       "      <td>Text\\nIf I die young, bury me in satin\\nLay me...</td>\n",
       "      <td>text if i die young bury me in satin lay me do...</td>\n",
       "      <td>[text if i die young bury me in satin lay me d...</td>\n",
       "      <td>1</td>\n",
       "      <td>[1, 0, 1, 1, 1, 2, 2, 1, 1, 1, 1, 0, 0, 1]</td>\n",
       "    </tr>\n",
       "    <tr>\n",
       "      <th>1</th>\n",
       "      <td>1</td>\n",
       "      <td>1</td>\n",
       "      <td>Angie</td>\n",
       "      <td>The Rolling Stones</td>\n",
       "      <td>sad</td>\n",
       "      <td>Angie, Angie\\nWhen will those clouds all disap...</td>\n",
       "      <td>angie angie when will those clouds all disappe...</td>\n",
       "      <td>[angie angie when will those clouds all disapp...</td>\n",
       "      <td>1</td>\n",
       "      <td>[0, 0, 0, 2, 0, 0, 2]</td>\n",
       "    </tr>\n",
       "    <tr>\n",
       "      <th>2</th>\n",
       "      <td>2</td>\n",
       "      <td>2</td>\n",
       "      <td>Pretty Sad</td>\n",
       "      <td>XYLØ</td>\n",
       "      <td>sad</td>\n",
       "      <td>[Intro]\\n(Feeling pretty sad, pretty, pretty s...</td>\n",
       "      <td>intro feeling pretty sad pretty pretty sad sad...</td>\n",
       "      <td>[intro feeling pretty sad pretty pretty sad sa...</td>\n",
       "      <td>1</td>\n",
       "      <td>[1, 1, 1, 1, 1, 1, 1, 1, 1, 1, 1, 1, 1, 1]</td>\n",
       "    </tr>\n",
       "    <tr>\n",
       "      <th>3</th>\n",
       "      <td>3</td>\n",
       "      <td>3</td>\n",
       "      <td>Tear In Your Hand</td>\n",
       "      <td>Tori Amos</td>\n",
       "      <td>sad</td>\n",
       "      <td>All the world just stopped now_x000D_\\nSo you ...</td>\n",
       "      <td>all the world just stopped nowxd so you say yo...</td>\n",
       "      <td>[all the world just stopped nowxd so you say y...</td>\n",
       "      <td>1</td>\n",
       "      <td>[2, 2, 2, 2, 2, 2, 0, 2, 0, 2, 2]</td>\n",
       "    </tr>\n",
       "    <tr>\n",
       "      <th>4</th>\n",
       "      <td>4</td>\n",
       "      <td>4</td>\n",
       "      <td>Canvas</td>\n",
       "      <td>Shane Smith &amp; The Saints</td>\n",
       "      <td>sad</td>\n",
       "      <td>I had a a brother, who wasn't from my family\\n...</td>\n",
       "      <td>i had a a brother who wasnt from my family we ...</td>\n",
       "      <td>[i had a a brother who wasnt from my family we...</td>\n",
       "      <td>1</td>\n",
       "      <td>[1, 1, 0, 0, 0, 2, 1, 0, 2, 1, 1, 0, 0]</td>\n",
       "    </tr>\n",
       "    <tr>\n",
       "      <th>...</th>\n",
       "      <td>...</td>\n",
       "      <td>...</td>\n",
       "      <td>...</td>\n",
       "      <td>...</td>\n",
       "      <td>...</td>\n",
       "      <td>...</td>\n",
       "      <td>...</td>\n",
       "      <td>...</td>\n",
       "      <td>...</td>\n",
       "      <td>...</td>\n",
       "    </tr>\n",
       "    <tr>\n",
       "      <th>255</th>\n",
       "      <td>255</td>\n",
       "      <td>255</td>\n",
       "      <td>Fucking Hostile</td>\n",
       "      <td>Pantera</td>\n",
       "      <td>angry</td>\n",
       "      <td>ne, two, three, four!\\n\\nAlmost every day\\nI s...</td>\n",
       "      <td>ne two three fouralmost every day i see the sa...</td>\n",
       "      <td>[ne two three fouralmost every day i see the s...</td>\n",
       "      <td>2</td>\n",
       "      <td>[0, 2, 2]</td>\n",
       "    </tr>\n",
       "    <tr>\n",
       "      <th>256</th>\n",
       "      <td>256</td>\n",
       "      <td>256</td>\n",
       "      <td>Refuse/Resist</td>\n",
       "      <td>Sepultura</td>\n",
       "      <td>angry</td>\n",
       "      <td>A.D.\\nTanks on the streets\\nConfronting police...</td>\n",
       "      <td>ad tanks on the streets confronting police ble...</td>\n",
       "      <td>[ad tanks on the streets confronting police bl...</td>\n",
       "      <td>2</td>\n",
       "      <td>[2]</td>\n",
       "    </tr>\n",
       "    <tr>\n",
       "      <th>257</th>\n",
       "      <td>257</td>\n",
       "      <td>257</td>\n",
       "      <td>Dam That River</td>\n",
       "      <td>Alice in Chains</td>\n",
       "      <td>angry</td>\n",
       "      <td>I broke you in the canyon\\nI drowned you in th...</td>\n",
       "      <td>i broke you in the canyon i drowned you in the...</td>\n",
       "      <td>[i broke you in the canyon i drowned you in th...</td>\n",
       "      <td>2</td>\n",
       "      <td>[2, 2]</td>\n",
       "    </tr>\n",
       "    <tr>\n",
       "      <th>258</th>\n",
       "      <td>258</td>\n",
       "      <td>258</td>\n",
       "      <td>Destroy Everything</td>\n",
       "      <td>Hatebreed</td>\n",
       "      <td>angry</td>\n",
       "      <td>A new life begins\\n\\nDestroy everything\\nDestr...</td>\n",
       "      <td>a new life beginsdestroy everything destroy ev...</td>\n",
       "      <td>[a new life beginsdestroy everything destroy e...</td>\n",
       "      <td>2</td>\n",
       "      <td>[2, 1, 1]</td>\n",
       "    </tr>\n",
       "    <tr>\n",
       "      <th>259</th>\n",
       "      <td>259</td>\n",
       "      <td>259</td>\n",
       "      <td>Institutionalized</td>\n",
       "      <td>Suicidal Tendencies</td>\n",
       "      <td>angry</td>\n",
       "      <td>Sometimes I try to do things\\nAnd it just does...</td>\n",
       "      <td>sometimes i try to do things and it just doesn...</td>\n",
       "      <td>[sometimes i try to do things and it just does...</td>\n",
       "      <td>2</td>\n",
       "      <td>[1, 1, 1, 2, 2, 2, 2, 2, 2, 2]</td>\n",
       "    </tr>\n",
       "  </tbody>\n",
       "</table>\n",
       "<p>260 rows × 10 columns</p>\n",
       "</div>"
      ],
      "text/plain": [
       "     Unnamed: 0  Unnamed: 0.1               title                    artist  \\\n",
       "0             0             0      If I Die Young               Naya Rivera   \n",
       "1             1             1               Angie        The Rolling Stones   \n",
       "2             2             2          Pretty Sad                      XYLØ   \n",
       "3             3             3   Tear In Your Hand                 Tori Amos   \n",
       "4             4             4              Canvas  Shane Smith & The Saints   \n",
       "..          ...           ...                 ...                       ...   \n",
       "255         255           255     Fucking Hostile                   Pantera   \n",
       "256         256           256       Refuse/Resist                 Sepultura   \n",
       "257         257           257      Dam That River           Alice in Chains   \n",
       "258         258           258  Destroy Everything                 Hatebreed   \n",
       "259         259           259   Institutionalized       Suicidal Tendencies   \n",
       "\n",
       "     label                                             lyrics  \\\n",
       "0      sad  Text\\nIf I die young, bury me in satin\\nLay me...   \n",
       "1      sad  Angie, Angie\\nWhen will those clouds all disap...   \n",
       "2      sad  [Intro]\\n(Feeling pretty sad, pretty, pretty s...   \n",
       "3      sad  All the world just stopped now_x000D_\\nSo you ...   \n",
       "4      sad  I had a a brother, who wasn't from my family\\n...   \n",
       "..     ...                                                ...   \n",
       "255  angry  ne, two, three, four!\\n\\nAlmost every day\\nI s...   \n",
       "256  angry  A.D.\\nTanks on the streets\\nConfronting police...   \n",
       "257  angry  I broke you in the canyon\\nI drowned you in th...   \n",
       "258  angry  A new life begins\\n\\nDestroy everything\\nDestr...   \n",
       "259  angry  Sometimes I try to do things\\nAnd it just does...   \n",
       "\n",
       "                                                  text  \\\n",
       "0    text if i die young bury me in satin lay me do...   \n",
       "1    angie angie when will those clouds all disappe...   \n",
       "2    intro feeling pretty sad pretty pretty sad sad...   \n",
       "3    all the world just stopped nowxd so you say yo...   \n",
       "4    i had a a brother who wasnt from my family we ...   \n",
       "..                                                 ...   \n",
       "255  ne two three fouralmost every day i see the sa...   \n",
       "256  ad tanks on the streets confronting police ble...   \n",
       "257  i broke you in the canyon i drowned you in the...   \n",
       "258  a new life beginsdestroy everything destroy ev...   \n",
       "259  sometimes i try to do things and it just doesn...   \n",
       "\n",
       "                                            split_text  nlabel  \\\n",
       "0    [text if i die young bury me in satin lay me d...       1   \n",
       "1    [angie angie when will those clouds all disapp...       1   \n",
       "2    [intro feeling pretty sad pretty pretty sad sa...       1   \n",
       "3    [all the world just stopped nowxd so you say y...       1   \n",
       "4    [i had a a brother who wasnt from my family we...       1   \n",
       "..                                                 ...     ...   \n",
       "255  [ne two three fouralmost every day i see the s...       2   \n",
       "256  [ad tanks on the streets confronting police bl...       2   \n",
       "257  [i broke you in the canyon i drowned you in th...       2   \n",
       "258  [a new life beginsdestroy everything destroy e...       2   \n",
       "259  [sometimes i try to do things and it just does...       2   \n",
       "\n",
       "                                    split_preds  \n",
       "0    [1, 0, 1, 1, 1, 2, 2, 1, 1, 1, 1, 0, 0, 1]  \n",
       "1                         [0, 0, 0, 2, 0, 0, 2]  \n",
       "2    [1, 1, 1, 1, 1, 1, 1, 1, 1, 1, 1, 1, 1, 1]  \n",
       "3             [2, 2, 2, 2, 2, 2, 0, 2, 0, 2, 2]  \n",
       "4       [1, 1, 0, 0, 0, 2, 1, 0, 2, 1, 1, 0, 0]  \n",
       "..                                          ...  \n",
       "255                                   [0, 2, 2]  \n",
       "256                                         [2]  \n",
       "257                                      [2, 2]  \n",
       "258                                   [2, 1, 1]  \n",
       "259              [1, 1, 1, 2, 2, 2, 2, 2, 2, 2]  \n",
       "\n",
       "[260 rows x 10 columns]"
      ]
     },
     "execution_count": 63,
     "metadata": {},
     "output_type": "execute_result"
    }
   ],
   "source": [
    "lyrics"
   ]
  },
  {
   "cell_type": "code",
   "execution_count": 64,
   "id": "9b848f17",
   "metadata": {},
   "outputs": [],
   "source": [
    "from statistics import multimode"
   ]
  },
  {
   "cell_type": "code",
   "execution_count": 105,
   "id": "0243e64c",
   "metadata": {},
   "outputs": [],
   "source": [
    "def avg_split_preds(preds):\n",
    "    rounded_avg = (round(np.mean(preds)))\n",
    "    return int(rounded_avg)\n",
    "def mode_split_preds(preds):\n",
    "    pred_mode = sorted(multimode(preds), reverse=True)\n",
    "    return int(pred_mode[0])"
   ]
  },
  {
   "cell_type": "code",
   "execution_count": 106,
   "id": "25279921",
   "metadata": {},
   "outputs": [],
   "source": [
    "lyrics['split_avg_pred'] = lyrics['split_preds'].apply(avg_split_preds)"
   ]
  },
  {
   "cell_type": "code",
   "execution_count": 107,
   "id": "d6c61740",
   "metadata": {},
   "outputs": [],
   "source": [
    "lyrics['split_pred_mode'] = lyrics['split_preds'].apply(mode_split_preds)"
   ]
  },
  {
   "cell_type": "code",
   "execution_count": 111,
   "id": "a1b873a4",
   "metadata": {},
   "outputs": [],
   "source": [
    "from sklearn.metrics import classification_report\n",
    "avg_report = classification_report(lyrics['nlabel'], lyrics['split_avg_pred'], output_dict=True)\n",
    "mode_report = classification_report(lyrics['nlabel'], lyrics['split_pred_mode'], output_dict=True)"
   ]
  },
  {
   "cell_type": "code",
   "execution_count": 113,
   "id": "87abbdeb",
   "metadata": {},
   "outputs": [
    {
     "data": {
      "text/plain": [
       "{'0': {'precision': 0.7209302325581395,\n",
       "  'recall': 0.5904761904761905,\n",
       "  'f1-score': 0.6492146596858638,\n",
       "  'support': 105},\n",
       " '1': {'precision': 0.7083333333333334,\n",
       "  'recall': 0.51,\n",
       "  'f1-score': 0.5930232558139535,\n",
       "  'support': 100},\n",
       " '2': {'precision': 0.4117647058823529,\n",
       "  'recall': 0.7636363636363637,\n",
       "  'f1-score': 0.5350318471337581,\n",
       "  'support': 55},\n",
       " 'accuracy': 0.5961538461538461,\n",
       " 'macro avg': {'precision': 0.6136760905912753,\n",
       "  'recall': 0.6213708513708514,\n",
       "  'f1-score': 0.5924232542111918,\n",
       "  'support': 260},\n",
       " 'weighted avg': {'precision': 0.6506848714441054,\n",
       "  'recall': 0.5961538461538461,\n",
       "  'f1-score': 0.6034485247721836,\n",
       "  'support': 260}}"
      ]
     },
     "execution_count": 113,
     "metadata": {},
     "output_type": "execute_result"
    }
   ],
   "source": [
    "mode_report"
   ]
  },
  {
   "cell_type": "markdown",
   "id": "6f216056",
   "metadata": {},
   "source": []
  }
 ],
 "metadata": {
  "kernelspec": {
   "display_name": "Python 3 (ipykernel)",
   "language": "python",
   "name": "python3"
  },
  "language_info": {
   "codemirror_mode": {
    "name": "ipython",
    "version": 3
   },
   "file_extension": ".py",
   "mimetype": "text/x-python",
   "name": "python",
   "nbconvert_exporter": "python",
   "pygments_lexer": "ipython3",
   "version": "3.8.6"
  },
  "toc": {
   "base_numbering": 1,
   "nav_menu": {},
   "number_sections": true,
   "sideBar": true,
   "skip_h1_title": false,
   "title_cell": "Table of Contents",
   "title_sidebar": "Contents",
   "toc_cell": false,
   "toc_position": {},
   "toc_section_display": true,
   "toc_window_display": false
  }
 },
 "nbformat": 4,
 "nbformat_minor": 5
}
