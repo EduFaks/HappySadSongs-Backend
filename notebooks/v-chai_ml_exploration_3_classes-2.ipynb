{
 "cells": [
  {
   "cell_type": "code",
   "execution_count": 8,
   "id": "da8ec7fd",
   "metadata": {},
   "outputs": [],
   "source": [
    "%load_ext autoreload\n",
    "%autoreload 2\n",
    "\n",
    "from happysadsongs.data import *\n",
    "\n",
    "import pandas as pd\n",
    "import numpy as np\n",
    "import re\n",
    "from sklearn.linear_model import LogisticRegression\n",
    "from sklearn.naive_bayes import MultinomialNB\n",
    "from sklearn.model_selection import train_test_split\n",
    "from sklearn.feature_extraction.text import TfidfVectorizer"
   ]
  },
  {
   "cell_type": "code",
   "execution_count": 3,
   "id": "bb99c7a2",
   "metadata": {},
   "outputs": [],
   "source": [
    "df = get_training_data()\n",
    "\n",
    "df['clean_text'] = df['text'].apply(clean, rem_punc=True)\n",
    "emotion_dict = {'happy': 0, 'sad': 1, 'angry': 2}\n",
    "df['label'] = df.word_label.replace(emotion_dict)\n",
    "\n",
    "lyrics = get_test_lyrics()\n",
    "\n",
    "train_df, eval_df = train_test_split(df, test_size=0.2)"
   ]
  },
  {
   "cell_type": "code",
   "execution_count": 16,
   "id": "bd4160fa",
   "metadata": {},
   "outputs": [],
   "source": [
    "vectorizer = TfidfVectorizer(ngram_range = (1,5), max_df=.9, min_df=25, strip_accents=\"unicode\", max_features=10000, dtype=np.float32)\n",
    "\n",
    "vectorizer = vectorizer.fit(train_df.clean_text)\n",
    "X_train = vectorizer.transform(train_df.clean_text)\n",
    "y_train = train_df.label\n",
    "X_val = vectorizer.transform(eval_df.clean_text)\n",
    "y_val = eval_df.label\n",
    "X_test = vectorizer.transform(lyrics['lyrics'].apply(clean, rem_punc=True))\n",
    "y_test = lyrics['label'].map(emotion_dict)"
   ]
  },
  {
   "cell_type": "code",
   "execution_count": 52,
   "id": "f0c7ba4c",
   "metadata": {},
   "outputs": [
    {
     "data": {
      "text/plain": [
       "<260x3514 sparse matrix of type '<class 'numpy.float32'>'\n",
       "\twith 23059 stored elements in Compressed Sparse Row format>"
      ]
     },
     "execution_count": 52,
     "metadata": {},
     "output_type": "execute_result"
    }
   ],
   "source": [
    "X_test"
   ]
  },
  {
   "cell_type": "code",
   "execution_count": 17,
   "id": "afcb5280",
   "metadata": {},
   "outputs": [],
   "source": [
    "lr_multi_model = LogisticRegression(C=1.8, class_weight=None, dual=False,\n",
    "                                          fit_intercept=True,\n",
    "                                          intercept_scaling=1, l1_ratio=None,\n",
    "                                          max_iter=300, multi_class='auto',\n",
    "                                          n_jobs=None, penalty='l1',\n",
    "                                          random_state=None, solver='saga',\n",
    "                                          tol=0.0001, verbose=0,\n",
    "                                          warm_start=False)"
   ]
  },
  {
   "cell_type": "code",
   "execution_count": 18,
   "id": "49867f7d",
   "metadata": {},
   "outputs": [
    {
     "data": {
      "text/plain": [
       "0.8019889372719784"
      ]
     },
     "execution_count": 18,
     "metadata": {},
     "output_type": "execute_result"
    }
   ],
   "source": [
    "lr_multi_model.fit(X_train, y_train)\n",
    "lr_multi_model.score(X_train, y_train)"
   ]
  },
  {
   "cell_type": "code",
   "execution_count": 248,
   "id": "5ef47c45",
   "metadata": {},
   "outputs": [
    {
     "data": {
      "text/plain": [
       "0.7439096151582911"
      ]
     },
     "execution_count": 248,
     "metadata": {},
     "output_type": "execute_result"
    }
   ],
   "source": [
    "lr_multi_model.score(X_val, y_val)"
   ]
  },
  {
   "cell_type": "code",
   "execution_count": 249,
   "id": "5dad14e0",
   "metadata": {},
   "outputs": [
    {
     "data": {
      "text/plain": [
       "0.6230769230769231"
      ]
     },
     "execution_count": 249,
     "metadata": {},
     "output_type": "execute_result"
    }
   ],
   "source": [
    "lr_multi_model.score(X_test, y_test)"
   ]
  },
  {
   "cell_type": "markdown",
   "id": "cd5ed0a8",
   "metadata": {},
   "source": [
    "## Split lyrics"
   ]
  },
  {
   "cell_type": "code",
   "execution_count": 36,
   "id": "7638d0e1",
   "metadata": {},
   "outputs": [],
   "source": [
    "def get_split(lyric):\n",
    "    l_total = []\n",
    "    l_part = []\n",
    "    if len(lyric.split())//25 >0:\n",
    "        n = len(lyric.split())//25\n",
    "    else: \n",
    "        n = 1\n",
    "    for w in range(n):\n",
    "        if w == 0:\n",
    "            l_part = lyric.split()[:40]\n",
    "            l_total.append(\" \".join(l_part))\n",
    "        else:\n",
    "            l_part = lyric.split()[w*25:w*25 + 40]\n",
    "            l_total.append(\" \".join(l_part))\n",
    "    return l_total"
   ]
  },
  {
   "cell_type": "code",
   "execution_count": 37,
   "id": "85f6d20b",
   "metadata": {},
   "outputs": [],
   "source": [
    "lyrics['text'] = lyrics['lyrics'].apply(clean, rem_punc=True)\n",
    "lyrics['split_text'] = lyrics['text'].apply(get_split)"
   ]
  },
  {
   "cell_type": "code",
   "execution_count": 38,
   "id": "b9a92d1b",
   "metadata": {},
   "outputs": [],
   "source": [
    "lyrics['nlabel'] = lyrics['label'].map(emotion_dict)"
   ]
  },
  {
   "cell_type": "code",
   "execution_count": 39,
   "id": "8b74f9eb",
   "metadata": {},
   "outputs": [
    {
     "data": {
      "text/plain": [
       "14"
      ]
     },
     "execution_count": 39,
     "metadata": {},
     "output_type": "execute_result"
    }
   ],
   "source": [
    "len(lyrics['split_text'][2])"
   ]
  },
  {
   "cell_type": "code",
   "execution_count": 53,
   "id": "545f51c0",
   "metadata": {},
   "outputs": [],
   "source": [
    "def vec_transform(lyrics):\n",
    "    vecs = vectorizer.transform(lyrics)\n",
    "    return vecs"
   ]
  },
  {
   "cell_type": "code",
   "execution_count": 58,
   "id": "1a5874c9",
   "metadata": {},
   "outputs": [],
   "source": [
    "def vec_transform_and_predict(lyrics, model):\n",
    "    vecs = vectorizer.transform(lyrics)\n",
    "    return model.predict(vecs)\n"
   ]
  },
  {
   "cell_type": "code",
   "execution_count": 60,
   "id": "ed9de602",
   "metadata": {},
   "outputs": [
    {
     "data": {
      "text/plain": [
       "array([0, 0, 0, 2, 0, 0, 2])"
      ]
     },
     "execution_count": 60,
     "metadata": {},
     "output_type": "execute_result"
    }
   ],
   "source": [
    "vec_transform_and_predict(lyrics['split_text'][1], lr_multi_model)"
   ]
  },
  {
   "cell_type": "code",
   "execution_count": 57,
   "id": "fe9476a9",
   "metadata": {},
   "outputs": [
    {
     "data": {
      "text/plain": [
       "array([0, 0, 0, 2, 0, 0, 2])"
      ]
     },
     "execution_count": 57,
     "metadata": {},
     "output_type": "execute_result"
    }
   ],
   "source": [
    "lr_multi_model.predict(vec_transform(lyrics['split_text'][1]))"
   ]
  },
  {
   "cell_type": "code",
   "execution_count": 62,
   "id": "40329ad8",
   "metadata": {},
   "outputs": [],
   "source": [
    "lyrics['split_preds'] = lyrics['split_text'].apply(vec_transform_and_predict, model=lr_multi_model)"
   ]
  },
  {
   "cell_type": "code",
   "execution_count": 63,
   "id": "804dba9a",
   "metadata": {},
   "outputs": [
    {
     "data": {
      "text/html": [
       "<div>\n",
       "<style scoped>\n",
       "    .dataframe tbody tr th:only-of-type {\n",
       "        vertical-align: middle;\n",
       "    }\n",
       "\n",
       "    .dataframe tbody tr th {\n",
       "        vertical-align: top;\n",
       "    }\n",
       "\n",
       "    .dataframe thead th {\n",
       "        text-align: right;\n",
       "    }\n",
       "</style>\n",
       "<table border=\"1\" class=\"dataframe\">\n",
       "  <thead>\n",
       "    <tr style=\"text-align: right;\">\n",
       "      <th></th>\n",
       "      <th>Unnamed: 0</th>\n",
       "      <th>Unnamed: 0.1</th>\n",
       "      <th>title</th>\n",
       "      <th>artist</th>\n",
       "      <th>label</th>\n",
       "      <th>lyrics</th>\n",
       "      <th>text</th>\n",
       "      <th>split_text</th>\n",
       "      <th>nlabel</th>\n",
       "      <th>split_preds</th>\n",
       "    </tr>\n",
       "  </thead>\n",
       "  <tbody>\n",
       "    <tr>\n",
       "      <th>0</th>\n",
       "      <td>0</td>\n",
       "      <td>0</td>\n",
       "      <td>If I Die Young</td>\n",
       "      <td>Naya Rivera</td>\n",
       "      <td>sad</td>\n",
       "      <td>Text\\nIf I die young, bury me in satin\\nLay me...</td>\n",
       "      <td>text if i die young bury me in satin lay me do...</td>\n",
       "      <td>[text if i die young bury me in satin lay me d...</td>\n",
       "      <td>1</td>\n",
       "      <td>[1, 0, 1, 1, 1, 2, 2, 1, 1, 1, 1, 0, 0, 1]</td>\n",
       "    </tr>\n",
       "    <tr>\n",
       "      <th>1</th>\n",
       "      <td>1</td>\n",
       "      <td>1</td>\n",
       "      <td>Angie</td>\n",
       "      <td>The Rolling Stones</td>\n",
       "      <td>sad</td>\n",
       "      <td>Angie, Angie\\nWhen will those clouds all disap...</td>\n",
       "      <td>angie angie when will those clouds all disappe...</td>\n",
       "      <td>[angie angie when will those clouds all disapp...</td>\n",
       "      <td>1</td>\n",
       "      <td>[0, 0, 0, 2, 0, 0, 2]</td>\n",
       "    </tr>\n",
       "    <tr>\n",
       "      <th>2</th>\n",
       "      <td>2</td>\n",
       "      <td>2</td>\n",
       "      <td>Pretty Sad</td>\n",
       "      <td>XYLØ</td>\n",
       "      <td>sad</td>\n",
       "      <td>[Intro]\\n(Feeling pretty sad, pretty, pretty s...</td>\n",
       "      <td>intro feeling pretty sad pretty pretty sad sad...</td>\n",
       "      <td>[intro feeling pretty sad pretty pretty sad sa...</td>\n",
       "      <td>1</td>\n",
       "      <td>[1, 1, 1, 1, 1, 1, 1, 1, 1, 1, 1, 1, 1, 1]</td>\n",
       "    </tr>\n",
       "    <tr>\n",
       "      <th>3</th>\n",
       "      <td>3</td>\n",
       "      <td>3</td>\n",
       "      <td>Tear In Your Hand</td>\n",
       "      <td>Tori Amos</td>\n",
       "      <td>sad</td>\n",
       "      <td>All the world just stopped now_x000D_\\nSo you ...</td>\n",
       "      <td>all the world just stopped nowxd so you say yo...</td>\n",
       "      <td>[all the world just stopped nowxd so you say y...</td>\n",
       "      <td>1</td>\n",
       "      <td>[2, 2, 2, 2, 2, 2, 0, 2, 0, 2, 2]</td>\n",
       "    </tr>\n",
       "    <tr>\n",
       "      <th>4</th>\n",
       "      <td>4</td>\n",
       "      <td>4</td>\n",
       "      <td>Canvas</td>\n",
       "      <td>Shane Smith &amp; The Saints</td>\n",
       "      <td>sad</td>\n",
       "      <td>I had a a brother, who wasn't from my family\\n...</td>\n",
       "      <td>i had a a brother who wasnt from my family we ...</td>\n",
       "      <td>[i had a a brother who wasnt from my family we...</td>\n",
       "      <td>1</td>\n",
       "      <td>[1, 1, 0, 0, 0, 2, 1, 0, 2, 1, 1, 0, 0]</td>\n",
       "    </tr>\n",
       "    <tr>\n",
       "      <th>...</th>\n",
       "      <td>...</td>\n",
       "      <td>...</td>\n",
       "      <td>...</td>\n",
       "      <td>...</td>\n",
       "      <td>...</td>\n",
       "      <td>...</td>\n",
       "      <td>...</td>\n",
       "      <td>...</td>\n",
       "      <td>...</td>\n",
       "      <td>...</td>\n",
       "    </tr>\n",
       "    <tr>\n",
       "      <th>255</th>\n",
       "      <td>255</td>\n",
       "      <td>255</td>\n",
       "      <td>Fucking Hostile</td>\n",
       "      <td>Pantera</td>\n",
       "      <td>angry</td>\n",
       "      <td>ne, two, three, four!\\n\\nAlmost every day\\nI s...</td>\n",
       "      <td>ne two three fouralmost every day i see the sa...</td>\n",
       "      <td>[ne two three fouralmost every day i see the s...</td>\n",
       "      <td>2</td>\n",
       "      <td>[0, 2, 2]</td>\n",
       "    </tr>\n",
       "    <tr>\n",
       "      <th>256</th>\n",
       "      <td>256</td>\n",
       "      <td>256</td>\n",
       "      <td>Refuse/Resist</td>\n",
       "      <td>Sepultura</td>\n",
       "      <td>angry</td>\n",
       "      <td>A.D.\\nTanks on the streets\\nConfronting police...</td>\n",
       "      <td>ad tanks on the streets confronting police ble...</td>\n",
       "      <td>[ad tanks on the streets confronting police bl...</td>\n",
       "      <td>2</td>\n",
       "      <td>[2]</td>\n",
       "    </tr>\n",
       "    <tr>\n",
       "      <th>257</th>\n",
       "      <td>257</td>\n",
       "      <td>257</td>\n",
       "      <td>Dam That River</td>\n",
       "      <td>Alice in Chains</td>\n",
       "      <td>angry</td>\n",
       "      <td>I broke you in the canyon\\nI drowned you in th...</td>\n",
       "      <td>i broke you in the canyon i drowned you in the...</td>\n",
       "      <td>[i broke you in the canyon i drowned you in th...</td>\n",
       "      <td>2</td>\n",
       "      <td>[2, 2]</td>\n",
       "    </tr>\n",
       "    <tr>\n",
       "      <th>258</th>\n",
       "      <td>258</td>\n",
       "      <td>258</td>\n",
       "      <td>Destroy Everything</td>\n",
       "      <td>Hatebreed</td>\n",
       "      <td>angry</td>\n",
       "      <td>A new life begins\\n\\nDestroy everything\\nDestr...</td>\n",
       "      <td>a new life beginsdestroy everything destroy ev...</td>\n",
       "      <td>[a new life beginsdestroy everything destroy e...</td>\n",
       "      <td>2</td>\n",
       "      <td>[2, 1, 1]</td>\n",
       "    </tr>\n",
       "    <tr>\n",
       "      <th>259</th>\n",
       "      <td>259</td>\n",
       "      <td>259</td>\n",
       "      <td>Institutionalized</td>\n",
       "      <td>Suicidal Tendencies</td>\n",
       "      <td>angry</td>\n",
       "      <td>Sometimes I try to do things\\nAnd it just does...</td>\n",
       "      <td>sometimes i try to do things and it just doesn...</td>\n",
       "      <td>[sometimes i try to do things and it just does...</td>\n",
       "      <td>2</td>\n",
       "      <td>[1, 1, 1, 2, 2, 2, 2, 2, 2, 2]</td>\n",
       "    </tr>\n",
       "  </tbody>\n",
       "</table>\n",
       "<p>260 rows × 10 columns</p>\n",
       "</div>"
      ],
      "text/plain": [
       "     Unnamed: 0  Unnamed: 0.1               title                    artist  \\\n",
       "0             0             0      If I Die Young               Naya Rivera   \n",
       "1             1             1               Angie        The Rolling Stones   \n",
       "2             2             2          Pretty Sad                      XYLØ   \n",
       "3             3             3   Tear In Your Hand                 Tori Amos   \n",
       "4             4             4              Canvas  Shane Smith & The Saints   \n",
       "..          ...           ...                 ...                       ...   \n",
       "255         255           255     Fucking Hostile                   Pantera   \n",
       "256         256           256       Refuse/Resist                 Sepultura   \n",
       "257         257           257      Dam That River           Alice in Chains   \n",
       "258         258           258  Destroy Everything                 Hatebreed   \n",
       "259         259           259   Institutionalized       Suicidal Tendencies   \n",
       "\n",
       "     label                                             lyrics  \\\n",
       "0      sad  Text\\nIf I die young, bury me in satin\\nLay me...   \n",
       "1      sad  Angie, Angie\\nWhen will those clouds all disap...   \n",
       "2      sad  [Intro]\\n(Feeling pretty sad, pretty, pretty s...   \n",
       "3      sad  All the world just stopped now_x000D_\\nSo you ...   \n",
       "4      sad  I had a a brother, who wasn't from my family\\n...   \n",
       "..     ...                                                ...   \n",
       "255  angry  ne, two, three, four!\\n\\nAlmost every day\\nI s...   \n",
       "256  angry  A.D.\\nTanks on the streets\\nConfronting police...   \n",
       "257  angry  I broke you in the canyon\\nI drowned you in th...   \n",
       "258  angry  A new life begins\\n\\nDestroy everything\\nDestr...   \n",
       "259  angry  Sometimes I try to do things\\nAnd it just does...   \n",
       "\n",
       "                                                  text  \\\n",
       "0    text if i die young bury me in satin lay me do...   \n",
       "1    angie angie when will those clouds all disappe...   \n",
       "2    intro feeling pretty sad pretty pretty sad sad...   \n",
       "3    all the world just stopped nowxd so you say yo...   \n",
       "4    i had a a brother who wasnt from my family we ...   \n",
       "..                                                 ...   \n",
       "255  ne two three fouralmost every day i see the sa...   \n",
       "256  ad tanks on the streets confronting police ble...   \n",
       "257  i broke you in the canyon i drowned you in the...   \n",
       "258  a new life beginsdestroy everything destroy ev...   \n",
       "259  sometimes i try to do things and it just doesn...   \n",
       "\n",
       "                                            split_text  nlabel  \\\n",
       "0    [text if i die young bury me in satin lay me d...       1   \n",
       "1    [angie angie when will those clouds all disapp...       1   \n",
       "2    [intro feeling pretty sad pretty pretty sad sa...       1   \n",
       "3    [all the world just stopped nowxd so you say y...       1   \n",
       "4    [i had a a brother who wasnt from my family we...       1   \n",
       "..                                                 ...     ...   \n",
       "255  [ne two three fouralmost every day i see the s...       2   \n",
       "256  [ad tanks on the streets confronting police bl...       2   \n",
       "257  [i broke you in the canyon i drowned you in th...       2   \n",
       "258  [a new life beginsdestroy everything destroy e...       2   \n",
       "259  [sometimes i try to do things and it just does...       2   \n",
       "\n",
       "                                    split_preds  \n",
       "0    [1, 0, 1, 1, 1, 2, 2, 1, 1, 1, 1, 0, 0, 1]  \n",
       "1                         [0, 0, 0, 2, 0, 0, 2]  \n",
       "2    [1, 1, 1, 1, 1, 1, 1, 1, 1, 1, 1, 1, 1, 1]  \n",
       "3             [2, 2, 2, 2, 2, 2, 0, 2, 0, 2, 2]  \n",
       "4       [1, 1, 0, 0, 0, 2, 1, 0, 2, 1, 1, 0, 0]  \n",
       "..                                          ...  \n",
       "255                                   [0, 2, 2]  \n",
       "256                                         [2]  \n",
       "257                                      [2, 2]  \n",
       "258                                   [2, 1, 1]  \n",
       "259              [1, 1, 1, 2, 2, 2, 2, 2, 2, 2]  \n",
       "\n",
       "[260 rows x 10 columns]"
      ]
     },
     "execution_count": 63,
     "metadata": {},
     "output_type": "execute_result"
    }
   ],
   "source": [
    "lyrics"
   ]
  },
  {
   "cell_type": "code",
   "execution_count": 64,
   "id": "8a0e07b7",
   "metadata": {},
   "outputs": [],
   "source": [
    "from statistics import multimode"
   ]
  },
  {
   "cell_type": "code",
   "execution_count": 105,
   "id": "ec3d3246",
   "metadata": {},
   "outputs": [],
   "source": [
    "def avg_split_preds(preds):\n",
    "    rounded_avg = (round(np.mean(preds)))\n",
    "    return int(rounded_avg)\n",
    "def mode_split_preds(preds):\n",
    "    pred_mode = sorted(multimode(preds), reverse=True)\n",
    "    return int(pred_mode[0])"
   ]
  },
  {
   "cell_type": "code",
   "execution_count": 106,
   "id": "03fd2ede",
   "metadata": {},
   "outputs": [],
   "source": [
    "lyrics['split_avg_pred'] = lyrics['split_preds'].apply(avg_split_preds)"
   ]
  },
  {
   "cell_type": "code",
   "execution_count": 107,
   "id": "6521b945",
   "metadata": {},
   "outputs": [],
   "source": [
    "lyrics['split_pred_mode'] = lyrics['split_preds'].apply(mode_split_preds)"
   ]
  },
  {
   "cell_type": "code",
   "execution_count": 111,
   "id": "0c0c9e93",
   "metadata": {},
   "outputs": [],
   "source": [
    "from sklearn.metrics import classification_report\n",
    "avg_report = classification_report(lyrics['nlabel'], lyrics['split_avg_pred'], output_dict=True)\n",
    "mode_report = classification_report(lyrics['nlabel'], lyrics['split_pred_mode'], output_dict=True)"
   ]
  },
  {
   "cell_type": "code",
   "execution_count": 113,
   "id": "fee54b36",
   "metadata": {},
   "outputs": [
    {
     "data": {
      "text/plain": [
       "{'0': {'precision': 0.7209302325581395,\n",
       "  'recall': 0.5904761904761905,\n",
       "  'f1-score': 0.6492146596858638,\n",
       "  'support': 105},\n",
       " '1': {'precision': 0.7083333333333334,\n",
       "  'recall': 0.51,\n",
       "  'f1-score': 0.5930232558139535,\n",
       "  'support': 100},\n",
       " '2': {'precision': 0.4117647058823529,\n",
       "  'recall': 0.7636363636363637,\n",
       "  'f1-score': 0.5350318471337581,\n",
       "  'support': 55},\n",
       " 'accuracy': 0.5961538461538461,\n",
       " 'macro avg': {'precision': 0.6136760905912753,\n",
       "  'recall': 0.6213708513708514,\n",
       "  'f1-score': 0.5924232542111918,\n",
       "  'support': 260},\n",
       " 'weighted avg': {'precision': 0.6506848714441054,\n",
       "  'recall': 0.5961538461538461,\n",
       "  'f1-score': 0.6034485247721836,\n",
       "  'support': 260}}"
      ]
     },
     "execution_count": 113,
     "metadata": {},
     "output_type": "execute_result"
    }
   ],
   "source": [
    "mode_report"
   ]
  },
  {
   "cell_type": "code",
   "execution_count": 132,
   "id": "f13ab6c4",
   "metadata": {},
   "outputs": [
    {
     "data": {
      "text/plain": [
       "{'0': {'precision': 0.7246376811594203,\n",
       "  'recall': 0.47619047619047616,\n",
       "  'f1-score': 0.5747126436781609,\n",
       "  'support': 105},\n",
       " '1': {'precision': 0.5118110236220472,\n",
       "  'recall': 0.65,\n",
       "  'f1-score': 0.5726872246696036,\n",
       "  'support': 100},\n",
       " '2': {'precision': 0.484375,\n",
       "  'recall': 0.5636363636363636,\n",
       "  'f1-score': 0.5210084033613446,\n",
       "  'support': 55},\n",
       " 'accuracy': 0.5615384615384615,\n",
       " 'macro avg': {'precision': 0.5736079015938226,\n",
       "  'recall': 0.5632756132756133,\n",
       "  'f1-score': 0.5561360905697029,\n",
       "  'support': 260},\n",
       " 'weighted avg': {'precision': 0.5919564764767071,\n",
       "  'recall': 0.5615384615384615,\n",
       "  'f1-score': 0.5625731239924662,\n",
       "  'support': 260}}"
      ]
     },
     "execution_count": 132,
     "metadata": {},
     "output_type": "execute_result"
    }
   ],
   "source": [
    "avg_report"
   ]
  },
  {
   "cell_type": "markdown",
   "id": "8c38d0d6",
   "metadata": {},
   "source": [
    "# Try limited train set\n"
   ]
  },
  {
   "cell_type": "code",
   "execution_count": 114,
   "id": "26968c44",
   "metadata": {},
   "outputs": [],
   "source": [
    "new_train_set = get_training_data()"
   ]
  },
  {
   "cell_type": "code",
   "execution_count": 116,
   "id": "ae513302",
   "metadata": {},
   "outputs": [
    {
     "data": {
      "text/plain": [
       "array(['HuggingFace', 'CrowdFlower', 'SemEval-2018', 'MELD-Friends',\n",
       "       'Google_GoEmotions'], dtype=object)"
      ]
     },
     "execution_count": 116,
     "metadata": {},
     "output_type": "execute_result"
    }
   ],
   "source": [
    "new_train_set['source'].unique()"
   ]
  },
  {
   "cell_type": "code",
   "execution_count": 117,
   "id": "fc5bb416",
   "metadata": {},
   "outputs": [],
   "source": [
    "new_train_set = new_train_set.copy()[new_train_set['source'] != 'MELD-Friends']"
   ]
  },
  {
   "cell_type": "code",
   "execution_count": 118,
   "id": "b4d971ce",
   "metadata": {},
   "outputs": [
    {
     "data": {
      "text/plain": [
       "sad      13317\n",
       "happy    12786\n",
       "angry    12576\n",
       "Name: word_label, dtype: int64"
      ]
     },
     "execution_count": 118,
     "metadata": {},
     "output_type": "execute_result"
    }
   ],
   "source": [
    "new_train_set['word_label'].value_counts()"
   ]
  },
  {
   "cell_type": "code",
   "execution_count": 119,
   "id": "9ebb07a8",
   "metadata": {},
   "outputs": [],
   "source": [
    "lr_multi_model = LogisticRegression(C=1.8, class_weight=None, dual=False,\n",
    "                                          fit_intercept=True,\n",
    "                                          intercept_scaling=1, l1_ratio=None,\n",
    "                                          max_iter=300, multi_class='auto',\n",
    "                                          n_jobs=None, penalty='l1',\n",
    "                                          random_state=None, solver='saga',\n",
    "                                          tol=0.0001, verbose=0,\n",
    "                                          warm_start=False)"
   ]
  },
  {
   "cell_type": "code",
   "execution_count": 121,
   "id": "7514882f",
   "metadata": {},
   "outputs": [],
   "source": [
    "new_train_set['clean_text'] = new_train_set['text'].apply(clean, rem_punc=True)\n",
    "emotion_dict = {'happy': 0, 'sad': 1, 'angry': 2}\n",
    "new_train_set['label'] = new_train_set.word_label.replace(emotion_dict)"
   ]
  },
  {
   "cell_type": "code",
   "execution_count": 122,
   "id": "64e240e4",
   "metadata": {},
   "outputs": [],
   "source": [
    "train_df, eval_df = train_test_split(new_train_set, test_size=0.2)"
   ]
  },
  {
   "cell_type": "code",
   "execution_count": 123,
   "id": "7a7125c4",
   "metadata": {},
   "outputs": [
    {
     "data": {
      "text/html": [
       "<div>\n",
       "<style scoped>\n",
       "    .dataframe tbody tr th:only-of-type {\n",
       "        vertical-align: middle;\n",
       "    }\n",
       "\n",
       "    .dataframe tbody tr th {\n",
       "        vertical-align: top;\n",
       "    }\n",
       "\n",
       "    .dataframe thead th {\n",
       "        text-align: right;\n",
       "    }\n",
       "</style>\n",
       "<table border=\"1\" class=\"dataframe\">\n",
       "  <thead>\n",
       "    <tr style=\"text-align: right;\">\n",
       "      <th></th>\n",
       "      <th>Unnamed: 0</th>\n",
       "      <th>text</th>\n",
       "      <th>word_label</th>\n",
       "      <th>source</th>\n",
       "      <th>clean_text</th>\n",
       "      <th>label</th>\n",
       "    </tr>\n",
       "  </thead>\n",
       "  <tbody>\n",
       "    <tr>\n",
       "      <th>25774</th>\n",
       "      <td>3012</td>\n",
       "      <td>@WildRoverTours Thank you for follow and its a...</td>\n",
       "      <td>happy</td>\n",
       "      <td>SemEval-2018</td>\n",
       "      <td>thank you for follow and its a good website y...</td>\n",
       "      <td>0</td>\n",
       "    </tr>\n",
       "    <tr>\n",
       "      <th>829</th>\n",
       "      <td>829</td>\n",
       "      <td>@iamchrisc I'm soo jealous right now!!</td>\n",
       "      <td>happy</td>\n",
       "      <td>CrowdFlower</td>\n",
       "      <td>im soo jealous right now</td>\n",
       "      <td>0</td>\n",
       "    </tr>\n",
       "    <tr>\n",
       "      <th>38172</th>\n",
       "      <td>3595</td>\n",
       "      <td>I blame [NAME] for this series of unfortunate ...</td>\n",
       "      <td>angry</td>\n",
       "      <td>Google_GoEmotions</td>\n",
       "      <td>i blame   for this series of unfortunate events</td>\n",
       "      <td>2</td>\n",
       "    </tr>\n",
       "    <tr>\n",
       "      <th>16121</th>\n",
       "      <td>16121</td>\n",
       "      <td>@SpicyBev yep, itï¿½s Mothers Day here as well...</td>\n",
       "      <td>sad</td>\n",
       "      <td>CrowdFlower</td>\n",
       "      <td>yep itï¿½s mothers day here as well but me an...</td>\n",
       "      <td>1</td>\n",
       "    </tr>\n",
       "    <tr>\n",
       "      <th>34822</th>\n",
       "      <td>245</td>\n",
       "      <td>I legitimately want to brutally murder this pe...</td>\n",
       "      <td>angry</td>\n",
       "      <td>Google_GoEmotions</td>\n",
       "      <td>i legitimately want to brutally murder this pe...</td>\n",
       "      <td>2</td>\n",
       "    </tr>\n",
       "    <tr>\n",
       "      <th>...</th>\n",
       "      <td>...</td>\n",
       "      <td>...</td>\n",
       "      <td>...</td>\n",
       "      <td>...</td>\n",
       "      <td>...</td>\n",
       "      <td>...</td>\n",
       "    </tr>\n",
       "    <tr>\n",
       "      <th>19348</th>\n",
       "      <td>19348</td>\n",
       "      <td>i have noticed that if i go with out i start t...</td>\n",
       "      <td>angry</td>\n",
       "      <td>HuggingFace</td>\n",
       "      <td>i have noticed that if i go with out i start t...</td>\n",
       "      <td>2</td>\n",
       "    </tr>\n",
       "    <tr>\n",
       "      <th>7765</th>\n",
       "      <td>7765</td>\n",
       "      <td>i can feel my self as a fearless continuous being</td>\n",
       "      <td>happy</td>\n",
       "      <td>HuggingFace</td>\n",
       "      <td>i can feel my self as a fearless continuous being</td>\n",
       "      <td>0</td>\n",
       "    </tr>\n",
       "    <tr>\n",
       "      <th>2761</th>\n",
       "      <td>2761</td>\n",
       "      <td>i cant help but feel hopeful and optimistic ab...</td>\n",
       "      <td>happy</td>\n",
       "      <td>HuggingFace</td>\n",
       "      <td>i cant help but feel hopeful and optimistic ab...</td>\n",
       "      <td>0</td>\n",
       "    </tr>\n",
       "    <tr>\n",
       "      <th>40071</th>\n",
       "      <td>5494</td>\n",
       "      <td>Artificial bacon is always so bad. I think its...</td>\n",
       "      <td>angry</td>\n",
       "      <td>Google_GoEmotions</td>\n",
       "      <td>artificial bacon is always so bad i think its ...</td>\n",
       "      <td>2</td>\n",
       "    </tr>\n",
       "    <tr>\n",
       "      <th>8466</th>\n",
       "      <td>8466</td>\n",
       "      <td>i feel like it will not be as good if i do it ...</td>\n",
       "      <td>happy</td>\n",
       "      <td>HuggingFace</td>\n",
       "      <td>i feel like it will not be as good if i do it ...</td>\n",
       "      <td>0</td>\n",
       "    </tr>\n",
       "  </tbody>\n",
       "</table>\n",
       "<p>30943 rows × 6 columns</p>\n",
       "</div>"
      ],
      "text/plain": [
       "       Unnamed: 0                                               text  \\\n",
       "25774        3012  @WildRoverTours Thank you for follow and its a...   \n",
       "829           829             @iamchrisc I'm soo jealous right now!!   \n",
       "38172        3595  I blame [NAME] for this series of unfortunate ...   \n",
       "16121       16121  @SpicyBev yep, itï¿½s Mothers Day here as well...   \n",
       "34822         245  I legitimately want to brutally murder this pe...   \n",
       "...           ...                                                ...   \n",
       "19348       19348  i have noticed that if i go with out i start t...   \n",
       "7765         7765  i can feel my self as a fearless continuous being   \n",
       "2761         2761  i cant help but feel hopeful and optimistic ab...   \n",
       "40071        5494  Artificial bacon is always so bad. I think its...   \n",
       "8466         8466  i feel like it will not be as good if i do it ...   \n",
       "\n",
       "      word_label             source  \\\n",
       "25774      happy       SemEval-2018   \n",
       "829        happy        CrowdFlower   \n",
       "38172      angry  Google_GoEmotions   \n",
       "16121        sad        CrowdFlower   \n",
       "34822      angry  Google_GoEmotions   \n",
       "...          ...                ...   \n",
       "19348      angry        HuggingFace   \n",
       "7765       happy        HuggingFace   \n",
       "2761       happy        HuggingFace   \n",
       "40071      angry  Google_GoEmotions   \n",
       "8466       happy        HuggingFace   \n",
       "\n",
       "                                              clean_text  label  \n",
       "25774   thank you for follow and its a good website y...      0  \n",
       "829                             im soo jealous right now      0  \n",
       "38172    i blame   for this series of unfortunate events      2  \n",
       "16121   yep itï¿½s mothers day here as well but me an...      1  \n",
       "34822  i legitimately want to brutally murder this pe...      2  \n",
       "...                                                  ...    ...  \n",
       "19348  i have noticed that if i go with out i start t...      2  \n",
       "7765   i can feel my self as a fearless continuous being      0  \n",
       "2761   i cant help but feel hopeful and optimistic ab...      0  \n",
       "40071  artificial bacon is always so bad i think its ...      2  \n",
       "8466   i feel like it will not be as good if i do it ...      0  \n",
       "\n",
       "[30943 rows x 6 columns]"
      ]
     },
     "execution_count": 123,
     "metadata": {},
     "output_type": "execute_result"
    }
   ],
   "source": [
    "train_df"
   ]
  },
  {
   "cell_type": "code",
   "execution_count": 125,
   "id": "4bca4b3c",
   "metadata": {},
   "outputs": [],
   "source": [
    "lyr_2 = get_test_lyrics().sample(frac=1).reset_index(drop=True)\n",
    "lyr_2['text'] = lyr_2['lyrics'].apply(clean, rem_punc=True)"
   ]
  },
  {
   "cell_type": "code",
   "execution_count": 127,
   "id": "68a7ae58",
   "metadata": {},
   "outputs": [
    {
     "data": {
      "text/html": [
       "<div>\n",
       "<style scoped>\n",
       "    .dataframe tbody tr th:only-of-type {\n",
       "        vertical-align: middle;\n",
       "    }\n",
       "\n",
       "    .dataframe tbody tr th {\n",
       "        vertical-align: top;\n",
       "    }\n",
       "\n",
       "    .dataframe thead th {\n",
       "        text-align: right;\n",
       "    }\n",
       "</style>\n",
       "<table border=\"1\" class=\"dataframe\">\n",
       "  <thead>\n",
       "    <tr style=\"text-align: right;\">\n",
       "      <th></th>\n",
       "      <th>Unnamed: 0</th>\n",
       "      <th>Unnamed: 0.1</th>\n",
       "      <th>title</th>\n",
       "      <th>artist</th>\n",
       "      <th>label</th>\n",
       "      <th>lyrics</th>\n",
       "      <th>text</th>\n",
       "      <th>nlabel</th>\n",
       "    </tr>\n",
       "  </thead>\n",
       "  <tbody>\n",
       "    <tr>\n",
       "      <th>0</th>\n",
       "      <td>150</td>\n",
       "      <td>150</td>\n",
       "      <td>Man in the Mirror</td>\n",
       "      <td>Michael Jackson</td>\n",
       "      <td>happy</td>\n",
       "      <td>I'm gonna make a change\\nFor once in my life\\n...</td>\n",
       "      <td>im gonna make a change for once in my life its...</td>\n",
       "      <td>0</td>\n",
       "    </tr>\n",
       "    <tr>\n",
       "      <th>1</th>\n",
       "      <td>97</td>\n",
       "      <td>97</td>\n",
       "      <td>Cry Baby</td>\n",
       "      <td>Melanie Martinez</td>\n",
       "      <td>sad</td>\n",
       "      <td>You seem to replace your brain with your heart...</td>\n",
       "      <td>you seem to replace your brain with your heart...</td>\n",
       "      <td>1</td>\n",
       "    </tr>\n",
       "    <tr>\n",
       "      <th>2</th>\n",
       "      <td>174</td>\n",
       "      <td>174</td>\n",
       "      <td>Fight Song</td>\n",
       "      <td>Rachel Platten</td>\n",
       "      <td>happy</td>\n",
       "      <td>ke a small boat on the ocean\\nSending big wave...</td>\n",
       "      <td>ke a small boat on the ocean sending big waves...</td>\n",
       "      <td>0</td>\n",
       "    </tr>\n",
       "    <tr>\n",
       "      <th>3</th>\n",
       "      <td>248</td>\n",
       "      <td>248</td>\n",
       "      <td>Break Stuff</td>\n",
       "      <td>Limp Bizkit</td>\n",
       "      <td>angry</td>\n",
       "      <td>It's just one of those days\\nWhen ya don't wan...</td>\n",
       "      <td>its just one of those days when ya dont wanna ...</td>\n",
       "      <td>2</td>\n",
       "    </tr>\n",
       "    <tr>\n",
       "      <th>4</th>\n",
       "      <td>178</td>\n",
       "      <td>178</td>\n",
       "      <td>America's Sweetheart</td>\n",
       "      <td>Elle King</td>\n",
       "      <td>happy</td>\n",
       "      <td>, there ain't nothin' that I gotta prove\\nYou ...</td>\n",
       "      <td>there aint nothin that i gotta prove you thin...</td>\n",
       "      <td>0</td>\n",
       "    </tr>\n",
       "    <tr>\n",
       "      <th>...</th>\n",
       "      <td>...</td>\n",
       "      <td>...</td>\n",
       "      <td>...</td>\n",
       "      <td>...</td>\n",
       "      <td>...</td>\n",
       "      <td>...</td>\n",
       "      <td>...</td>\n",
       "      <td>...</td>\n",
       "    </tr>\n",
       "    <tr>\n",
       "      <th>255</th>\n",
       "      <td>143</td>\n",
       "      <td>143</td>\n",
       "      <td>Stronger (What Doesn't Kill You)</td>\n",
       "      <td>Kelly Clarkson</td>\n",
       "      <td>happy</td>\n",
       "      <td>You know the bed feels warmer\\nSleeping here a...</td>\n",
       "      <td>you know the bed feels warmer sleeping here al...</td>\n",
       "      <td>0</td>\n",
       "    </tr>\n",
       "    <tr>\n",
       "      <th>256</th>\n",
       "      <td>249</td>\n",
       "      <td>249</td>\n",
       "      <td>Kim</td>\n",
       "      <td>Eminem</td>\n",
       "      <td>angry</td>\n",
       "      <td>[Intro: Eminem &amp; Kim]\\nAw, look at daddy's bab...</td>\n",
       "      <td>aw look at daddys baby girl thats daddys bab...</td>\n",
       "      <td>2</td>\n",
       "    </tr>\n",
       "    <tr>\n",
       "      <th>257</th>\n",
       "      <td>45</td>\n",
       "      <td>45</td>\n",
       "      <td>Lightning Crashes</td>\n",
       "      <td>Live</td>\n",
       "      <td>sad</td>\n",
       "      <td>[Verse 1]\\nLightning crashes, a new mother cri...</td>\n",
       "      <td>lightning crashes a new mother cries her pla...</td>\n",
       "      <td>1</td>\n",
       "    </tr>\n",
       "    <tr>\n",
       "      <th>258</th>\n",
       "      <td>200</td>\n",
       "      <td>200</td>\n",
       "      <td>Dog Days Are Over</td>\n",
       "      <td>Florence + The Machine</td>\n",
       "      <td>happy</td>\n",
       "      <td>[Verse 1]\\nHappiness hit her like a train on a...</td>\n",
       "      <td>happiness hit her like a train on a track co...</td>\n",
       "      <td>0</td>\n",
       "    </tr>\n",
       "    <tr>\n",
       "      <th>259</th>\n",
       "      <td>72</td>\n",
       "      <td>72</td>\n",
       "      <td>Landslide</td>\n",
       "      <td>Fleetwood Mac</td>\n",
       "      <td>sad</td>\n",
       "      <td>[Verse 1]\\nI took my love, took it down\\nI cli...</td>\n",
       "      <td>i took my love took it down i climbed a moun...</td>\n",
       "      <td>1</td>\n",
       "    </tr>\n",
       "  </tbody>\n",
       "</table>\n",
       "<p>260 rows × 8 columns</p>\n",
       "</div>"
      ],
      "text/plain": [
       "     Unnamed: 0  Unnamed: 0.1                             title  \\\n",
       "0           150           150                 Man in the Mirror   \n",
       "1            97            97                          Cry Baby   \n",
       "2           174           174                        Fight Song   \n",
       "3           248           248                       Break Stuff   \n",
       "4           178           178              America's Sweetheart   \n",
       "..          ...           ...                               ...   \n",
       "255         143           143  Stronger (What Doesn't Kill You)   \n",
       "256         249           249                               Kim   \n",
       "257          45            45                 Lightning Crashes   \n",
       "258         200           200                 Dog Days Are Over   \n",
       "259          72            72                         Landslide   \n",
       "\n",
       "                     artist  label  \\\n",
       "0           Michael Jackson  happy   \n",
       "1          Melanie Martinez    sad   \n",
       "2            Rachel Platten  happy   \n",
       "3               Limp Bizkit  angry   \n",
       "4                 Elle King  happy   \n",
       "..                      ...    ...   \n",
       "255          Kelly Clarkson  happy   \n",
       "256                  Eminem  angry   \n",
       "257                    Live    sad   \n",
       "258  Florence + The Machine  happy   \n",
       "259           Fleetwood Mac    sad   \n",
       "\n",
       "                                                lyrics  \\\n",
       "0    I'm gonna make a change\\nFor once in my life\\n...   \n",
       "1    You seem to replace your brain with your heart...   \n",
       "2    ke a small boat on the ocean\\nSending big wave...   \n",
       "3    It's just one of those days\\nWhen ya don't wan...   \n",
       "4    , there ain't nothin' that I gotta prove\\nYou ...   \n",
       "..                                                 ...   \n",
       "255  You know the bed feels warmer\\nSleeping here a...   \n",
       "256  [Intro: Eminem & Kim]\\nAw, look at daddy's bab...   \n",
       "257  [Verse 1]\\nLightning crashes, a new mother cri...   \n",
       "258  [Verse 1]\\nHappiness hit her like a train on a...   \n",
       "259  [Verse 1]\\nI took my love, took it down\\nI cli...   \n",
       "\n",
       "                                                  text  nlabel  \n",
       "0    im gonna make a change for once in my life its...       0  \n",
       "1    you seem to replace your brain with your heart...       1  \n",
       "2    ke a small boat on the ocean sending big waves...       0  \n",
       "3    its just one of those days when ya dont wanna ...       2  \n",
       "4     there aint nothin that i gotta prove you thin...       0  \n",
       "..                                                 ...     ...  \n",
       "255  you know the bed feels warmer sleeping here al...       0  \n",
       "256    aw look at daddys baby girl thats daddys bab...       2  \n",
       "257    lightning crashes a new mother cries her pla...       1  \n",
       "258    happiness hit her like a train on a track co...       0  \n",
       "259    i took my love took it down i climbed a moun...       1  \n",
       "\n",
       "[260 rows x 8 columns]"
      ]
     },
     "execution_count": 127,
     "metadata": {},
     "output_type": "execute_result"
    }
   ],
   "source": [
    "lyr_2['nlabel'] = lyr_2['label'].map(emotion_dict)\n",
    "lyr_2"
   ]
  },
  {
   "cell_type": "code",
   "execution_count": 128,
   "id": "76f97b20",
   "metadata": {},
   "outputs": [],
   "source": [
    "vectorizer = TfidfVectorizer(ngram_range = (1,5), max_df=.9, min_df=25, strip_accents=\"unicode\", max_features=10000, dtype=np.float32)\n",
    "\n",
    "vectorizer = vectorizer.fit(train_df.clean_text)\n",
    "X_train = vectorizer.transform(train_df.clean_text)\n",
    "y_train = train_df.label\n",
    "X_val = vectorizer.transform(eval_df.clean_text)\n",
    "y_val = eval_df.label\n",
    "X_test = vectorizer.transform(lyr_2['text'])\n",
    "y_test = lyr_2['nlabel']"
   ]
  },
  {
   "cell_type": "code",
   "execution_count": 129,
   "id": "0e21a950",
   "metadata": {},
   "outputs": [
    {
     "data": {
      "text/plain": [
       "0.8176324209029506"
      ]
     },
     "execution_count": 129,
     "metadata": {},
     "output_type": "execute_result"
    }
   ],
   "source": [
    "lr_multi_model.fit(X_train, y_train)\n",
    "lr_multi_model.score(X_train, y_train)"
   ]
  },
  {
   "cell_type": "code",
   "execution_count": 130,
   "id": "bb758c7b",
   "metadata": {},
   "outputs": [
    {
     "data": {
      "text/plain": [
       "0.7560754912099276"
      ]
     },
     "execution_count": 130,
     "metadata": {},
     "output_type": "execute_result"
    }
   ],
   "source": [
    "lr_multi_model.score(X_val, y_val)"
   ]
  },
  {
   "cell_type": "code",
   "execution_count": 131,
   "id": "cc0f19df",
   "metadata": {},
   "outputs": [
    {
     "data": {
      "text/plain": [
       "0.5653846153846154"
      ]
     },
     "execution_count": 131,
     "metadata": {},
     "output_type": "execute_result"
    }
   ],
   "source": [
    "lr_multi_model.score(X_test, y_test)"
   ]
  },
  {
   "cell_type": "code",
   "execution_count": null,
   "id": "a0047053",
   "metadata": {},
   "outputs": [],
   "source": []
  }
 ],
 "metadata": {
  "kernelspec": {
   "display_name": "Python 3 (ipykernel)",
   "language": "python",
   "name": "python3"
  },
  "language_info": {
   "codemirror_mode": {
    "name": "ipython",
    "version": 3
   },
   "file_extension": ".py",
   "mimetype": "text/x-python",
   "name": "python",
   "nbconvert_exporter": "python",
   "pygments_lexer": "ipython3",
   "version": "3.8.6"
  },
  "toc": {
   "base_numbering": 1,
   "nav_menu": {},
   "number_sections": true,
   "sideBar": true,
   "skip_h1_title": false,
   "title_cell": "Table of Contents",
   "title_sidebar": "Contents",
   "toc_cell": false,
   "toc_position": {},
   "toc_section_display": true,
   "toc_window_display": false
  }
 },
 "nbformat": 4,
 "nbformat_minor": 5
}
