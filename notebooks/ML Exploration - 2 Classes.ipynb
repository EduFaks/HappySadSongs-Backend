{
 "cells": [
  {
   "cell_type": "code",
   "execution_count": 97,
   "id": "99a98f13",
   "metadata": {},
   "outputs": [
    {
     "name": "stdout",
     "output_type": "stream",
     "text": [
      "The autoreload extension is already loaded. To reload it, use:\n",
      "  %reload_ext autoreload\n"
     ]
    }
   ],
   "source": [
    "%load_ext autoreload\n",
    "%autoreload 2\n",
    "\n",
    "from happysadsongs.data import *\n",
    "\n",
    "import pandas as pd\n",
    "import numpy as np\n",
    "import re\n",
    "from sklearn.linear_model import LogisticRegression\n",
    "from sklearn.naive_bayes import MultinomialNB\n",
    "from sklearn.model_selection import train_test_split\n",
    "from sklearn.feature_extraction.text import TfidfVectorizer\n",
    "from sklearn.pipeline import make_pipeline"
   ]
  },
  {
   "cell_type": "code",
   "execution_count": 70,
   "id": "4b9f1425",
   "metadata": {},
   "outputs": [
    {
     "data": {
      "text/html": [
       "<div>\n",
       "<style scoped>\n",
       "    .dataframe tbody tr th:only-of-type {\n",
       "        vertical-align: middle;\n",
       "    }\n",
       "\n",
       "    .dataframe tbody tr th {\n",
       "        vertical-align: top;\n",
       "    }\n",
       "\n",
       "    .dataframe thead th {\n",
       "        text-align: right;\n",
       "    }\n",
       "</style>\n",
       "<table border=\"1\" class=\"dataframe\">\n",
       "  <thead>\n",
       "    <tr style=\"text-align: right;\">\n",
       "      <th></th>\n",
       "      <th>text</th>\n",
       "      <th>word_label</th>\n",
       "    </tr>\n",
       "  </thead>\n",
       "  <tbody>\n",
       "    <tr>\n",
       "      <th>0</th>\n",
       "      <td>i am thankful that she continues to feel comfo...</td>\n",
       "      <td>happy</td>\n",
       "    </tr>\n",
       "    <tr>\n",
       "      <th>1</th>\n",
       "      <td>i want to do it the right way oh orihime whisp...</td>\n",
       "      <td>happy</td>\n",
       "    </tr>\n",
       "    <tr>\n",
       "      <th>2</th>\n",
       "      <td>i was gaining weight getting a lot stronger an...</td>\n",
       "      <td>happy</td>\n",
       "    </tr>\n",
       "    <tr>\n",
       "      <th>3</th>\n",
       "      <td>i feel that there is no way to determine if a ...</td>\n",
       "      <td>happy</td>\n",
       "    </tr>\n",
       "    <tr>\n",
       "      <th>4</th>\n",
       "      <td>i feel sure that i wouldnt have gained so much...</td>\n",
       "      <td>happy</td>\n",
       "    </tr>\n",
       "    <tr>\n",
       "      <th>...</th>\n",
       "      <td>...</td>\n",
       "      <td>...</td>\n",
       "    </tr>\n",
       "    <tr>\n",
       "      <th>42480</th>\n",
       "      <td>This hurts to hear because we know it's true. ...</td>\n",
       "      <td>sad</td>\n",
       "    </tr>\n",
       "    <tr>\n",
       "      <th>42481</th>\n",
       "      <td>Yep happening to me all the time at my college...</td>\n",
       "      <td>sad</td>\n",
       "    </tr>\n",
       "    <tr>\n",
       "      <th>42482</th>\n",
       "      <td>Shit, I lost the original page. Please forgive...</td>\n",
       "      <td>sad</td>\n",
       "    </tr>\n",
       "    <tr>\n",
       "      <th>42483</th>\n",
       "      <td>I want to die</td>\n",
       "      <td>sad</td>\n",
       "    </tr>\n",
       "    <tr>\n",
       "      <th>42484</th>\n",
       "      <td>I mourn for you anti-intellectuals</td>\n",
       "      <td>sad</td>\n",
       "    </tr>\n",
       "  </tbody>\n",
       "</table>\n",
       "<p>42485 rows × 2 columns</p>\n",
       "</div>"
      ],
      "text/plain": [
       "                                                    text word_label\n",
       "0      i am thankful that she continues to feel comfo...      happy\n",
       "1      i want to do it the right way oh orihime whisp...      happy\n",
       "2      i was gaining weight getting a lot stronger an...      happy\n",
       "3      i feel that there is no way to determine if a ...      happy\n",
       "4      i feel sure that i wouldnt have gained so much...      happy\n",
       "...                                                  ...        ...\n",
       "42480  This hurts to hear because we know it's true. ...        sad\n",
       "42481  Yep happening to me all the time at my college...        sad\n",
       "42482  Shit, I lost the original page. Please forgive...        sad\n",
       "42483                                      I want to die        sad\n",
       "42484                 I mourn for you anti-intellectuals        sad\n",
       "\n",
       "[42485 rows x 2 columns]"
      ]
     },
     "execution_count": 70,
     "metadata": {},
     "output_type": "execute_result"
    }
   ],
   "source": [
    "pre_df = get_training_data()\n",
    "pre_df"
   ]
  },
  {
   "cell_type": "code",
   "execution_count": 4,
   "id": "a1e6c4cc",
   "metadata": {},
   "outputs": [],
   "source": [
    "pre_df = get_training_data()\n",
    "df = pre_df.copy()[pre_df['word_label'] != 'angry']\n",
    "\n",
    "df['clean_text'] = df['text'].apply(clean, rem_punc=True)\n",
    "emotion_dict = {'happy': 0, 'sad': 1}\n",
    "df['label'] = df.word_label.replace(emotion_dict)\n",
    "\n",
    "lyrics = get_test_lyrics()\n",
    "\n",
    "train_df, eval_df = train_test_split(df, test_size=0.2)"
   ]
  },
  {
   "cell_type": "code",
   "execution_count": 41,
   "id": "55d27de9",
   "metadata": {},
   "outputs": [],
   "source": [
    "full_lyrics = get_test_lyrics()"
   ]
  },
  {
   "cell_type": "code",
   "execution_count": 43,
   "id": "27a608ec",
   "metadata": {},
   "outputs": [],
   "source": [
    "full_dict = emotion_dict = {'happy': 0, 'sad': 1, 'angry': 1}"
   ]
  },
  {
   "cell_type": "markdown",
   "id": "343692d8",
   "metadata": {
    "heading_collapsed": true
   },
   "source": [
    "# Happy / Sad only"
   ]
  },
  {
   "cell_type": "code",
   "execution_count": 42,
   "id": "6f779c4a",
   "metadata": {
    "hidden": true
   },
   "outputs": [],
   "source": [
    "lyrics = full_lyrics.where(full_lyrics.label != 'angry').dropna().reset_index(drop=True)"
   ]
  },
  {
   "cell_type": "code",
   "execution_count": 37,
   "id": "31e4027e",
   "metadata": {
    "hidden": true
   },
   "outputs": [
    {
     "data": {
      "text/html": [
       "<div>\n",
       "<style scoped>\n",
       "    .dataframe tbody tr th:only-of-type {\n",
       "        vertical-align: middle;\n",
       "    }\n",
       "\n",
       "    .dataframe tbody tr th {\n",
       "        vertical-align: top;\n",
       "    }\n",
       "\n",
       "    .dataframe thead th {\n",
       "        text-align: right;\n",
       "    }\n",
       "</style>\n",
       "<table border=\"1\" class=\"dataframe\">\n",
       "  <thead>\n",
       "    <tr style=\"text-align: right;\">\n",
       "      <th></th>\n",
       "      <th>Unnamed: 0</th>\n",
       "      <th>Unnamed: 0.1</th>\n",
       "      <th>title</th>\n",
       "      <th>artist</th>\n",
       "      <th>label</th>\n",
       "      <th>lyrics</th>\n",
       "    </tr>\n",
       "  </thead>\n",
       "  <tbody>\n",
       "    <tr>\n",
       "      <th>0</th>\n",
       "      <td>0.0</td>\n",
       "      <td>0.0</td>\n",
       "      <td>If I Die Young</td>\n",
       "      <td>Naya Rivera</td>\n",
       "      <td>sad</td>\n",
       "      <td>Text\\nIf I die young, bury me in satin\\nLay me...</td>\n",
       "    </tr>\n",
       "    <tr>\n",
       "      <th>1</th>\n",
       "      <td>1.0</td>\n",
       "      <td>1.0</td>\n",
       "      <td>Angie</td>\n",
       "      <td>The Rolling Stones</td>\n",
       "      <td>sad</td>\n",
       "      <td>Angie, Angie\\nWhen will those clouds all disap...</td>\n",
       "    </tr>\n",
       "    <tr>\n",
       "      <th>2</th>\n",
       "      <td>2.0</td>\n",
       "      <td>2.0</td>\n",
       "      <td>Pretty Sad</td>\n",
       "      <td>XYLØ</td>\n",
       "      <td>sad</td>\n",
       "      <td>[Intro]\\n(Feeling pretty sad, pretty, pretty s...</td>\n",
       "    </tr>\n",
       "    <tr>\n",
       "      <th>3</th>\n",
       "      <td>3.0</td>\n",
       "      <td>3.0</td>\n",
       "      <td>Tear In Your Hand</td>\n",
       "      <td>Tori Amos</td>\n",
       "      <td>sad</td>\n",
       "      <td>All the world just stopped now_x000D_\\nSo you ...</td>\n",
       "    </tr>\n",
       "    <tr>\n",
       "      <th>4</th>\n",
       "      <td>4.0</td>\n",
       "      <td>4.0</td>\n",
       "      <td>Canvas</td>\n",
       "      <td>Shane Smith &amp; The Saints</td>\n",
       "      <td>sad</td>\n",
       "      <td>I had a a brother, who wasn't from my family\\n...</td>\n",
       "    </tr>\n",
       "    <tr>\n",
       "      <th>...</th>\n",
       "      <td>...</td>\n",
       "      <td>...</td>\n",
       "      <td>...</td>\n",
       "      <td>...</td>\n",
       "      <td>...</td>\n",
       "      <td>...</td>\n",
       "    </tr>\n",
       "    <tr>\n",
       "      <th>200</th>\n",
       "      <td>200.0</td>\n",
       "      <td>200.0</td>\n",
       "      <td>Dog Days Are Over</td>\n",
       "      <td>Florence + The Machine</td>\n",
       "      <td>happy</td>\n",
       "      <td>[Verse 1]\\nHappiness hit her like a train on a...</td>\n",
       "    </tr>\n",
       "    <tr>\n",
       "      <th>201</th>\n",
       "      <td>201.0</td>\n",
       "      <td>201.0</td>\n",
       "      <td>Good Vibes</td>\n",
       "      <td>Chris Janson</td>\n",
       "      <td>happy</td>\n",
       "      <td>[Verse 1]\\nI ain't watching TV today\\nBad news...</td>\n",
       "    </tr>\n",
       "    <tr>\n",
       "      <th>202</th>\n",
       "      <td>202.0</td>\n",
       "      <td>202.0</td>\n",
       "      <td>High Hopes</td>\n",
       "      <td>Panic! At the Disco</td>\n",
       "      <td>happy</td>\n",
       "      <td>[Intro]\\nHigh, high hopes\\n[Chorus]\\nHad to ha...</td>\n",
       "    </tr>\n",
       "    <tr>\n",
       "      <th>203</th>\n",
       "      <td>203.0</td>\n",
       "      <td>203.0</td>\n",
       "      <td>Hey Look Ma, I Made It</td>\n",
       "      <td>Panic! At the Disco</td>\n",
       "      <td>happy</td>\n",
       "      <td>[Verse 1]\\nAll my life, been hustlin' and\\nTon...</td>\n",
       "    </tr>\n",
       "    <tr>\n",
       "      <th>204</th>\n",
       "      <td>204.0</td>\n",
       "      <td>204.0</td>\n",
       "      <td>Take It Easy</td>\n",
       "      <td>Eagles</td>\n",
       "      <td>happy</td>\n",
       "      <td>[Verse 1]\\nWell, I'm running down the road try...</td>\n",
       "    </tr>\n",
       "  </tbody>\n",
       "</table>\n",
       "<p>205 rows × 6 columns</p>\n",
       "</div>"
      ],
      "text/plain": [
       "     Unnamed: 0  Unnamed: 0.1                   title  \\\n",
       "0           0.0           0.0          If I Die Young   \n",
       "1           1.0           1.0                   Angie   \n",
       "2           2.0           2.0              Pretty Sad   \n",
       "3           3.0           3.0       Tear In Your Hand   \n",
       "4           4.0           4.0                  Canvas   \n",
       "..          ...           ...                     ...   \n",
       "200       200.0         200.0       Dog Days Are Over   \n",
       "201       201.0         201.0              Good Vibes   \n",
       "202       202.0         202.0              High Hopes   \n",
       "203       203.0         203.0  Hey Look Ma, I Made It   \n",
       "204       204.0         204.0            Take It Easy   \n",
       "\n",
       "                       artist  label  \\\n",
       "0                 Naya Rivera    sad   \n",
       "1          The Rolling Stones    sad   \n",
       "2                        XYLØ    sad   \n",
       "3                   Tori Amos    sad   \n",
       "4    Shane Smith & The Saints    sad   \n",
       "..                        ...    ...   \n",
       "200    Florence + The Machine  happy   \n",
       "201              Chris Janson  happy   \n",
       "202       Panic! At the Disco  happy   \n",
       "203       Panic! At the Disco  happy   \n",
       "204                    Eagles  happy   \n",
       "\n",
       "                                                lyrics  \n",
       "0    Text\\nIf I die young, bury me in satin\\nLay me...  \n",
       "1    Angie, Angie\\nWhen will those clouds all disap...  \n",
       "2    [Intro]\\n(Feeling pretty sad, pretty, pretty s...  \n",
       "3    All the world just stopped now_x000D_\\nSo you ...  \n",
       "4    I had a a brother, who wasn't from my family\\n...  \n",
       "..                                                 ...  \n",
       "200  [Verse 1]\\nHappiness hit her like a train on a...  \n",
       "201  [Verse 1]\\nI ain't watching TV today\\nBad news...  \n",
       "202  [Intro]\\nHigh, high hopes\\n[Chorus]\\nHad to ha...  \n",
       "203  [Verse 1]\\nAll my life, been hustlin' and\\nTon...  \n",
       "204  [Verse 1]\\nWell, I'm running down the road try...  \n",
       "\n",
       "[205 rows x 6 columns]"
      ]
     },
     "execution_count": 37,
     "metadata": {},
     "output_type": "execute_result"
    }
   ],
   "source": [
    "lyrics"
   ]
  },
  {
   "cell_type": "code",
   "execution_count": 56,
   "id": "b3d70aee",
   "metadata": {
    "hidden": true
   },
   "outputs": [],
   "source": [
    "vectorizer = TfidfVectorizer(ngram_range = (1,5), max_df=.9, min_df=25, strip_accents=\"unicode\", max_features=10000, dtype=np.float32)\n",
    "\n",
    "vectorizer = vectorizer.fit(train_df.clean_text)\n",
    "X_train = vectorizer.transform(train_df.clean_text)\n",
    "y_train = train_df.label\n",
    "X_val = vectorizer.transform(eval_df.clean_text)\n",
    "y_val = eval_df.label\n",
    "X_test = vectorizer.transform(lyrics['lyrics'].apply(clean, rem_punc=True))\n",
    "y_test = lyrics['label'].map(emotion_dict)"
   ]
  },
  {
   "cell_type": "code",
   "execution_count": 57,
   "id": "14947057",
   "metadata": {
    "hidden": true
   },
   "outputs": [
    {
     "data": {
      "text/plain": [
       "0.7463414634146341"
      ]
     },
     "execution_count": 57,
     "metadata": {},
     "output_type": "execute_result"
    }
   ],
   "source": [
    "best_lr = LogisticRegression(C=2.1, class_weight=None, dual=False,\n",
    "                                          fit_intercept=True,\n",
    "                                          intercept_scaling=1, l1_ratio=None,\n",
    "                                          max_iter=300, multi_class='auto',\n",
    "                                          n_jobs=None, penalty='l2',\n",
    "                                          random_state=None, solver='saga',\n",
    "                                          tol=0.0001, verbose=0,\n",
    "                                          warm_start=False)\n",
    "best_lr = best_lr.fit(X_train, y_train)\n",
    "best_lr.score(X_test, y_test)"
   ]
  },
  {
   "cell_type": "code",
   "execution_count": 58,
   "id": "45f8c267",
   "metadata": {
    "hidden": true
   },
   "outputs": [
    {
     "data": {
      "text/plain": [
       "0.8298282509638977"
      ]
     },
     "execution_count": 58,
     "metadata": {},
     "output_type": "execute_result"
    }
   ],
   "source": [
    "best_lr.score(X_val, y_val)"
   ]
  },
  {
   "cell_type": "code",
   "execution_count": 59,
   "id": "e598bfc7",
   "metadata": {
    "hidden": true
   },
   "outputs": [
    {
     "data": {
      "text/plain": [
       "0.7463414634146341"
      ]
     },
     "execution_count": 59,
     "metadata": {},
     "output_type": "execute_result"
    }
   ],
   "source": [
    "best_lr.score(X_test, y_test)"
   ]
  },
  {
   "cell_type": "markdown",
   "id": "327c9e1c",
   "metadata": {},
   "source": [
    "# Combine sad/angry"
   ]
  },
  {
   "cell_type": "code",
   "execution_count": 69,
   "id": "436dd1bc",
   "metadata": {},
   "outputs": [],
   "source": [
    "import pickle"
   ]
  },
  {
   "cell_type": "code",
   "execution_count": 113,
   "id": "f8f3da2c",
   "metadata": {},
   "outputs": [],
   "source": [
    "pre_df['clean_text'] = pre_df['text'].apply(clean, rem_punc=True)"
   ]
  },
  {
   "cell_type": "code",
   "execution_count": 115,
   "id": "a33c8a9c",
   "metadata": {},
   "outputs": [],
   "source": [
    "pre_df['label'] = pre_df.word_label.replace(full_dict)"
   ]
  },
  {
   "cell_type": "code",
   "execution_count": 116,
   "id": "ab1e8826",
   "metadata": {},
   "outputs": [],
   "source": [
    "train_df, eval_df = train_test_split(pre_df, test_size=.2)"
   ]
  },
  {
   "cell_type": "code",
   "execution_count": 119,
   "id": "5f1581a8",
   "metadata": {},
   "outputs": [],
   "source": [
    "vectorizer = TfidfVectorizer(ngram_range = (1,5), max_df=.9, min_df=25, strip_accents=\"unicode\", max_features=5000, dtype=np.float32)\n",
    "\n",
    "vectorizer = vectorizer.fit(train_df.clean_text)\n",
    "X_train = vectorizer.transform(train_df.clean_text)\n",
    "y_train = train_df.label\n",
    "X_val = vectorizer.transform(eval_df.clean_text)\n",
    "y_val = eval_df.label\n",
    "X_test = vectorizer.transform(full_lyrics['lyrics'].apply(clean, rem_punc=True))\n",
    "y_test = full_lyrics['label'].map(full_dict)"
   ]
  },
  {
   "cell_type": "code",
   "execution_count": 120,
   "id": "7ca12848",
   "metadata": {},
   "outputs": [
    {
     "data": {
      "text/plain": [
       "0.7384615384615385"
      ]
     },
     "execution_count": 120,
     "metadata": {},
     "output_type": "execute_result"
    }
   ],
   "source": [
    "best_lr = LogisticRegression(C=2.1, class_weight=None, dual=False,\n",
    "                                          fit_intercept=True,\n",
    "                                          intercept_scaling=1, l1_ratio=None,\n",
    "                                          max_iter=300, multi_class='auto',\n",
    "                                          n_jobs=None, penalty='l2',\n",
    "                                          random_state=None, solver='saga',\n",
    "                                          tol=0.0001, verbose=0,\n",
    "                                          warm_start=False)\n",
    "best_lr = best_lr.fit(X_train, y_train)\n",
    "best_lr.score(X_test, y_test)"
   ]
  },
  {
   "cell_type": "markdown",
   "id": "6f01789d",
   "metadata": {},
   "source": [
    "## Train to split sad/angry"
   ]
  },
  {
   "cell_type": "code",
   "execution_count": 136,
   "id": "01877858",
   "metadata": {},
   "outputs": [],
   "source": [
    "new_df = get_training_data()"
   ]
  },
  {
   "cell_type": "code",
   "execution_count": 129,
   "id": "60f6f382",
   "metadata": {},
   "outputs": [],
   "source": [
    "sad_angry_dict = {'sad': 1, 'angry': 2}"
   ]
  },
  {
   "cell_type": "code",
   "execution_count": 138,
   "id": "d19af13d",
   "metadata": {},
   "outputs": [],
   "source": [
    "sad_angry_train = new_df.copy()[new_df['word_label'] != 'happy']"
   ]
  },
  {
   "cell_type": "code",
   "execution_count": 140,
   "id": "54fd9299",
   "metadata": {},
   "outputs": [],
   "source": [
    "sad_angry_train['clean_text'] = sad_angry_train['text'].apply(clean, rem_punc=True)\n",
    "sad_angry_train['label'] = sad_angry_train.word_label.replace(sad_angry_dict)"
   ]
  },
  {
   "cell_type": "code",
   "execution_count": 141,
   "id": "0718dfb1",
   "metadata": {},
   "outputs": [],
   "source": [
    "second_train_df, second_eval_df = train_test_split(sad_angry_train, test_size=.2)"
   ]
  },
  {
   "cell_type": "code",
   "execution_count": 143,
   "id": "ba02cef2",
   "metadata": {},
   "outputs": [],
   "source": [
    "test_results = full_lyrics.copy()\n",
    "test_results['actual_label'] = test_results['label'].map({'happy': 0, 'sad': 1, 'angry': 2})\n",
    "test_results['sad/angry_actual'] = test_results['label'].map({'happy': 0, 'sad': 1, 'angry': 1})\n",
    "test_results['sad/angry'] = best_lr.predict(X_test)"
   ]
  },
  {
   "cell_type": "code",
   "execution_count": 144,
   "id": "25810798",
   "metadata": {},
   "outputs": [],
   "source": [
    "first_pass_sad_angry = test_results[test_results['sad/angry'] == 1]"
   ]
  },
  {
   "cell_type": "code",
   "execution_count": 145,
   "id": "de9e610a",
   "metadata": {},
   "outputs": [],
   "source": [
    "vectorizer = TfidfVectorizer(ngram_range = (1,5), max_df=.9, min_df=25, strip_accents=\"unicode\", max_features=10000, dtype=np.float32)\n",
    "\n",
    "vectorizer = vectorizer.fit(second_train_df.clean_text)\n",
    "X_train = vectorizer.transform(second_train_df.clean_text)\n",
    "y_train = second_train_df.label\n",
    "X_val = vectorizer.transform(second_eval_df.clean_text)\n",
    "y_val = second_eval_df.label\n",
    "X_test = vectorizer.transform(first_pass_sad_angry['lyrics'].apply(clean, rem_punc=True))\n",
    "y_test = first_pass_sad_angry['actual_label']"
   ]
  },
  {
   "cell_type": "code",
   "execution_count": 146,
   "id": "dfd3fd1b",
   "metadata": {},
   "outputs": [
    {
     "data": {
      "text/plain": [
       "0.5396825396825397"
      ]
     },
     "execution_count": 146,
     "metadata": {},
     "output_type": "execute_result"
    }
   ],
   "source": [
    "second_lr = LogisticRegression(C=2.1, class_weight=None, dual=False,\n",
    "                                          fit_intercept=True,\n",
    "                                          intercept_scaling=1, l1_ratio=None,\n",
    "                                          max_iter=300, multi_class='auto',\n",
    "                                          n_jobs=None, penalty='l2',\n",
    "                                          random_state=None, solver='saga',\n",
    "                                          tol=0.0001, verbose=0,\n",
    "                                          warm_start=False)\n",
    "second_lr = second_lr.fit(X_train, y_train)\n",
    "second_lr.score(X_test, y_test)"
   ]
  },
  {
   "cell_type": "code",
   "execution_count": null,
   "id": "add56b39",
   "metadata": {},
   "outputs": [],
   "source": []
  },
  {
   "cell_type": "markdown",
   "id": "968f5ad5",
   "metadata": {
    "heading_collapsed": true
   },
   "source": [
    "# Train without Friends"
   ]
  },
  {
   "cell_type": "code",
   "execution_count": 54,
   "id": "6a0843de",
   "metadata": {
    "hidden": true
   },
   "outputs": [
    {
     "data": {
      "text/html": [
       "<div>\n",
       "<style scoped>\n",
       "    .dataframe tbody tr th:only-of-type {\n",
       "        vertical-align: middle;\n",
       "    }\n",
       "\n",
       "    .dataframe tbody tr th {\n",
       "        vertical-align: top;\n",
       "    }\n",
       "\n",
       "    .dataframe thead th {\n",
       "        text-align: right;\n",
       "    }\n",
       "</style>\n",
       "<table border=\"1\" class=\"dataframe\">\n",
       "  <thead>\n",
       "    <tr style=\"text-align: right;\">\n",
       "      <th></th>\n",
       "      <th>Unnamed: 0</th>\n",
       "      <th>text</th>\n",
       "      <th>word_label</th>\n",
       "      <th>source</th>\n",
       "      <th>clean_text</th>\n",
       "      <th>label</th>\n",
       "    </tr>\n",
       "  </thead>\n",
       "  <tbody>\n",
       "    <tr>\n",
       "      <th>0</th>\n",
       "      <td>0</td>\n",
       "      <td>i am thankful that she continues to feel comfo...</td>\n",
       "      <td>happy</td>\n",
       "      <td>HuggingFace</td>\n",
       "      <td>i am thankful that she continues to feel comfo...</td>\n",
       "      <td>0</td>\n",
       "    </tr>\n",
       "    <tr>\n",
       "      <th>1</th>\n",
       "      <td>1</td>\n",
       "      <td>i want to do it the right way oh orihime whisp...</td>\n",
       "      <td>happy</td>\n",
       "      <td>HuggingFace</td>\n",
       "      <td>i want to do it the right way oh orihime whisp...</td>\n",
       "      <td>0</td>\n",
       "    </tr>\n",
       "    <tr>\n",
       "      <th>2</th>\n",
       "      <td>2</td>\n",
       "      <td>i was gaining weight getting a lot stronger an...</td>\n",
       "      <td>happy</td>\n",
       "      <td>HuggingFace</td>\n",
       "      <td>i was gaining weight getting a lot stronger an...</td>\n",
       "      <td>0</td>\n",
       "    </tr>\n",
       "    <tr>\n",
       "      <th>3</th>\n",
       "      <td>3</td>\n",
       "      <td>i feel that there is no way to determine if a ...</td>\n",
       "      <td>happy</td>\n",
       "      <td>HuggingFace</td>\n",
       "      <td>i feel that there is no way to determine if a ...</td>\n",
       "      <td>0</td>\n",
       "    </tr>\n",
       "    <tr>\n",
       "      <th>4</th>\n",
       "      <td>4</td>\n",
       "      <td>i feel sure that i wouldnt have gained so much...</td>\n",
       "      <td>happy</td>\n",
       "      <td>HuggingFace</td>\n",
       "      <td>i feel sure that i wouldnt have gained so much...</td>\n",
       "      <td>0</td>\n",
       "    </tr>\n",
       "    <tr>\n",
       "      <th>...</th>\n",
       "      <td>...</td>\n",
       "      <td>...</td>\n",
       "      <td>...</td>\n",
       "      <td>...</td>\n",
       "      <td>...</td>\n",
       "      <td>...</td>\n",
       "    </tr>\n",
       "    <tr>\n",
       "      <th>42480</th>\n",
       "      <td>1315</td>\n",
       "      <td>This hurts to hear because we know it's true. ...</td>\n",
       "      <td>sad</td>\n",
       "      <td>Google_GoEmotions</td>\n",
       "      <td>this hurts to hear because we know its true th...</td>\n",
       "      <td>1</td>\n",
       "    </tr>\n",
       "    <tr>\n",
       "      <th>42481</th>\n",
       "      <td>1316</td>\n",
       "      <td>Yep happening to me all the time at my college...</td>\n",
       "      <td>sad</td>\n",
       "      <td>Google_GoEmotions</td>\n",
       "      <td>yep happening to me all the time at my college...</td>\n",
       "      <td>1</td>\n",
       "    </tr>\n",
       "    <tr>\n",
       "      <th>42482</th>\n",
       "      <td>1317</td>\n",
       "      <td>Shit, I lost the original page. Please forgive...</td>\n",
       "      <td>sad</td>\n",
       "      <td>Google_GoEmotions</td>\n",
       "      <td>shit i lost the original page please forgive me</td>\n",
       "      <td>1</td>\n",
       "    </tr>\n",
       "    <tr>\n",
       "      <th>42483</th>\n",
       "      <td>1318</td>\n",
       "      <td>I want to die</td>\n",
       "      <td>sad</td>\n",
       "      <td>Google_GoEmotions</td>\n",
       "      <td>i want to die</td>\n",
       "      <td>1</td>\n",
       "    </tr>\n",
       "    <tr>\n",
       "      <th>42484</th>\n",
       "      <td>1319</td>\n",
       "      <td>I mourn for you anti-intellectuals</td>\n",
       "      <td>sad</td>\n",
       "      <td>Google_GoEmotions</td>\n",
       "      <td>i mourn for you antiintellectuals</td>\n",
       "      <td>1</td>\n",
       "    </tr>\n",
       "  </tbody>\n",
       "</table>\n",
       "<p>26103 rows × 6 columns</p>\n",
       "</div>"
      ],
      "text/plain": [
       "       Unnamed: 0                                               text  \\\n",
       "0               0  i am thankful that she continues to feel comfo...   \n",
       "1               1  i want to do it the right way oh orihime whisp...   \n",
       "2               2  i was gaining weight getting a lot stronger an...   \n",
       "3               3  i feel that there is no way to determine if a ...   \n",
       "4               4  i feel sure that i wouldnt have gained so much...   \n",
       "...           ...                                                ...   \n",
       "42480        1315  This hurts to hear because we know it's true. ...   \n",
       "42481        1316  Yep happening to me all the time at my college...   \n",
       "42482        1317  Shit, I lost the original page. Please forgive...   \n",
       "42483        1318                                      I want to die   \n",
       "42484        1319                 I mourn for you anti-intellectuals   \n",
       "\n",
       "      word_label             source  \\\n",
       "0          happy        HuggingFace   \n",
       "1          happy        HuggingFace   \n",
       "2          happy        HuggingFace   \n",
       "3          happy        HuggingFace   \n",
       "4          happy        HuggingFace   \n",
       "...          ...                ...   \n",
       "42480        sad  Google_GoEmotions   \n",
       "42481        sad  Google_GoEmotions   \n",
       "42482        sad  Google_GoEmotions   \n",
       "42483        sad  Google_GoEmotions   \n",
       "42484        sad  Google_GoEmotions   \n",
       "\n",
       "                                              clean_text  label  \n",
       "0      i am thankful that she continues to feel comfo...      0  \n",
       "1      i want to do it the right way oh orihime whisp...      0  \n",
       "2      i was gaining weight getting a lot stronger an...      0  \n",
       "3      i feel that there is no way to determine if a ...      0  \n",
       "4      i feel sure that i wouldnt have gained so much...      0  \n",
       "...                                                  ...    ...  \n",
       "42480  this hurts to hear because we know its true th...      1  \n",
       "42481  yep happening to me all the time at my college...      1  \n",
       "42482    shit i lost the original page please forgive me      1  \n",
       "42483                                      i want to die      1  \n",
       "42484                  i mourn for you antiintellectuals      1  \n",
       "\n",
       "[26103 rows x 6 columns]"
      ]
     },
     "execution_count": 54,
     "metadata": {},
     "output_type": "execute_result"
    }
   ],
   "source": [
    "limited_df = df.copy()[df['source'] != 'MELD-Friends']\n",
    "limited_df"
   ]
  },
  {
   "cell_type": "code",
   "execution_count": 64,
   "id": "8cb678df",
   "metadata": {
    "hidden": true
   },
   "outputs": [],
   "source": [
    "train_df, eval_df = train_test_split(limited_df, test_size=0.2)"
   ]
  },
  {
   "cell_type": "markdown",
   "id": "b90e4d84",
   "metadata": {
    "hidden": true
   },
   "source": [
    "### Happy or Sad"
   ]
  },
  {
   "cell_type": "code",
   "execution_count": 65,
   "id": "4ef60df9",
   "metadata": {
    "hidden": true
   },
   "outputs": [],
   "source": [
    "vectorizer = TfidfVectorizer(ngram_range = (1,5), max_df=.9, min_df=25, strip_accents=\"unicode\", max_features=10000, dtype=np.float32)\n",
    "\n",
    "vectorizer = vectorizer.fit(train_df.clean_text)\n",
    "X_train = vectorizer.transform(train_df.clean_text)\n",
    "y_train = train_df.label\n",
    "X_val = vectorizer.transform(eval_df.clean_text)\n",
    "y_val = eval_df.label\n",
    "X_test = vectorizer.transform(lyrics['lyrics'].apply(clean, rem_punc=True))\n",
    "y_test = lyrics['label'].map(emotion_dict)"
   ]
  },
  {
   "cell_type": "code",
   "execution_count": 66,
   "id": "c199f1b3",
   "metadata": {
    "hidden": true
   },
   "outputs": [
    {
     "data": {
      "text/plain": [
       "0.6829268292682927"
      ]
     },
     "execution_count": 66,
     "metadata": {},
     "output_type": "execute_result"
    }
   ],
   "source": [
    "best_lr = LogisticRegression(C=2.1, class_weight=None, dual=False,\n",
    "                                          fit_intercept=True,\n",
    "                                          intercept_scaling=1, l1_ratio=None,\n",
    "                                          max_iter=300, multi_class='auto',\n",
    "                                          n_jobs=None, penalty='l2',\n",
    "                                          random_state=None, solver='saga',\n",
    "                                          tol=0.0001, verbose=0,\n",
    "                                          warm_start=False)\n",
    "best_lr = best_lr.fit(X_train, y_train)\n",
    "best_lr.score(X_test, y_test)"
   ]
  },
  {
   "cell_type": "markdown",
   "id": "501889fe",
   "metadata": {
    "hidden": true
   },
   "source": [
    "### Happy or Sad/Angry"
   ]
  },
  {
   "cell_type": "code",
   "execution_count": 67,
   "id": "906886cd",
   "metadata": {
    "hidden": true
   },
   "outputs": [],
   "source": [
    "vectorizer = TfidfVectorizer(ngram_range = (1,5), max_df=.9, min_df=25, strip_accents=\"unicode\", max_features=10000, dtype=np.float32)\n",
    "\n",
    "vectorizer = vectorizer.fit(train_df.clean_text)\n",
    "X_train = vectorizer.transform(train_df.clean_text)\n",
    "y_train = train_df.label\n",
    "X_val = vectorizer.transform(eval_df.clean_text)\n",
    "y_val = eval_df.label\n",
    "X_test = vectorizer.transform(full_lyrics['lyrics'].apply(clean, rem_punc=True))\n",
    "y_test = full_lyrics['label'].map(full_dict)"
   ]
  },
  {
   "cell_type": "code",
   "execution_count": 68,
   "id": "0e3ba7fc",
   "metadata": {
    "hidden": true
   },
   "outputs": [
    {
     "data": {
      "text/plain": [
       "0.7076923076923077"
      ]
     },
     "execution_count": 68,
     "metadata": {},
     "output_type": "execute_result"
    }
   ],
   "source": [
    "best_lr = LogisticRegression(C=2.1, class_weight=None, dual=False,\n",
    "                                          fit_intercept=True,\n",
    "                                          intercept_scaling=1, l1_ratio=None,\n",
    "                                          max_iter=300, multi_class='auto',\n",
    "                                          n_jobs=None, penalty='l2',\n",
    "                                          random_state=None, solver='saga',\n",
    "                                          tol=0.0001, verbose=0,\n",
    "                                          warm_start=False)\n",
    "best_lr = best_lr.fit(X_train, y_train)\n",
    "best_lr.score(X_test, y_test)"
   ]
  },
  {
   "cell_type": "markdown",
   "id": "9b767ac8",
   "metadata": {},
   "source": [
    "# Full train set (no train/val split)"
   ]
  },
  {
   "cell_type": "code",
   "execution_count": 89,
   "id": "412f5259",
   "metadata": {},
   "outputs": [],
   "source": [
    "train_data = get_training_data()"
   ]
  },
  {
   "cell_type": "code",
   "execution_count": 90,
   "id": "123b24c7",
   "metadata": {},
   "outputs": [],
   "source": [
    "full_dict = emotion_dict = {'happy': 0, 'sad': 1, 'angry': 1}"
   ]
  },
  {
   "cell_type": "code",
   "execution_count": 91,
   "id": "9532145e",
   "metadata": {},
   "outputs": [],
   "source": [
    "train_data['clean_text'] = train_data['text'].apply(clean, rem_punc=True)\n",
    "train_data['label'] = train_data['word_label'].map(full_dict)"
   ]
  },
  {
   "cell_type": "code",
   "execution_count": 92,
   "id": "797eafd6",
   "metadata": {
    "collapsed": true
   },
   "outputs": [
    {
     "data": {
      "text/html": [
       "<div>\n",
       "<style scoped>\n",
       "    .dataframe tbody tr th:only-of-type {\n",
       "        vertical-align: middle;\n",
       "    }\n",
       "\n",
       "    .dataframe tbody tr th {\n",
       "        vertical-align: top;\n",
       "    }\n",
       "\n",
       "    .dataframe thead th {\n",
       "        text-align: right;\n",
       "    }\n",
       "</style>\n",
       "<table border=\"1\" class=\"dataframe\">\n",
       "  <thead>\n",
       "    <tr style=\"text-align: right;\">\n",
       "      <th></th>\n",
       "      <th>text</th>\n",
       "      <th>word_label</th>\n",
       "      <th>clean_text</th>\n",
       "      <th>label</th>\n",
       "    </tr>\n",
       "  </thead>\n",
       "  <tbody>\n",
       "    <tr>\n",
       "      <th>0</th>\n",
       "      <td>i feel really free i feel that i can grow wing...</td>\n",
       "      <td>happy</td>\n",
       "      <td>i feel really free i feel that i can grow wing...</td>\n",
       "      <td>0</td>\n",
       "    </tr>\n",
       "    <tr>\n",
       "      <th>1</th>\n",
       "      <td>@praddy06 sir.. will we have the need for umbr...</td>\n",
       "      <td>happy</td>\n",
       "      <td>sir will we have the need for umbrella today ...</td>\n",
       "      <td>0</td>\n",
       "    </tr>\n",
       "    <tr>\n",
       "      <th>2</th>\n",
       "      <td>i hunger for anything i feel ferocious like a ...</td>\n",
       "      <td>angry</td>\n",
       "      <td>i hunger for anything i feel ferocious like a ...</td>\n",
       "      <td>1</td>\n",
       "    </tr>\n",
       "    <tr>\n",
       "      <th>3</th>\n",
       "      <td>Happy to help</td>\n",
       "      <td>happy</td>\n",
       "      <td>happy to help</td>\n",
       "      <td>0</td>\n",
       "    </tr>\n",
       "    <tr>\n",
       "      <th>4</th>\n",
       "      <td>üî•üíÅüèº- its lit having a class with you!...</td>\n",
       "      <td>happy</td>\n",
       "      <td>üî•üíåüèº its lit having a class with you y...</td>\n",
       "      <td>0</td>\n",
       "    </tr>\n",
       "    <tr>\n",
       "      <th>...</th>\n",
       "      <td>...</td>\n",
       "      <td>...</td>\n",
       "      <td>...</td>\n",
       "      <td>...</td>\n",
       "    </tr>\n",
       "    <tr>\n",
       "      <th>42480</th>\n",
       "      <td>@josefcd904 @Reddou_Kun @deven_luca @supersoni...</td>\n",
       "      <td>angry</td>\n",
       "      <td>he also likes incurring lilys wrath</td>\n",
       "      <td>1</td>\n",
       "    </tr>\n",
       "    <tr>\n",
       "      <th>42481</th>\n",
       "      <td>i had lunch with an old friend and it was nice...</td>\n",
       "      <td>happy</td>\n",
       "      <td>i had lunch with an old friend and it was nice...</td>\n",
       "      <td>0</td>\n",
       "    </tr>\n",
       "    <tr>\n",
       "      <th>42482</th>\n",
       "      <td>i tend to err on the justice side of things an...</td>\n",
       "      <td>sad</td>\n",
       "      <td>i tend to err on the justice side of things an...</td>\n",
       "      <td>1</td>\n",
       "    </tr>\n",
       "    <tr>\n",
       "      <th>42483</th>\n",
       "      <td>I never said it was irrelevant. I am trying to...</td>\n",
       "      <td>angry</td>\n",
       "      <td>i never said it was irrelevant i am trying to ...</td>\n",
       "      <td>1</td>\n",
       "    </tr>\n",
       "    <tr>\n",
       "      <th>42484</th>\n",
       "      <td>@Gervaisoholic But this is no easy ride for a ...</td>\n",
       "      <td>sad</td>\n",
       "      <td>but this is no easy ride for a child cries no...</td>\n",
       "      <td>1</td>\n",
       "    </tr>\n",
       "  </tbody>\n",
       "</table>\n",
       "<p>42485 rows × 4 columns</p>\n",
       "</div>"
      ],
      "text/plain": [
       "                                                    text word_label  \\\n",
       "0      i feel really free i feel that i can grow wing...      happy   \n",
       "1      @praddy06 sir.. will we have the need for umbr...      happy   \n",
       "2      i hunger for anything i feel ferocious like a ...      angry   \n",
       "3                                          Happy to help      happy   \n",
       "4      üî•üíÅüèº- its lit having a class with you!...      happy   \n",
       "...                                                  ...        ...   \n",
       "42480  @josefcd904 @Reddou_Kun @deven_luca @supersoni...      angry   \n",
       "42481  i had lunch with an old friend and it was nice...      happy   \n",
       "42482  i tend to err on the justice side of things an...        sad   \n",
       "42483  I never said it was irrelevant. I am trying to...      angry   \n",
       "42484  @Gervaisoholic But this is no easy ride for a ...        sad   \n",
       "\n",
       "                                              clean_text  label  \n",
       "0      i feel really free i feel that i can grow wing...      0  \n",
       "1       sir will we have the need for umbrella today ...      0  \n",
       "2      i hunger for anything i feel ferocious like a ...      1  \n",
       "3                                          happy to help      0  \n",
       "4      üî•üíåüèº its lit having a class with you y...      0  \n",
       "...                                                  ...    ...  \n",
       "42480                he also likes incurring lilys wrath      1  \n",
       "42481  i had lunch with an old friend and it was nice...      0  \n",
       "42482  i tend to err on the justice side of things an...      1  \n",
       "42483  i never said it was irrelevant i am trying to ...      1  \n",
       "42484   but this is no easy ride for a child cries no...      1  \n",
       "\n",
       "[42485 rows x 4 columns]"
      ]
     },
     "execution_count": 92,
     "metadata": {},
     "output_type": "execute_result"
    }
   ],
   "source": [
    "train_data = train_data.sample(frac=1).reset_index(drop=True)\n",
    "train_data"
   ]
  },
  {
   "cell_type": "code",
   "execution_count": 93,
   "id": "9453a68c",
   "metadata": {
    "collapsed": true
   },
   "outputs": [
    {
     "data": {
      "text/html": [
       "<div>\n",
       "<style scoped>\n",
       "    .dataframe tbody tr th:only-of-type {\n",
       "        vertical-align: middle;\n",
       "    }\n",
       "\n",
       "    .dataframe tbody tr th {\n",
       "        vertical-align: top;\n",
       "    }\n",
       "\n",
       "    .dataframe thead th {\n",
       "        text-align: right;\n",
       "    }\n",
       "</style>\n",
       "<table border=\"1\" class=\"dataframe\">\n",
       "  <thead>\n",
       "    <tr style=\"text-align: right;\">\n",
       "      <th></th>\n",
       "      <th>Unnamed: 0</th>\n",
       "      <th>Unnamed: 0.1</th>\n",
       "      <th>title</th>\n",
       "      <th>artist</th>\n",
       "      <th>label</th>\n",
       "      <th>lyrics</th>\n",
       "    </tr>\n",
       "  </thead>\n",
       "  <tbody>\n",
       "    <tr>\n",
       "      <th>0</th>\n",
       "      <td>131</td>\n",
       "      <td>131</td>\n",
       "      <td>Here Comes the Sun</td>\n",
       "      <td>The Beatles</td>\n",
       "      <td>happy</td>\n",
       "      <td>[Chorus]\\nHere comes the sun, doo da doo doo\\n...</td>\n",
       "    </tr>\n",
       "    <tr>\n",
       "      <th>1</th>\n",
       "      <td>6</td>\n",
       "      <td>6</td>\n",
       "      <td>Haunt You</td>\n",
       "      <td>Social House</td>\n",
       "      <td>sad</td>\n",
       "      <td>[Verse 1: Mikey]\\nHow do I measure up to heigh...</td>\n",
       "    </tr>\n",
       "    <tr>\n",
       "      <th>2</th>\n",
       "      <td>160</td>\n",
       "      <td>160</td>\n",
       "      <td>Best Night</td>\n",
       "      <td>Justice Crew</td>\n",
       "      <td>happy</td>\n",
       "      <td>the best, this is the best night\\nThis is the ...</td>\n",
       "    </tr>\n",
       "    <tr>\n",
       "      <th>3</th>\n",
       "      <td>144</td>\n",
       "      <td>144</td>\n",
       "      <td>All You Need Is Love</td>\n",
       "      <td>The Beatles</td>\n",
       "      <td>happy</td>\n",
       "      <td>ve, love, love\\nLove, love, love\\nLove, love, ...</td>\n",
       "    </tr>\n",
       "    <tr>\n",
       "      <th>4</th>\n",
       "      <td>36</td>\n",
       "      <td>36</td>\n",
       "      <td>My Immortal</td>\n",
       "      <td>Evanescense</td>\n",
       "      <td>sad</td>\n",
       "      <td>[Verse 1]\\nI'm so tired of being here\\nSuppres...</td>\n",
       "    </tr>\n",
       "    <tr>\n",
       "      <th>...</th>\n",
       "      <td>...</td>\n",
       "      <td>...</td>\n",
       "      <td>...</td>\n",
       "      <td>...</td>\n",
       "      <td>...</td>\n",
       "      <td>...</td>\n",
       "    </tr>\n",
       "    <tr>\n",
       "      <th>255</th>\n",
       "      <td>43</td>\n",
       "      <td>43</td>\n",
       "      <td>When I Was Your Man</td>\n",
       "      <td>Bruno Mars</td>\n",
       "      <td>sad</td>\n",
       "      <td>[Verse 1]\\nSame bed but it feels just a little...</td>\n",
       "    </tr>\n",
       "    <tr>\n",
       "      <th>256</th>\n",
       "      <td>209</td>\n",
       "      <td>209</td>\n",
       "      <td>Given Up</td>\n",
       "      <td>Linkin Park</td>\n",
       "      <td>angry</td>\n",
       "      <td>[Verse 1: Chester Bennington]\\nWake in a sweat...</td>\n",
       "    </tr>\n",
       "    <tr>\n",
       "      <th>257</th>\n",
       "      <td>222</td>\n",
       "      <td>222</td>\n",
       "      <td>Pity Party</td>\n",
       "      <td>Melanie Martinez</td>\n",
       "      <td>angry</td>\n",
       "      <td>Did my invitations disappear?\\nWhy'd I put my ...</td>\n",
       "    </tr>\n",
       "    <tr>\n",
       "      <th>258</th>\n",
       "      <td>2</td>\n",
       "      <td>2</td>\n",
       "      <td>Pretty Sad</td>\n",
       "      <td>XYLØ</td>\n",
       "      <td>sad</td>\n",
       "      <td>[Intro]\\n(Feeling pretty sad, pretty, pretty s...</td>\n",
       "    </tr>\n",
       "    <tr>\n",
       "      <th>259</th>\n",
       "      <td>76</td>\n",
       "      <td>76</td>\n",
       "      <td>Bleeding Love</td>\n",
       "      <td>ASTR</td>\n",
       "      <td>sad</td>\n",
       "      <td>[Verse 1]\\nBlind by your prism love\\nWe were c...</td>\n",
       "    </tr>\n",
       "  </tbody>\n",
       "</table>\n",
       "<p>260 rows × 6 columns</p>\n",
       "</div>"
      ],
      "text/plain": [
       "     Unnamed: 0  Unnamed: 0.1                 title            artist  label  \\\n",
       "0           131           131    Here Comes the Sun       The Beatles  happy   \n",
       "1             6             6             Haunt You      Social House    sad   \n",
       "2           160           160            Best Night      Justice Crew  happy   \n",
       "3           144           144  All You Need Is Love       The Beatles  happy   \n",
       "4            36            36           My Immortal       Evanescense    sad   \n",
       "..          ...           ...                   ...               ...    ...   \n",
       "255          43            43   When I Was Your Man        Bruno Mars    sad   \n",
       "256         209           209              Given Up       Linkin Park  angry   \n",
       "257         222           222            Pity Party  Melanie Martinez  angry   \n",
       "258           2             2            Pretty Sad              XYLØ    sad   \n",
       "259          76            76         Bleeding Love              ASTR    sad   \n",
       "\n",
       "                                                lyrics  \n",
       "0    [Chorus]\\nHere comes the sun, doo da doo doo\\n...  \n",
       "1    [Verse 1: Mikey]\\nHow do I measure up to heigh...  \n",
       "2    the best, this is the best night\\nThis is the ...  \n",
       "3    ve, love, love\\nLove, love, love\\nLove, love, ...  \n",
       "4    [Verse 1]\\nI'm so tired of being here\\nSuppres...  \n",
       "..                                                 ...  \n",
       "255  [Verse 1]\\nSame bed but it feels just a little...  \n",
       "256  [Verse 1: Chester Bennington]\\nWake in a sweat...  \n",
       "257  Did my invitations disappear?\\nWhy'd I put my ...  \n",
       "258  [Intro]\\n(Feeling pretty sad, pretty, pretty s...  \n",
       "259  [Verse 1]\\nBlind by your prism love\\nWe were c...  \n",
       "\n",
       "[260 rows x 6 columns]"
      ]
     },
     "execution_count": 93,
     "metadata": {},
     "output_type": "execute_result"
    }
   ],
   "source": [
    "test_lyrics = get_test_lyrics().sample(frac=1).reset_index(drop=True)\n",
    "test_lyrics"
   ]
  },
  {
   "cell_type": "code",
   "execution_count": 94,
   "id": "0e64979b",
   "metadata": {},
   "outputs": [],
   "source": [
    "vectorizer = TfidfVectorizer(ngram_range = (1,5), max_df=.9, min_df=25, strip_accents=\"unicode\", max_features=5000, dtype=np.float32)\n",
    "\n",
    "vectorizer = vectorizer.fit(train_data.clean_text)\n",
    "X_train = vectorizer.transform(train_data.clean_text)\n",
    "y_train = train_data.label\n",
    "X_test = vectorizer.transform(test_lyrics['lyrics'].apply(clean, rem_punc=True))\n",
    "y_test = test_lyrics['label'].map(full_dict)"
   ]
  },
  {
   "cell_type": "code",
   "execution_count": 95,
   "id": "597b5a1c",
   "metadata": {},
   "outputs": [
    {
     "data": {
      "text/plain": [
       "0.7576923076923077"
      ]
     },
     "execution_count": 95,
     "metadata": {},
     "output_type": "execute_result"
    }
   ],
   "source": [
    "full_lr = LogisticRegression(C=2.1, class_weight=None, dual=False,\n",
    "                                          fit_intercept=True,\n",
    "                                          intercept_scaling=1, l1_ratio=None,\n",
    "                                          max_iter=300, multi_class='auto',\n",
    "                                          n_jobs=None, penalty='l2',\n",
    "                                          random_state=None, solver='saga',\n",
    "                                          tol=0.0001, verbose=0,\n",
    "                                          warm_start=False)\n",
    "full_lr = full_lr.fit(X_train, y_train)\n",
    "full_lr.score(X_test, y_test)"
   ]
  },
  {
   "cell_type": "code",
   "execution_count": 99,
   "id": "0cc3f6c8",
   "metadata": {},
   "outputs": [],
   "source": [
    "pipe = make_pipeline(vectorizer, full_lr)"
   ]
  },
  {
   "cell_type": "code",
   "execution_count": 100,
   "id": "58fa117c",
   "metadata": {},
   "outputs": [],
   "source": [
    "with open(\"pipeline.pkl\", \"wb\") as file:\n",
    "    pickle.dump(pipe, file)\n"
   ]
  },
  {
   "cell_type": "code",
   "execution_count": 101,
   "id": "a51f6e1b",
   "metadata": {},
   "outputs": [],
   "source": [
    "my_pipeline = pickle.load(open(\"pipeline.pkl\",\"rb\"))"
   ]
  },
  {
   "cell_type": "code",
   "execution_count": 103,
   "id": "bb14c908",
   "metadata": {},
   "outputs": [
    {
     "data": {
      "text/html": [
       "<div>\n",
       "<style scoped>\n",
       "    .dataframe tbody tr th:only-of-type {\n",
       "        vertical-align: middle;\n",
       "    }\n",
       "\n",
       "    .dataframe tbody tr th {\n",
       "        vertical-align: top;\n",
       "    }\n",
       "\n",
       "    .dataframe thead th {\n",
       "        text-align: right;\n",
       "    }\n",
       "</style>\n",
       "<table border=\"1\" class=\"dataframe\">\n",
       "  <thead>\n",
       "    <tr style=\"text-align: right;\">\n",
       "      <th></th>\n",
       "      <th>Unnamed: 0</th>\n",
       "      <th>Unnamed: 0.1</th>\n",
       "      <th>title</th>\n",
       "      <th>artist</th>\n",
       "      <th>label</th>\n",
       "      <th>lyrics</th>\n",
       "    </tr>\n",
       "  </thead>\n",
       "  <tbody>\n",
       "    <tr>\n",
       "      <th>0</th>\n",
       "      <td>2</td>\n",
       "      <td>2</td>\n",
       "      <td>Pretty Sad</td>\n",
       "      <td>XYLØ</td>\n",
       "      <td>sad</td>\n",
       "      <td>[Intro]\\n(Feeling pretty sad, pretty, pretty s...</td>\n",
       "    </tr>\n",
       "    <tr>\n",
       "      <th>1</th>\n",
       "      <td>142</td>\n",
       "      <td>142</td>\n",
       "      <td>Get On Your Feet</td>\n",
       "      <td>Gloria Estefan</td>\n",
       "      <td>happy</td>\n",
       "      <td>You say I know it's a waste of time\\nThere's n...</td>\n",
       "    </tr>\n",
       "    <tr>\n",
       "      <th>2</th>\n",
       "      <td>237</td>\n",
       "      <td>237</td>\n",
       "      <td>Fuck You</td>\n",
       "      <td>Damageplan</td>\n",
       "      <td>angry</td>\n",
       "      <td>Fuck you I'm through\\nI want more from you\\nMy...</td>\n",
       "    </tr>\n",
       "    <tr>\n",
       "      <th>3</th>\n",
       "      <td>134</td>\n",
       "      <td>134</td>\n",
       "      <td>Ain't No Stoppin' Us Now</td>\n",
       "      <td>McFadden &amp; Whitehead</td>\n",
       "      <td>happy</td>\n",
       "      <td>Ain't no stoppin' us now\\nWe're on the move!\\n...</td>\n",
       "    </tr>\n",
       "    <tr>\n",
       "      <th>4</th>\n",
       "      <td>221</td>\n",
       "      <td>221</td>\n",
       "      <td>Unstoppable</td>\n",
       "      <td>Gizzle</td>\n",
       "      <td>angry</td>\n",
       "      <td>ntin in us out\\nWe hammered it out\\nThis time ...</td>\n",
       "    </tr>\n",
       "    <tr>\n",
       "      <th>...</th>\n",
       "      <td>...</td>\n",
       "      <td>...</td>\n",
       "      <td>...</td>\n",
       "      <td>...</td>\n",
       "      <td>...</td>\n",
       "      <td>...</td>\n",
       "    </tr>\n",
       "    <tr>\n",
       "      <th>255</th>\n",
       "      <td>188</td>\n",
       "      <td>188</td>\n",
       "      <td>Best Day Ever</td>\n",
       "      <td>Sly &amp; The Family Stone</td>\n",
       "      <td>happy</td>\n",
       "      <td>Woke up past 8 today\\nMy neighbor paid my mete...</td>\n",
       "    </tr>\n",
       "    <tr>\n",
       "      <th>256</th>\n",
       "      <td>84</td>\n",
       "      <td>84</td>\n",
       "      <td>Stay (I Missed You)</td>\n",
       "      <td>Lisa Loeb</td>\n",
       "      <td>sad</td>\n",
       "      <td>You say I only hear what I want to\\nYou say I ...</td>\n",
       "    </tr>\n",
       "    <tr>\n",
       "      <th>257</th>\n",
       "      <td>215</td>\n",
       "      <td>215</td>\n",
       "      <td>Holdin On</td>\n",
       "      <td>Flume</td>\n",
       "      <td>angry</td>\n",
       "      <td>keep on holdin' on, holdin' on\\nHoldin' on, ho...</td>\n",
       "    </tr>\n",
       "    <tr>\n",
       "      <th>258</th>\n",
       "      <td>66</td>\n",
       "      <td>66</td>\n",
       "      <td>Used To Love You</td>\n",
       "      <td>Gwen Stefani</td>\n",
       "      <td>sad</td>\n",
       "      <td>[Written by Julia Michaels, Justin Tranter, Gw...</td>\n",
       "    </tr>\n",
       "    <tr>\n",
       "      <th>259</th>\n",
       "      <td>157</td>\n",
       "      <td>157</td>\n",
       "      <td>Can't Stop the Feeling</td>\n",
       "      <td>Justin Timberlake</td>\n",
       "      <td>happy</td>\n",
       "      <td>I got this feeling inside my bones\\nIt goes el...</td>\n",
       "    </tr>\n",
       "  </tbody>\n",
       "</table>\n",
       "<p>260 rows × 6 columns</p>\n",
       "</div>"
      ],
      "text/plain": [
       "     Unnamed: 0  Unnamed: 0.1                     title  \\\n",
       "0             2             2                Pretty Sad   \n",
       "1           142           142          Get On Your Feet   \n",
       "2           237           237                  Fuck You   \n",
       "3           134           134  Ain't No Stoppin' Us Now   \n",
       "4           221           221               Unstoppable   \n",
       "..          ...           ...                       ...   \n",
       "255         188           188             Best Day Ever   \n",
       "256          84            84       Stay (I Missed You)   \n",
       "257         215           215                 Holdin On   \n",
       "258          66            66          Used To Love You   \n",
       "259         157           157    Can't Stop the Feeling   \n",
       "\n",
       "                     artist  label  \\\n",
       "0                      XYLØ    sad   \n",
       "1            Gloria Estefan  happy   \n",
       "2                Damageplan  angry   \n",
       "3      McFadden & Whitehead  happy   \n",
       "4                    Gizzle  angry   \n",
       "..                      ...    ...   \n",
       "255  Sly & The Family Stone  happy   \n",
       "256               Lisa Loeb    sad   \n",
       "257                   Flume  angry   \n",
       "258            Gwen Stefani    sad   \n",
       "259       Justin Timberlake  happy   \n",
       "\n",
       "                                                lyrics  \n",
       "0    [Intro]\\n(Feeling pretty sad, pretty, pretty s...  \n",
       "1    You say I know it's a waste of time\\nThere's n...  \n",
       "2    Fuck you I'm through\\nI want more from you\\nMy...  \n",
       "3    Ain't no stoppin' us now\\nWe're on the move!\\n...  \n",
       "4    ntin in us out\\nWe hammered it out\\nThis time ...  \n",
       "..                                                 ...  \n",
       "255  Woke up past 8 today\\nMy neighbor paid my mete...  \n",
       "256  You say I only hear what I want to\\nYou say I ...  \n",
       "257  keep on holdin' on, holdin' on\\nHoldin' on, ho...  \n",
       "258  [Written by Julia Michaels, Justin Tranter, Gw...  \n",
       "259  I got this feeling inside my bones\\nIt goes el...  \n",
       "\n",
       "[260 rows x 6 columns]"
      ]
     },
     "execution_count": 103,
     "metadata": {},
     "output_type": "execute_result"
    }
   ],
   "source": [
    "test_lyrics = get_test_lyrics().sample(frac=1).reset_index(drop=True)\n",
    "test_lyrics"
   ]
  },
  {
   "cell_type": "code",
   "execution_count": 104,
   "id": "be5a6d91",
   "metadata": {},
   "outputs": [
    {
     "data": {
      "text/plain": [
       "0.7538461538461538"
      ]
     },
     "execution_count": 104,
     "metadata": {},
     "output_type": "execute_result"
    }
   ],
   "source": [
    "my_pipeline.score(test_lyrics['lyrics'], test_lyrics['label'].map(full_dict))"
   ]
  },
  {
   "cell_type": "code",
   "execution_count": 105,
   "id": "a3f72022",
   "metadata": {},
   "outputs": [
    {
     "data": {
      "text/plain": [
       "Pipeline(memory=None,\n",
       "         steps=[('tfidfvectorizer',\n",
       "                 TfidfVectorizer(analyzer='word', binary=False,\n",
       "                                 decode_error='strict',\n",
       "                                 dtype=<class 'numpy.float32'>,\n",
       "                                 encoding='utf-8', input='content',\n",
       "                                 lowercase=True, max_df=0.9, max_features=5000,\n",
       "                                 min_df=25, ngram_range=(1, 5), norm='l2',\n",
       "                                 preprocessor=None, smooth_idf=True,\n",
       "                                 stop_words=None, strip_accents='unicode',\n",
       "                                 sublinear_tf=False,\n",
       "                                 token_pattern='(?u)\\\\b\\\\w\\\\w+\\\\b',\n",
       "                                 tokenizer=None, use_idf=True,\n",
       "                                 vocabulary=None)),\n",
       "                ('logisticregression',\n",
       "                 LogisticRegression(C=2.1, class_weight=None, dual=False,\n",
       "                                    fit_intercept=True, intercept_scaling=1,\n",
       "                                    l1_ratio=None, max_iter=300,\n",
       "                                    multi_class='auto', n_jobs=None,\n",
       "                                    penalty='l2', random_state=None,\n",
       "                                    solver='saga', tol=0.0001, verbose=0,\n",
       "                                    warm_start=False))],\n",
       "         verbose=False)"
      ]
     },
     "execution_count": 105,
     "metadata": {},
     "output_type": "execute_result"
    }
   ],
   "source": [
    "pipe"
   ]
  },
  {
   "cell_type": "markdown",
   "id": "e615c72e",
   "metadata": {},
   "source": [
    "# Import Roberta Binary Model"
   ]
  },
  {
   "cell_type": "code",
   "execution_count": 153,
   "id": "6334fbb8",
   "metadata": {},
   "outputs": [],
   "source": [
    "from simpletransformers.classification import ClassificationModel"
   ]
  },
  {
   "cell_type": "code",
   "execution_count": 172,
   "id": "43e07887",
   "metadata": {},
   "outputs": [],
   "source": [
    "# args={\n",
    "#     'train_batch_size': 8,\n",
    "#     'eval_batch_size': 8,\n",
    "#     'learning_rate': 1e-5, \n",
    "#     'num_train_epochs': 2, \n",
    "#     'reprocess_input_data': False,\n",
    "#     'max_seq_length': 80}\n",
    "\n",
    "bin_model = ClassificationModel('roberta', '../raw_data/twoclass_roberta_bin', use_cuda=False)\n"
   ]
  },
  {
   "cell_type": "code",
   "execution_count": 173,
   "id": "a48659ac",
   "metadata": {},
   "outputs": [
    {
     "data": {
      "text/plain": [
       "<simpletransformers.classification.classification_model.ClassificationModel at 0x1c9e89eb0>"
      ]
     },
     "execution_count": 173,
     "metadata": {},
     "output_type": "execute_result"
    }
   ],
   "source": [
    "bin_model"
   ]
  },
  {
   "cell_type": "code",
   "execution_count": 156,
   "id": "b60c7297",
   "metadata": {},
   "outputs": [],
   "source": [
    "from happysadsongs.predict import *"
   ]
  },
  {
   "cell_type": "code",
   "execution_count": 176,
   "id": "e602a4a0",
   "metadata": {},
   "outputs": [
    {
     "data": {
      "application/vnd.jupyter.widget-view+json": {
       "model_id": "8aab2b6e670c4305a8490e3fd9975da8",
       "version_major": 2,
       "version_minor": 0
      },
      "text/plain": [
       "  0%|          | 0/5 [00:00<?, ?it/s]"
      ]
     },
     "metadata": {},
     "output_type": "display_data"
    },
    {
     "name": "stdout",
     "output_type": "stream",
     "text": [
      "huggingface/tokenizers: The current process just got forked, after parallelism has already been used. Disabling parallelism to avoid deadlocks...\n",
      "To disable this warning, you can either:\n",
      "\t- Avoid using `tokenizers` before the fork if possible\n",
      "\t- Explicitly set the environment variable TOKENIZERS_PARALLELISM=(true | false)\n"
     ]
    },
    {
     "data": {
      "application/vnd.jupyter.widget-view+json": {
       "model_id": "f3991a13fad641e5a75a35d6e2eb2562",
       "version_major": 2,
       "version_minor": 0
      },
      "text/plain": [
       "  0%|          | 0/1 [00:00<?, ?it/s]"
      ]
     },
     "metadata": {},
     "output_type": "display_data"
    },
    {
     "data": {
      "text/plain": [
       "1"
      ]
     },
     "execution_count": 176,
     "metadata": {},
     "output_type": "execute_result"
    }
   ],
   "source": [
    "predict_parts(bin_model, \"\"\"I want blood because I'm vicious\n",
    "I want your soul\n",
    "I wanna own your thought\n",
    "I want power\n",
    "I want money\n",
    "I got needs and nothing can't be bought\n",
    "\n",
    "Greed and arrogance\n",
    "Justice not in evidence\n",
    "\n",
    "Bloodlust\n",
    "\n",
    "I hate love\n",
    "There's no profit\n",
    "I'm up above and like what I see\n",
    "You got a job\n",
    "You make nothing\n",
    "You got it all but there's more to feed\n",
    "\n",
    "Greed and arrogance\n",
    "Justice not in evidence\n",
    "\n",
    "Bloodlust\n",
    "\n",
    "I want blood\n",
    "Delicious\n",
    "I want your wallet\n",
    "And everything you've got\n",
    "I lost my mind\n",
    "I lost my sould\n",
    "I lost everything that I don't control\n",
    "\n",
    "Greed and arrogance\n",
    "Justice not in evidence\n",
    "\n",
    "Bloodlust\"\"\")"
   ]
  },
  {
   "cell_type": "code",
   "execution_count": 170,
   "id": "b0f885d6",
   "metadata": {},
   "outputs": [],
   "source": [
    "song2 = \"\"\"Well she got her daddy's car\n",
    "And she cruised through the hamburger stand now\n",
    "Seems she forgot all about the library\n",
    "Like she told her old man now\n",
    "And with the radio blasting\n",
    "Goes cruising just as fast as she can now\n",
    "\n",
    "And she'll have fun fun fun\n",
    "'Til her daddy takes the T-bird away\n",
    "(Fun fun fun 'til her daddy takes the T-bird away)\n",
    "\n",
    "Well the girls can't stand her\n",
    "'Cause she walks looks and drives like an ace now\n",
    "(You walk like an ace now you walk like an ace)\n",
    "She makes the Indy 500 look like a Roman chariot race now\n",
    "(You look like an ace now you look like an ace)\n",
    "A lotta guys try to catch her\n",
    "But she leads them on a wild goose chase now\n",
    "(You drive like an ace now you drive like an ace)\n",
    "\n",
    "And she'll have fun fun fun\n",
    "'Til her daddy takes the T-bird away\n",
    "(Fun fun fun 'til her daddy takes the T-bird away)\n",
    "\n",
    "Well you knew all along\n",
    "That your dad was gettin' wise to you now\n",
    "(You shouldn't have lied now you shouldn't have lied)\n",
    "And since he took your set of keys\n",
    "You've been thinking that your fun is all through now\n",
    "(You shouldn't have lied now you shouldn't have lied)\n",
    "\n",
    "But you can come along with me\n",
    "'Cause we gotta a lot of things to do now\n",
    "(You shouldn't have lied now you shouldn't have lied)\n",
    "\n",
    "And we'll have fun fun fun now that daddy took the T-bird away\n",
    "(Fun fun fun now that daddy took the T-bird away)\n",
    "And we'll have fun fun fun now that daddy took the T-bird away\n",
    "(Fun fun fun now that daddy took the T-bird away)\n",
    "(Wo wo wo wo woo woo woo)\n",
    "(Fun fun now that daddy took the T-bird away)\n",
    "(Fun fun now that daddy took the T-bird away)\n",
    "(Fun fun now that daddy took the T-bird away)\n",
    "(Fun fun now that daddy took the T-bird away)\n",
    "(Fun fun now that daddy took the T-bird away)\n",
    "(Fun fun now that daddy took the T-bird away)\"\"\""
   ]
  },
  {
   "cell_type": "code",
   "execution_count": 175,
   "id": "2c73f75f",
   "metadata": {},
   "outputs": [
    {
     "data": {
      "application/vnd.jupyter.widget-view+json": {
       "model_id": "dde66e6d444049868b67df3b38136c1e",
       "version_major": 2,
       "version_minor": 0
      },
      "text/plain": [
       "  0%|          | 0/17 [00:00<?, ?it/s]"
      ]
     },
     "metadata": {},
     "output_type": "display_data"
    },
    {
     "name": "stdout",
     "output_type": "stream",
     "text": [
      "huggingface/tokenizers: The current process just got forked, after parallelism has already been used. Disabling parallelism to avoid deadlocks...\n",
      "To disable this warning, you can either:\n",
      "\t- Avoid using `tokenizers` before the fork if possible\n",
      "\t- Explicitly set the environment variable TOKENIZERS_PARALLELISM=(true | false)\n"
     ]
    },
    {
     "data": {
      "application/vnd.jupyter.widget-view+json": {
       "model_id": "8bd9bfc64f294c6488459ecc4739c6b0",
       "version_major": 2,
       "version_minor": 0
      },
      "text/plain": [
       "  0%|          | 0/3 [00:00<?, ?it/s]"
      ]
     },
     "metadata": {},
     "output_type": "display_data"
    },
    {
     "data": {
      "text/plain": [
       "0"
      ]
     },
     "execution_count": 175,
     "metadata": {},
     "output_type": "execute_result"
    }
   ],
   "source": [
    "predict_parts(bin_model, song2)"
   ]
  },
  {
   "cell_type": "code",
   "execution_count": null,
   "id": "27ff9bc2",
   "metadata": {},
   "outputs": [],
   "source": []
  }
 ],
 "metadata": {
  "kernelspec": {
   "display_name": "Python 3 (ipykernel)",
   "language": "python",
   "name": "python3"
  },
  "language_info": {
   "codemirror_mode": {
    "name": "ipython",
    "version": 3
   },
   "file_extension": ".py",
   "mimetype": "text/x-python",
   "name": "python",
   "nbconvert_exporter": "python",
   "pygments_lexer": "ipython3",
   "version": "3.8.6"
  },
  "toc": {
   "base_numbering": 1,
   "nav_menu": {},
   "number_sections": true,
   "sideBar": true,
   "skip_h1_title": false,
   "title_cell": "Table of Contents",
   "title_sidebar": "Contents",
   "toc_cell": false,
   "toc_position": {},
   "toc_section_display": true,
   "toc_window_display": false
  }
 },
 "nbformat": 4,
 "nbformat_minor": 5
}
