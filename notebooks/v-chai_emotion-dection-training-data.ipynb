{
 "cells": [
  {
   "cell_type": "markdown",
   "id": "76ca511b",
   "metadata": {},
   "source": [
    "## Hugging Face"
   ]
  },
  {
   "cell_type": "code",
   "execution_count": 127,
   "id": "6b1417ed",
   "metadata": {},
   "outputs": [],
   "source": [
    "import pickle\n"
   ]
  },
  {
   "cell_type": "code",
   "execution_count": 128,
   "id": "f9bd2515",
   "metadata": {},
   "outputs": [
    {
     "name": "stdout",
     "output_type": "stream",
     "text": [
      "Requirement already satisfied: datasets in /Users/vprentice/.pyenv/versions/3.8.6/envs/lewagon/lib/python3.8/site-packages (1.11.0)\n",
      "Requirement already satisfied: multiprocess in /Users/vprentice/.pyenv/versions/3.8.6/envs/lewagon/lib/python3.8/site-packages (from datasets) (0.70.12.2)\n",
      "Requirement already satisfied: xxhash in /Users/vprentice/.pyenv/versions/3.8.6/envs/lewagon/lib/python3.8/site-packages (from datasets) (2.0.2)\n",
      "Requirement already satisfied: numpy>=1.17 in /Users/vprentice/.pyenv/versions/3.8.6/envs/lewagon/lib/python3.8/site-packages (from datasets) (1.18.5)\n",
      "Requirement already satisfied: dill in /Users/vprentice/.pyenv/versions/3.8.6/envs/lewagon/lib/python3.8/site-packages (from datasets) (0.3.4)\n",
      "Requirement already satisfied: tqdm>=4.42 in /Users/vprentice/.pyenv/versions/3.8.6/envs/lewagon/lib/python3.8/site-packages (from datasets) (4.61.2)\n",
      "Requirement already satisfied: packaging in /Users/vprentice/.pyenv/versions/3.8.6/envs/lewagon/lib/python3.8/site-packages (from datasets) (21.0)\n",
      "Requirement already satisfied: pandas in /Users/vprentice/.pyenv/versions/3.8.6/envs/lewagon/lib/python3.8/site-packages (from datasets) (1.3.0)\n",
      "Requirement already satisfied: requests>=2.19.0 in /Users/vprentice/.pyenv/versions/3.8.6/envs/lewagon/lib/python3.8/site-packages (from datasets) (2.25.1)\n",
      "Requirement already satisfied: huggingface-hub<0.1.0 in /Users/vprentice/.pyenv/versions/3.8.6/envs/lewagon/lib/python3.8/site-packages (from datasets) (0.0.16)\n",
      "Requirement already satisfied: fsspec>=2021.05.0 in /Users/vprentice/.pyenv/versions/3.8.6/envs/lewagon/lib/python3.8/site-packages (from datasets) (2021.7.0)\n",
      "Requirement already satisfied: pyarrow!=4.0.0,>=1.0.0 in /Users/vprentice/.pyenv/versions/3.8.6/envs/lewagon/lib/python3.8/site-packages (from datasets) (5.0.0)\n",
      "Requirement already satisfied: typing-extensions in /Users/vprentice/.pyenv/versions/3.8.6/envs/lewagon/lib/python3.8/site-packages (from huggingface-hub<0.1.0->datasets) (3.10.0.1)\n",
      "Requirement already satisfied: filelock in /Users/vprentice/.pyenv/versions/3.8.6/envs/lewagon/lib/python3.8/site-packages (from huggingface-hub<0.1.0->datasets) (3.0.12)\n",
      "Requirement already satisfied: pyparsing>=2.0.2 in /Users/vprentice/.pyenv/versions/3.8.6/envs/lewagon/lib/python3.8/site-packages (from packaging->datasets) (2.4.7)\n",
      "Requirement already satisfied: urllib3<1.27,>=1.21.1 in /Users/vprentice/.pyenv/versions/3.8.6/envs/lewagon/lib/python3.8/site-packages (from requests>=2.19.0->datasets) (1.26.6)\n",
      "Requirement already satisfied: idna<3,>=2.5 in /Users/vprentice/.pyenv/versions/3.8.6/envs/lewagon/lib/python3.8/site-packages (from requests>=2.19.0->datasets) (2.10)\n",
      "Requirement already satisfied: chardet<5,>=3.0.2 in /Users/vprentice/.pyenv/versions/3.8.6/envs/lewagon/lib/python3.8/site-packages (from requests>=2.19.0->datasets) (4.0.0)\n",
      "Requirement already satisfied: certifi>=2017.4.17 in /Users/vprentice/.pyenv/versions/3.8.6/envs/lewagon/lib/python3.8/site-packages (from requests>=2.19.0->datasets) (2021.5.30)\n",
      "Requirement already satisfied: python-dateutil>=2.7.3 in /Users/vprentice/.pyenv/versions/3.8.6/envs/lewagon/lib/python3.8/site-packages (from pandas->datasets) (2.8.2)\n",
      "Requirement already satisfied: pytz>=2017.3 in /Users/vprentice/.pyenv/versions/3.8.6/envs/lewagon/lib/python3.8/site-packages (from pandas->datasets) (2021.1)\n",
      "Requirement already satisfied: six>=1.5 in /Users/vprentice/.pyenv/versions/3.8.6/envs/lewagon/lib/python3.8/site-packages (from python-dateutil>=2.7.3->pandas->datasets) (1.14.0)\n"
     ]
    }
   ],
   "source": [
    "!pip install datasets"
   ]
  },
  {
   "cell_type": "code",
   "execution_count": 129,
   "id": "dabd4d03",
   "metadata": {},
   "outputs": [
    {
     "name": "stderr",
     "output_type": "stream",
     "text": [
      "Using custom data configuration default\n",
      "Reusing dataset emotion (/Users/vprentice/.cache/huggingface/datasets/emotion/default/0.0.0/348f63ca8e27b3713b6c04d723efe6d824a56fb3d1449794716c0f0296072705)\n"
     ]
    }
   ],
   "source": [
    "from datasets import load_dataset\n",
    "dataset = load_dataset(\n",
    "   'emotion')"
   ]
  },
  {
   "cell_type": "code",
   "execution_count": 130,
   "id": "727db2fd",
   "metadata": {},
   "outputs": [
    {
     "data": {
      "text/plain": [
       "dict_keys(['train', 'validation', 'test'])"
      ]
     },
     "execution_count": 130,
     "metadata": {},
     "output_type": "execute_result"
    }
   ],
   "source": [
    "dataset.keys()"
   ]
  },
  {
   "cell_type": "code",
   "execution_count": 131,
   "id": "44b15bbd",
   "metadata": {},
   "outputs": [],
   "source": [
    "import pandas as pd\n",
    "df = pd.DataFrame(dataset['train'])"
   ]
  },
  {
   "cell_type": "code",
   "execution_count": 132,
   "id": "750a00b6",
   "metadata": {},
   "outputs": [
    {
     "data": {
      "text/plain": [
       "1    5362\n",
       "0    4666\n",
       "3    2159\n",
       "4    1937\n",
       "2    1304\n",
       "5     572\n",
       "Name: label, dtype: int64"
      ]
     },
     "execution_count": 132,
     "metadata": {},
     "output_type": "execute_result"
    }
   ],
   "source": [
    "df['label'].value_counts()"
   ]
  },
  {
   "cell_type": "code",
   "execution_count": 133,
   "id": "572882fb",
   "metadata": {},
   "outputs": [],
   "source": [
    "df2 = pd.DataFrame(dataset['validation'])\n",
    "df3 = pd.DataFrame(dataset['test'])"
   ]
  },
  {
   "cell_type": "code",
   "execution_count": 134,
   "id": "b2c43069",
   "metadata": {},
   "outputs": [],
   "source": [
    "full_df = pd.concat([df,df2,df3])"
   ]
  },
  {
   "cell_type": "code",
   "execution_count": 135,
   "id": "9db947a3",
   "metadata": {},
   "outputs": [
    {
     "data": {
      "text/plain": [
       "(20000, 2)"
      ]
     },
     "execution_count": 135,
     "metadata": {},
     "output_type": "execute_result"
    }
   ],
   "source": [
    "full_df.shape"
   ]
  },
  {
   "cell_type": "code",
   "execution_count": 136,
   "id": "362058c5",
   "metadata": {},
   "outputs": [
    {
     "data": {
      "text/plain": [
       "text     object\n",
       "label     int64\n",
       "dtype: object"
      ]
     },
     "execution_count": 136,
     "metadata": {},
     "output_type": "execute_result"
    }
   ],
   "source": [
    "full_df.dtypes"
   ]
  },
  {
   "cell_type": "code",
   "execution_count": 137,
   "id": "16df4a3e",
   "metadata": {},
   "outputs": [],
   "source": [
    "full_df['word_label'] = full_df['label'].map({0:'sad',1:'happy', 2:'love', 3:'angry', 4:'fear', 5:'surprised'})"
   ]
  },
  {
   "cell_type": "code",
   "execution_count": 138,
   "id": "a3a23453",
   "metadata": {},
   "outputs": [
    {
     "data": {
      "text/html": [
       "<div>\n",
       "<style scoped>\n",
       "    .dataframe tbody tr th:only-of-type {\n",
       "        vertical-align: middle;\n",
       "    }\n",
       "\n",
       "    .dataframe tbody tr th {\n",
       "        vertical-align: top;\n",
       "    }\n",
       "\n",
       "    .dataframe thead th {\n",
       "        text-align: right;\n",
       "    }\n",
       "</style>\n",
       "<table border=\"1\" class=\"dataframe\">\n",
       "  <thead>\n",
       "    <tr style=\"text-align: right;\">\n",
       "      <th></th>\n",
       "      <th>text</th>\n",
       "      <th>label</th>\n",
       "      <th>word_label</th>\n",
       "    </tr>\n",
       "  </thead>\n",
       "  <tbody>\n",
       "    <tr>\n",
       "      <th>0</th>\n",
       "      <td>i didnt feel humiliated</td>\n",
       "      <td>0</td>\n",
       "      <td>sad</td>\n",
       "    </tr>\n",
       "    <tr>\n",
       "      <th>1</th>\n",
       "      <td>i can go from feeling so hopeless to so damned...</td>\n",
       "      <td>0</td>\n",
       "      <td>sad</td>\n",
       "    </tr>\n",
       "    <tr>\n",
       "      <th>2</th>\n",
       "      <td>im grabbing a minute to post i feel greedy wrong</td>\n",
       "      <td>3</td>\n",
       "      <td>angry</td>\n",
       "    </tr>\n",
       "    <tr>\n",
       "      <th>3</th>\n",
       "      <td>i am ever feeling nostalgic about the fireplac...</td>\n",
       "      <td>2</td>\n",
       "      <td>love</td>\n",
       "    </tr>\n",
       "    <tr>\n",
       "      <th>4</th>\n",
       "      <td>i am feeling grouchy</td>\n",
       "      <td>3</td>\n",
       "      <td>angry</td>\n",
       "    </tr>\n",
       "    <tr>\n",
       "      <th>...</th>\n",
       "      <td>...</td>\n",
       "      <td>...</td>\n",
       "      <td>...</td>\n",
       "    </tr>\n",
       "    <tr>\n",
       "      <th>1995</th>\n",
       "      <td>i just keep feeling like someone is being unki...</td>\n",
       "      <td>3</td>\n",
       "      <td>angry</td>\n",
       "    </tr>\n",
       "    <tr>\n",
       "      <th>1996</th>\n",
       "      <td>im feeling a little cranky negative after this...</td>\n",
       "      <td>3</td>\n",
       "      <td>angry</td>\n",
       "    </tr>\n",
       "    <tr>\n",
       "      <th>1997</th>\n",
       "      <td>i feel that i am useful to my people and that ...</td>\n",
       "      <td>1</td>\n",
       "      <td>happy</td>\n",
       "    </tr>\n",
       "    <tr>\n",
       "      <th>1998</th>\n",
       "      <td>im feeling more comfortable with derby i feel ...</td>\n",
       "      <td>1</td>\n",
       "      <td>happy</td>\n",
       "    </tr>\n",
       "    <tr>\n",
       "      <th>1999</th>\n",
       "      <td>i feel all weird when i have to meet w people ...</td>\n",
       "      <td>4</td>\n",
       "      <td>fear</td>\n",
       "    </tr>\n",
       "  </tbody>\n",
       "</table>\n",
       "<p>20000 rows × 3 columns</p>\n",
       "</div>"
      ],
      "text/plain": [
       "                                                   text  label word_label\n",
       "0                               i didnt feel humiliated      0        sad\n",
       "1     i can go from feeling so hopeless to so damned...      0        sad\n",
       "2      im grabbing a minute to post i feel greedy wrong      3      angry\n",
       "3     i am ever feeling nostalgic about the fireplac...      2       love\n",
       "4                                  i am feeling grouchy      3      angry\n",
       "...                                                 ...    ...        ...\n",
       "1995  i just keep feeling like someone is being unki...      3      angry\n",
       "1996  im feeling a little cranky negative after this...      3      angry\n",
       "1997  i feel that i am useful to my people and that ...      1      happy\n",
       "1998  im feeling more comfortable with derby i feel ...      1      happy\n",
       "1999  i feel all weird when i have to meet w people ...      4       fear\n",
       "\n",
       "[20000 rows x 3 columns]"
      ]
     },
     "execution_count": 138,
     "metadata": {},
     "output_type": "execute_result"
    }
   ],
   "source": [
    "full_df"
   ]
  },
  {
   "cell_type": "code",
   "execution_count": 139,
   "id": "e9eec595",
   "metadata": {
    "scrolled": true
   },
   "outputs": [],
   "source": [
    "simplified_df = full_df[full_df['word_label'].isin(['sad','angry','happy'])]"
   ]
  },
  {
   "cell_type": "code",
   "execution_count": 140,
   "id": "e57f606b",
   "metadata": {},
   "outputs": [],
   "source": [
    "simplified_df = simplified_df[['text', 'word_label']]"
   ]
  },
  {
   "cell_type": "code",
   "execution_count": 141,
   "id": "cbca72a3",
   "metadata": {},
   "outputs": [
    {
     "data": {
      "text/html": [
       "<div>\n",
       "<style scoped>\n",
       "    .dataframe tbody tr th:only-of-type {\n",
       "        vertical-align: middle;\n",
       "    }\n",
       "\n",
       "    .dataframe tbody tr th {\n",
       "        vertical-align: top;\n",
       "    }\n",
       "\n",
       "    .dataframe thead th {\n",
       "        text-align: right;\n",
       "    }\n",
       "</style>\n",
       "<table border=\"1\" class=\"dataframe\">\n",
       "  <thead>\n",
       "    <tr style=\"text-align: right;\">\n",
       "      <th></th>\n",
       "      <th>text</th>\n",
       "      <th>word_label</th>\n",
       "    </tr>\n",
       "  </thead>\n",
       "  <tbody>\n",
       "    <tr>\n",
       "      <th>0</th>\n",
       "      <td>i didnt feel humiliated</td>\n",
       "      <td>sad</td>\n",
       "    </tr>\n",
       "    <tr>\n",
       "      <th>1</th>\n",
       "      <td>i can go from feeling so hopeless to so damned...</td>\n",
       "      <td>sad</td>\n",
       "    </tr>\n",
       "    <tr>\n",
       "      <th>2</th>\n",
       "      <td>im grabbing a minute to post i feel greedy wrong</td>\n",
       "      <td>angry</td>\n",
       "    </tr>\n",
       "    <tr>\n",
       "      <th>4</th>\n",
       "      <td>i am feeling grouchy</td>\n",
       "      <td>angry</td>\n",
       "    </tr>\n",
       "    <tr>\n",
       "      <th>5</th>\n",
       "      <td>ive been feeling a little burdened lately wasn...</td>\n",
       "      <td>sad</td>\n",
       "    </tr>\n",
       "    <tr>\n",
       "      <th>...</th>\n",
       "      <td>...</td>\n",
       "      <td>...</td>\n",
       "    </tr>\n",
       "    <tr>\n",
       "      <th>1994</th>\n",
       "      <td>i can feel its suffering</td>\n",
       "      <td>sad</td>\n",
       "    </tr>\n",
       "    <tr>\n",
       "      <th>1995</th>\n",
       "      <td>i just keep feeling like someone is being unki...</td>\n",
       "      <td>angry</td>\n",
       "    </tr>\n",
       "    <tr>\n",
       "      <th>1996</th>\n",
       "      <td>im feeling a little cranky negative after this...</td>\n",
       "      <td>angry</td>\n",
       "    </tr>\n",
       "    <tr>\n",
       "      <th>1997</th>\n",
       "      <td>i feel that i am useful to my people and that ...</td>\n",
       "      <td>happy</td>\n",
       "    </tr>\n",
       "    <tr>\n",
       "      <th>1998</th>\n",
       "      <td>im feeling more comfortable with derby i feel ...</td>\n",
       "      <td>happy</td>\n",
       "    </tr>\n",
       "  </tbody>\n",
       "</table>\n",
       "<p>15267 rows × 2 columns</p>\n",
       "</div>"
      ],
      "text/plain": [
       "                                                   text word_label\n",
       "0                               i didnt feel humiliated        sad\n",
       "1     i can go from feeling so hopeless to so damned...        sad\n",
       "2      im grabbing a minute to post i feel greedy wrong      angry\n",
       "4                                  i am feeling grouchy      angry\n",
       "5     ive been feeling a little burdened lately wasn...        sad\n",
       "...                                                 ...        ...\n",
       "1994                           i can feel its suffering        sad\n",
       "1995  i just keep feeling like someone is being unki...      angry\n",
       "1996  im feeling a little cranky negative after this...      angry\n",
       "1997  i feel that i am useful to my people and that ...      happy\n",
       "1998  im feeling more comfortable with derby i feel ...      happy\n",
       "\n",
       "[15267 rows x 2 columns]"
      ]
     },
     "execution_count": 141,
     "metadata": {},
     "output_type": "execute_result"
    }
   ],
   "source": [
    "simplified_df"
   ]
  },
  {
   "cell_type": "code",
   "execution_count": 142,
   "id": "f1823330",
   "metadata": {},
   "outputs": [],
   "source": [
    "simplified_df['source'] = 'HuggingFace'"
   ]
  },
  {
   "cell_type": "code",
   "execution_count": 143,
   "id": "71a10d80",
   "metadata": {},
   "outputs": [
    {
     "data": {
      "text/html": [
       "<div>\n",
       "<style scoped>\n",
       "    .dataframe tbody tr th:only-of-type {\n",
       "        vertical-align: middle;\n",
       "    }\n",
       "\n",
       "    .dataframe tbody tr th {\n",
       "        vertical-align: top;\n",
       "    }\n",
       "\n",
       "    .dataframe thead th {\n",
       "        text-align: right;\n",
       "    }\n",
       "</style>\n",
       "<table border=\"1\" class=\"dataframe\">\n",
       "  <thead>\n",
       "    <tr style=\"text-align: right;\">\n",
       "      <th></th>\n",
       "      <th>text</th>\n",
       "      <th>word_label</th>\n",
       "      <th>source</th>\n",
       "    </tr>\n",
       "  </thead>\n",
       "  <tbody>\n",
       "    <tr>\n",
       "      <th>0</th>\n",
       "      <td>i didnt feel humiliated</td>\n",
       "      <td>sad</td>\n",
       "      <td>HuggingFace</td>\n",
       "    </tr>\n",
       "    <tr>\n",
       "      <th>1</th>\n",
       "      <td>i can go from feeling so hopeless to so damned...</td>\n",
       "      <td>sad</td>\n",
       "      <td>HuggingFace</td>\n",
       "    </tr>\n",
       "    <tr>\n",
       "      <th>2</th>\n",
       "      <td>im grabbing a minute to post i feel greedy wrong</td>\n",
       "      <td>angry</td>\n",
       "      <td>HuggingFace</td>\n",
       "    </tr>\n",
       "    <tr>\n",
       "      <th>4</th>\n",
       "      <td>i am feeling grouchy</td>\n",
       "      <td>angry</td>\n",
       "      <td>HuggingFace</td>\n",
       "    </tr>\n",
       "    <tr>\n",
       "      <th>5</th>\n",
       "      <td>ive been feeling a little burdened lately wasn...</td>\n",
       "      <td>sad</td>\n",
       "      <td>HuggingFace</td>\n",
       "    </tr>\n",
       "    <tr>\n",
       "      <th>...</th>\n",
       "      <td>...</td>\n",
       "      <td>...</td>\n",
       "      <td>...</td>\n",
       "    </tr>\n",
       "    <tr>\n",
       "      <th>1994</th>\n",
       "      <td>i can feel its suffering</td>\n",
       "      <td>sad</td>\n",
       "      <td>HuggingFace</td>\n",
       "    </tr>\n",
       "    <tr>\n",
       "      <th>1995</th>\n",
       "      <td>i just keep feeling like someone is being unki...</td>\n",
       "      <td>angry</td>\n",
       "      <td>HuggingFace</td>\n",
       "    </tr>\n",
       "    <tr>\n",
       "      <th>1996</th>\n",
       "      <td>im feeling a little cranky negative after this...</td>\n",
       "      <td>angry</td>\n",
       "      <td>HuggingFace</td>\n",
       "    </tr>\n",
       "    <tr>\n",
       "      <th>1997</th>\n",
       "      <td>i feel that i am useful to my people and that ...</td>\n",
       "      <td>happy</td>\n",
       "      <td>HuggingFace</td>\n",
       "    </tr>\n",
       "    <tr>\n",
       "      <th>1998</th>\n",
       "      <td>im feeling more comfortable with derby i feel ...</td>\n",
       "      <td>happy</td>\n",
       "      <td>HuggingFace</td>\n",
       "    </tr>\n",
       "  </tbody>\n",
       "</table>\n",
       "<p>15267 rows × 3 columns</p>\n",
       "</div>"
      ],
      "text/plain": [
       "                                                   text word_label  \\\n",
       "0                               i didnt feel humiliated        sad   \n",
       "1     i can go from feeling so hopeless to so damned...        sad   \n",
       "2      im grabbing a minute to post i feel greedy wrong      angry   \n",
       "4                                  i am feeling grouchy      angry   \n",
       "5     ive been feeling a little burdened lately wasn...        sad   \n",
       "...                                                 ...        ...   \n",
       "1994                           i can feel its suffering        sad   \n",
       "1995  i just keep feeling like someone is being unki...      angry   \n",
       "1996  im feeling a little cranky negative after this...      angry   \n",
       "1997  i feel that i am useful to my people and that ...      happy   \n",
       "1998  im feeling more comfortable with derby i feel ...      happy   \n",
       "\n",
       "           source  \n",
       "0     HuggingFace  \n",
       "1     HuggingFace  \n",
       "2     HuggingFace  \n",
       "4     HuggingFace  \n",
       "5     HuggingFace  \n",
       "...           ...  \n",
       "1994  HuggingFace  \n",
       "1995  HuggingFace  \n",
       "1996  HuggingFace  \n",
       "1997  HuggingFace  \n",
       "1998  HuggingFace  \n",
       "\n",
       "[15267 rows x 3 columns]"
      ]
     },
     "execution_count": 143,
     "metadata": {},
     "output_type": "execute_result"
    }
   ],
   "source": [
    "simplified_df"
   ]
  },
  {
   "cell_type": "code",
   "execution_count": 144,
   "id": "ea4a51e5",
   "metadata": {},
   "outputs": [],
   "source": [
    "simplified_df.to_csv('../raw_data/huggingface_happysadangry.csv')"
   ]
  },
  {
   "cell_type": "markdown",
   "id": "9561c531",
   "metadata": {},
   "source": [
    "## SemEval2018"
   ]
  },
  {
   "cell_type": "code",
   "execution_count": 146,
   "id": "c5c33711",
   "metadata": {},
   "outputs": [],
   "source": [
    "semeval = pd.read_csv('../raw_data/emotion_data/2018-E-c-En-train-dev.csv')"
   ]
  },
  {
   "cell_type": "code",
   "execution_count": 147,
   "id": "78060b57",
   "metadata": {},
   "outputs": [
    {
     "data": {
      "text/html": [
       "<div>\n",
       "<style scoped>\n",
       "    .dataframe tbody tr th:only-of-type {\n",
       "        vertical-align: middle;\n",
       "    }\n",
       "\n",
       "    .dataframe tbody tr th {\n",
       "        vertical-align: top;\n",
       "    }\n",
       "\n",
       "    .dataframe thead th {\n",
       "        text-align: right;\n",
       "    }\n",
       "</style>\n",
       "<table border=\"1\" class=\"dataframe\">\n",
       "  <thead>\n",
       "    <tr style=\"text-align: right;\">\n",
       "      <th></th>\n",
       "      <th>ID</th>\n",
       "      <th>Tweet</th>\n",
       "      <th>anger</th>\n",
       "      <th>joy</th>\n",
       "      <th>sadness</th>\n",
       "    </tr>\n",
       "  </thead>\n",
       "  <tbody>\n",
       "    <tr>\n",
       "      <th>0</th>\n",
       "      <td>2017-En-21441</td>\n",
       "      <td>‚ÄúWorry is a down payment on a problem you ma...</td>\n",
       "      <td>0</td>\n",
       "      <td>0</td>\n",
       "      <td>0</td>\n",
       "    </tr>\n",
       "    <tr>\n",
       "      <th>1</th>\n",
       "      <td>2017-En-31535</td>\n",
       "      <td>Whatever you decide to do make sure it makes y...</td>\n",
       "      <td>0</td>\n",
       "      <td>1</td>\n",
       "      <td>0</td>\n",
       "    </tr>\n",
       "    <tr>\n",
       "      <th>2</th>\n",
       "      <td>2017-En-21068</td>\n",
       "      <td>@Max_Kellerman  it also helps that the majorit...</td>\n",
       "      <td>1</td>\n",
       "      <td>1</td>\n",
       "      <td>0</td>\n",
       "    </tr>\n",
       "    <tr>\n",
       "      <th>3</th>\n",
       "      <td>2017-En-31436</td>\n",
       "      <td>Accept the challenges so that you can literall...</td>\n",
       "      <td>0</td>\n",
       "      <td>1</td>\n",
       "      <td>0</td>\n",
       "    </tr>\n",
       "    <tr>\n",
       "      <th>4</th>\n",
       "      <td>2017-En-22195</td>\n",
       "      <td>My roommate: it's okay that we can't spell bec...</td>\n",
       "      <td>1</td>\n",
       "      <td>0</td>\n",
       "      <td>0</td>\n",
       "    </tr>\n",
       "    <tr>\n",
       "      <th>...</th>\n",
       "      <td>...</td>\n",
       "      <td>...</td>\n",
       "      <td>...</td>\n",
       "      <td>...</td>\n",
       "      <td>...</td>\n",
       "    </tr>\n",
       "    <tr>\n",
       "      <th>7719</th>\n",
       "      <td>2018-En-01993</td>\n",
       "      <td>@BadHombreNPS @SecretaryPerry If this didn't m...</td>\n",
       "      <td>1</td>\n",
       "      <td>0</td>\n",
       "      <td>0</td>\n",
       "    </tr>\n",
       "    <tr>\n",
       "      <th>7720</th>\n",
       "      <td>2018-En-01784</td>\n",
       "      <td>Excited to watch #stateoforigin tonight! Come ...</td>\n",
       "      <td>0</td>\n",
       "      <td>1</td>\n",
       "      <td>0</td>\n",
       "    </tr>\n",
       "    <tr>\n",
       "      <th>7721</th>\n",
       "      <td>2018-En-04047</td>\n",
       "      <td>Blah blah blah Kyrie, IT, etc. @CJC9BOSS leavi...</td>\n",
       "      <td>1</td>\n",
       "      <td>0</td>\n",
       "      <td>1</td>\n",
       "    </tr>\n",
       "    <tr>\n",
       "      <th>7722</th>\n",
       "      <td>2018-En-03041</td>\n",
       "      <td>#ThingsIveLearned The wise #shepherd never tru...</td>\n",
       "      <td>0</td>\n",
       "      <td>0</td>\n",
       "      <td>0</td>\n",
       "    </tr>\n",
       "    <tr>\n",
       "      <th>7723</th>\n",
       "      <td>2018-En-03386</td>\n",
       "      <td>I am really flattered and happy to hear those ...</td>\n",
       "      <td>0</td>\n",
       "      <td>1</td>\n",
       "      <td>0</td>\n",
       "    </tr>\n",
       "  </tbody>\n",
       "</table>\n",
       "<p>7724 rows × 5 columns</p>\n",
       "</div>"
      ],
      "text/plain": [
       "                 ID                                              Tweet  anger  \\\n",
       "0     2017-En-21441  ‚ÄúWorry is a down payment on a problem you ma...      0   \n",
       "1     2017-En-31535  Whatever you decide to do make sure it makes y...      0   \n",
       "2     2017-En-21068  @Max_Kellerman  it also helps that the majorit...      1   \n",
       "3     2017-En-31436  Accept the challenges so that you can literall...      0   \n",
       "4     2017-En-22195  My roommate: it's okay that we can't spell bec...      1   \n",
       "...             ...                                                ...    ...   \n",
       "7719  2018-En-01993  @BadHombreNPS @SecretaryPerry If this didn't m...      1   \n",
       "7720  2018-En-01784  Excited to watch #stateoforigin tonight! Come ...      0   \n",
       "7721  2018-En-04047  Blah blah blah Kyrie, IT, etc. @CJC9BOSS leavi...      1   \n",
       "7722  2018-En-03041  #ThingsIveLearned The wise #shepherd never tru...      0   \n",
       "7723  2018-En-03386  I am really flattered and happy to hear those ...      0   \n",
       "\n",
       "      joy  sadness  \n",
       "0       0        0  \n",
       "1       1        0  \n",
       "2       1        0  \n",
       "3       1        0  \n",
       "4       0        0  \n",
       "...   ...      ...  \n",
       "7719    0        0  \n",
       "7720    1        0  \n",
       "7721    0        1  \n",
       "7722    0        0  \n",
       "7723    1        0  \n",
       "\n",
       "[7724 rows x 5 columns]"
      ]
     },
     "execution_count": 147,
     "metadata": {},
     "output_type": "execute_result"
    }
   ],
   "source": [
    "semeval"
   ]
  },
  {
   "cell_type": "code",
   "execution_count": 148,
   "id": "891b86c8",
   "metadata": {},
   "outputs": [
    {
     "name": "stderr",
     "output_type": "stream",
     "text": [
      "/Users/vprentice/.pyenv/versions/3.8.6/envs/lewagon/lib/python3.8/site-packages/pandas/core/frame.py:3607: SettingWithCopyWarning: \n",
      "A value is trying to be set on a copy of a slice from a DataFrame.\n",
      "Try using .loc[row_indexer,col_indexer] = value instead\n",
      "\n",
      "See the caveats in the documentation: https://pandas.pydata.org/pandas-docs/stable/user_guide/indexing.html#returning-a-view-versus-a-copy\n",
      "  self._set_item(key, value)\n"
     ]
    }
   ],
   "source": [
    "semeval_anger = semeval[semeval['anger'] == 1]\n",
    "semeval_anger['word_label'] = 'angry'\n",
    "semeval_joy = semeval[semeval['joy'] == 1]\n",
    "semeval_joy['word_label'] = 'happy'\n",
    "semeval_sadness =semeval[semeval['sadness'] == 1]\n",
    "semeval_sadness['word_label'] = 'sad'\n"
   ]
  },
  {
   "cell_type": "code",
   "execution_count": 149,
   "id": "97823e5e",
   "metadata": {},
   "outputs": [],
   "source": [
    "semeval_hsa = pd.concat([semeval_anger, semeval_joy, semeval_sadness])\n",
    "semeval_hsa.reset_index(inplace=True)"
   ]
  },
  {
   "cell_type": "code",
   "execution_count": 150,
   "id": "63c867b8",
   "metadata": {},
   "outputs": [],
   "source": [
    "semeval_hsa.drop(columns=['index','anger','joy','sadness'], inplace=True)"
   ]
  },
  {
   "cell_type": "code",
   "execution_count": 151,
   "id": "4fe79c3b",
   "metadata": {},
   "outputs": [],
   "source": [
    "semeval_hsa.drop(columns=['ID'], inplace=True)"
   ]
  },
  {
   "cell_type": "code",
   "execution_count": 152,
   "id": "d87d7e14",
   "metadata": {},
   "outputs": [],
   "source": [
    "semeval_hsa.rename(columns={'Tweet':'text'}, inplace=True)"
   ]
  },
  {
   "cell_type": "code",
   "execution_count": 153,
   "id": "d7641cac",
   "metadata": {},
   "outputs": [
    {
     "data": {
      "text/html": [
       "<div>\n",
       "<style scoped>\n",
       "    .dataframe tbody tr th:only-of-type {\n",
       "        vertical-align: middle;\n",
       "    }\n",
       "\n",
       "    .dataframe tbody tr th {\n",
       "        vertical-align: top;\n",
       "    }\n",
       "\n",
       "    .dataframe thead th {\n",
       "        text-align: right;\n",
       "    }\n",
       "</style>\n",
       "<table border=\"1\" class=\"dataframe\">\n",
       "  <thead>\n",
       "    <tr style=\"text-align: right;\">\n",
       "      <th></th>\n",
       "      <th>text</th>\n",
       "      <th>word_label</th>\n",
       "    </tr>\n",
       "  </thead>\n",
       "  <tbody>\n",
       "    <tr>\n",
       "      <th>0</th>\n",
       "      <td>@Max_Kellerman  it also helps that the majorit...</td>\n",
       "      <td>angry</td>\n",
       "    </tr>\n",
       "    <tr>\n",
       "      <th>1</th>\n",
       "      <td>My roommate: it's okay that we can't spell bec...</td>\n",
       "      <td>angry</td>\n",
       "    </tr>\n",
       "    <tr>\n",
       "      <th>2</th>\n",
       "      <td>Rooneys fucking untouchable isn't he? Been fuc...</td>\n",
       "      <td>angry</td>\n",
       "    </tr>\n",
       "    <tr>\n",
       "      <th>3</th>\n",
       "      <td>@BossUpJaee but your pussy was weak from what ...</td>\n",
       "      <td>angry</td>\n",
       "    </tr>\n",
       "    <tr>\n",
       "      <th>4</th>\n",
       "      <td>S/O to the girl that just hit my car...not onl...</td>\n",
       "      <td>angry</td>\n",
       "    </tr>\n",
       "    <tr>\n",
       "      <th>...</th>\n",
       "      <td>...</td>\n",
       "      <td>...</td>\n",
       "    </tr>\n",
       "    <tr>\n",
       "      <th>8004</th>\n",
       "      <td>@ProfessorF @Mediaite @law_newz Childish tempe...</td>\n",
       "      <td>sad</td>\n",
       "    </tr>\n",
       "    <tr>\n",
       "      <th>8005</th>\n",
       "      <td>Still 19 days left before I go home to the Phi...</td>\n",
       "      <td>sad</td>\n",
       "    </tr>\n",
       "    <tr>\n",
       "      <th>8006</th>\n",
       "      <td>Literally hanging on by a thread need some tay...</td>\n",
       "      <td>sad</td>\n",
       "    </tr>\n",
       "    <tr>\n",
       "      <th>8007</th>\n",
       "      <td>was one moron  driving his oversize tonka truc...</td>\n",
       "      <td>sad</td>\n",
       "    </tr>\n",
       "    <tr>\n",
       "      <th>8008</th>\n",
       "      <td>Blah blah blah Kyrie, IT, etc. @CJC9BOSS leavi...</td>\n",
       "      <td>sad</td>\n",
       "    </tr>\n",
       "  </tbody>\n",
       "</table>\n",
       "<p>8009 rows × 2 columns</p>\n",
       "</div>"
      ],
      "text/plain": [
       "                                                   text word_label\n",
       "0     @Max_Kellerman  it also helps that the majorit...      angry\n",
       "1     My roommate: it's okay that we can't spell bec...      angry\n",
       "2     Rooneys fucking untouchable isn't he? Been fuc...      angry\n",
       "3     @BossUpJaee but your pussy was weak from what ...      angry\n",
       "4     S/O to the girl that just hit my car...not onl...      angry\n",
       "...                                                 ...        ...\n",
       "8004  @ProfessorF @Mediaite @law_newz Childish tempe...        sad\n",
       "8005  Still 19 days left before I go home to the Phi...        sad\n",
       "8006  Literally hanging on by a thread need some tay...        sad\n",
       "8007  was one moron  driving his oversize tonka truc...        sad\n",
       "8008  Blah blah blah Kyrie, IT, etc. @CJC9BOSS leavi...        sad\n",
       "\n",
       "[8009 rows x 2 columns]"
      ]
     },
     "execution_count": 153,
     "metadata": {},
     "output_type": "execute_result"
    }
   ],
   "source": [
    "semeval_hsa"
   ]
  },
  {
   "cell_type": "code",
   "execution_count": 154,
   "id": "fa268117",
   "metadata": {},
   "outputs": [],
   "source": [
    "semeval_hsa['source'] = 'SemEval-2018'"
   ]
  },
  {
   "cell_type": "code",
   "execution_count": 104,
   "id": "07f0c040",
   "metadata": {},
   "outputs": [],
   "source": [
    "semeval_hsa.to_csv('../raw_data/semeval-2018_happysadangry.csv')"
   ]
  },
  {
   "cell_type": "markdown",
   "id": "a59fbd3a",
   "metadata": {
    "heading_collapsed": true
   },
   "source": [
    "## Meld-Crowdflower"
   ]
  },
  {
   "cell_type": "code",
   "execution_count": 101,
   "id": "163c249f",
   "metadata": {
    "hidden": true
   },
   "outputs": [],
   "source": [
    "mc = pd.read_csv('../raw_data/emotion_data/meld-crowdflower_happysadangry.csv')"
   ]
  },
  {
   "cell_type": "code",
   "execution_count": 104,
   "id": "b85f1a83",
   "metadata": {
    "hidden": true
   },
   "outputs": [
    {
     "data": {
      "text/plain": [
       "array(['sadness', 'anger'], dtype=object)"
      ]
     },
     "execution_count": 104,
     "metadata": {},
     "output_type": "execute_result"
    }
   ],
   "source": [
    "mc[mc['source'] == 'https://raw.githubusercontent.com/declare-lab/MELD/master/data/MELD/train_sent_emo.csv']['sentiment'].unique()"
   ]
  },
  {
   "cell_type": "code",
   "execution_count": 93,
   "id": "6e945d62",
   "metadata": {
    "hidden": true
   },
   "outputs": [],
   "source": [
    "mc = mc[['text', 'sentiment', 'source']]"
   ]
  },
  {
   "cell_type": "code",
   "execution_count": 94,
   "id": "e97b0bae",
   "metadata": {
    "hidden": true
   },
   "outputs": [
    {
     "data": {
      "text/html": [
       "<div>\n",
       "<style scoped>\n",
       "    .dataframe tbody tr th:only-of-type {\n",
       "        vertical-align: middle;\n",
       "    }\n",
       "\n",
       "    .dataframe tbody tr th {\n",
       "        vertical-align: top;\n",
       "    }\n",
       "\n",
       "    .dataframe thead th {\n",
       "        text-align: right;\n",
       "    }\n",
       "</style>\n",
       "<table border=\"1\" class=\"dataframe\">\n",
       "  <thead>\n",
       "    <tr style=\"text-align: right;\">\n",
       "      <th></th>\n",
       "      <th>text</th>\n",
       "      <th>word_label</th>\n",
       "      <th>source</th>\n",
       "    </tr>\n",
       "  </thead>\n",
       "  <tbody>\n",
       "    <tr>\n",
       "      <th>0</th>\n",
       "      <td>Layin n bed with a headache  ughhhh...waitin o...</td>\n",
       "      <td>sadness</td>\n",
       "      <td>https://data.world/crowdflower/sentiment-analy...</td>\n",
       "    </tr>\n",
       "    <tr>\n",
       "      <th>1</th>\n",
       "      <td>Funeral ceremony...gloomy friday...</td>\n",
       "      <td>sadness</td>\n",
       "      <td>https://data.world/crowdflower/sentiment-analy...</td>\n",
       "    </tr>\n",
       "    <tr>\n",
       "      <th>2</th>\n",
       "      <td>I should be sleep, but im not! thinking about ...</td>\n",
       "      <td>sadness</td>\n",
       "      <td>https://data.world/crowdflower/sentiment-analy...</td>\n",
       "    </tr>\n",
       "    <tr>\n",
       "      <th>3</th>\n",
       "      <td>@charviray Charlene my love. I miss you</td>\n",
       "      <td>sadness</td>\n",
       "      <td>https://data.world/crowdflower/sentiment-analy...</td>\n",
       "    </tr>\n",
       "    <tr>\n",
       "      <th>4</th>\n",
       "      <td>@kelcouch I'm sorry  at least it's Friday?</td>\n",
       "      <td>sadness</td>\n",
       "      <td>https://data.world/crowdflower/sentiment-analy...</td>\n",
       "    </tr>\n",
       "    <tr>\n",
       "      <th>...</th>\n",
       "      <td>...</td>\n",
       "      <td>...</td>\n",
       "      <td>...</td>\n",
       "    </tr>\n",
       "    <tr>\n",
       "      <th>12271</th>\n",
       "      <td>It's a money thing, we don't have any.</td>\n",
       "      <td>sadness</td>\n",
       "      <td>https://raw.githubusercontent.com/declare-lab/...</td>\n",
       "    </tr>\n",
       "    <tr>\n",
       "      <th>12272</th>\n",
       "      <td>Uh, hang out?! How long?</td>\n",
       "      <td>sadness</td>\n",
       "      <td>https://raw.githubusercontent.com/declare-lab/...</td>\n",
       "    </tr>\n",
       "    <tr>\n",
       "      <th>12273</th>\n",
       "      <td>A week?</td>\n",
       "      <td>anger</td>\n",
       "      <td>https://raw.githubusercontent.com/declare-lab/...</td>\n",
       "    </tr>\n",
       "    <tr>\n",
       "      <th>12274</th>\n",
       "      <td>No!</td>\n",
       "      <td>anger</td>\n",
       "      <td>https://raw.githubusercontent.com/declare-lab/...</td>\n",
       "    </tr>\n",
       "    <tr>\n",
       "      <th>12275</th>\n",
       "      <td>Thanks.   Congratulations on your big break.</td>\n",
       "      <td>sadness</td>\n",
       "      <td>https://raw.githubusercontent.com/declare-lab/...</td>\n",
       "    </tr>\n",
       "  </tbody>\n",
       "</table>\n",
       "<p>12276 rows × 3 columns</p>\n",
       "</div>"
      ],
      "text/plain": [
       "                                                    text word_label  \\\n",
       "0      Layin n bed with a headache  ughhhh...waitin o...    sadness   \n",
       "1                    Funeral ceremony...gloomy friday...    sadness   \n",
       "2      I should be sleep, but im not! thinking about ...    sadness   \n",
       "3                @charviray Charlene my love. I miss you    sadness   \n",
       "4             @kelcouch I'm sorry  at least it's Friday?    sadness   \n",
       "...                                                  ...        ...   \n",
       "12271             It's a money thing, we don't have any.    sadness   \n",
       "12272                           Uh, hang out?! How long?    sadness   \n",
       "12273                                            A week?      anger   \n",
       "12274                                                No!      anger   \n",
       "12275       Thanks.   Congratulations on your big break.    sadness   \n",
       "\n",
       "                                                  source  \n",
       "0      https://data.world/crowdflower/sentiment-analy...  \n",
       "1      https://data.world/crowdflower/sentiment-analy...  \n",
       "2      https://data.world/crowdflower/sentiment-analy...  \n",
       "3      https://data.world/crowdflower/sentiment-analy...  \n",
       "4      https://data.world/crowdflower/sentiment-analy...  \n",
       "...                                                  ...  \n",
       "12271  https://raw.githubusercontent.com/declare-lab/...  \n",
       "12272  https://raw.githubusercontent.com/declare-lab/...  \n",
       "12273  https://raw.githubusercontent.com/declare-lab/...  \n",
       "12274  https://raw.githubusercontent.com/declare-lab/...  \n",
       "12275  https://raw.githubusercontent.com/declare-lab/...  \n",
       "\n",
       "[12276 rows x 3 columns]"
      ]
     },
     "execution_count": 94,
     "metadata": {},
     "output_type": "execute_result"
    }
   ],
   "source": [
    "mc.rename(columns={'sentiment':'word_label'}, inplace=True)\n",
    "mc"
   ]
  },
  {
   "cell_type": "code",
   "execution_count": 95,
   "id": "ab77bfc5",
   "metadata": {
    "hidden": true
   },
   "outputs": [
    {
     "data": {
      "text/plain": [
       "array(['https://data.world/crowdflower/sentiment-analysis-in-text/workspace/file?filename=text_emotion.csv',\n",
       "       'https://raw.githubusercontent.com/declare-lab/MELD/master/data/MELD/train_sent_emo.csv'],\n",
       "      dtype=object)"
      ]
     },
     "execution_count": 95,
     "metadata": {},
     "output_type": "execute_result"
    }
   ],
   "source": [
    "mc['source'].unique()"
   ]
  },
  {
   "cell_type": "code",
   "execution_count": 96,
   "id": "c7da943e",
   "metadata": {
    "hidden": true
   },
   "outputs": [
    {
     "data": {
      "text/html": [
       "<div>\n",
       "<style scoped>\n",
       "    .dataframe tbody tr th:only-of-type {\n",
       "        vertical-align: middle;\n",
       "    }\n",
       "\n",
       "    .dataframe tbody tr th {\n",
       "        vertical-align: top;\n",
       "    }\n",
       "\n",
       "    .dataframe thead th {\n",
       "        text-align: right;\n",
       "    }\n",
       "</style>\n",
       "<table border=\"1\" class=\"dataframe\">\n",
       "  <thead>\n",
       "    <tr style=\"text-align: right;\">\n",
       "      <th></th>\n",
       "      <th>text</th>\n",
       "      <th>word_label</th>\n",
       "      <th>source</th>\n",
       "    </tr>\n",
       "  </thead>\n",
       "  <tbody>\n",
       "    <tr>\n",
       "      <th>0</th>\n",
       "      <td>Layin n bed with a headache  ughhhh...waitin o...</td>\n",
       "      <td>sadness</td>\n",
       "      <td>CrowdFlower</td>\n",
       "    </tr>\n",
       "    <tr>\n",
       "      <th>1</th>\n",
       "      <td>Funeral ceremony...gloomy friday...</td>\n",
       "      <td>sadness</td>\n",
       "      <td>CrowdFlower</td>\n",
       "    </tr>\n",
       "    <tr>\n",
       "      <th>2</th>\n",
       "      <td>I should be sleep, but im not! thinking about ...</td>\n",
       "      <td>sadness</td>\n",
       "      <td>CrowdFlower</td>\n",
       "    </tr>\n",
       "    <tr>\n",
       "      <th>3</th>\n",
       "      <td>@charviray Charlene my love. I miss you</td>\n",
       "      <td>sadness</td>\n",
       "      <td>CrowdFlower</td>\n",
       "    </tr>\n",
       "    <tr>\n",
       "      <th>4</th>\n",
       "      <td>@kelcouch I'm sorry  at least it's Friday?</td>\n",
       "      <td>sadness</td>\n",
       "      <td>CrowdFlower</td>\n",
       "    </tr>\n",
       "    <tr>\n",
       "      <th>...</th>\n",
       "      <td>...</td>\n",
       "      <td>...</td>\n",
       "      <td>...</td>\n",
       "    </tr>\n",
       "    <tr>\n",
       "      <th>12271</th>\n",
       "      <td>It's a money thing, we don't have any.</td>\n",
       "      <td>sadness</td>\n",
       "      <td>MELD-Friends</td>\n",
       "    </tr>\n",
       "    <tr>\n",
       "      <th>12272</th>\n",
       "      <td>Uh, hang out?! How long?</td>\n",
       "      <td>sadness</td>\n",
       "      <td>MELD-Friends</td>\n",
       "    </tr>\n",
       "    <tr>\n",
       "      <th>12273</th>\n",
       "      <td>A week?</td>\n",
       "      <td>anger</td>\n",
       "      <td>MELD-Friends</td>\n",
       "    </tr>\n",
       "    <tr>\n",
       "      <th>12274</th>\n",
       "      <td>No!</td>\n",
       "      <td>anger</td>\n",
       "      <td>MELD-Friends</td>\n",
       "    </tr>\n",
       "    <tr>\n",
       "      <th>12275</th>\n",
       "      <td>Thanks.   Congratulations on your big break.</td>\n",
       "      <td>sadness</td>\n",
       "      <td>MELD-Friends</td>\n",
       "    </tr>\n",
       "  </tbody>\n",
       "</table>\n",
       "<p>12276 rows × 3 columns</p>\n",
       "</div>"
      ],
      "text/plain": [
       "                                                    text word_label  \\\n",
       "0      Layin n bed with a headache  ughhhh...waitin o...    sadness   \n",
       "1                    Funeral ceremony...gloomy friday...    sadness   \n",
       "2      I should be sleep, but im not! thinking about ...    sadness   \n",
       "3                @charviray Charlene my love. I miss you    sadness   \n",
       "4             @kelcouch I'm sorry  at least it's Friday?    sadness   \n",
       "...                                                  ...        ...   \n",
       "12271             It's a money thing, we don't have any.    sadness   \n",
       "12272                           Uh, hang out?! How long?    sadness   \n",
       "12273                                            A week?      anger   \n",
       "12274                                                No!      anger   \n",
       "12275       Thanks.   Congratulations on your big break.    sadness   \n",
       "\n",
       "             source  \n",
       "0       CrowdFlower  \n",
       "1       CrowdFlower  \n",
       "2       CrowdFlower  \n",
       "3       CrowdFlower  \n",
       "4       CrowdFlower  \n",
       "...             ...  \n",
       "12271  MELD-Friends  \n",
       "12272  MELD-Friends  \n",
       "12273  MELD-Friends  \n",
       "12274  MELD-Friends  \n",
       "12275  MELD-Friends  \n",
       "\n",
       "[12276 rows x 3 columns]"
      ]
     },
     "execution_count": 96,
     "metadata": {},
     "output_type": "execute_result"
    }
   ],
   "source": [
    "mc['source'] = mc['source'].map({'https://data.world/crowdflower/sentiment-analysis-in-text/workspace/file?filename=text_emotion.csv':'CrowdFlower',\n",
    "       'https://raw.githubusercontent.com/declare-lab/MELD/master/data/MELD/train_sent_emo.csv':'MELD-Friends'})\n",
    "mc"
   ]
  },
  {
   "cell_type": "code",
   "execution_count": 97,
   "id": "5eb4354c",
   "metadata": {
    "hidden": true,
    "scrolled": true
   },
   "outputs": [],
   "source": [
    "mc['word_label'] = mc['word_label'].map({'sadness':'sad', 'anger':'angry', 'happiness':'happy'})\n"
   ]
  },
  {
   "cell_type": "code",
   "execution_count": 98,
   "id": "c65cdd17",
   "metadata": {
    "hidden": true
   },
   "outputs": [
    {
     "data": {
      "text/plain": [
       "array(['sad', 'happy', 'angry'], dtype=object)"
      ]
     },
     "execution_count": 98,
     "metadata": {},
     "output_type": "execute_result"
    }
   ],
   "source": [
    "mc['word_label'].unique()"
   ]
  },
  {
   "cell_type": "code",
   "execution_count": 99,
   "id": "ab15c183",
   "metadata": {
    "hidden": true
   },
   "outputs": [],
   "source": [
    "mc.to_csv('../meld-and-crowdflower_happysadangry.csv')"
   ]
  },
  {
   "cell_type": "markdown",
   "id": "e9c62841",
   "metadata": {
    "heading_collapsed": true
   },
   "source": [
    "## Combine"
   ]
  },
  {
   "cell_type": "code",
   "execution_count": 105,
   "id": "e956b5ee",
   "metadata": {
    "hidden": true
   },
   "outputs": [
    {
     "data": {
      "text/html": [
       "<div>\n",
       "<style scoped>\n",
       "    .dataframe tbody tr th:only-of-type {\n",
       "        vertical-align: middle;\n",
       "    }\n",
       "\n",
       "    .dataframe tbody tr th {\n",
       "        vertical-align: top;\n",
       "    }\n",
       "\n",
       "    .dataframe thead th {\n",
       "        text-align: right;\n",
       "    }\n",
       "</style>\n",
       "<table border=\"1\" class=\"dataframe\">\n",
       "  <thead>\n",
       "    <tr style=\"text-align: right;\">\n",
       "      <th></th>\n",
       "      <th>text</th>\n",
       "      <th>word_label</th>\n",
       "      <th>source</th>\n",
       "    </tr>\n",
       "  </thead>\n",
       "  <tbody>\n",
       "    <tr>\n",
       "      <th>0</th>\n",
       "      <td>i didnt feel humiliated</td>\n",
       "      <td>sad</td>\n",
       "      <td>HuggingFace</td>\n",
       "    </tr>\n",
       "    <tr>\n",
       "      <th>1</th>\n",
       "      <td>i can go from feeling so hopeless to so damned...</td>\n",
       "      <td>sad</td>\n",
       "      <td>HuggingFace</td>\n",
       "    </tr>\n",
       "    <tr>\n",
       "      <th>2</th>\n",
       "      <td>im grabbing a minute to post i feel greedy wrong</td>\n",
       "      <td>angry</td>\n",
       "      <td>HuggingFace</td>\n",
       "    </tr>\n",
       "    <tr>\n",
       "      <th>4</th>\n",
       "      <td>i am feeling grouchy</td>\n",
       "      <td>angry</td>\n",
       "      <td>HuggingFace</td>\n",
       "    </tr>\n",
       "    <tr>\n",
       "      <th>5</th>\n",
       "      <td>ive been feeling a little burdened lately wasn...</td>\n",
       "      <td>sad</td>\n",
       "      <td>HuggingFace</td>\n",
       "    </tr>\n",
       "    <tr>\n",
       "      <th>...</th>\n",
       "      <td>...</td>\n",
       "      <td>...</td>\n",
       "      <td>...</td>\n",
       "    </tr>\n",
       "    <tr>\n",
       "      <th>12271</th>\n",
       "      <td>It's a money thing, we don't have any.</td>\n",
       "      <td>sad</td>\n",
       "      <td>MELD-Friends</td>\n",
       "    </tr>\n",
       "    <tr>\n",
       "      <th>12272</th>\n",
       "      <td>Uh, hang out?! How long?</td>\n",
       "      <td>sad</td>\n",
       "      <td>MELD-Friends</td>\n",
       "    </tr>\n",
       "    <tr>\n",
       "      <th>12273</th>\n",
       "      <td>A week?</td>\n",
       "      <td>angry</td>\n",
       "      <td>MELD-Friends</td>\n",
       "    </tr>\n",
       "    <tr>\n",
       "      <th>12274</th>\n",
       "      <td>No!</td>\n",
       "      <td>angry</td>\n",
       "      <td>MELD-Friends</td>\n",
       "    </tr>\n",
       "    <tr>\n",
       "      <th>12275</th>\n",
       "      <td>Thanks.   Congratulations on your big break.</td>\n",
       "      <td>sad</td>\n",
       "      <td>MELD-Friends</td>\n",
       "    </tr>\n",
       "  </tbody>\n",
       "</table>\n",
       "<p>35552 rows × 3 columns</p>\n",
       "</div>"
      ],
      "text/plain": [
       "                                                    text word_label  \\\n",
       "0                                i didnt feel humiliated        sad   \n",
       "1      i can go from feeling so hopeless to so damned...        sad   \n",
       "2       im grabbing a minute to post i feel greedy wrong      angry   \n",
       "4                                   i am feeling grouchy      angry   \n",
       "5      ive been feeling a little burdened lately wasn...        sad   \n",
       "...                                                  ...        ...   \n",
       "12271             It's a money thing, we don't have any.        sad   \n",
       "12272                           Uh, hang out?! How long?        sad   \n",
       "12273                                            A week?      angry   \n",
       "12274                                                No!      angry   \n",
       "12275       Thanks.   Congratulations on your big break.        sad   \n",
       "\n",
       "             source  \n",
       "0       HuggingFace  \n",
       "1       HuggingFace  \n",
       "2       HuggingFace  \n",
       "4       HuggingFace  \n",
       "5       HuggingFace  \n",
       "...             ...  \n",
       "12271  MELD-Friends  \n",
       "12272  MELD-Friends  \n",
       "12273  MELD-Friends  \n",
       "12274  MELD-Friends  \n",
       "12275  MELD-Friends  \n",
       "\n",
       "[35552 rows x 3 columns]"
      ]
     },
     "execution_count": 105,
     "metadata": {},
     "output_type": "execute_result"
    }
   ],
   "source": [
    "full_hsa_df = pd.concat([simplified_df, semeval_hsa, mc])\n",
    "full_hsa_df"
   ]
  },
  {
   "cell_type": "code",
   "execution_count": 106,
   "id": "bc3c9a1e",
   "metadata": {
    "hidden": true
   },
   "outputs": [],
   "source": [
    "full_hsa_df.to_csv('../raw_data/combined_happysadangry.csv')"
   ]
  },
  {
   "cell_type": "code",
   "execution_count": 107,
   "id": "49654c9f",
   "metadata": {
    "hidden": true
   },
   "outputs": [
    {
     "data": {
      "text/plain": [
       "array(['HuggingFace', 'SemEval-2018', 'CrowdFlower', 'MELD-Friends'],\n",
       "      dtype=object)"
      ]
     },
     "execution_count": 107,
     "metadata": {},
     "output_type": "execute_result"
    }
   ],
   "source": [
    "full_hsa_df['source'].unique()"
   ]
  },
  {
   "cell_type": "code",
   "execution_count": 108,
   "id": "6baef623",
   "metadata": {
    "hidden": true
   },
   "outputs": [
    {
     "data": {
      "text/plain": [
       "happy    14847\n",
       "sad      13918\n",
       "angry     6787\n",
       "Name: word_label, dtype: int64"
      ]
     },
     "execution_count": 108,
     "metadata": {},
     "output_type": "execute_result"
    }
   ],
   "source": [
    "full_hsa_df['word_label'].value_counts()"
   ]
  },
  {
   "cell_type": "markdown",
   "id": "d2dd6de9",
   "metadata": {
    "heading_collapsed": true
   },
   "source": [
    "## Baseline Model \n",
    "Most frequent class in training set: Happy. "
   ]
  },
  {
   "cell_type": "code",
   "execution_count": 3,
   "id": "c1a5db8c",
   "metadata": {
    "hidden": true
   },
   "outputs": [],
   "source": [
    "import pandas as pd"
   ]
  },
  {
   "cell_type": "code",
   "execution_count": 4,
   "id": "3e1f6448",
   "metadata": {
    "hidden": true
   },
   "outputs": [],
   "source": [
    "df = pd.read_csv(\"../raw_data/combined_happysadangry.csv\")"
   ]
  },
  {
   "cell_type": "code",
   "execution_count": 6,
   "id": "37c0b6d0",
   "metadata": {
    "hidden": true
   },
   "outputs": [
    {
     "data": {
      "text/plain": [
       "0.41761363636363635"
      ]
     },
     "execution_count": 6,
     "metadata": {},
     "output_type": "execute_result"
    }
   ],
   "source": [
    "14847/df.shape[0] # Percent proba of Happy in training set"
   ]
  },
  {
   "cell_type": "markdown",
   "id": "16497ce5",
   "metadata": {
    "heading_collapsed": true
   },
   "source": [
    "## Preprocessing"
   ]
  },
  {
   "cell_type": "markdown",
   "id": "745ccc5e",
   "metadata": {
    "hidden": true
   },
   "source": [
    "Steps:\n",
    "* Lowercase\n",
    "* Dealing with Twitter usernames, numbers and punctuation\n",
    "* Removing \"stopwords\"\n",
    "* Tokenizing\n",
    "* Stemming or Lemmatizing"
   ]
  },
  {
   "cell_type": "code",
   "execution_count": 10,
   "id": "d8730e74",
   "metadata": {
    "hidden": true
   },
   "outputs": [
    {
     "name": "stderr",
     "output_type": "stream",
     "text": [
      "[nltk_data] Downloading package stopwords to\n",
      "[nltk_data]     /Users/vprentice/nltk_data...\n",
      "[nltk_data]   Package stopwords is already up-to-date!\n",
      "[nltk_data] Downloading package punkt to /Users/vprentice/nltk_data...\n",
      "[nltk_data]   Package punkt is already up-to-date!\n",
      "[nltk_data] Downloading package wordnet to\n",
      "[nltk_data]     /Users/vprentice/nltk_data...\n",
      "[nltk_data]   Package wordnet is already up-to-date!\n"
     ]
    },
    {
     "data": {
      "text/plain": [
       "True"
      ]
     },
     "execution_count": 10,
     "metadata": {},
     "output_type": "execute_result"
    }
   ],
   "source": [
    "import nltk\n",
    "nltk.download('stopwords')\n",
    "nltk.download('punkt')\n",
    "nltk.download('wordnet')"
   ]
  },
  {
   "cell_type": "markdown",
   "id": "b6ee2400",
   "metadata": {
    "hidden": true
   },
   "source": [
    "### Lower"
   ]
  },
  {
   "cell_type": "code",
   "execution_count": 41,
   "id": "a710b663",
   "metadata": {
    "hidden": true
   },
   "outputs": [],
   "source": [
    "df_preproc = df.copy()\n",
    "df_preproc['preproc_text'] = df_preproc['text'].str.lower()"
   ]
  },
  {
   "cell_type": "code",
   "execution_count": 17,
   "id": "41c0dceb",
   "metadata": {
    "collapsed": true,
    "hidden": true
   },
   "outputs": [
    {
     "data": {
      "text/html": [
       "<div>\n",
       "<style scoped>\n",
       "    .dataframe tbody tr th:only-of-type {\n",
       "        vertical-align: middle;\n",
       "    }\n",
       "\n",
       "    .dataframe tbody tr th {\n",
       "        vertical-align: top;\n",
       "    }\n",
       "\n",
       "    .dataframe thead th {\n",
       "        text-align: right;\n",
       "    }\n",
       "</style>\n",
       "<table border=\"1\" class=\"dataframe\">\n",
       "  <thead>\n",
       "    <tr style=\"text-align: right;\">\n",
       "      <th></th>\n",
       "      <th>Unnamed: 0</th>\n",
       "      <th>text</th>\n",
       "      <th>word_label</th>\n",
       "      <th>source</th>\n",
       "      <th>preproc_text</th>\n",
       "    </tr>\n",
       "  </thead>\n",
       "  <tbody>\n",
       "    <tr>\n",
       "      <th>0</th>\n",
       "      <td>0</td>\n",
       "      <td>i didnt feel humiliated</td>\n",
       "      <td>sad</td>\n",
       "      <td>HuggingFace</td>\n",
       "      <td>i didnt feel humiliated</td>\n",
       "    </tr>\n",
       "    <tr>\n",
       "      <th>1</th>\n",
       "      <td>1</td>\n",
       "      <td>i can go from feeling so hopeless to so damned...</td>\n",
       "      <td>sad</td>\n",
       "      <td>HuggingFace</td>\n",
       "      <td>i can go from feeling so hopeless to so damned...</td>\n",
       "    </tr>\n",
       "    <tr>\n",
       "      <th>2</th>\n",
       "      <td>2</td>\n",
       "      <td>im grabbing a minute to post i feel greedy wrong</td>\n",
       "      <td>angry</td>\n",
       "      <td>HuggingFace</td>\n",
       "      <td>im grabbing a minute to post i feel greedy wrong</td>\n",
       "    </tr>\n",
       "    <tr>\n",
       "      <th>3</th>\n",
       "      <td>4</td>\n",
       "      <td>i am feeling grouchy</td>\n",
       "      <td>angry</td>\n",
       "      <td>HuggingFace</td>\n",
       "      <td>i am feeling grouchy</td>\n",
       "    </tr>\n",
       "    <tr>\n",
       "      <th>4</th>\n",
       "      <td>5</td>\n",
       "      <td>ive been feeling a little burdened lately wasn...</td>\n",
       "      <td>sad</td>\n",
       "      <td>HuggingFace</td>\n",
       "      <td>ive been feeling a little burdened lately wasn...</td>\n",
       "    </tr>\n",
       "    <tr>\n",
       "      <th>...</th>\n",
       "      <td>...</td>\n",
       "      <td>...</td>\n",
       "      <td>...</td>\n",
       "      <td>...</td>\n",
       "      <td>...</td>\n",
       "    </tr>\n",
       "    <tr>\n",
       "      <th>35547</th>\n",
       "      <td>12271</td>\n",
       "      <td>It's a money thing, we don't have any.</td>\n",
       "      <td>sad</td>\n",
       "      <td>MELD-Friends</td>\n",
       "      <td>it's a money thing, we don't have any.</td>\n",
       "    </tr>\n",
       "    <tr>\n",
       "      <th>35548</th>\n",
       "      <td>12272</td>\n",
       "      <td>Uh, hang out?! How long?</td>\n",
       "      <td>sad</td>\n",
       "      <td>MELD-Friends</td>\n",
       "      <td>uh, hang out?! how long?</td>\n",
       "    </tr>\n",
       "    <tr>\n",
       "      <th>35549</th>\n",
       "      <td>12273</td>\n",
       "      <td>A week?</td>\n",
       "      <td>angry</td>\n",
       "      <td>MELD-Friends</td>\n",
       "      <td>a week?</td>\n",
       "    </tr>\n",
       "    <tr>\n",
       "      <th>35550</th>\n",
       "      <td>12274</td>\n",
       "      <td>No!</td>\n",
       "      <td>angry</td>\n",
       "      <td>MELD-Friends</td>\n",
       "      <td>no!</td>\n",
       "    </tr>\n",
       "    <tr>\n",
       "      <th>35551</th>\n",
       "      <td>12275</td>\n",
       "      <td>Thanks.   Congratulations on your big break.</td>\n",
       "      <td>sad</td>\n",
       "      <td>MELD-Friends</td>\n",
       "      <td>thanks.   congratulations on your big break.</td>\n",
       "    </tr>\n",
       "  </tbody>\n",
       "</table>\n",
       "<p>35552 rows × 5 columns</p>\n",
       "</div>"
      ],
      "text/plain": [
       "       Unnamed: 0                                               text  \\\n",
       "0               0                            i didnt feel humiliated   \n",
       "1               1  i can go from feeling so hopeless to so damned...   \n",
       "2               2   im grabbing a minute to post i feel greedy wrong   \n",
       "3               4                               i am feeling grouchy   \n",
       "4               5  ive been feeling a little burdened lately wasn...   \n",
       "...           ...                                                ...   \n",
       "35547       12271             It's a money thing, we don't have any.   \n",
       "35548       12272                           Uh, hang out?! How long?   \n",
       "35549       12273                                            A week?   \n",
       "35550       12274                                                No!   \n",
       "35551       12275       Thanks.   Congratulations on your big break.   \n",
       "\n",
       "      word_label        source  \\\n",
       "0            sad   HuggingFace   \n",
       "1            sad   HuggingFace   \n",
       "2          angry   HuggingFace   \n",
       "3          angry   HuggingFace   \n",
       "4            sad   HuggingFace   \n",
       "...          ...           ...   \n",
       "35547        sad  MELD-Friends   \n",
       "35548        sad  MELD-Friends   \n",
       "35549      angry  MELD-Friends   \n",
       "35550      angry  MELD-Friends   \n",
       "35551        sad  MELD-Friends   \n",
       "\n",
       "                                            preproc_text  \n",
       "0                                i didnt feel humiliated  \n",
       "1      i can go from feeling so hopeless to so damned...  \n",
       "2       im grabbing a minute to post i feel greedy wrong  \n",
       "3                                   i am feeling grouchy  \n",
       "4      ive been feeling a little burdened lately wasn...  \n",
       "...                                                  ...  \n",
       "35547             it's a money thing, we don't have any.  \n",
       "35548                           uh, hang out?! how long?  \n",
       "35549                                            a week?  \n",
       "35550                                                no!  \n",
       "35551       thanks.   congratulations on your big break.  \n",
       "\n",
       "[35552 rows x 5 columns]"
      ]
     },
     "execution_count": 17,
     "metadata": {},
     "output_type": "execute_result"
    }
   ],
   "source": [
    "df_preproc"
   ]
  },
  {
   "cell_type": "markdown",
   "id": "e5d6911a",
   "metadata": {
    "hidden": true
   },
   "source": [
    "### Remove Twitter handles"
   ]
  },
  {
   "cell_type": "code",
   "execution_count": 12,
   "id": "6c03f7be",
   "metadata": {
    "hidden": true
   },
   "outputs": [],
   "source": [
    "import re"
   ]
  },
  {
   "cell_type": "code",
   "execution_count": 13,
   "id": "bb5bdf06",
   "metadata": {
    "hidden": true
   },
   "outputs": [],
   "source": [
    "username_pattern = r\"@\\w+\""
   ]
  },
  {
   "cell_type": "code",
   "execution_count": 15,
   "id": "5299188e",
   "metadata": {
    "hidden": true
   },
   "outputs": [],
   "source": [
    "def delete_username(text):\n",
    "    new_text = re.sub(username_pattern, '', text)\n",
    "    return new_text"
   ]
  },
  {
   "cell_type": "code",
   "execution_count": 42,
   "id": "5ae97308",
   "metadata": {
    "hidden": true
   },
   "outputs": [],
   "source": [
    "df_preproc['preproc_text'] = df_preproc['preproc_text'].apply(delete_username)"
   ]
  },
  {
   "cell_type": "code",
   "execution_count": 36,
   "id": "c46ceb69",
   "metadata": {
    "hidden": true
   },
   "outputs": [
    {
     "data": {
      "text/html": [
       "<div>\n",
       "<style scoped>\n",
       "    .dataframe tbody tr th:only-of-type {\n",
       "        vertical-align: middle;\n",
       "    }\n",
       "\n",
       "    .dataframe tbody tr th {\n",
       "        vertical-align: top;\n",
       "    }\n",
       "\n",
       "    .dataframe thead th {\n",
       "        text-align: right;\n",
       "    }\n",
       "</style>\n",
       "<table border=\"1\" class=\"dataframe\">\n",
       "  <thead>\n",
       "    <tr style=\"text-align: right;\">\n",
       "      <th></th>\n",
       "      <th>Unnamed: 0</th>\n",
       "      <th>text</th>\n",
       "      <th>word_label</th>\n",
       "      <th>source</th>\n",
       "      <th>preproc_text</th>\n",
       "    </tr>\n",
       "  </thead>\n",
       "  <tbody>\n",
       "    <tr>\n",
       "      <th>15267</th>\n",
       "      <td>0</td>\n",
       "      <td>@Max_Kellerman  it also helps that the majorit...</td>\n",
       "      <td>angry</td>\n",
       "      <td>SemEval-2018</td>\n",
       "      <td>it also helps that the majority of nfl coach...</td>\n",
       "    </tr>\n",
       "    <tr>\n",
       "      <th>15268</th>\n",
       "      <td>1</td>\n",
       "      <td>My roommate: it's okay that we can't spell bec...</td>\n",
       "      <td>angry</td>\n",
       "      <td>SemEval-2018</td>\n",
       "      <td>my roommate: it's okay that we can't spell bec...</td>\n",
       "    </tr>\n",
       "    <tr>\n",
       "      <th>15269</th>\n",
       "      <td>2</td>\n",
       "      <td>Rooneys fucking untouchable isn't he? Been fuc...</td>\n",
       "      <td>angry</td>\n",
       "      <td>SemEval-2018</td>\n",
       "      <td>rooneys fucking untouchable isn't he? been fuc...</td>\n",
       "    </tr>\n",
       "    <tr>\n",
       "      <th>15270</th>\n",
       "      <td>3</td>\n",
       "      <td>@BossUpJaee but your pussy was weak from what ...</td>\n",
       "      <td>angry</td>\n",
       "      <td>SemEval-2018</td>\n",
       "      <td>but your pussy was weak from what i heard so ...</td>\n",
       "    </tr>\n",
       "    <tr>\n",
       "      <th>15271</th>\n",
       "      <td>4</td>\n",
       "      <td>S/O to the girl that just hit my car...not onl...</td>\n",
       "      <td>angry</td>\n",
       "      <td>SemEval-2018</td>\n",
       "      <td>s/o to the girl that just hit my car...not onl...</td>\n",
       "    </tr>\n",
       "    <tr>\n",
       "      <th>...</th>\n",
       "      <td>...</td>\n",
       "      <td>...</td>\n",
       "      <td>...</td>\n",
       "      <td>...</td>\n",
       "      <td>...</td>\n",
       "    </tr>\n",
       "    <tr>\n",
       "      <th>23271</th>\n",
       "      <td>8004</td>\n",
       "      <td>@ProfessorF @Mediaite @law_newz Childish tempe...</td>\n",
       "      <td>sad</td>\n",
       "      <td>SemEval-2018</td>\n",
       "      <td>childish temper #tantrums are all the left ...</td>\n",
       "    </tr>\n",
       "    <tr>\n",
       "      <th>23272</th>\n",
       "      <td>8005</td>\n",
       "      <td>Still 19 days left before I go home to the Phi...</td>\n",
       "      <td>sad</td>\n",
       "      <td>SemEval-2018</td>\n",
       "      <td>still 19 days left before i go home to the phi...</td>\n",
       "    </tr>\n",
       "    <tr>\n",
       "      <th>23273</th>\n",
       "      <td>8006</td>\n",
       "      <td>Literally hanging on by a thread need some tay...</td>\n",
       "      <td>sad</td>\n",
       "      <td>SemEval-2018</td>\n",
       "      <td>literally hanging on by a thread need some tay...</td>\n",
       "    </tr>\n",
       "    <tr>\n",
       "      <th>23274</th>\n",
       "      <td>8007</td>\n",
       "      <td>was one moron  driving his oversize tonka truc...</td>\n",
       "      <td>sad</td>\n",
       "      <td>SemEval-2018</td>\n",
       "      <td>was one moron  driving his oversize tonka truc...</td>\n",
       "    </tr>\n",
       "    <tr>\n",
       "      <th>23275</th>\n",
       "      <td>8008</td>\n",
       "      <td>Blah blah blah Kyrie, IT, etc. @CJC9BOSS leavi...</td>\n",
       "      <td>sad</td>\n",
       "      <td>SemEval-2018</td>\n",
       "      <td>blah blah blah kyrie, it, etc.  leaving boston...</td>\n",
       "    </tr>\n",
       "  </tbody>\n",
       "</table>\n",
       "<p>8009 rows × 5 columns</p>\n",
       "</div>"
      ],
      "text/plain": [
       "       Unnamed: 0                                               text  \\\n",
       "15267           0  @Max_Kellerman  it also helps that the majorit...   \n",
       "15268           1  My roommate: it's okay that we can't spell bec...   \n",
       "15269           2  Rooneys fucking untouchable isn't he? Been fuc...   \n",
       "15270           3  @BossUpJaee but your pussy was weak from what ...   \n",
       "15271           4  S/O to the girl that just hit my car...not onl...   \n",
       "...           ...                                                ...   \n",
       "23271        8004  @ProfessorF @Mediaite @law_newz Childish tempe...   \n",
       "23272        8005  Still 19 days left before I go home to the Phi...   \n",
       "23273        8006  Literally hanging on by a thread need some tay...   \n",
       "23274        8007  was one moron  driving his oversize tonka truc...   \n",
       "23275        8008  Blah blah blah Kyrie, IT, etc. @CJC9BOSS leavi...   \n",
       "\n",
       "      word_label        source  \\\n",
       "15267      angry  SemEval-2018   \n",
       "15268      angry  SemEval-2018   \n",
       "15269      angry  SemEval-2018   \n",
       "15270      angry  SemEval-2018   \n",
       "15271      angry  SemEval-2018   \n",
       "...          ...           ...   \n",
       "23271        sad  SemEval-2018   \n",
       "23272        sad  SemEval-2018   \n",
       "23273        sad  SemEval-2018   \n",
       "23274        sad  SemEval-2018   \n",
       "23275        sad  SemEval-2018   \n",
       "\n",
       "                                            preproc_text  \n",
       "15267    it also helps that the majority of nfl coach...  \n",
       "15268  my roommate: it's okay that we can't spell bec...  \n",
       "15269  rooneys fucking untouchable isn't he? been fuc...  \n",
       "15270   but your pussy was weak from what i heard so ...  \n",
       "15271  s/o to the girl that just hit my car...not onl...  \n",
       "...                                                  ...  \n",
       "23271     childish temper #tantrums are all the left ...  \n",
       "23272  still 19 days left before i go home to the phi...  \n",
       "23273  literally hanging on by a thread need some tay...  \n",
       "23274  was one moron  driving his oversize tonka truc...  \n",
       "23275  blah blah blah kyrie, it, etc.  leaving boston...  \n",
       "\n",
       "[8009 rows x 5 columns]"
      ]
     },
     "execution_count": 36,
     "metadata": {},
     "output_type": "execute_result"
    }
   ],
   "source": [
    "df_preproc[df_preproc['source'] == 'SemEval-2018']"
   ]
  },
  {
   "cell_type": "markdown",
   "id": "143d23c9",
   "metadata": {
    "hidden": true
   },
   "source": [
    "### Remove numbers"
   ]
  },
  {
   "cell_type": "code",
   "execution_count": 43,
   "id": "37bf9592",
   "metadata": {
    "hidden": true
   },
   "outputs": [],
   "source": [
    "def remove_num(text):\n",
    "    return ''.join(word for word in text if not word.isdigit())\n",
    "df_preproc['preproc_text'] = df_preproc['preproc_text'].apply(remove_num)"
   ]
  },
  {
   "cell_type": "code",
   "execution_count": 38,
   "id": "d7317c70",
   "metadata": {
    "hidden": true
   },
   "outputs": [
    {
     "data": {
      "text/html": [
       "<div>\n",
       "<style scoped>\n",
       "    .dataframe tbody tr th:only-of-type {\n",
       "        vertical-align: middle;\n",
       "    }\n",
       "\n",
       "    .dataframe tbody tr th {\n",
       "        vertical-align: top;\n",
       "    }\n",
       "\n",
       "    .dataframe thead th {\n",
       "        text-align: right;\n",
       "    }\n",
       "</style>\n",
       "<table border=\"1\" class=\"dataframe\">\n",
       "  <thead>\n",
       "    <tr style=\"text-align: right;\">\n",
       "      <th></th>\n",
       "      <th>Unnamed: 0</th>\n",
       "      <th>text</th>\n",
       "      <th>word_label</th>\n",
       "      <th>source</th>\n",
       "      <th>preproc_text</th>\n",
       "    </tr>\n",
       "  </thead>\n",
       "  <tbody>\n",
       "    <tr>\n",
       "      <th>15267</th>\n",
       "      <td>0</td>\n",
       "      <td>@Max_Kellerman  it also helps that the majorit...</td>\n",
       "      <td>angry</td>\n",
       "      <td>SemEval-2018</td>\n",
       "      <td>it also helps that the majority of nfl coach...</td>\n",
       "    </tr>\n",
       "    <tr>\n",
       "      <th>15268</th>\n",
       "      <td>1</td>\n",
       "      <td>My roommate: it's okay that we can't spell bec...</td>\n",
       "      <td>angry</td>\n",
       "      <td>SemEval-2018</td>\n",
       "      <td>my roommate: it's okay that we can't spell bec...</td>\n",
       "    </tr>\n",
       "    <tr>\n",
       "      <th>15269</th>\n",
       "      <td>2</td>\n",
       "      <td>Rooneys fucking untouchable isn't he? Been fuc...</td>\n",
       "      <td>angry</td>\n",
       "      <td>SemEval-2018</td>\n",
       "      <td>rooneys fucking untouchable isn't he? been fuc...</td>\n",
       "    </tr>\n",
       "    <tr>\n",
       "      <th>15270</th>\n",
       "      <td>3</td>\n",
       "      <td>@BossUpJaee but your pussy was weak from what ...</td>\n",
       "      <td>angry</td>\n",
       "      <td>SemEval-2018</td>\n",
       "      <td>but your pussy was weak from what i heard so ...</td>\n",
       "    </tr>\n",
       "    <tr>\n",
       "      <th>15271</th>\n",
       "      <td>4</td>\n",
       "      <td>S/O to the girl that just hit my car...not onl...</td>\n",
       "      <td>angry</td>\n",
       "      <td>SemEval-2018</td>\n",
       "      <td>s/o to the girl that just hit my car...not onl...</td>\n",
       "    </tr>\n",
       "    <tr>\n",
       "      <th>...</th>\n",
       "      <td>...</td>\n",
       "      <td>...</td>\n",
       "      <td>...</td>\n",
       "      <td>...</td>\n",
       "      <td>...</td>\n",
       "    </tr>\n",
       "    <tr>\n",
       "      <th>23271</th>\n",
       "      <td>8004</td>\n",
       "      <td>@ProfessorF @Mediaite @law_newz Childish tempe...</td>\n",
       "      <td>sad</td>\n",
       "      <td>SemEval-2018</td>\n",
       "      <td>childish temper #tantrums are all the left ...</td>\n",
       "    </tr>\n",
       "    <tr>\n",
       "      <th>23272</th>\n",
       "      <td>8005</td>\n",
       "      <td>Still 19 days left before I go home to the Phi...</td>\n",
       "      <td>sad</td>\n",
       "      <td>SemEval-2018</td>\n",
       "      <td>still  days left before i go home to the phili...</td>\n",
       "    </tr>\n",
       "    <tr>\n",
       "      <th>23273</th>\n",
       "      <td>8006</td>\n",
       "      <td>Literally hanging on by a thread need some tay...</td>\n",
       "      <td>sad</td>\n",
       "      <td>SemEval-2018</td>\n",
       "      <td>literally hanging on by a thread need some tay...</td>\n",
       "    </tr>\n",
       "    <tr>\n",
       "      <th>23274</th>\n",
       "      <td>8007</td>\n",
       "      <td>was one moron  driving his oversize tonka truc...</td>\n",
       "      <td>sad</td>\n",
       "      <td>SemEval-2018</td>\n",
       "      <td>was one moron  driving his oversize tonka truc...</td>\n",
       "    </tr>\n",
       "    <tr>\n",
       "      <th>23275</th>\n",
       "      <td>8008</td>\n",
       "      <td>Blah blah blah Kyrie, IT, etc. @CJC9BOSS leavi...</td>\n",
       "      <td>sad</td>\n",
       "      <td>SemEval-2018</td>\n",
       "      <td>blah blah blah kyrie, it, etc.  leaving boston...</td>\n",
       "    </tr>\n",
       "  </tbody>\n",
       "</table>\n",
       "<p>8009 rows × 5 columns</p>\n",
       "</div>"
      ],
      "text/plain": [
       "       Unnamed: 0                                               text  \\\n",
       "15267           0  @Max_Kellerman  it also helps that the majorit...   \n",
       "15268           1  My roommate: it's okay that we can't spell bec...   \n",
       "15269           2  Rooneys fucking untouchable isn't he? Been fuc...   \n",
       "15270           3  @BossUpJaee but your pussy was weak from what ...   \n",
       "15271           4  S/O to the girl that just hit my car...not onl...   \n",
       "...           ...                                                ...   \n",
       "23271        8004  @ProfessorF @Mediaite @law_newz Childish tempe...   \n",
       "23272        8005  Still 19 days left before I go home to the Phi...   \n",
       "23273        8006  Literally hanging on by a thread need some tay...   \n",
       "23274        8007  was one moron  driving his oversize tonka truc...   \n",
       "23275        8008  Blah blah blah Kyrie, IT, etc. @CJC9BOSS leavi...   \n",
       "\n",
       "      word_label        source  \\\n",
       "15267      angry  SemEval-2018   \n",
       "15268      angry  SemEval-2018   \n",
       "15269      angry  SemEval-2018   \n",
       "15270      angry  SemEval-2018   \n",
       "15271      angry  SemEval-2018   \n",
       "...          ...           ...   \n",
       "23271        sad  SemEval-2018   \n",
       "23272        sad  SemEval-2018   \n",
       "23273        sad  SemEval-2018   \n",
       "23274        sad  SemEval-2018   \n",
       "23275        sad  SemEval-2018   \n",
       "\n",
       "                                            preproc_text  \n",
       "15267    it also helps that the majority of nfl coach...  \n",
       "15268  my roommate: it's okay that we can't spell bec...  \n",
       "15269  rooneys fucking untouchable isn't he? been fuc...  \n",
       "15270   but your pussy was weak from what i heard so ...  \n",
       "15271  s/o to the girl that just hit my car...not onl...  \n",
       "...                                                  ...  \n",
       "23271     childish temper #tantrums are all the left ...  \n",
       "23272  still  days left before i go home to the phili...  \n",
       "23273  literally hanging on by a thread need some tay...  \n",
       "23274  was one moron  driving his oversize tonka truc...  \n",
       "23275  blah blah blah kyrie, it, etc.  leaving boston...  \n",
       "\n",
       "[8009 rows x 5 columns]"
      ]
     },
     "execution_count": 38,
     "metadata": {},
     "output_type": "execute_result"
    }
   ],
   "source": [
    "df_preproc[df_preproc['source'] == 'SemEval-2018']"
   ]
  },
  {
   "cell_type": "markdown",
   "id": "59044cbd",
   "metadata": {
    "hidden": true
   },
   "source": [
    "### Remove Punctuation"
   ]
  },
  {
   "cell_type": "code",
   "execution_count": 26,
   "id": "ee4cef88",
   "metadata": {
    "hidden": true
   },
   "outputs": [
    {
     "data": {
      "text/plain": [
       "'!\"#$%&\\'()*+,-./:;<=>?@[\\\\]^_`{|}~'"
      ]
     },
     "execution_count": 26,
     "metadata": {},
     "output_type": "execute_result"
    }
   ],
   "source": [
    "import string \n",
    "\n",
    "string.punctuation"
   ]
  },
  {
   "cell_type": "code",
   "execution_count": 44,
   "id": "dbba39ef",
   "metadata": {
    "hidden": true
   },
   "outputs": [],
   "source": [
    "def remove_punct(text):\n",
    "    for punctuation in string.punctuation:\n",
    "        text = text.replace(punctuation, '') \n",
    "    return text\n",
    "df_preproc['preproc_text'] = df_preproc['preproc_text'].apply(remove_punct)"
   ]
  },
  {
   "cell_type": "code",
   "execution_count": 45,
   "id": "097483ab",
   "metadata": {
    "hidden": true
   },
   "outputs": [
    {
     "data": {
      "text/html": [
       "<div>\n",
       "<style scoped>\n",
       "    .dataframe tbody tr th:only-of-type {\n",
       "        vertical-align: middle;\n",
       "    }\n",
       "\n",
       "    .dataframe tbody tr th {\n",
       "        vertical-align: top;\n",
       "    }\n",
       "\n",
       "    .dataframe thead th {\n",
       "        text-align: right;\n",
       "    }\n",
       "</style>\n",
       "<table border=\"1\" class=\"dataframe\">\n",
       "  <thead>\n",
       "    <tr style=\"text-align: right;\">\n",
       "      <th></th>\n",
       "      <th>Unnamed: 0</th>\n",
       "      <th>text</th>\n",
       "      <th>word_label</th>\n",
       "      <th>source</th>\n",
       "      <th>preproc_text</th>\n",
       "    </tr>\n",
       "  </thead>\n",
       "  <tbody>\n",
       "    <tr>\n",
       "      <th>0</th>\n",
       "      <td>0</td>\n",
       "      <td>i didnt feel humiliated</td>\n",
       "      <td>sad</td>\n",
       "      <td>HuggingFace</td>\n",
       "      <td>i didnt feel humiliated</td>\n",
       "    </tr>\n",
       "    <tr>\n",
       "      <th>1</th>\n",
       "      <td>1</td>\n",
       "      <td>i can go from feeling so hopeless to so damned...</td>\n",
       "      <td>sad</td>\n",
       "      <td>HuggingFace</td>\n",
       "      <td>i can go from feeling so hopeless to so damned...</td>\n",
       "    </tr>\n",
       "    <tr>\n",
       "      <th>2</th>\n",
       "      <td>2</td>\n",
       "      <td>im grabbing a minute to post i feel greedy wrong</td>\n",
       "      <td>angry</td>\n",
       "      <td>HuggingFace</td>\n",
       "      <td>im grabbing a minute to post i feel greedy wrong</td>\n",
       "    </tr>\n",
       "    <tr>\n",
       "      <th>3</th>\n",
       "      <td>4</td>\n",
       "      <td>i am feeling grouchy</td>\n",
       "      <td>angry</td>\n",
       "      <td>HuggingFace</td>\n",
       "      <td>i am feeling grouchy</td>\n",
       "    </tr>\n",
       "    <tr>\n",
       "      <th>4</th>\n",
       "      <td>5</td>\n",
       "      <td>ive been feeling a little burdened lately wasn...</td>\n",
       "      <td>sad</td>\n",
       "      <td>HuggingFace</td>\n",
       "      <td>ive been feeling a little burdened lately wasn...</td>\n",
       "    </tr>\n",
       "    <tr>\n",
       "      <th>...</th>\n",
       "      <td>...</td>\n",
       "      <td>...</td>\n",
       "      <td>...</td>\n",
       "      <td>...</td>\n",
       "      <td>...</td>\n",
       "    </tr>\n",
       "    <tr>\n",
       "      <th>35547</th>\n",
       "      <td>12271</td>\n",
       "      <td>It's a money thing, we don't have any.</td>\n",
       "      <td>sad</td>\n",
       "      <td>MELD-Friends</td>\n",
       "      <td>its a money thing we dont have any</td>\n",
       "    </tr>\n",
       "    <tr>\n",
       "      <th>35548</th>\n",
       "      <td>12272</td>\n",
       "      <td>Uh, hang out?! How long?</td>\n",
       "      <td>sad</td>\n",
       "      <td>MELD-Friends</td>\n",
       "      <td>uh hang out how long</td>\n",
       "    </tr>\n",
       "    <tr>\n",
       "      <th>35549</th>\n",
       "      <td>12273</td>\n",
       "      <td>A week?</td>\n",
       "      <td>angry</td>\n",
       "      <td>MELD-Friends</td>\n",
       "      <td>a week</td>\n",
       "    </tr>\n",
       "    <tr>\n",
       "      <th>35550</th>\n",
       "      <td>12274</td>\n",
       "      <td>No!</td>\n",
       "      <td>angry</td>\n",
       "      <td>MELD-Friends</td>\n",
       "      <td>no</td>\n",
       "    </tr>\n",
       "    <tr>\n",
       "      <th>35551</th>\n",
       "      <td>12275</td>\n",
       "      <td>Thanks.   Congratulations on your big break.</td>\n",
       "      <td>sad</td>\n",
       "      <td>MELD-Friends</td>\n",
       "      <td>thanks   congratulations on your big break</td>\n",
       "    </tr>\n",
       "  </tbody>\n",
       "</table>\n",
       "<p>35552 rows × 5 columns</p>\n",
       "</div>"
      ],
      "text/plain": [
       "       Unnamed: 0                                               text  \\\n",
       "0               0                            i didnt feel humiliated   \n",
       "1               1  i can go from feeling so hopeless to so damned...   \n",
       "2               2   im grabbing a minute to post i feel greedy wrong   \n",
       "3               4                               i am feeling grouchy   \n",
       "4               5  ive been feeling a little burdened lately wasn...   \n",
       "...           ...                                                ...   \n",
       "35547       12271             It's a money thing, we don't have any.   \n",
       "35548       12272                           Uh, hang out?! How long?   \n",
       "35549       12273                                            A week?   \n",
       "35550       12274                                                No!   \n",
       "35551       12275       Thanks.   Congratulations on your big break.   \n",
       "\n",
       "      word_label        source  \\\n",
       "0            sad   HuggingFace   \n",
       "1            sad   HuggingFace   \n",
       "2          angry   HuggingFace   \n",
       "3          angry   HuggingFace   \n",
       "4            sad   HuggingFace   \n",
       "...          ...           ...   \n",
       "35547        sad  MELD-Friends   \n",
       "35548        sad  MELD-Friends   \n",
       "35549      angry  MELD-Friends   \n",
       "35550      angry  MELD-Friends   \n",
       "35551        sad  MELD-Friends   \n",
       "\n",
       "                                            preproc_text  \n",
       "0                                i didnt feel humiliated  \n",
       "1      i can go from feeling so hopeless to so damned...  \n",
       "2       im grabbing a minute to post i feel greedy wrong  \n",
       "3                                   i am feeling grouchy  \n",
       "4      ive been feeling a little burdened lately wasn...  \n",
       "...                                                  ...  \n",
       "35547                 its a money thing we dont have any  \n",
       "35548                               uh hang out how long  \n",
       "35549                                             a week  \n",
       "35550                                                 no  \n",
       "35551         thanks   congratulations on your big break  \n",
       "\n",
       "[35552 rows x 5 columns]"
      ]
     },
     "execution_count": 45,
     "metadata": {},
     "output_type": "execute_result"
    }
   ],
   "source": [
    "df_preproc"
   ]
  },
  {
   "cell_type": "markdown",
   "id": "fb3810e4",
   "metadata": {
    "hidden": true
   },
   "source": [
    "### Remove Stopwords"
   ]
  },
  {
   "cell_type": "code",
   "execution_count": 52,
   "id": "da9037ba",
   "metadata": {
    "hidden": true
   },
   "outputs": [
    {
     "name": "stdout",
     "output_type": "stream",
     "text": [
      "{\"you're\", 'wasn', 'can', \"isn't\", 'didn', \"mightn't\", 'having', 'o', 'shouldn', 'she', 'the', 'hadn', 'because', 'on', 'these', 've', 'does', 'such', 'its', 'they', 'him', \"should've\", 'a', 'yourselves', 'itself', 'than', 'we', 'during', 'same', 'their', 'he', 'any', 'through', 'was', 'themselves', \"she's\", \"that'll\", \"hasn't\", 'hers', 'm', 'too', \"hadn't\", 'do', 'ain', 'at', \"shouldn't\", 'between', \"won't\", 'will', 'has', \"you'll\", 'ourselves', 'most', 'this', 'and', 'so', 'isn', \"needn't\", 'where', \"don't\", 'i', \"haven't\", 'd', \"you've\", 'am', 'as', \"mustn't\", 'just', 'were', \"aren't\", 'weren', 'is', 'haven', 'off', 'himself', 'couldn', 'her', \"it's\", 'shan', 'what', 'that', 're', 'of', \"wasn't\", 'yourself', 'have', 'those', 'an', 'wouldn', 'more', 'to', 'needn', 'his', \"couldn't\", 'nor', 'but', 'very', 'being', 'aren', 'in', 'while', 'did', 'out', 'who', 'some', 'don', \"shan't\", 'under', 'when', 'further', 'each', 'over', \"weren't\", 'doesn', 'other', 'until', 'for', 'then', 'why', 'hasn', 'll', 'or', 'how', \"doesn't\", \"you'd\", 'all', 'herself', 'y', 'by', 'from', 'which', 'had', 'whom', 'mightn', \"wouldn't\", 'with', 'ma', 'be', \"didn't\", 'after', 'theirs', 'mustn', 't', 'my', 'them', 'are', 'few', 'both', 'once', 'me', 's', 'it', 'about'}\n"
     ]
    }
   ],
   "source": [
    "from nltk.corpus import stopwords \n",
    "from nltk.tokenize import word_tokenize\n",
    "\n",
    "stop_words = set(stopwords.words('english')) - {'into', 'against', 'myself', 'doing', 'own', 'above', 'our', 'now', 'up', 'down', 'been', 'not', 'no', 'would', 'should', 'again', 'won', 'if', 'only', 'yours', 'your', 'you', 'ours', 'here', 'there', 'below', 'before'}\n",
    "print(stop_words)"
   ]
  },
  {
   "cell_type": "code",
   "execution_count": 53,
   "id": "4f01a0be",
   "metadata": {
    "hidden": true
   },
   "outputs": [],
   "source": [
    "def remove_stopwords(text):\n",
    "    word_tokens = word_tokenize(text) \n",
    "    word_list = [w for w in word_tokens if not w in stop_words]\n",
    "    return ' '.join(word_list)"
   ]
  },
  {
   "cell_type": "code",
   "execution_count": 54,
   "id": "4412bcd8",
   "metadata": {
    "hidden": true
   },
   "outputs": [],
   "source": [
    "df_preproc['simple_clean_text'] = df_preproc['preproc_text'].apply(remove_stopwords)"
   ]
  },
  {
   "cell_type": "code",
   "execution_count": 55,
   "id": "0ae349c5",
   "metadata": {
    "hidden": true
   },
   "outputs": [
    {
     "data": {
      "text/html": [
       "<div>\n",
       "<style scoped>\n",
       "    .dataframe tbody tr th:only-of-type {\n",
       "        vertical-align: middle;\n",
       "    }\n",
       "\n",
       "    .dataframe tbody tr th {\n",
       "        vertical-align: top;\n",
       "    }\n",
       "\n",
       "    .dataframe thead th {\n",
       "        text-align: right;\n",
       "    }\n",
       "</style>\n",
       "<table border=\"1\" class=\"dataframe\">\n",
       "  <thead>\n",
       "    <tr style=\"text-align: right;\">\n",
       "      <th></th>\n",
       "      <th>Unnamed: 0</th>\n",
       "      <th>text</th>\n",
       "      <th>word_label</th>\n",
       "      <th>source</th>\n",
       "      <th>preproc_text</th>\n",
       "      <th>simple_clean_text</th>\n",
       "    </tr>\n",
       "  </thead>\n",
       "  <tbody>\n",
       "    <tr>\n",
       "      <th>0</th>\n",
       "      <td>0</td>\n",
       "      <td>i didnt feel humiliated</td>\n",
       "      <td>sad</td>\n",
       "      <td>HuggingFace</td>\n",
       "      <td>i didnt feel humiliated</td>\n",
       "      <td>didnt feel humiliated</td>\n",
       "    </tr>\n",
       "    <tr>\n",
       "      <th>1</th>\n",
       "      <td>1</td>\n",
       "      <td>i can go from feeling so hopeless to so damned...</td>\n",
       "      <td>sad</td>\n",
       "      <td>HuggingFace</td>\n",
       "      <td>i can go from feeling so hopeless to so damned...</td>\n",
       "      <td>go feeling hopeless damned hopeful around some...</td>\n",
       "    </tr>\n",
       "    <tr>\n",
       "      <th>2</th>\n",
       "      <td>2</td>\n",
       "      <td>im grabbing a minute to post i feel greedy wrong</td>\n",
       "      <td>angry</td>\n",
       "      <td>HuggingFace</td>\n",
       "      <td>im grabbing a minute to post i feel greedy wrong</td>\n",
       "      <td>im grabbing minute post feel greedy wrong</td>\n",
       "    </tr>\n",
       "    <tr>\n",
       "      <th>3</th>\n",
       "      <td>4</td>\n",
       "      <td>i am feeling grouchy</td>\n",
       "      <td>angry</td>\n",
       "      <td>HuggingFace</td>\n",
       "      <td>i am feeling grouchy</td>\n",
       "      <td>feeling grouchy</td>\n",
       "    </tr>\n",
       "    <tr>\n",
       "      <th>4</th>\n",
       "      <td>5</td>\n",
       "      <td>ive been feeling a little burdened lately wasn...</td>\n",
       "      <td>sad</td>\n",
       "      <td>HuggingFace</td>\n",
       "      <td>ive been feeling a little burdened lately wasn...</td>\n",
       "      <td>ive been feeling little burdened lately wasnt ...</td>\n",
       "    </tr>\n",
       "    <tr>\n",
       "      <th>...</th>\n",
       "      <td>...</td>\n",
       "      <td>...</td>\n",
       "      <td>...</td>\n",
       "      <td>...</td>\n",
       "      <td>...</td>\n",
       "      <td>...</td>\n",
       "    </tr>\n",
       "    <tr>\n",
       "      <th>35547</th>\n",
       "      <td>12271</td>\n",
       "      <td>It's a money thing, we don't have any.</td>\n",
       "      <td>sad</td>\n",
       "      <td>MELD-Friends</td>\n",
       "      <td>its a money thing we dont have any</td>\n",
       "      <td>money thing dont</td>\n",
       "    </tr>\n",
       "    <tr>\n",
       "      <th>35548</th>\n",
       "      <td>12272</td>\n",
       "      <td>Uh, hang out?! How long?</td>\n",
       "      <td>sad</td>\n",
       "      <td>MELD-Friends</td>\n",
       "      <td>uh hang out how long</td>\n",
       "      <td>uh hang long</td>\n",
       "    </tr>\n",
       "    <tr>\n",
       "      <th>35549</th>\n",
       "      <td>12273</td>\n",
       "      <td>A week?</td>\n",
       "      <td>angry</td>\n",
       "      <td>MELD-Friends</td>\n",
       "      <td>a week</td>\n",
       "      <td>week</td>\n",
       "    </tr>\n",
       "    <tr>\n",
       "      <th>35550</th>\n",
       "      <td>12274</td>\n",
       "      <td>No!</td>\n",
       "      <td>angry</td>\n",
       "      <td>MELD-Friends</td>\n",
       "      <td>no</td>\n",
       "      <td>no</td>\n",
       "    </tr>\n",
       "    <tr>\n",
       "      <th>35551</th>\n",
       "      <td>12275</td>\n",
       "      <td>Thanks.   Congratulations on your big break.</td>\n",
       "      <td>sad</td>\n",
       "      <td>MELD-Friends</td>\n",
       "      <td>thanks   congratulations on your big break</td>\n",
       "      <td>thanks congratulations your big break</td>\n",
       "    </tr>\n",
       "  </tbody>\n",
       "</table>\n",
       "<p>35552 rows × 6 columns</p>\n",
       "</div>"
      ],
      "text/plain": [
       "       Unnamed: 0                                               text  \\\n",
       "0               0                            i didnt feel humiliated   \n",
       "1               1  i can go from feeling so hopeless to so damned...   \n",
       "2               2   im grabbing a minute to post i feel greedy wrong   \n",
       "3               4                               i am feeling grouchy   \n",
       "4               5  ive been feeling a little burdened lately wasn...   \n",
       "...           ...                                                ...   \n",
       "35547       12271             It's a money thing, we don't have any.   \n",
       "35548       12272                           Uh, hang out?! How long?   \n",
       "35549       12273                                            A week?   \n",
       "35550       12274                                                No!   \n",
       "35551       12275       Thanks.   Congratulations on your big break.   \n",
       "\n",
       "      word_label        source  \\\n",
       "0            sad   HuggingFace   \n",
       "1            sad   HuggingFace   \n",
       "2          angry   HuggingFace   \n",
       "3          angry   HuggingFace   \n",
       "4            sad   HuggingFace   \n",
       "...          ...           ...   \n",
       "35547        sad  MELD-Friends   \n",
       "35548        sad  MELD-Friends   \n",
       "35549      angry  MELD-Friends   \n",
       "35550      angry  MELD-Friends   \n",
       "35551        sad  MELD-Friends   \n",
       "\n",
       "                                            preproc_text  \\\n",
       "0                                i didnt feel humiliated   \n",
       "1      i can go from feeling so hopeless to so damned...   \n",
       "2       im grabbing a minute to post i feel greedy wrong   \n",
       "3                                   i am feeling grouchy   \n",
       "4      ive been feeling a little burdened lately wasn...   \n",
       "...                                                  ...   \n",
       "35547                 its a money thing we dont have any   \n",
       "35548                               uh hang out how long   \n",
       "35549                                             a week   \n",
       "35550                                                 no   \n",
       "35551         thanks   congratulations on your big break   \n",
       "\n",
       "                                       simple_clean_text  \n",
       "0                                  didnt feel humiliated  \n",
       "1      go feeling hopeless damned hopeful around some...  \n",
       "2              im grabbing minute post feel greedy wrong  \n",
       "3                                        feeling grouchy  \n",
       "4      ive been feeling little burdened lately wasnt ...  \n",
       "...                                                  ...  \n",
       "35547                                   money thing dont  \n",
       "35548                                       uh hang long  \n",
       "35549                                               week  \n",
       "35550                                                 no  \n",
       "35551              thanks congratulations your big break  \n",
       "\n",
       "[35552 rows x 6 columns]"
      ]
     },
     "execution_count": 55,
     "metadata": {},
     "output_type": "execute_result"
    }
   ],
   "source": [
    "df_preproc"
   ]
  },
  {
   "cell_type": "markdown",
   "id": "fb11b675",
   "metadata": {
    "hidden": true
   },
   "source": [
    "### Combined Function"
   ]
  },
  {
   "cell_type": "code",
   "execution_count": 57,
   "id": "5473d1c8",
   "metadata": {
    "hidden": true
   },
   "outputs": [],
   "source": [
    "import re\n",
    "import string\n",
    "from nltk.corpus import stopwords \n",
    "from nltk.tokenize import word_tokenize\n",
    "from nltk.stem import WordNetLemmatizer\n",
    "lemmatizer = WordNetLemmatizer()\n",
    "\n",
    "stop_words = set(stopwords.words('english')) - {'into', 'against', 'myself', 'doing', 'own', 'above', 'our',\n",
    "                                                'now', 'up', 'down', 'been', 'not', 'no', 'would', 'should',\n",
    "                                                'again', 'won', 'if', 'only', 'yours', 'your', 'you', 'ours',\n",
    "                                                'here', 'there', 'below', 'before'}\n",
    "\n",
    "def clean(text):\n",
    "    # lowercase\n",
    "    new_text = text.lower()\n",
    "    \n",
    "    # remove twitter handles\n",
    "    new_text = re.sub(r\"@\\w+\", '', new_text)\n",
    "    \n",
    "    # remove punctuation \n",
    "    for punctuation in string.punctuation:\n",
    "        new_text = new_text.replace(punctuation, '')\n",
    "\n",
    "    # remove numbers\n",
    "    new_text = ''.join(word for word in new_text if not word.isdigit())\n",
    "    \n",
    "    return new_text\n",
    "\n",
    "def remove_stopwords(text):\n",
    "    word_list = [word for word in word_tokenize(text) if not word in stop_words]\n",
    "    return ' '.join(word_list)\n",
    "\n",
    "def lemma_text(text):\n",
    "    lemmatized = [lemmatizer.lemmatize(word) for word in word_tokenize(text)]\n",
    "    return ' '.join(lemmatized)"
   ]
  },
  {
   "cell_type": "code",
   "execution_count": 58,
   "id": "c691986a",
   "metadata": {
    "hidden": true
   },
   "outputs": [
    {
     "data": {
      "text/html": [
       "<div>\n",
       "<style scoped>\n",
       "    .dataframe tbody tr th:only-of-type {\n",
       "        vertical-align: middle;\n",
       "    }\n",
       "\n",
       "    .dataframe tbody tr th {\n",
       "        vertical-align: top;\n",
       "    }\n",
       "\n",
       "    .dataframe thead th {\n",
       "        text-align: right;\n",
       "    }\n",
       "</style>\n",
       "<table border=\"1\" class=\"dataframe\">\n",
       "  <thead>\n",
       "    <tr style=\"text-align: right;\">\n",
       "      <th></th>\n",
       "      <th>Unnamed: 0</th>\n",
       "      <th>text</th>\n",
       "      <th>word_label</th>\n",
       "      <th>source</th>\n",
       "      <th>clean_text</th>\n",
       "    </tr>\n",
       "  </thead>\n",
       "  <tbody>\n",
       "    <tr>\n",
       "      <th>0</th>\n",
       "      <td>0</td>\n",
       "      <td>i didnt feel humiliated</td>\n",
       "      <td>sad</td>\n",
       "      <td>HuggingFace</td>\n",
       "      <td>i didnt feel humiliated</td>\n",
       "    </tr>\n",
       "    <tr>\n",
       "      <th>1</th>\n",
       "      <td>1</td>\n",
       "      <td>i can go from feeling so hopeless to so damned...</td>\n",
       "      <td>sad</td>\n",
       "      <td>HuggingFace</td>\n",
       "      <td>i can go from feeling so hopeless to so damned...</td>\n",
       "    </tr>\n",
       "    <tr>\n",
       "      <th>2</th>\n",
       "      <td>2</td>\n",
       "      <td>im grabbing a minute to post i feel greedy wrong</td>\n",
       "      <td>angry</td>\n",
       "      <td>HuggingFace</td>\n",
       "      <td>im grabbing a minute to post i feel greedy wrong</td>\n",
       "    </tr>\n",
       "    <tr>\n",
       "      <th>3</th>\n",
       "      <td>4</td>\n",
       "      <td>i am feeling grouchy</td>\n",
       "      <td>angry</td>\n",
       "      <td>HuggingFace</td>\n",
       "      <td>i am feeling grouchy</td>\n",
       "    </tr>\n",
       "    <tr>\n",
       "      <th>4</th>\n",
       "      <td>5</td>\n",
       "      <td>ive been feeling a little burdened lately wasn...</td>\n",
       "      <td>sad</td>\n",
       "      <td>HuggingFace</td>\n",
       "      <td>ive been feeling a little burdened lately wasn...</td>\n",
       "    </tr>\n",
       "    <tr>\n",
       "      <th>...</th>\n",
       "      <td>...</td>\n",
       "      <td>...</td>\n",
       "      <td>...</td>\n",
       "      <td>...</td>\n",
       "      <td>...</td>\n",
       "    </tr>\n",
       "    <tr>\n",
       "      <th>35547</th>\n",
       "      <td>12271</td>\n",
       "      <td>It's a money thing, we don't have any.</td>\n",
       "      <td>sad</td>\n",
       "      <td>MELD-Friends</td>\n",
       "      <td>its a money thing we dont have any</td>\n",
       "    </tr>\n",
       "    <tr>\n",
       "      <th>35548</th>\n",
       "      <td>12272</td>\n",
       "      <td>Uh, hang out?! How long?</td>\n",
       "      <td>sad</td>\n",
       "      <td>MELD-Friends</td>\n",
       "      <td>uh hang out how long</td>\n",
       "    </tr>\n",
       "    <tr>\n",
       "      <th>35549</th>\n",
       "      <td>12273</td>\n",
       "      <td>A week?</td>\n",
       "      <td>angry</td>\n",
       "      <td>MELD-Friends</td>\n",
       "      <td>a week</td>\n",
       "    </tr>\n",
       "    <tr>\n",
       "      <th>35550</th>\n",
       "      <td>12274</td>\n",
       "      <td>No!</td>\n",
       "      <td>angry</td>\n",
       "      <td>MELD-Friends</td>\n",
       "      <td>no</td>\n",
       "    </tr>\n",
       "    <tr>\n",
       "      <th>35551</th>\n",
       "      <td>12275</td>\n",
       "      <td>Thanks.   Congratulations on your big break.</td>\n",
       "      <td>sad</td>\n",
       "      <td>MELD-Friends</td>\n",
       "      <td>thanks   congratulations on your big break</td>\n",
       "    </tr>\n",
       "  </tbody>\n",
       "</table>\n",
       "<p>35552 rows × 5 columns</p>\n",
       "</div>"
      ],
      "text/plain": [
       "       Unnamed: 0                                               text  \\\n",
       "0               0                            i didnt feel humiliated   \n",
       "1               1  i can go from feeling so hopeless to so damned...   \n",
       "2               2   im grabbing a minute to post i feel greedy wrong   \n",
       "3               4                               i am feeling grouchy   \n",
       "4               5  ive been feeling a little burdened lately wasn...   \n",
       "...           ...                                                ...   \n",
       "35547       12271             It's a money thing, we don't have any.   \n",
       "35548       12272                           Uh, hang out?! How long?   \n",
       "35549       12273                                            A week?   \n",
       "35550       12274                                                No!   \n",
       "35551       12275       Thanks.   Congratulations on your big break.   \n",
       "\n",
       "      word_label        source  \\\n",
       "0            sad   HuggingFace   \n",
       "1            sad   HuggingFace   \n",
       "2          angry   HuggingFace   \n",
       "3          angry   HuggingFace   \n",
       "4            sad   HuggingFace   \n",
       "...          ...           ...   \n",
       "35547        sad  MELD-Friends   \n",
       "35548        sad  MELD-Friends   \n",
       "35549      angry  MELD-Friends   \n",
       "35550      angry  MELD-Friends   \n",
       "35551        sad  MELD-Friends   \n",
       "\n",
       "                                              clean_text  \n",
       "0                                i didnt feel humiliated  \n",
       "1      i can go from feeling so hopeless to so damned...  \n",
       "2       im grabbing a minute to post i feel greedy wrong  \n",
       "3                                   i am feeling grouchy  \n",
       "4      ive been feeling a little burdened lately wasn...  \n",
       "...                                                  ...  \n",
       "35547                 its a money thing we dont have any  \n",
       "35548                               uh hang out how long  \n",
       "35549                                             a week  \n",
       "35550                                                 no  \n",
       "35551         thanks   congratulations on your big break  \n",
       "\n",
       "[35552 rows x 5 columns]"
      ]
     },
     "execution_count": 58,
     "metadata": {},
     "output_type": "execute_result"
    }
   ],
   "source": [
    "df_pre = df.copy()\n",
    "df_pre['clean_text'] = df_pre['text'].apply(clean)\n",
    "df_pre"
   ]
  },
  {
   "cell_type": "code",
   "execution_count": 59,
   "id": "27c2c4ac",
   "metadata": {
    "hidden": true
   },
   "outputs": [
    {
     "data": {
      "text/html": [
       "<div>\n",
       "<style scoped>\n",
       "    .dataframe tbody tr th:only-of-type {\n",
       "        vertical-align: middle;\n",
       "    }\n",
       "\n",
       "    .dataframe tbody tr th {\n",
       "        vertical-align: top;\n",
       "    }\n",
       "\n",
       "    .dataframe thead th {\n",
       "        text-align: right;\n",
       "    }\n",
       "</style>\n",
       "<table border=\"1\" class=\"dataframe\">\n",
       "  <thead>\n",
       "    <tr style=\"text-align: right;\">\n",
       "      <th></th>\n",
       "      <th>Unnamed: 0</th>\n",
       "      <th>text</th>\n",
       "      <th>word_label</th>\n",
       "      <th>source</th>\n",
       "      <th>clean_text</th>\n",
       "      <th>simplified_text</th>\n",
       "    </tr>\n",
       "  </thead>\n",
       "  <tbody>\n",
       "    <tr>\n",
       "      <th>0</th>\n",
       "      <td>0</td>\n",
       "      <td>i didnt feel humiliated</td>\n",
       "      <td>sad</td>\n",
       "      <td>HuggingFace</td>\n",
       "      <td>i didnt feel humiliated</td>\n",
       "      <td>didnt feel humiliated</td>\n",
       "    </tr>\n",
       "    <tr>\n",
       "      <th>1</th>\n",
       "      <td>1</td>\n",
       "      <td>i can go from feeling so hopeless to so damned...</td>\n",
       "      <td>sad</td>\n",
       "      <td>HuggingFace</td>\n",
       "      <td>i can go from feeling so hopeless to so damned...</td>\n",
       "      <td>go feeling hopeless damned hopeful around some...</td>\n",
       "    </tr>\n",
       "    <tr>\n",
       "      <th>2</th>\n",
       "      <td>2</td>\n",
       "      <td>im grabbing a minute to post i feel greedy wrong</td>\n",
       "      <td>angry</td>\n",
       "      <td>HuggingFace</td>\n",
       "      <td>im grabbing a minute to post i feel greedy wrong</td>\n",
       "      <td>im grabbing minute post feel greedy wrong</td>\n",
       "    </tr>\n",
       "    <tr>\n",
       "      <th>3</th>\n",
       "      <td>4</td>\n",
       "      <td>i am feeling grouchy</td>\n",
       "      <td>angry</td>\n",
       "      <td>HuggingFace</td>\n",
       "      <td>i am feeling grouchy</td>\n",
       "      <td>feeling grouchy</td>\n",
       "    </tr>\n",
       "    <tr>\n",
       "      <th>4</th>\n",
       "      <td>5</td>\n",
       "      <td>ive been feeling a little burdened lately wasn...</td>\n",
       "      <td>sad</td>\n",
       "      <td>HuggingFace</td>\n",
       "      <td>ive been feeling a little burdened lately wasn...</td>\n",
       "      <td>ive been feeling little burdened lately wasnt ...</td>\n",
       "    </tr>\n",
       "    <tr>\n",
       "      <th>...</th>\n",
       "      <td>...</td>\n",
       "      <td>...</td>\n",
       "      <td>...</td>\n",
       "      <td>...</td>\n",
       "      <td>...</td>\n",
       "      <td>...</td>\n",
       "    </tr>\n",
       "    <tr>\n",
       "      <th>35547</th>\n",
       "      <td>12271</td>\n",
       "      <td>It's a money thing, we don't have any.</td>\n",
       "      <td>sad</td>\n",
       "      <td>MELD-Friends</td>\n",
       "      <td>its a money thing we dont have any</td>\n",
       "      <td>money thing dont</td>\n",
       "    </tr>\n",
       "    <tr>\n",
       "      <th>35548</th>\n",
       "      <td>12272</td>\n",
       "      <td>Uh, hang out?! How long?</td>\n",
       "      <td>sad</td>\n",
       "      <td>MELD-Friends</td>\n",
       "      <td>uh hang out how long</td>\n",
       "      <td>uh hang long</td>\n",
       "    </tr>\n",
       "    <tr>\n",
       "      <th>35549</th>\n",
       "      <td>12273</td>\n",
       "      <td>A week?</td>\n",
       "      <td>angry</td>\n",
       "      <td>MELD-Friends</td>\n",
       "      <td>a week</td>\n",
       "      <td>week</td>\n",
       "    </tr>\n",
       "    <tr>\n",
       "      <th>35550</th>\n",
       "      <td>12274</td>\n",
       "      <td>No!</td>\n",
       "      <td>angry</td>\n",
       "      <td>MELD-Friends</td>\n",
       "      <td>no</td>\n",
       "      <td>no</td>\n",
       "    </tr>\n",
       "    <tr>\n",
       "      <th>35551</th>\n",
       "      <td>12275</td>\n",
       "      <td>Thanks.   Congratulations on your big break.</td>\n",
       "      <td>sad</td>\n",
       "      <td>MELD-Friends</td>\n",
       "      <td>thanks   congratulations on your big break</td>\n",
       "      <td>thanks congratulations your big break</td>\n",
       "    </tr>\n",
       "  </tbody>\n",
       "</table>\n",
       "<p>35552 rows × 6 columns</p>\n",
       "</div>"
      ],
      "text/plain": [
       "       Unnamed: 0                                               text  \\\n",
       "0               0                            i didnt feel humiliated   \n",
       "1               1  i can go from feeling so hopeless to so damned...   \n",
       "2               2   im grabbing a minute to post i feel greedy wrong   \n",
       "3               4                               i am feeling grouchy   \n",
       "4               5  ive been feeling a little burdened lately wasn...   \n",
       "...           ...                                                ...   \n",
       "35547       12271             It's a money thing, we don't have any.   \n",
       "35548       12272                           Uh, hang out?! How long?   \n",
       "35549       12273                                            A week?   \n",
       "35550       12274                                                No!   \n",
       "35551       12275       Thanks.   Congratulations on your big break.   \n",
       "\n",
       "      word_label        source  \\\n",
       "0            sad   HuggingFace   \n",
       "1            sad   HuggingFace   \n",
       "2          angry   HuggingFace   \n",
       "3          angry   HuggingFace   \n",
       "4            sad   HuggingFace   \n",
       "...          ...           ...   \n",
       "35547        sad  MELD-Friends   \n",
       "35548        sad  MELD-Friends   \n",
       "35549      angry  MELD-Friends   \n",
       "35550      angry  MELD-Friends   \n",
       "35551        sad  MELD-Friends   \n",
       "\n",
       "                                              clean_text  \\\n",
       "0                                i didnt feel humiliated   \n",
       "1      i can go from feeling so hopeless to so damned...   \n",
       "2       im grabbing a minute to post i feel greedy wrong   \n",
       "3                                   i am feeling grouchy   \n",
       "4      ive been feeling a little burdened lately wasn...   \n",
       "...                                                  ...   \n",
       "35547                 its a money thing we dont have any   \n",
       "35548                               uh hang out how long   \n",
       "35549                                             a week   \n",
       "35550                                                 no   \n",
       "35551         thanks   congratulations on your big break   \n",
       "\n",
       "                                         simplified_text  \n",
       "0                                  didnt feel humiliated  \n",
       "1      go feeling hopeless damned hopeful around some...  \n",
       "2              im grabbing minute post feel greedy wrong  \n",
       "3                                        feeling grouchy  \n",
       "4      ive been feeling little burdened lately wasnt ...  \n",
       "...                                                  ...  \n",
       "35547                                   money thing dont  \n",
       "35548                                       uh hang long  \n",
       "35549                                               week  \n",
       "35550                                                 no  \n",
       "35551              thanks congratulations your big break  \n",
       "\n",
       "[35552 rows x 6 columns]"
      ]
     },
     "execution_count": 59,
     "metadata": {},
     "output_type": "execute_result"
    }
   ],
   "source": [
    "df_pre['simplified_text'] = df_pre['clean_text'].apply(remove_stopwords)\n",
    "df_pre"
   ]
  },
  {
   "cell_type": "markdown",
   "id": "90892ae8",
   "metadata": {
    "heading_collapsed": true
   },
   "source": [
    "## Add angry data from Google Reddit Dataset"
   ]
  },
  {
   "cell_type": "code",
   "execution_count": 60,
   "id": "f7850cc0",
   "metadata": {
    "hidden": true
   },
   "outputs": [
    {
     "data": {
      "text/html": [
       "<div>\n",
       "<style scoped>\n",
       "    .dataframe tbody tr th:only-of-type {\n",
       "        vertical-align: middle;\n",
       "    }\n",
       "\n",
       "    .dataframe tbody tr th {\n",
       "        vertical-align: top;\n",
       "    }\n",
       "\n",
       "    .dataframe thead th {\n",
       "        text-align: right;\n",
       "    }\n",
       "</style>\n",
       "<table border=\"1\" class=\"dataframe\">\n",
       "  <thead>\n",
       "    <tr style=\"text-align: right;\">\n",
       "      <th></th>\n",
       "      <th>Unnamed: 0</th>\n",
       "      <th>text</th>\n",
       "      <th>word_label</th>\n",
       "      <th>source</th>\n",
       "      <th>clean_text</th>\n",
       "      <th>simplified_text</th>\n",
       "      <th>clean_lemmas</th>\n",
       "      <th>simplified_lemmas</th>\n",
       "    </tr>\n",
       "  </thead>\n",
       "  <tbody>\n",
       "    <tr>\n",
       "      <th>0</th>\n",
       "      <td>0</td>\n",
       "      <td>i didnt feel humiliated</td>\n",
       "      <td>sad</td>\n",
       "      <td>HuggingFace</td>\n",
       "      <td>i didnt feel humiliated</td>\n",
       "      <td>didnt feel humiliated</td>\n",
       "      <td>i didnt feel humiliated</td>\n",
       "      <td>didnt feel humiliated</td>\n",
       "    </tr>\n",
       "    <tr>\n",
       "      <th>1</th>\n",
       "      <td>1</td>\n",
       "      <td>i can go from feeling so hopeless to so damned...</td>\n",
       "      <td>sad</td>\n",
       "      <td>HuggingFace</td>\n",
       "      <td>i can go from feeling so hopeless to so damned...</td>\n",
       "      <td>go feeling hopeless damned hopeful around some...</td>\n",
       "      <td>i can go from feeling so hopeless to so damned...</td>\n",
       "      <td>go feeling hopeless damned hopeful around some...</td>\n",
       "    </tr>\n",
       "    <tr>\n",
       "      <th>2</th>\n",
       "      <td>2</td>\n",
       "      <td>im grabbing a minute to post i feel greedy wrong</td>\n",
       "      <td>angry</td>\n",
       "      <td>HuggingFace</td>\n",
       "      <td>im grabbing a minute to post i feel greedy wrong</td>\n",
       "      <td>im grabbing minute post feel greedy wrong</td>\n",
       "      <td>im grabbing a minute to post i feel greedy wrong</td>\n",
       "      <td>im grabbing minute post feel greedy wrong</td>\n",
       "    </tr>\n",
       "    <tr>\n",
       "      <th>3</th>\n",
       "      <td>4</td>\n",
       "      <td>i am feeling grouchy</td>\n",
       "      <td>angry</td>\n",
       "      <td>HuggingFace</td>\n",
       "      <td>i am feeling grouchy</td>\n",
       "      <td>feeling grouchy</td>\n",
       "      <td>i am feeling grouchy</td>\n",
       "      <td>feeling grouchy</td>\n",
       "    </tr>\n",
       "    <tr>\n",
       "      <th>4</th>\n",
       "      <td>5</td>\n",
       "      <td>ive been feeling a little burdened lately wasn...</td>\n",
       "      <td>sad</td>\n",
       "      <td>HuggingFace</td>\n",
       "      <td>ive been feeling a little burdened lately wasn...</td>\n",
       "      <td>ive been feeling little burdened lately wasnt ...</td>\n",
       "      <td>ive been feeling a little burdened lately wasn...</td>\n",
       "      <td>ive been feeling little burdened lately wasnt ...</td>\n",
       "    </tr>\n",
       "    <tr>\n",
       "      <th>...</th>\n",
       "      <td>...</td>\n",
       "      <td>...</td>\n",
       "      <td>...</td>\n",
       "      <td>...</td>\n",
       "      <td>...</td>\n",
       "      <td>...</td>\n",
       "      <td>...</td>\n",
       "      <td>...</td>\n",
       "    </tr>\n",
       "    <tr>\n",
       "      <th>35547</th>\n",
       "      <td>12271</td>\n",
       "      <td>It's a money thing, we don't have any.</td>\n",
       "      <td>sad</td>\n",
       "      <td>MELD-Friends</td>\n",
       "      <td>its a money thing we dont have any</td>\n",
       "      <td>money thing dont</td>\n",
       "      <td>it a money thing we dont have any</td>\n",
       "      <td>money thing dont</td>\n",
       "    </tr>\n",
       "    <tr>\n",
       "      <th>35548</th>\n",
       "      <td>12272</td>\n",
       "      <td>Uh, hang out?! How long?</td>\n",
       "      <td>sad</td>\n",
       "      <td>MELD-Friends</td>\n",
       "      <td>uh hang out how long</td>\n",
       "      <td>uh hang long</td>\n",
       "      <td>uh hang out how long</td>\n",
       "      <td>uh hang long</td>\n",
       "    </tr>\n",
       "    <tr>\n",
       "      <th>35549</th>\n",
       "      <td>12273</td>\n",
       "      <td>A week?</td>\n",
       "      <td>angry</td>\n",
       "      <td>MELD-Friends</td>\n",
       "      <td>a week</td>\n",
       "      <td>week</td>\n",
       "      <td>a week</td>\n",
       "      <td>week</td>\n",
       "    </tr>\n",
       "    <tr>\n",
       "      <th>35550</th>\n",
       "      <td>12274</td>\n",
       "      <td>No!</td>\n",
       "      <td>angry</td>\n",
       "      <td>MELD-Friends</td>\n",
       "      <td>no</td>\n",
       "      <td>no</td>\n",
       "      <td>no</td>\n",
       "      <td>no</td>\n",
       "    </tr>\n",
       "    <tr>\n",
       "      <th>35551</th>\n",
       "      <td>12275</td>\n",
       "      <td>Thanks.   Congratulations on your big break.</td>\n",
       "      <td>sad</td>\n",
       "      <td>MELD-Friends</td>\n",
       "      <td>thanks   congratulations on your big break</td>\n",
       "      <td>thanks congratulations your big break</td>\n",
       "      <td>thanks congratulation on your big break</td>\n",
       "      <td>thanks congratulation your big break</td>\n",
       "    </tr>\n",
       "  </tbody>\n",
       "</table>\n",
       "<p>35552 rows × 8 columns</p>\n",
       "</div>"
      ],
      "text/plain": [
       "       Unnamed: 0                                               text  \\\n",
       "0               0                            i didnt feel humiliated   \n",
       "1               1  i can go from feeling so hopeless to so damned...   \n",
       "2               2   im grabbing a minute to post i feel greedy wrong   \n",
       "3               4                               i am feeling grouchy   \n",
       "4               5  ive been feeling a little burdened lately wasn...   \n",
       "...           ...                                                ...   \n",
       "35547       12271             It's a money thing, we don't have any.   \n",
       "35548       12272                           Uh, hang out?! How long?   \n",
       "35549       12273                                            A week?   \n",
       "35550       12274                                                No!   \n",
       "35551       12275       Thanks.   Congratulations on your big break.   \n",
       "\n",
       "      word_label        source  \\\n",
       "0            sad   HuggingFace   \n",
       "1            sad   HuggingFace   \n",
       "2          angry   HuggingFace   \n",
       "3          angry   HuggingFace   \n",
       "4            sad   HuggingFace   \n",
       "...          ...           ...   \n",
       "35547        sad  MELD-Friends   \n",
       "35548        sad  MELD-Friends   \n",
       "35549      angry  MELD-Friends   \n",
       "35550      angry  MELD-Friends   \n",
       "35551        sad  MELD-Friends   \n",
       "\n",
       "                                              clean_text  \\\n",
       "0                                i didnt feel humiliated   \n",
       "1      i can go from feeling so hopeless to so damned...   \n",
       "2       im grabbing a minute to post i feel greedy wrong   \n",
       "3                                   i am feeling grouchy   \n",
       "4      ive been feeling a little burdened lately wasn...   \n",
       "...                                                  ...   \n",
       "35547                 its a money thing we dont have any   \n",
       "35548                               uh hang out how long   \n",
       "35549                                             a week   \n",
       "35550                                                 no   \n",
       "35551         thanks   congratulations on your big break   \n",
       "\n",
       "                                         simplified_text  \\\n",
       "0                                  didnt feel humiliated   \n",
       "1      go feeling hopeless damned hopeful around some...   \n",
       "2              im grabbing minute post feel greedy wrong   \n",
       "3                                        feeling grouchy   \n",
       "4      ive been feeling little burdened lately wasnt ...   \n",
       "...                                                  ...   \n",
       "35547                                   money thing dont   \n",
       "35548                                       uh hang long   \n",
       "35549                                               week   \n",
       "35550                                                 no   \n",
       "35551              thanks congratulations your big break   \n",
       "\n",
       "                                            clean_lemmas  \\\n",
       "0                                i didnt feel humiliated   \n",
       "1      i can go from feeling so hopeless to so damned...   \n",
       "2       im grabbing a minute to post i feel greedy wrong   \n",
       "3                                   i am feeling grouchy   \n",
       "4      ive been feeling a little burdened lately wasn...   \n",
       "...                                                  ...   \n",
       "35547                  it a money thing we dont have any   \n",
       "35548                               uh hang out how long   \n",
       "35549                                             a week   \n",
       "35550                                                 no   \n",
       "35551            thanks congratulation on your big break   \n",
       "\n",
       "                                       simplified_lemmas  \n",
       "0                                  didnt feel humiliated  \n",
       "1      go feeling hopeless damned hopeful around some...  \n",
       "2              im grabbing minute post feel greedy wrong  \n",
       "3                                        feeling grouchy  \n",
       "4      ive been feeling little burdened lately wasnt ...  \n",
       "...                                                  ...  \n",
       "35547                                   money thing dont  \n",
       "35548                                       uh hang long  \n",
       "35549                                               week  \n",
       "35550                                                 no  \n",
       "35551               thanks congratulation your big break  \n",
       "\n",
       "[35552 rows x 8 columns]"
      ]
     },
     "execution_count": 60,
     "metadata": {},
     "output_type": "execute_result"
    }
   ],
   "source": [
    "df_pre['clean_lemmas'] = df_pre['clean_text'].apply(lemma_text)\n",
    "df_pre['simplified_lemmas'] = df_pre['simplified_text'].apply(lemma_text)\n",
    "df_pre"
   ]
  },
  {
   "cell_type": "code",
   "execution_count": 2,
   "id": "b8c914ba",
   "metadata": {
    "hidden": true
   },
   "outputs": [],
   "source": [
    "import pandas as pd"
   ]
  },
  {
   "cell_type": "code",
   "execution_count": 6,
   "id": "f52d9081",
   "metadata": {
    "hidden": true,
    "scrolled": true
   },
   "outputs": [],
   "source": [
    "google_df = pd.read_excel(\"../raw_data/emotion_data/google_reddit_emotion_data.xls\")"
   ]
  },
  {
   "cell_type": "code",
   "execution_count": 22,
   "id": "88cb4757",
   "metadata": {
    "hidden": true
   },
   "outputs": [],
   "source": [
    "google_df.drop(columns=['emotion_4', 'emotion_5'], inplace=True)"
   ]
  },
  {
   "cell_type": "code",
   "execution_count": 26,
   "id": "e4d72f81",
   "metadata": {
    "hidden": true
   },
   "outputs": [],
   "source": [
    "google_angry = google_df[google_df['emotion_3'].isin([2,3,10])]"
   ]
  },
  {
   "cell_type": "code",
   "execution_count": 28,
   "id": "a46ace3d",
   "metadata": {
    "hidden": true
   },
   "outputs": [],
   "source": [
    "google_angry = google_angry.append(google_df[google_df['emotion_2'].isin([2,3,10])])"
   ]
  },
  {
   "cell_type": "code",
   "execution_count": 29,
   "id": "33862fdb",
   "metadata": {
    "hidden": true
   },
   "outputs": [],
   "source": [
    "google_angry = google_angry.append(google_df[google_df['emotion_1'].isin([2,3,10])])"
   ]
  },
  {
   "cell_type": "code",
   "execution_count": 32,
   "id": "2e026259",
   "metadata": {
    "hidden": true
   },
   "outputs": [
    {
     "data": {
      "text/plain": [
       "484"
      ]
     },
     "execution_count": 32,
     "metadata": {},
     "output_type": "execute_result"
    }
   ],
   "source": [
    "google_angry.duplicated().sum()"
   ]
  },
  {
   "cell_type": "code",
   "execution_count": 33,
   "id": "20a11f75",
   "metadata": {
    "hidden": true
   },
   "outputs": [],
   "source": [
    "google_angry.drop_duplicates(inplace=True)"
   ]
  },
  {
   "cell_type": "code",
   "execution_count": 36,
   "id": "ba910eb5",
   "metadata": {
    "hidden": true
   },
   "outputs": [],
   "source": [
    "google_angry.reset_index(inplace=True, drop=True)"
   ]
  },
  {
   "cell_type": "code",
   "execution_count": 37,
   "id": "94548530",
   "metadata": {
    "hidden": true
   },
   "outputs": [
    {
     "data": {
      "text/html": [
       "<div>\n",
       "<style scoped>\n",
       "    .dataframe tbody tr th:only-of-type {\n",
       "        vertical-align: middle;\n",
       "    }\n",
       "\n",
       "    .dataframe tbody tr th {\n",
       "        vertical-align: top;\n",
       "    }\n",
       "\n",
       "    .dataframe thead th {\n",
       "        text-align: right;\n",
       "    }\n",
       "</style>\n",
       "<table border=\"1\" class=\"dataframe\">\n",
       "  <thead>\n",
       "    <tr style=\"text-align: right;\">\n",
       "      <th></th>\n",
       "      <th>text</th>\n",
       "      <th>emotion_1</th>\n",
       "      <th>emotion_2</th>\n",
       "      <th>emotion_3</th>\n",
       "    </tr>\n",
       "  </thead>\n",
       "  <tbody>\n",
       "    <tr>\n",
       "      <th>0</th>\n",
       "      <td>- But mom! I don‚Äôt wanna go to school today!...</td>\n",
       "      <td>2</td>\n",
       "      <td>3.0</td>\n",
       "      <td>10.0</td>\n",
       "    </tr>\n",
       "    <tr>\n",
       "      <th>1</th>\n",
       "      <td>It's not his fault, it's your wife's. Shes the...</td>\n",
       "      <td>2</td>\n",
       "      <td>3.0</td>\n",
       "      <td>10.0</td>\n",
       "    </tr>\n",
       "    <tr>\n",
       "      <th>2</th>\n",
       "      <td>I'm not the disgusting. I take good care of he...</td>\n",
       "      <td>5</td>\n",
       "      <td>7.0</td>\n",
       "      <td>10.0</td>\n",
       "    </tr>\n",
       "    <tr>\n",
       "      <th>3</th>\n",
       "      <td>\"Feed the wars and fuck the poors\" is pretty m...</td>\n",
       "      <td>2</td>\n",
       "      <td>3.0</td>\n",
       "      <td>10.0</td>\n",
       "    </tr>\n",
       "    <tr>\n",
       "      <th>4</th>\n",
       "      <td>It‚Äôs amazing what they can justify to themse...</td>\n",
       "      <td>0</td>\n",
       "      <td>6.0</td>\n",
       "      <td>10.0</td>\n",
       "    </tr>\n",
       "    <tr>\n",
       "      <th>...</th>\n",
       "      <td>...</td>\n",
       "      <td>...</td>\n",
       "      <td>...</td>\n",
       "      <td>...</td>\n",
       "    </tr>\n",
       "    <tr>\n",
       "      <th>5570</th>\n",
       "      <td>There's doing stupid things when you're young....</td>\n",
       "      <td>3</td>\n",
       "      <td>NaN</td>\n",
       "      <td>NaN</td>\n",
       "    </tr>\n",
       "    <tr>\n",
       "      <th>5571</th>\n",
       "      <td>So now disabled people don‚Äôt have rights . Y...</td>\n",
       "      <td>2</td>\n",
       "      <td>9.0</td>\n",
       "      <td>NaN</td>\n",
       "    </tr>\n",
       "    <tr>\n",
       "      <th>5572</th>\n",
       "      <td>It is. I bet chantex and all the other 'quit s...</td>\n",
       "      <td>10</td>\n",
       "      <td>NaN</td>\n",
       "      <td>NaN</td>\n",
       "    </tr>\n",
       "    <tr>\n",
       "      <th>5573</th>\n",
       "      <td>[NAME] was half-blood but it wasn't a smart id...</td>\n",
       "      <td>10</td>\n",
       "      <td>NaN</td>\n",
       "      <td>NaN</td>\n",
       "    </tr>\n",
       "    <tr>\n",
       "      <th>5574</th>\n",
       "      <td>What are you talking about? Anything bad that ...</td>\n",
       "      <td>3</td>\n",
       "      <td>NaN</td>\n",
       "      <td>NaN</td>\n",
       "    </tr>\n",
       "  </tbody>\n",
       "</table>\n",
       "<p>5575 rows × 4 columns</p>\n",
       "</div>"
      ],
      "text/plain": [
       "                                                   text  emotion_1  emotion_2  \\\n",
       "0     - But mom! I don‚Äôt wanna go to school today!...          2        3.0   \n",
       "1     It's not his fault, it's your wife's. Shes the...          2        3.0   \n",
       "2     I'm not the disgusting. I take good care of he...          5        7.0   \n",
       "3     \"Feed the wars and fuck the poors\" is pretty m...          2        3.0   \n",
       "4     It‚Äôs amazing what they can justify to themse...          0        6.0   \n",
       "...                                                 ...        ...        ...   \n",
       "5570  There's doing stupid things when you're young....          3        NaN   \n",
       "5571  So now disabled people don‚Äôt have rights . Y...          2        9.0   \n",
       "5572  It is. I bet chantex and all the other 'quit s...         10        NaN   \n",
       "5573  [NAME] was half-blood but it wasn't a smart id...         10        NaN   \n",
       "5574  What are you talking about? Anything bad that ...          3        NaN   \n",
       "\n",
       "      emotion_3  \n",
       "0          10.0  \n",
       "1          10.0  \n",
       "2          10.0  \n",
       "3          10.0  \n",
       "4          10.0  \n",
       "...         ...  \n",
       "5570        NaN  \n",
       "5571        NaN  \n",
       "5572        NaN  \n",
       "5573        NaN  \n",
       "5574        NaN  \n",
       "\n",
       "[5575 rows x 4 columns]"
      ]
     },
     "execution_count": 37,
     "metadata": {},
     "output_type": "execute_result"
    }
   ],
   "source": [
    "google_angry"
   ]
  },
  {
   "cell_type": "code",
   "execution_count": 38,
   "id": "c9d4c255",
   "metadata": {
    "hidden": true
   },
   "outputs": [],
   "source": [
    "google_angry_df = google_angry.copy()[['text']]"
   ]
  },
  {
   "cell_type": "code",
   "execution_count": 41,
   "id": "c27d222c",
   "metadata": {
    "hidden": true
   },
   "outputs": [],
   "source": [
    "google_angry_df['word_label'] = 'angry'"
   ]
  },
  {
   "cell_type": "code",
   "execution_count": 42,
   "id": "7422081e",
   "metadata": {
    "hidden": true
   },
   "outputs": [],
   "source": [
    "google_angry_df['source'] = 'Google_GoEmotions'"
   ]
  },
  {
   "cell_type": "code",
   "execution_count": 46,
   "id": "0e0f10d2",
   "metadata": {
    "hidden": true
   },
   "outputs": [
    {
     "data": {
      "text/plain": [
       "'So now disabled people don‚Äôt have rights . You get worse .'"
      ]
     },
     "execution_count": 46,
     "metadata": {},
     "output_type": "execute_result"
    }
   ],
   "source": [
    "google_angry_df.loc[5571, 'text']"
   ]
  },
  {
   "cell_type": "code",
   "execution_count": 47,
   "id": "fd9d7cd4",
   "metadata": {
    "hidden": true
   },
   "outputs": [],
   "source": [
    "google_angry_df.to_csv(\"../raw_data/emotion_data/google_angry.csv\")"
   ]
  },
  {
   "cell_type": "code",
   "execution_count": 48,
   "id": "36c1c77d",
   "metadata": {
    "hidden": true
   },
   "outputs": [],
   "source": [
    "from happysadsongs.data import get_training_data"
   ]
  },
  {
   "cell_type": "code",
   "execution_count": 49,
   "id": "4c5ceaa4",
   "metadata": {
    "hidden": true
   },
   "outputs": [],
   "source": [
    "df = get_training_data()"
   ]
  },
  {
   "cell_type": "code",
   "execution_count": 50,
   "id": "bd43158a",
   "metadata": {
    "hidden": true
   },
   "outputs": [
    {
     "data": {
      "text/html": [
       "<div>\n",
       "<style scoped>\n",
       "    .dataframe tbody tr th:only-of-type {\n",
       "        vertical-align: middle;\n",
       "    }\n",
       "\n",
       "    .dataframe tbody tr th {\n",
       "        vertical-align: top;\n",
       "    }\n",
       "\n",
       "    .dataframe thead th {\n",
       "        text-align: right;\n",
       "    }\n",
       "</style>\n",
       "<table border=\"1\" class=\"dataframe\">\n",
       "  <thead>\n",
       "    <tr style=\"text-align: right;\">\n",
       "      <th></th>\n",
       "      <th>Unnamed: 0</th>\n",
       "      <th>text</th>\n",
       "      <th>word_label</th>\n",
       "      <th>source</th>\n",
       "    </tr>\n",
       "  </thead>\n",
       "  <tbody>\n",
       "    <tr>\n",
       "      <th>0</th>\n",
       "      <td>0</td>\n",
       "      <td>i didnt feel humiliated</td>\n",
       "      <td>sad</td>\n",
       "      <td>HuggingFace</td>\n",
       "    </tr>\n",
       "    <tr>\n",
       "      <th>1</th>\n",
       "      <td>1</td>\n",
       "      <td>i can go from feeling so hopeless to so damned...</td>\n",
       "      <td>sad</td>\n",
       "      <td>HuggingFace</td>\n",
       "    </tr>\n",
       "    <tr>\n",
       "      <th>2</th>\n",
       "      <td>2</td>\n",
       "      <td>im grabbing a minute to post i feel greedy wrong</td>\n",
       "      <td>angry</td>\n",
       "      <td>HuggingFace</td>\n",
       "    </tr>\n",
       "    <tr>\n",
       "      <th>3</th>\n",
       "      <td>3</td>\n",
       "      <td>i am feeling grouchy</td>\n",
       "      <td>angry</td>\n",
       "      <td>HuggingFace</td>\n",
       "    </tr>\n",
       "    <tr>\n",
       "      <th>4</th>\n",
       "      <td>4</td>\n",
       "      <td>ive been feeling a little burdened lately wasn...</td>\n",
       "      <td>sad</td>\n",
       "      <td>HuggingFace</td>\n",
       "    </tr>\n",
       "    <tr>\n",
       "      <th>...</th>\n",
       "      <td>...</td>\n",
       "      <td>...</td>\n",
       "      <td>...</td>\n",
       "      <td>...</td>\n",
       "    </tr>\n",
       "    <tr>\n",
       "      <th>35547</th>\n",
       "      <td>35547</td>\n",
       "      <td>It's a money thing, we don't have any.</td>\n",
       "      <td>sad</td>\n",
       "      <td>MELD-Friends</td>\n",
       "    </tr>\n",
       "    <tr>\n",
       "      <th>35548</th>\n",
       "      <td>35548</td>\n",
       "      <td>Uh, hang out?! How long?</td>\n",
       "      <td>sad</td>\n",
       "      <td>MELD-Friends</td>\n",
       "    </tr>\n",
       "    <tr>\n",
       "      <th>35549</th>\n",
       "      <td>35549</td>\n",
       "      <td>A week?</td>\n",
       "      <td>angry</td>\n",
       "      <td>MELD-Friends</td>\n",
       "    </tr>\n",
       "    <tr>\n",
       "      <th>35550</th>\n",
       "      <td>35550</td>\n",
       "      <td>No!</td>\n",
       "      <td>angry</td>\n",
       "      <td>MELD-Friends</td>\n",
       "    </tr>\n",
       "    <tr>\n",
       "      <th>35551</th>\n",
       "      <td>35551</td>\n",
       "      <td>Thanks.   Congratulations on your big break.</td>\n",
       "      <td>sad</td>\n",
       "      <td>MELD-Friends</td>\n",
       "    </tr>\n",
       "  </tbody>\n",
       "</table>\n",
       "<p>35552 rows × 4 columns</p>\n",
       "</div>"
      ],
      "text/plain": [
       "       Unnamed: 0                                               text  \\\n",
       "0               0                            i didnt feel humiliated   \n",
       "1               1  i can go from feeling so hopeless to so damned...   \n",
       "2               2   im grabbing a minute to post i feel greedy wrong   \n",
       "3               3                               i am feeling grouchy   \n",
       "4               4  ive been feeling a little burdened lately wasn...   \n",
       "...           ...                                                ...   \n",
       "35547       35547             It's a money thing, we don't have any.   \n",
       "35548       35548                           Uh, hang out?! How long?   \n",
       "35549       35549                                            A week?   \n",
       "35550       35550                                                No!   \n",
       "35551       35551       Thanks.   Congratulations on your big break.   \n",
       "\n",
       "      word_label        source  \n",
       "0            sad   HuggingFace  \n",
       "1            sad   HuggingFace  \n",
       "2          angry   HuggingFace  \n",
       "3          angry   HuggingFace  \n",
       "4            sad   HuggingFace  \n",
       "...          ...           ...  \n",
       "35547        sad  MELD-Friends  \n",
       "35548        sad  MELD-Friends  \n",
       "35549      angry  MELD-Friends  \n",
       "35550      angry  MELD-Friends  \n",
       "35551        sad  MELD-Friends  \n",
       "\n",
       "[35552 rows x 4 columns]"
      ]
     },
     "execution_count": 50,
     "metadata": {},
     "output_type": "execute_result"
    }
   ],
   "source": [
    "df"
   ]
  },
  {
   "cell_type": "code",
   "execution_count": 51,
   "id": "601a543b",
   "metadata": {
    "hidden": true
   },
   "outputs": [],
   "source": [
    "df.drop(columns=['Unnamed: 0'], inplace=True)"
   ]
  },
  {
   "cell_type": "code",
   "execution_count": 53,
   "id": "c146a1e3",
   "metadata": {
    "hidden": true
   },
   "outputs": [],
   "source": [
    "df_append = df.append(google_angry_df)"
   ]
  },
  {
   "cell_type": "code",
   "execution_count": 54,
   "id": "7e6ef8ed",
   "metadata": {
    "hidden": true
   },
   "outputs": [
    {
     "data": {
      "text/html": [
       "<div>\n",
       "<style scoped>\n",
       "    .dataframe tbody tr th:only-of-type {\n",
       "        vertical-align: middle;\n",
       "    }\n",
       "\n",
       "    .dataframe tbody tr th {\n",
       "        vertical-align: top;\n",
       "    }\n",
       "\n",
       "    .dataframe thead th {\n",
       "        text-align: right;\n",
       "    }\n",
       "</style>\n",
       "<table border=\"1\" class=\"dataframe\">\n",
       "  <thead>\n",
       "    <tr style=\"text-align: right;\">\n",
       "      <th></th>\n",
       "      <th>text</th>\n",
       "      <th>word_label</th>\n",
       "      <th>source</th>\n",
       "    </tr>\n",
       "  </thead>\n",
       "  <tbody>\n",
       "    <tr>\n",
       "      <th>0</th>\n",
       "      <td>i didnt feel humiliated</td>\n",
       "      <td>sad</td>\n",
       "      <td>HuggingFace</td>\n",
       "    </tr>\n",
       "    <tr>\n",
       "      <th>1</th>\n",
       "      <td>i can go from feeling so hopeless to so damned...</td>\n",
       "      <td>sad</td>\n",
       "      <td>HuggingFace</td>\n",
       "    </tr>\n",
       "    <tr>\n",
       "      <th>2</th>\n",
       "      <td>im grabbing a minute to post i feel greedy wrong</td>\n",
       "      <td>angry</td>\n",
       "      <td>HuggingFace</td>\n",
       "    </tr>\n",
       "    <tr>\n",
       "      <th>3</th>\n",
       "      <td>i am feeling grouchy</td>\n",
       "      <td>angry</td>\n",
       "      <td>HuggingFace</td>\n",
       "    </tr>\n",
       "    <tr>\n",
       "      <th>4</th>\n",
       "      <td>ive been feeling a little burdened lately wasn...</td>\n",
       "      <td>sad</td>\n",
       "      <td>HuggingFace</td>\n",
       "    </tr>\n",
       "    <tr>\n",
       "      <th>...</th>\n",
       "      <td>...</td>\n",
       "      <td>...</td>\n",
       "      <td>...</td>\n",
       "    </tr>\n",
       "    <tr>\n",
       "      <th>5570</th>\n",
       "      <td>There's doing stupid things when you're young....</td>\n",
       "      <td>angry</td>\n",
       "      <td>Google_GoEmotions</td>\n",
       "    </tr>\n",
       "    <tr>\n",
       "      <th>5571</th>\n",
       "      <td>So now disabled people don‚Äôt have rights . Y...</td>\n",
       "      <td>angry</td>\n",
       "      <td>Google_GoEmotions</td>\n",
       "    </tr>\n",
       "    <tr>\n",
       "      <th>5572</th>\n",
       "      <td>It is. I bet chantex and all the other 'quit s...</td>\n",
       "      <td>angry</td>\n",
       "      <td>Google_GoEmotions</td>\n",
       "    </tr>\n",
       "    <tr>\n",
       "      <th>5573</th>\n",
       "      <td>[NAME] was half-blood but it wasn't a smart id...</td>\n",
       "      <td>angry</td>\n",
       "      <td>Google_GoEmotions</td>\n",
       "    </tr>\n",
       "    <tr>\n",
       "      <th>5574</th>\n",
       "      <td>What are you talking about? Anything bad that ...</td>\n",
       "      <td>angry</td>\n",
       "      <td>Google_GoEmotions</td>\n",
       "    </tr>\n",
       "  </tbody>\n",
       "</table>\n",
       "<p>41127 rows × 3 columns</p>\n",
       "</div>"
      ],
      "text/plain": [
       "                                                   text word_label  \\\n",
       "0                               i didnt feel humiliated        sad   \n",
       "1     i can go from feeling so hopeless to so damned...        sad   \n",
       "2      im grabbing a minute to post i feel greedy wrong      angry   \n",
       "3                                  i am feeling grouchy      angry   \n",
       "4     ive been feeling a little burdened lately wasn...        sad   \n",
       "...                                                 ...        ...   \n",
       "5570  There's doing stupid things when you're young....      angry   \n",
       "5571  So now disabled people don‚Äôt have rights . Y...      angry   \n",
       "5572  It is. I bet chantex and all the other 'quit s...      angry   \n",
       "5573  [NAME] was half-blood but it wasn't a smart id...      angry   \n",
       "5574  What are you talking about? Anything bad that ...      angry   \n",
       "\n",
       "                 source  \n",
       "0           HuggingFace  \n",
       "1           HuggingFace  \n",
       "2           HuggingFace  \n",
       "3           HuggingFace  \n",
       "4           HuggingFace  \n",
       "...                 ...  \n",
       "5570  Google_GoEmotions  \n",
       "5571  Google_GoEmotions  \n",
       "5572  Google_GoEmotions  \n",
       "5573  Google_GoEmotions  \n",
       "5574  Google_GoEmotions  \n",
       "\n",
       "[41127 rows x 3 columns]"
      ]
     },
     "execution_count": 54,
     "metadata": {},
     "output_type": "execute_result"
    }
   ],
   "source": [
    "df_append"
   ]
  },
  {
   "cell_type": "code",
   "execution_count": 56,
   "id": "54c3bb83",
   "metadata": {
    "hidden": true
   },
   "outputs": [
    {
     "data": {
      "text/plain": [
       "happy    14847\n",
       "sad      13918\n",
       "angry    12362\n",
       "Name: word_label, dtype: int64"
      ]
     },
     "execution_count": 56,
     "metadata": {},
     "output_type": "execute_result"
    }
   ],
   "source": [
    "df_append['word_label'].value_counts()"
   ]
  },
  {
   "cell_type": "code",
   "execution_count": 57,
   "id": "07f83d63",
   "metadata": {
    "hidden": true
   },
   "outputs": [],
   "source": [
    "df_append.to_csv(\"../raw_data/emotion_dataset.csv\")"
   ]
  },
  {
   "cell_type": "code",
   "execution_count": 58,
   "id": "378bcecc",
   "metadata": {
    "hidden": true
   },
   "outputs": [
    {
     "data": {
      "text/plain": [
       "happy    6761\n",
       "sad      5797\n",
       "angry    2709\n",
       "Name: word_label, dtype: int64"
      ]
     },
     "execution_count": 58,
     "metadata": {},
     "output_type": "execute_result"
    }
   ],
   "source": [
    "df_append[df_append['source'] == 'HuggingFace']['word_label'].value_counts()"
   ]
  },
  {
   "cell_type": "code",
   "execution_count": 65,
   "id": "7ec2a670",
   "metadata": {
    "hidden": true
   },
   "outputs": [
    {
     "data": {
      "text/plain": [
       "happy    5209\n",
       "sad      5165\n",
       "angry     110\n",
       "Name: word_label, dtype: int64"
      ]
     },
     "execution_count": 65,
     "metadata": {},
     "output_type": "execute_result"
    }
   ],
   "source": [
    "df_append[df_append['source'] == 'CrowdFlower']['word_label'].value_counts()"
   ]
  },
  {
   "cell_type": "code",
   "execution_count": 61,
   "id": "eaeb0497",
   "metadata": {
    "hidden": true
   },
   "outputs": [
    {
     "data": {
      "text/plain": [
       "array(['HuggingFace', 'SemEval-2018', 'CrowdFlower', 'MELD-Friends',\n",
       "       'Google_GoEmotions'], dtype=object)"
      ]
     },
     "execution_count": 61,
     "metadata": {},
     "output_type": "execute_result"
    }
   ],
   "source": [
    "df_append['source'].unique()"
   ]
  },
  {
   "cell_type": "code",
   "execution_count": 64,
   "id": "3aff8069",
   "metadata": {
    "hidden": true
   },
   "outputs": [
    {
     "data": {
      "text/html": [
       "<div>\n",
       "<style scoped>\n",
       "    .dataframe tbody tr th:only-of-type {\n",
       "        vertical-align: middle;\n",
       "    }\n",
       "\n",
       "    .dataframe tbody tr th {\n",
       "        vertical-align: top;\n",
       "    }\n",
       "\n",
       "    .dataframe thead th {\n",
       "        text-align: right;\n",
       "    }\n",
       "</style>\n",
       "<table border=\"1\" class=\"dataframe\">\n",
       "  <thead>\n",
       "    <tr style=\"text-align: right;\">\n",
       "      <th></th>\n",
       "      <th>text</th>\n",
       "      <th>word_label</th>\n",
       "      <th>source</th>\n",
       "    </tr>\n",
       "  </thead>\n",
       "  <tbody>\n",
       "    <tr>\n",
       "      <th>23276</th>\n",
       "      <td>Layin n bed with a headache  ughhhh...waitin o...</td>\n",
       "      <td>sad</td>\n",
       "      <td>CrowdFlower</td>\n",
       "    </tr>\n",
       "    <tr>\n",
       "      <th>23277</th>\n",
       "      <td>Funeral ceremony...gloomy friday...</td>\n",
       "      <td>sad</td>\n",
       "      <td>CrowdFlower</td>\n",
       "    </tr>\n",
       "    <tr>\n",
       "      <th>23278</th>\n",
       "      <td>I should be sleep, but im not! thinking about ...</td>\n",
       "      <td>sad</td>\n",
       "      <td>CrowdFlower</td>\n",
       "    </tr>\n",
       "    <tr>\n",
       "      <th>23279</th>\n",
       "      <td>@charviray Charlene my love. I miss you</td>\n",
       "      <td>sad</td>\n",
       "      <td>CrowdFlower</td>\n",
       "    </tr>\n",
       "    <tr>\n",
       "      <th>23280</th>\n",
       "      <td>@kelcouch I'm sorry  at least it's Friday?</td>\n",
       "      <td>sad</td>\n",
       "      <td>CrowdFlower</td>\n",
       "    </tr>\n",
       "    <tr>\n",
       "      <th>...</th>\n",
       "      <td>...</td>\n",
       "      <td>...</td>\n",
       "      <td>...</td>\n",
       "    </tr>\n",
       "    <tr>\n",
       "      <th>33755</th>\n",
       "      <td>going to watch boy in the striped pj's hope i ...</td>\n",
       "      <td>happy</td>\n",
       "      <td>CrowdFlower</td>\n",
       "    </tr>\n",
       "    <tr>\n",
       "      <th>33756</th>\n",
       "      <td>gave the bikes a thorough wash, degrease it an...</td>\n",
       "      <td>happy</td>\n",
       "      <td>CrowdFlower</td>\n",
       "    </tr>\n",
       "    <tr>\n",
       "      <th>33757</th>\n",
       "      <td>had SUCH and AMAZING time last night, McFly we...</td>\n",
       "      <td>happy</td>\n",
       "      <td>CrowdFlower</td>\n",
       "    </tr>\n",
       "    <tr>\n",
       "      <th>33758</th>\n",
       "      <td>Succesfully following Tayla!!</td>\n",
       "      <td>happy</td>\n",
       "      <td>CrowdFlower</td>\n",
       "    </tr>\n",
       "    <tr>\n",
       "      <th>33759</th>\n",
       "      <td>@niariley WASSUP BEAUTIFUL!!! FOLLOW ME!!  PEE...</td>\n",
       "      <td>happy</td>\n",
       "      <td>CrowdFlower</td>\n",
       "    </tr>\n",
       "  </tbody>\n",
       "</table>\n",
       "<p>10484 rows × 3 columns</p>\n",
       "</div>"
      ],
      "text/plain": [
       "                                                    text word_label  \\\n",
       "23276  Layin n bed with a headache  ughhhh...waitin o...        sad   \n",
       "23277                Funeral ceremony...gloomy friday...        sad   \n",
       "23278  I should be sleep, but im not! thinking about ...        sad   \n",
       "23279            @charviray Charlene my love. I miss you        sad   \n",
       "23280         @kelcouch I'm sorry  at least it's Friday?        sad   \n",
       "...                                                  ...        ...   \n",
       "33755  going to watch boy in the striped pj's hope i ...      happy   \n",
       "33756  gave the bikes a thorough wash, degrease it an...      happy   \n",
       "33757  had SUCH and AMAZING time last night, McFly we...      happy   \n",
       "33758                      Succesfully following Tayla!!      happy   \n",
       "33759  @niariley WASSUP BEAUTIFUL!!! FOLLOW ME!!  PEE...      happy   \n",
       "\n",
       "            source  \n",
       "23276  CrowdFlower  \n",
       "23277  CrowdFlower  \n",
       "23278  CrowdFlower  \n",
       "23279  CrowdFlower  \n",
       "23280  CrowdFlower  \n",
       "...            ...  \n",
       "33755  CrowdFlower  \n",
       "33756  CrowdFlower  \n",
       "33757  CrowdFlower  \n",
       "33758  CrowdFlower  \n",
       "33759  CrowdFlower  \n",
       "\n",
       "[10484 rows x 3 columns]"
      ]
     },
     "execution_count": 64,
     "metadata": {},
     "output_type": "execute_result"
    }
   ],
   "source": [
    "df_append[df_append['source'] == 'CrowdFlower']"
   ]
  },
  {
   "cell_type": "code",
   "execution_count": null,
   "id": "3477aac2",
   "metadata": {
    "hidden": true
   },
   "outputs": [],
   "source": []
  },
  {
   "cell_type": "markdown",
   "id": "61119765",
   "metadata": {},
   "source": [
    "## Recheck Crowdflower Data "
   ]
  },
  {
   "cell_type": "code",
   "execution_count": 66,
   "id": "fbcb71ee",
   "metadata": {},
   "outputs": [],
   "source": [
    "crowdflower = pd.read_csv('../raw_data/emotion_data/crowdflower_text_emotion.csv')"
   ]
  },
  {
   "cell_type": "code",
   "execution_count": 68,
   "id": "a0b563e1",
   "metadata": {},
   "outputs": [
    {
     "data": {
      "text/plain": [
       "array(['empty', 'sadness', 'enthusiasm', 'neutral', 'worry', 'surprise',\n",
       "       'love', 'fun', 'hate', 'happiness', 'boredom', 'relief', 'anger'],\n",
       "      dtype=object)"
      ]
     },
     "execution_count": 68,
     "metadata": {},
     "output_type": "execute_result"
    }
   ],
   "source": [
    "crowdflower['sentiment'].unique()"
   ]
  },
  {
   "cell_type": "code",
   "execution_count": 69,
   "id": "17c07459",
   "metadata": {},
   "outputs": [
    {
     "data": {
      "text/plain": [
       "neutral       8638\n",
       "worry         8459\n",
       "happiness     5209\n",
       "sadness       5165\n",
       "love          3842\n",
       "surprise      2187\n",
       "fun           1776\n",
       "relief        1526\n",
       "hate          1323\n",
       "empty          827\n",
       "enthusiasm     759\n",
       "boredom        179\n",
       "anger          110\n",
       "Name: sentiment, dtype: int64"
      ]
     },
     "execution_count": 69,
     "metadata": {},
     "output_type": "execute_result"
    }
   ],
   "source": [
    "crowdflower['sentiment'].value_counts()"
   ]
  },
  {
   "cell_type": "code",
   "execution_count": 76,
   "id": "5848bf46",
   "metadata": {},
   "outputs": [],
   "source": [
    "crowdflower_append = crowdflower[crowdflower['sentiment'] == 'hate']['content'].reset_index(drop=True)"
   ]
  },
  {
   "cell_type": "code",
   "execution_count": 79,
   "id": "4686a91d",
   "metadata": {},
   "outputs": [
    {
     "data": {
      "text/plain": [
       "pandas.core.series.Series"
      ]
     },
     "execution_count": 79,
     "metadata": {},
     "output_type": "execute_result"
    }
   ],
   "source": [
    "type(crowdflower_append)"
   ]
  },
  {
   "cell_type": "code",
   "execution_count": 82,
   "id": "3b7198a1",
   "metadata": {},
   "outputs": [],
   "source": [
    "crowdflower_dict = {'text': crowdflower_append, 'word_label': ['angry' for i in range(len(crowdflower_append))], 'source': ['CrowdFlower' for i in range(len(crowdflower_append))]}"
   ]
  },
  {
   "cell_type": "code",
   "execution_count": 85,
   "id": "5b712e8b",
   "metadata": {},
   "outputs": [],
   "source": [
    "crowdflower_append_df = pd.DataFrame(crowdflower_dict)"
   ]
  },
  {
   "cell_type": "code",
   "execution_count": 86,
   "id": "a165570e",
   "metadata": {},
   "outputs": [],
   "source": [
    "df_append_2 = df_append.append(crowdflower_append_df).reset_index(drop=True)"
   ]
  },
  {
   "cell_type": "code",
   "execution_count": 88,
   "id": "8ef6428f",
   "metadata": {},
   "outputs": [
    {
     "data": {
      "text/plain": [
       "happy    14847\n",
       "sad      13918\n",
       "angry    13685\n",
       "Name: word_label, dtype: int64"
      ]
     },
     "execution_count": 88,
     "metadata": {},
     "output_type": "execute_result"
    }
   ],
   "source": [
    "df_append_2['word_label'].value_counts()"
   ]
  },
  {
   "cell_type": "code",
   "execution_count": 90,
   "id": "2c3cedd7",
   "metadata": {},
   "outputs": [
    {
     "data": {
      "text/plain": [
       "happy    5209\n",
       "sad      5165\n",
       "angry    1433\n",
       "Name: word_label, dtype: int64"
      ]
     },
     "execution_count": 90,
     "metadata": {},
     "output_type": "execute_result"
    }
   ],
   "source": [
    "df_append_2[df_append_2['source'] == 'CrowdFlower']['word_label'].value_counts()"
   ]
  },
  {
   "cell_type": "code",
   "execution_count": 97,
   "id": "4b9593fd",
   "metadata": {},
   "outputs": [
    {
     "data": {
      "text/html": [
       "<div>\n",
       "<style scoped>\n",
       "    .dataframe tbody tr th:only-of-type {\n",
       "        vertical-align: middle;\n",
       "    }\n",
       "\n",
       "    .dataframe tbody tr th {\n",
       "        vertical-align: top;\n",
       "    }\n",
       "\n",
       "    .dataframe thead th {\n",
       "        text-align: right;\n",
       "    }\n",
       "</style>\n",
       "<table border=\"1\" class=\"dataframe\">\n",
       "  <thead>\n",
       "    <tr style=\"text-align: right;\">\n",
       "      <th></th>\n",
       "      <th>text</th>\n",
       "      <th>word_label</th>\n",
       "      <th>source</th>\n",
       "    </tr>\n",
       "  </thead>\n",
       "  <tbody>\n",
       "    <tr>\n",
       "      <th>33765</th>\n",
       "      <td>Oh no-no-no, give me some specifics.</td>\n",
       "      <td>angry</td>\n",
       "      <td>MELD-Friends</td>\n",
       "    </tr>\n",
       "    <tr>\n",
       "      <th>33766</th>\n",
       "      <td>You fell asleep!!</td>\n",
       "      <td>angry</td>\n",
       "      <td>MELD-Friends</td>\n",
       "    </tr>\n",
       "    <tr>\n",
       "      <th>33767</th>\n",
       "      <td>There was no kangaroo!</td>\n",
       "      <td>angry</td>\n",
       "      <td>MELD-Friends</td>\n",
       "    </tr>\n",
       "    <tr>\n",
       "      <th>33768</th>\n",
       "      <td>They didn’t take any of my suggestions!</td>\n",
       "      <td>angry</td>\n",
       "      <td>MELD-Friends</td>\n",
       "    </tr>\n",
       "    <tr>\n",
       "      <th>33772</th>\n",
       "      <td>This guy fell asleep!</td>\n",
       "      <td>angry</td>\n",
       "      <td>MELD-Friends</td>\n",
       "    </tr>\n",
       "    <tr>\n",
       "      <th>...</th>\n",
       "      <td>...</td>\n",
       "      <td>...</td>\n",
       "      <td>...</td>\n",
       "    </tr>\n",
       "    <tr>\n",
       "      <th>35543</th>\n",
       "      <td>What about me?! You-you just said I could!</td>\n",
       "      <td>angry</td>\n",
       "      <td>MELD-Friends</td>\n",
       "    </tr>\n",
       "    <tr>\n",
       "      <th>35544</th>\n",
       "      <td>I can’t believe you’re not picking me.</td>\n",
       "      <td>angry</td>\n",
       "      <td>MELD-Friends</td>\n",
       "    </tr>\n",
       "    <tr>\n",
       "      <th>35545</th>\n",
       "      <td>Fine, y’know what, that’s it. From now on, Joe...</td>\n",
       "      <td>angry</td>\n",
       "      <td>MELD-Friends</td>\n",
       "    </tr>\n",
       "    <tr>\n",
       "      <th>35549</th>\n",
       "      <td>A week?</td>\n",
       "      <td>angry</td>\n",
       "      <td>MELD-Friends</td>\n",
       "    </tr>\n",
       "    <tr>\n",
       "      <th>35550</th>\n",
       "      <td>No!</td>\n",
       "      <td>angry</td>\n",
       "      <td>MELD-Friends</td>\n",
       "    </tr>\n",
       "  </tbody>\n",
       "</table>\n",
       "<p>1109 rows × 3 columns</p>\n",
       "</div>"
      ],
      "text/plain": [
       "                                                    text word_label  \\\n",
       "33765               Oh no-no-no, give me some specifics.      angry   \n",
       "33766                                  You fell asleep!!      angry   \n",
       "33767                             There was no kangaroo!      angry   \n",
       "33768            They didn’t take any of my suggestions!      angry   \n",
       "33772                              This guy fell asleep!      angry   \n",
       "...                                                  ...        ...   \n",
       "35543         What about me?! You-you just said I could!      angry   \n",
       "35544             I can’t believe you’re not picking me.      angry   \n",
       "35545  Fine, y’know what, that’s it. From now on, Joe...      angry   \n",
       "35549                                            A week?      angry   \n",
       "35550                                                No!      angry   \n",
       "\n",
       "             source  \n",
       "33765  MELD-Friends  \n",
       "33766  MELD-Friends  \n",
       "33767  MELD-Friends  \n",
       "33768  MELD-Friends  \n",
       "33772  MELD-Friends  \n",
       "...             ...  \n",
       "35543  MELD-Friends  \n",
       "35544  MELD-Friends  \n",
       "35545  MELD-Friends  \n",
       "35549  MELD-Friends  \n",
       "35550  MELD-Friends  \n",
       "\n",
       "[1109 rows x 3 columns]"
      ]
     },
     "execution_count": 97,
     "metadata": {},
     "output_type": "execute_result"
    }
   ],
   "source": [
    "df_append_2[(df_append_2['source'] == 'MELD-Friends') & (df_append_2['word_label'] == 'angry')]"
   ]
  },
  {
   "cell_type": "code",
   "execution_count": 98,
   "id": "de85b140",
   "metadata": {},
   "outputs": [],
   "source": [
    "df_append_2.to_csv(\"../raw_data/emotion_data/emotion_dataset_with_additional_crowdflower.csv\")"
   ]
  },
  {
   "cell_type": "markdown",
   "id": "f090a48e",
   "metadata": {},
   "source": [
    "## Re-check Friends data"
   ]
  },
  {
   "cell_type": "code",
   "execution_count": 107,
   "id": "8d7d3a57",
   "metadata": {},
   "outputs": [],
   "source": [
    "meld_df = pd.read_excel(\"../raw_data/emotion_data/MELD_train_sent_emo.xls\")"
   ]
  },
  {
   "cell_type": "code",
   "execution_count": 109,
   "id": "25b18aea",
   "metadata": {},
   "outputs": [],
   "source": [
    "meld_happy = meld_df[meld_df['Emotion'] == 'joy']"
   ]
  },
  {
   "cell_type": "code",
   "execution_count": 110,
   "id": "b2050211",
   "metadata": {},
   "outputs": [],
   "source": [
    "meld_sad = meld_df[meld_df['Emotion'] == 'sadness']"
   ]
  },
  {
   "cell_type": "code",
   "execution_count": 114,
   "id": "17594053",
   "metadata": {},
   "outputs": [],
   "source": [
    "meld_angry = meld_df[meld_df['Emotion'].isin(['anger', 'disgust'])]"
   ]
  },
  {
   "cell_type": "code",
   "execution_count": 115,
   "id": "bd237a48",
   "metadata": {},
   "outputs": [],
   "source": [
    "meld_hsa = pd.concat([meld_happy, meld_sad, meld_angry])"
   ]
  },
  {
   "cell_type": "code",
   "execution_count": 118,
   "id": "bc77da0f",
   "metadata": {},
   "outputs": [],
   "source": [
    "meld_hsa['word_label'] = meld_hsa['Emotion'].map({'joy':'happy', 'sadness':'sad', 'anger':'angry', 'disgust': 'angry'})"
   ]
  },
  {
   "cell_type": "code",
   "execution_count": 120,
   "id": "ae4398a5",
   "metadata": {},
   "outputs": [],
   "source": [
    "meld_hsa['source'] = 'MELD-Friends'"
   ]
  },
  {
   "cell_type": "code",
   "execution_count": 122,
   "id": "0bc32d50",
   "metadata": {},
   "outputs": [],
   "source": [
    "meld_hsa.drop(columns=['Emotion'], inplace=True)"
   ]
  },
  {
   "cell_type": "code",
   "execution_count": 124,
   "id": "df48c378",
   "metadata": {},
   "outputs": [],
   "source": [
    "meld_hsa.rename(columns={'Utterance':'text'}, inplace=True)"
   ]
  },
  {
   "cell_type": "code",
   "execution_count": 125,
   "id": "065f88e3",
   "metadata": {},
   "outputs": [
    {
     "data": {
      "text/html": [
       "<div>\n",
       "<style scoped>\n",
       "    .dataframe tbody tr th:only-of-type {\n",
       "        vertical-align: middle;\n",
       "    }\n",
       "\n",
       "    .dataframe tbody tr th {\n",
       "        vertical-align: top;\n",
       "    }\n",
       "\n",
       "    .dataframe thead th {\n",
       "        text-align: right;\n",
       "    }\n",
       "</style>\n",
       "<table border=\"1\" class=\"dataframe\">\n",
       "  <thead>\n",
       "    <tr style=\"text-align: right;\">\n",
       "      <th></th>\n",
       "      <th>text</th>\n",
       "      <th>word_label</th>\n",
       "      <th>source</th>\n",
       "    </tr>\n",
       "  </thead>\n",
       "  <tbody>\n",
       "    <tr>\n",
       "      <th>23</th>\n",
       "      <td>Do I ever.</td>\n",
       "      <td>happy</td>\n",
       "      <td>MELD-Friends</td>\n",
       "    </tr>\n",
       "    <tr>\n",
       "      <th>31</th>\n",
       "      <td>You betcha!</td>\n",
       "      <td>happy</td>\n",
       "      <td>MELD-Friends</td>\n",
       "    </tr>\n",
       "    <tr>\n",
       "      <th>33</th>\n",
       "      <td>Um-mm, yeah right!</td>\n",
       "      <td>happy</td>\n",
       "      <td>MELD-Friends</td>\n",
       "    </tr>\n",
       "    <tr>\n",
       "      <th>44</th>\n",
       "      <td>Hi!</td>\n",
       "      <td>happy</td>\n",
       "      <td>MELD-Friends</td>\n",
       "    </tr>\n",
       "    <tr>\n",
       "      <th>51</th>\n",
       "      <td>Oh well, the woman I interviewed with was pret...</td>\n",
       "      <td>happy</td>\n",
       "      <td>MELD-Friends</td>\n",
       "    </tr>\n",
       "    <tr>\n",
       "      <th>...</th>\n",
       "      <td>...</td>\n",
       "      <td>...</td>\n",
       "      <td>...</td>\n",
       "    </tr>\n",
       "    <tr>\n",
       "      <th>9962</th>\n",
       "      <td>No!</td>\n",
       "      <td>angry</td>\n",
       "      <td>MELD-Friends</td>\n",
       "    </tr>\n",
       "    <tr>\n",
       "      <th>9976</th>\n",
       "      <td>They were huge. When she sneezed, bats flew ou...</td>\n",
       "      <td>angry</td>\n",
       "      <td>MELD-Friends</td>\n",
       "    </tr>\n",
       "    <tr>\n",
       "      <th>9978</th>\n",
       "      <td>I'm tellin' you, she leaned back; I could see ...</td>\n",
       "      <td>angry</td>\n",
       "      <td>MELD-Friends</td>\n",
       "    </tr>\n",
       "    <tr>\n",
       "      <th>9982</th>\n",
       "      <td>When I first moved to the city, I went out a c...</td>\n",
       "      <td>angry</td>\n",
       "      <td>MELD-Friends</td>\n",
       "    </tr>\n",
       "    <tr>\n",
       "      <th>9983</th>\n",
       "      <td>It made me nuts.</td>\n",
       "      <td>angry</td>\n",
       "      <td>MELD-Friends</td>\n",
       "    </tr>\n",
       "  </tbody>\n",
       "</table>\n",
       "<p>3806 rows × 3 columns</p>\n",
       "</div>"
      ],
      "text/plain": [
       "                                                   text word_label  \\\n",
       "23                                           Do I ever.      happy   \n",
       "31                                          You betcha!      happy   \n",
       "33                                   Um-mm, yeah right!      happy   \n",
       "44                                                  Hi!      happy   \n",
       "51    Oh well, the woman I interviewed with was pret...      happy   \n",
       "...                                                 ...        ...   \n",
       "9962                                                No!      angry   \n",
       "9976  They were huge. When she sneezed, bats flew ou...      angry   \n",
       "9978  I'm tellin' you, she leaned back; I could see ...      angry   \n",
       "9982  When I first moved to the city, I went out a c...      angry   \n",
       "9983                                   It made me nuts.      angry   \n",
       "\n",
       "            source  \n",
       "23    MELD-Friends  \n",
       "31    MELD-Friends  \n",
       "33    MELD-Friends  \n",
       "44    MELD-Friends  \n",
       "51    MELD-Friends  \n",
       "...            ...  \n",
       "9962  MELD-Friends  \n",
       "9976  MELD-Friends  \n",
       "9978  MELD-Friends  \n",
       "9982  MELD-Friends  \n",
       "9983  MELD-Friends  \n",
       "\n",
       "[3806 rows x 3 columns]"
      ]
     },
     "execution_count": 125,
     "metadata": {},
     "output_type": "execute_result"
    }
   ],
   "source": [
    "meld_hsa"
   ]
  },
  {
   "cell_type": "code",
   "execution_count": null,
   "id": "189639fd",
   "metadata": {},
   "outputs": [],
   "source": []
  }
 ],
 "metadata": {
  "kernelspec": {
   "display_name": "Python 3 (ipykernel)",
   "language": "python",
   "name": "python3"
  },
  "language_info": {
   "codemirror_mode": {
    "name": "ipython",
    "version": 3
   },
   "file_extension": ".py",
   "mimetype": "text/x-python",
   "name": "python",
   "nbconvert_exporter": "python",
   "pygments_lexer": "ipython3",
   "version": "3.8.6"
  },
  "toc": {
   "base_numbering": 1,
   "nav_menu": {},
   "number_sections": true,
   "sideBar": false,
   "skip_h1_title": false,
   "title_cell": "Table of Contents",
   "title_sidebar": "Contents",
   "toc_cell": false,
   "toc_position": {
    "height": "438px",
    "left": "29px",
    "top": "110px",
    "width": "377px"
   },
   "toc_section_display": true,
   "toc_window_display": true
  }
 },
 "nbformat": 4,
 "nbformat_minor": 5
}
