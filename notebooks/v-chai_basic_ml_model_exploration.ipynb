{
 "cells": [
  {
   "cell_type": "code",
   "execution_count": 1,
   "id": "dfb323f7",
   "metadata": {},
   "outputs": [],
   "source": [
    "from happysadsongs.data import *"
   ]
  },
  {
   "cell_type": "code",
   "execution_count": 10,
   "id": "7ec9b2d5",
   "metadata": {},
   "outputs": [],
   "source": [
    "import pandas as pd\n",
    "import numpy as np\n",
    "import re\n",
    "from sklearn.linear_model import LogisticRegression\n",
    "from sklearn.naive_bayes import MultinomialNB\n",
    "from sklearn.model_selection import train_test_split"
   ]
  },
  {
   "cell_type": "code",
   "execution_count": 4,
   "id": "b0317d19",
   "metadata": {},
   "outputs": [],
   "source": [
    "df = get_training_data()"
   ]
  },
  {
   "cell_type": "code",
   "execution_count": 219,
   "id": "bb9fab83",
   "metadata": {},
   "outputs": [],
   "source": [
    "def additional_clean(text):\n",
    "    text = text.replace('\\n', ' ').replace('[Intro]', ' ').replace('[Verse 1]', ' ').replace('[Verse 2]', ' ').replace('[Verse 3]', ' ').replace('[Post-Chorus]', ' ').replace('[Chorus]', ' ').replace('[Pre-Chorus]', ' ').replace('[Verse]', ' ').replace('[Outro]', ' ')\n",
    "    return text"
   ]
  },
  {
   "cell_type": "markdown",
   "id": "17b823c2",
   "metadata": {},
   "source": [
    "# 3 class  NB"
   ]
  },
  {
   "cell_type": "code",
   "execution_count": 67,
   "id": "1568e2cd",
   "metadata": {},
   "outputs": [],
   "source": [
    "df['clean_text'] = df['text'].apply(clean)"
   ]
  },
  {
   "cell_type": "code",
   "execution_count": 68,
   "id": "b15625cd",
   "metadata": {},
   "outputs": [],
   "source": [
    "emotion_dict = {'happy': 0, 'sad': 1, 'angry': 2}\n",
    "df['label'] = df.word_label.replace(emotion_dict)"
   ]
  },
  {
   "cell_type": "code",
   "execution_count": 69,
   "id": "63ad72be",
   "metadata": {},
   "outputs": [
    {
     "data": {
      "text/html": [
       "<div>\n",
       "<style scoped>\n",
       "    .dataframe tbody tr th:only-of-type {\n",
       "        vertical-align: middle;\n",
       "    }\n",
       "\n",
       "    .dataframe tbody tr th {\n",
       "        vertical-align: top;\n",
       "    }\n",
       "\n",
       "    .dataframe thead th {\n",
       "        text-align: right;\n",
       "    }\n",
       "</style>\n",
       "<table border=\"1\" class=\"dataframe\">\n",
       "  <thead>\n",
       "    <tr style=\"text-align: right;\">\n",
       "      <th></th>\n",
       "      <th>Unnamed: 0</th>\n",
       "      <th>text</th>\n",
       "      <th>word_label</th>\n",
       "      <th>source</th>\n",
       "      <th>clean_text</th>\n",
       "      <th>label</th>\n",
       "    </tr>\n",
       "  </thead>\n",
       "  <tbody>\n",
       "    <tr>\n",
       "      <th>0</th>\n",
       "      <td>0</td>\n",
       "      <td>i am thankful that she continues to feel comfo...</td>\n",
       "      <td>happy</td>\n",
       "      <td>HuggingFace</td>\n",
       "      <td>i am thankful that she continues to feel comfo...</td>\n",
       "      <td>0</td>\n",
       "    </tr>\n",
       "    <tr>\n",
       "      <th>1</th>\n",
       "      <td>1</td>\n",
       "      <td>i want to do it the right way oh orihime whisp...</td>\n",
       "      <td>happy</td>\n",
       "      <td>HuggingFace</td>\n",
       "      <td>i want to do it the right way oh orihime whisp...</td>\n",
       "      <td>0</td>\n",
       "    </tr>\n",
       "    <tr>\n",
       "      <th>2</th>\n",
       "      <td>2</td>\n",
       "      <td>i was gaining weight getting a lot stronger an...</td>\n",
       "      <td>happy</td>\n",
       "      <td>HuggingFace</td>\n",
       "      <td>i was gaining weight getting a lot stronger an...</td>\n",
       "      <td>0</td>\n",
       "    </tr>\n",
       "    <tr>\n",
       "      <th>3</th>\n",
       "      <td>3</td>\n",
       "      <td>i feel that there is no way to determine if a ...</td>\n",
       "      <td>happy</td>\n",
       "      <td>HuggingFace</td>\n",
       "      <td>i feel that there is no way to determine if a ...</td>\n",
       "      <td>0</td>\n",
       "    </tr>\n",
       "    <tr>\n",
       "      <th>4</th>\n",
       "      <td>4</td>\n",
       "      <td>i feel sure that i wouldnt have gained so much...</td>\n",
       "      <td>happy</td>\n",
       "      <td>HuggingFace</td>\n",
       "      <td>i feel sure that i wouldnt have gained so much...</td>\n",
       "      <td>0</td>\n",
       "    </tr>\n",
       "    <tr>\n",
       "      <th>...</th>\n",
       "      <td>...</td>\n",
       "      <td>...</td>\n",
       "      <td>...</td>\n",
       "      <td>...</td>\n",
       "      <td>...</td>\n",
       "      <td>...</td>\n",
       "    </tr>\n",
       "    <tr>\n",
       "      <th>42480</th>\n",
       "      <td>1315</td>\n",
       "      <td>This hurts to hear because we know it's true. ...</td>\n",
       "      <td>sad</td>\n",
       "      <td>Google_GoEmotions</td>\n",
       "      <td>this hurts to hear because we know its true th...</td>\n",
       "      <td>1</td>\n",
       "    </tr>\n",
       "    <tr>\n",
       "      <th>42481</th>\n",
       "      <td>1316</td>\n",
       "      <td>Yep happening to me all the time at my college...</td>\n",
       "      <td>sad</td>\n",
       "      <td>Google_GoEmotions</td>\n",
       "      <td>yep happening to me all the time at my college...</td>\n",
       "      <td>1</td>\n",
       "    </tr>\n",
       "    <tr>\n",
       "      <th>42482</th>\n",
       "      <td>1317</td>\n",
       "      <td>Shit, I lost the original page. Please forgive...</td>\n",
       "      <td>sad</td>\n",
       "      <td>Google_GoEmotions</td>\n",
       "      <td>shit i lost the original page please forgive me</td>\n",
       "      <td>1</td>\n",
       "    </tr>\n",
       "    <tr>\n",
       "      <th>42483</th>\n",
       "      <td>1318</td>\n",
       "      <td>I want to die</td>\n",
       "      <td>sad</td>\n",
       "      <td>Google_GoEmotions</td>\n",
       "      <td>i want to die</td>\n",
       "      <td>1</td>\n",
       "    </tr>\n",
       "    <tr>\n",
       "      <th>42484</th>\n",
       "      <td>1319</td>\n",
       "      <td>I mourn for you anti-intellectuals</td>\n",
       "      <td>sad</td>\n",
       "      <td>Google_GoEmotions</td>\n",
       "      <td>i mourn for you antiintellectuals</td>\n",
       "      <td>1</td>\n",
       "    </tr>\n",
       "  </tbody>\n",
       "</table>\n",
       "<p>42485 rows × 6 columns</p>\n",
       "</div>"
      ],
      "text/plain": [
       "       Unnamed: 0                                               text  \\\n",
       "0               0  i am thankful that she continues to feel comfo...   \n",
       "1               1  i want to do it the right way oh orihime whisp...   \n",
       "2               2  i was gaining weight getting a lot stronger an...   \n",
       "3               3  i feel that there is no way to determine if a ...   \n",
       "4               4  i feel sure that i wouldnt have gained so much...   \n",
       "...           ...                                                ...   \n",
       "42480        1315  This hurts to hear because we know it's true. ...   \n",
       "42481        1316  Yep happening to me all the time at my college...   \n",
       "42482        1317  Shit, I lost the original page. Please forgive...   \n",
       "42483        1318                                      I want to die   \n",
       "42484        1319                 I mourn for you anti-intellectuals   \n",
       "\n",
       "      word_label             source  \\\n",
       "0          happy        HuggingFace   \n",
       "1          happy        HuggingFace   \n",
       "2          happy        HuggingFace   \n",
       "3          happy        HuggingFace   \n",
       "4          happy        HuggingFace   \n",
       "...          ...                ...   \n",
       "42480        sad  Google_GoEmotions   \n",
       "42481        sad  Google_GoEmotions   \n",
       "42482        sad  Google_GoEmotions   \n",
       "42483        sad  Google_GoEmotions   \n",
       "42484        sad  Google_GoEmotions   \n",
       "\n",
       "                                              clean_text  label  \n",
       "0      i am thankful that she continues to feel comfo...      0  \n",
       "1      i want to do it the right way oh orihime whisp...      0  \n",
       "2      i was gaining weight getting a lot stronger an...      0  \n",
       "3      i feel that there is no way to determine if a ...      0  \n",
       "4      i feel sure that i wouldnt have gained so much...      0  \n",
       "...                                                  ...    ...  \n",
       "42480  this hurts to hear because we know its true th...      1  \n",
       "42481  yep happening to me all the time at my college...      1  \n",
       "42482    shit i lost the original page please forgive me      1  \n",
       "42483                                      i want to die      1  \n",
       "42484                  i mourn for you antiintellectuals      1  \n",
       "\n",
       "[42485 rows x 6 columns]"
      ]
     },
     "execution_count": 69,
     "metadata": {},
     "output_type": "execute_result"
    }
   ],
   "source": [
    "df"
   ]
  },
  {
   "cell_type": "code",
   "execution_count": 70,
   "id": "513b94a9",
   "metadata": {},
   "outputs": [],
   "source": [
    "train_df, eval_df = train_test_split(df, test_size=0.2)"
   ]
  },
  {
   "cell_type": "code",
   "execution_count": 117,
   "id": "8d27182c",
   "metadata": {},
   "outputs": [
    {
     "data": {
      "text/plain": [
       "0.7520301282805696"
      ]
     },
     "execution_count": 117,
     "metadata": {},
     "output_type": "execute_result"
    }
   ],
   "source": [
    "from sklearn.feature_extraction.text import TfidfVectorizer\n",
    "vectorizer = TfidfVectorizer(max_features=20000, min_df=25, ngram_range=(1,5),dtype=np.float32)\n",
    "#vectorizer = TfidfVectorizer(ngram_range = (1,6), strip_accents = 'unicode', max_df=.99, min_df=25)\n",
    "\n",
    "X_train = vectorizer.fit_transform(train_df.clean_text)\n",
    "\n",
    "y_train = train_df.label\n",
    "\n",
    "nb_model = MultinomialNB()\n",
    "\n",
    "nb_model.fit(X_train,y_train)\n",
    "\n",
    "nb_model.score(X_train,y_train)"
   ]
  },
  {
   "cell_type": "code",
   "execution_count": 118,
   "id": "d0e2a916",
   "metadata": {},
   "outputs": [],
   "source": [
    "X_val = vectorizer.transform(eval_df.clean_text)\n",
    "\n",
    "y_val = eval_df.label"
   ]
  },
  {
   "cell_type": "code",
   "execution_count": 119,
   "id": "e7f633b4",
   "metadata": {},
   "outputs": [
    {
     "data": {
      "text/plain": [
       "0.7109568082852772"
      ]
     },
     "execution_count": 119,
     "metadata": {},
     "output_type": "execute_result"
    }
   ],
   "source": [
    "nb_model.score(X_val, y_val)"
   ]
  },
  {
   "cell_type": "code",
   "execution_count": 108,
   "id": "8965542d",
   "metadata": {},
   "outputs": [],
   "source": [
    "lyrics = get_test_lyrics()"
   ]
  },
  {
   "cell_type": "code",
   "execution_count": 220,
   "id": "9d25c2ac",
   "metadata": {},
   "outputs": [],
   "source": [
    "lyrics['lyrics'] = lyrics['lyrics'].apply(additional_clean)"
   ]
  },
  {
   "cell_type": "code",
   "execution_count": 221,
   "id": "2c032b3f",
   "metadata": {},
   "outputs": [
    {
     "data": {
      "text/html": [
       "<div>\n",
       "<style scoped>\n",
       "    .dataframe tbody tr th:only-of-type {\n",
       "        vertical-align: middle;\n",
       "    }\n",
       "\n",
       "    .dataframe tbody tr th {\n",
       "        vertical-align: top;\n",
       "    }\n",
       "\n",
       "    .dataframe thead th {\n",
       "        text-align: right;\n",
       "    }\n",
       "</style>\n",
       "<table border=\"1\" class=\"dataframe\">\n",
       "  <thead>\n",
       "    <tr style=\"text-align: right;\">\n",
       "      <th></th>\n",
       "      <th>Unnamed: 0</th>\n",
       "      <th>Unnamed: 0.1</th>\n",
       "      <th>title</th>\n",
       "      <th>artist</th>\n",
       "      <th>label</th>\n",
       "      <th>lyrics</th>\n",
       "    </tr>\n",
       "  </thead>\n",
       "  <tbody>\n",
       "    <tr>\n",
       "      <th>0</th>\n",
       "      <td>0</td>\n",
       "      <td>0</td>\n",
       "      <td>If I Die Young</td>\n",
       "      <td>Naya Rivera</td>\n",
       "      <td>sad</td>\n",
       "      <td>Text If I die young, bury me in satin Lay me d...</td>\n",
       "    </tr>\n",
       "    <tr>\n",
       "      <th>1</th>\n",
       "      <td>1</td>\n",
       "      <td>1</td>\n",
       "      <td>Angie</td>\n",
       "      <td>The Rolling Stones</td>\n",
       "      <td>sad</td>\n",
       "      <td>Angie, Angie When will those clouds all disapp...</td>\n",
       "    </tr>\n",
       "    <tr>\n",
       "      <th>2</th>\n",
       "      <td>2</td>\n",
       "      <td>2</td>\n",
       "      <td>Pretty Sad</td>\n",
       "      <td>XYLØ</td>\n",
       "      <td>sad</td>\n",
       "      <td>(Feeling pretty sad, pretty, pretty sad, sad...</td>\n",
       "    </tr>\n",
       "    <tr>\n",
       "      <th>3</th>\n",
       "      <td>3</td>\n",
       "      <td>3</td>\n",
       "      <td>Tear In Your Hand</td>\n",
       "      <td>Tori Amos</td>\n",
       "      <td>sad</td>\n",
       "      <td>All the world just stopped now_x000D_ So you s...</td>\n",
       "    </tr>\n",
       "    <tr>\n",
       "      <th>4</th>\n",
       "      <td>4</td>\n",
       "      <td>4</td>\n",
       "      <td>Canvas</td>\n",
       "      <td>Shane Smith &amp; The Saints</td>\n",
       "      <td>sad</td>\n",
       "      <td>I had a a brother, who wasn't from my family W...</td>\n",
       "    </tr>\n",
       "    <tr>\n",
       "      <th>...</th>\n",
       "      <td>...</td>\n",
       "      <td>...</td>\n",
       "      <td>...</td>\n",
       "      <td>...</td>\n",
       "      <td>...</td>\n",
       "      <td>...</td>\n",
       "    </tr>\n",
       "    <tr>\n",
       "      <th>255</th>\n",
       "      <td>255</td>\n",
       "      <td>255</td>\n",
       "      <td>Fucking Hostile</td>\n",
       "      <td>Pantera</td>\n",
       "      <td>angry</td>\n",
       "      <td>ne, two, three, four!  Almost every day I see ...</td>\n",
       "    </tr>\n",
       "    <tr>\n",
       "      <th>256</th>\n",
       "      <td>256</td>\n",
       "      <td>256</td>\n",
       "      <td>Refuse/Resist</td>\n",
       "      <td>Sepultura</td>\n",
       "      <td>angry</td>\n",
       "      <td>A.D. Tanks on the streets Confronting police B...</td>\n",
       "    </tr>\n",
       "    <tr>\n",
       "      <th>257</th>\n",
       "      <td>257</td>\n",
       "      <td>257</td>\n",
       "      <td>Dam That River</td>\n",
       "      <td>Alice in Chains</td>\n",
       "      <td>angry</td>\n",
       "      <td>I broke you in the canyon I drowned you in the...</td>\n",
       "    </tr>\n",
       "    <tr>\n",
       "      <th>258</th>\n",
       "      <td>258</td>\n",
       "      <td>258</td>\n",
       "      <td>Destroy Everything</td>\n",
       "      <td>Hatebreed</td>\n",
       "      <td>angry</td>\n",
       "      <td>A new life begins  Destroy everything Destroy ...</td>\n",
       "    </tr>\n",
       "    <tr>\n",
       "      <th>259</th>\n",
       "      <td>259</td>\n",
       "      <td>259</td>\n",
       "      <td>Institutionalized</td>\n",
       "      <td>Suicidal Tendencies</td>\n",
       "      <td>angry</td>\n",
       "      <td>Sometimes I try to do things And it just doesn...</td>\n",
       "    </tr>\n",
       "  </tbody>\n",
       "</table>\n",
       "<p>260 rows × 6 columns</p>\n",
       "</div>"
      ],
      "text/plain": [
       "     Unnamed: 0  Unnamed: 0.1               title                    artist  \\\n",
       "0             0             0      If I Die Young               Naya Rivera   \n",
       "1             1             1               Angie        The Rolling Stones   \n",
       "2             2             2          Pretty Sad                      XYLØ   \n",
       "3             3             3   Tear In Your Hand                 Tori Amos   \n",
       "4             4             4              Canvas  Shane Smith & The Saints   \n",
       "..          ...           ...                 ...                       ...   \n",
       "255         255           255     Fucking Hostile                   Pantera   \n",
       "256         256           256       Refuse/Resist                 Sepultura   \n",
       "257         257           257      Dam That River           Alice in Chains   \n",
       "258         258           258  Destroy Everything                 Hatebreed   \n",
       "259         259           259   Institutionalized       Suicidal Tendencies   \n",
       "\n",
       "     label                                             lyrics  \n",
       "0      sad  Text If I die young, bury me in satin Lay me d...  \n",
       "1      sad  Angie, Angie When will those clouds all disapp...  \n",
       "2      sad    (Feeling pretty sad, pretty, pretty sad, sad...  \n",
       "3      sad  All the world just stopped now_x000D_ So you s...  \n",
       "4      sad  I had a a brother, who wasn't from my family W...  \n",
       "..     ...                                                ...  \n",
       "255  angry  ne, two, three, four!  Almost every day I see ...  \n",
       "256  angry  A.D. Tanks on the streets Confronting police B...  \n",
       "257  angry  I broke you in the canyon I drowned you in the...  \n",
       "258  angry  A new life begins  Destroy everything Destroy ...  \n",
       "259  angry  Sometimes I try to do things And it just doesn...  \n",
       "\n",
       "[260 rows x 6 columns]"
      ]
     },
     "execution_count": 221,
     "metadata": {},
     "output_type": "execute_result"
    }
   ],
   "source": [
    "lyrics"
   ]
  },
  {
   "cell_type": "code",
   "execution_count": 222,
   "id": "3893c453",
   "metadata": {},
   "outputs": [],
   "source": [
    "X_test = vectorizer.transform(lyrics['lyrics'].apply(clean))\n",
    "y_test = lyrics['label'].map(emotion_dict)"
   ]
  },
  {
   "cell_type": "code",
   "execution_count": 121,
   "id": "846b8ca9",
   "metadata": {},
   "outputs": [
    {
     "data": {
      "text/plain": [
       "0.5615384615384615"
      ]
     },
     "execution_count": 121,
     "metadata": {},
     "output_type": "execute_result"
    }
   ],
   "source": [
    "nb_model.score(X_test,y_test)"
   ]
  },
  {
   "cell_type": "code",
   "execution_count": 77,
   "id": "5e7e3661",
   "metadata": {},
   "outputs": [],
   "source": [
    "y_pred = nb_model.predict(X_test)"
   ]
  },
  {
   "cell_type": "code",
   "execution_count": 78,
   "id": "83e2b898",
   "metadata": {},
   "outputs": [
    {
     "data": {
      "text/plain": [
       "<sklearn.metrics._plot.confusion_matrix.ConfusionMatrixDisplay at 0x1267e9f70>"
      ]
     },
     "execution_count": 78,
     "metadata": {},
     "output_type": "execute_result"
    },
    {
     "data": {
      "image/png": "[encoded data removed]",
      "text/plain": [
       "<Figure size 432x288 with 2 Axes>"
      ]
     },
     "metadata": {
      "needs_background": "light"
     },
     "output_type": "display_data"
    }
   ],
   "source": [
    "from sklearn.metrics import confusion_matrix, ConfusionMatrixDisplay\n",
    "ConfusionMatrixDisplay(confusion_matrix(y_test, y_pred), display_labels=nb_model.classes_).plot()"
   ]
  },
  {
   "cell_type": "markdown",
   "id": "f716c28c",
   "metadata": {},
   "source": [
    "# 2 class NB"
   ]
  },
  {
   "cell_type": "code",
   "execution_count": 39,
   "id": "815ac99d",
   "metadata": {},
   "outputs": [],
   "source": [
    "happysad = df[df['label'] != 2]"
   ]
  },
  {
   "cell_type": "code",
   "execution_count": 137,
   "id": "84835bcf",
   "metadata": {},
   "outputs": [],
   "source": [
    "train_df, eval_df = train_test_split(happysad, test_size=0.2)"
   ]
  },
  {
   "cell_type": "code",
   "execution_count": 161,
   "id": "4520f63f",
   "metadata": {},
   "outputs": [
    {
     "data": {
      "text/plain": [
       "0.8502826096481619"
      ]
     },
     "execution_count": 161,
     "metadata": {},
     "output_type": "execute_result"
    }
   ],
   "source": [
    "vectorizer = TfidfVectorizer(ngram_range = (1,5), max_df=.9, min_df=25, strip_accents=\"unicode\", max_features=10000, dtype=np.float32)\n",
    "\n",
    "X_train = vectorizer.fit_transform(train_df.clean_text)\n",
    "\n",
    "y_train = train_df.label\n",
    "\n",
    "nb_model = MultinomialNB(alpha=1.5)\n",
    "\n",
    "nb_model.fit(X_train,y_train)\n",
    "\n",
    "nb_model.score(X_train,y_train)"
   ]
  },
  {
   "cell_type": "code",
   "execution_count": 162,
   "id": "59daa865",
   "metadata": {},
   "outputs": [
    {
     "data": {
      "text/plain": [
       "0.8364879074658255"
      ]
     },
     "execution_count": 162,
     "metadata": {},
     "output_type": "execute_result"
    }
   ],
   "source": [
    "X_val = vectorizer.transform(eval_df.clean_text)\n",
    "\n",
    "y_val = eval_df.label\n",
    "nb_model.score(X_val, y_val)"
   ]
  },
  {
   "cell_type": "code",
   "execution_count": 44,
   "id": "8ce7d932",
   "metadata": {},
   "outputs": [],
   "source": [
    "happysad_lyr = lyrics[lyrics['label'] != 'angry']"
   ]
  },
  {
   "cell_type": "code",
   "execution_count": 45,
   "id": "e18cbc4d",
   "metadata": {},
   "outputs": [
    {
     "data": {
      "text/html": [
       "<div>\n",
       "<style scoped>\n",
       "    .dataframe tbody tr th:only-of-type {\n",
       "        vertical-align: middle;\n",
       "    }\n",
       "\n",
       "    .dataframe tbody tr th {\n",
       "        vertical-align: top;\n",
       "    }\n",
       "\n",
       "    .dataframe thead th {\n",
       "        text-align: right;\n",
       "    }\n",
       "</style>\n",
       "<table border=\"1\" class=\"dataframe\">\n",
       "  <thead>\n",
       "    <tr style=\"text-align: right;\">\n",
       "      <th></th>\n",
       "      <th>Unnamed: 0</th>\n",
       "      <th>Unnamed: 0.1</th>\n",
       "      <th>title</th>\n",
       "      <th>artist</th>\n",
       "      <th>label</th>\n",
       "      <th>lyrics</th>\n",
       "    </tr>\n",
       "  </thead>\n",
       "  <tbody>\n",
       "    <tr>\n",
       "      <th>0</th>\n",
       "      <td>0</td>\n",
       "      <td>0</td>\n",
       "      <td>If I Die Young</td>\n",
       "      <td>Naya Rivera</td>\n",
       "      <td>sad</td>\n",
       "      <td>Text\\nIf I die young, bury me in satin\\nLay me...</td>\n",
       "    </tr>\n",
       "    <tr>\n",
       "      <th>1</th>\n",
       "      <td>1</td>\n",
       "      <td>1</td>\n",
       "      <td>Angie</td>\n",
       "      <td>The Rolling Stones</td>\n",
       "      <td>sad</td>\n",
       "      <td>Angie, Angie\\nWhen will those clouds all disap...</td>\n",
       "    </tr>\n",
       "    <tr>\n",
       "      <th>2</th>\n",
       "      <td>2</td>\n",
       "      <td>2</td>\n",
       "      <td>Pretty Sad</td>\n",
       "      <td>XYLØ</td>\n",
       "      <td>sad</td>\n",
       "      <td>[Intro]\\n(Feeling pretty sad, pretty, pretty s...</td>\n",
       "    </tr>\n",
       "    <tr>\n",
       "      <th>3</th>\n",
       "      <td>3</td>\n",
       "      <td>3</td>\n",
       "      <td>Tear In Your Hand</td>\n",
       "      <td>Tori Amos</td>\n",
       "      <td>sad</td>\n",
       "      <td>All the world just stopped now_x000D_\\nSo you ...</td>\n",
       "    </tr>\n",
       "    <tr>\n",
       "      <th>4</th>\n",
       "      <td>4</td>\n",
       "      <td>4</td>\n",
       "      <td>Canvas</td>\n",
       "      <td>Shane Smith &amp; The Saints</td>\n",
       "      <td>sad</td>\n",
       "      <td>I had a a brother, who wasn't from my family\\n...</td>\n",
       "    </tr>\n",
       "    <tr>\n",
       "      <th>...</th>\n",
       "      <td>...</td>\n",
       "      <td>...</td>\n",
       "      <td>...</td>\n",
       "      <td>...</td>\n",
       "      <td>...</td>\n",
       "      <td>...</td>\n",
       "    </tr>\n",
       "    <tr>\n",
       "      <th>200</th>\n",
       "      <td>200</td>\n",
       "      <td>200</td>\n",
       "      <td>Dog Days Are Over</td>\n",
       "      <td>Florence + The Machine</td>\n",
       "      <td>happy</td>\n",
       "      <td>[Verse 1]\\nHappiness hit her like a train on a...</td>\n",
       "    </tr>\n",
       "    <tr>\n",
       "      <th>201</th>\n",
       "      <td>201</td>\n",
       "      <td>201</td>\n",
       "      <td>Good Vibes</td>\n",
       "      <td>Chris Janson</td>\n",
       "      <td>happy</td>\n",
       "      <td>[Verse 1]\\nI ain't watching TV today\\nBad news...</td>\n",
       "    </tr>\n",
       "    <tr>\n",
       "      <th>202</th>\n",
       "      <td>202</td>\n",
       "      <td>202</td>\n",
       "      <td>High Hopes</td>\n",
       "      <td>Panic! At the Disco</td>\n",
       "      <td>happy</td>\n",
       "      <td>[Intro]\\nHigh, high hopes\\n[Chorus]\\nHad to ha...</td>\n",
       "    </tr>\n",
       "    <tr>\n",
       "      <th>203</th>\n",
       "      <td>203</td>\n",
       "      <td>203</td>\n",
       "      <td>Hey Look Ma, I Made It</td>\n",
       "      <td>Panic! At the Disco</td>\n",
       "      <td>happy</td>\n",
       "      <td>[Verse 1]\\nAll my life, been hustlin' and\\nTon...</td>\n",
       "    </tr>\n",
       "    <tr>\n",
       "      <th>204</th>\n",
       "      <td>204</td>\n",
       "      <td>204</td>\n",
       "      <td>Take It Easy</td>\n",
       "      <td>Eagles</td>\n",
       "      <td>happy</td>\n",
       "      <td>[Verse 1]\\nWell, I'm running down the road try...</td>\n",
       "    </tr>\n",
       "  </tbody>\n",
       "</table>\n",
       "<p>205 rows × 6 columns</p>\n",
       "</div>"
      ],
      "text/plain": [
       "     Unnamed: 0  Unnamed: 0.1                   title  \\\n",
       "0             0             0          If I Die Young   \n",
       "1             1             1                   Angie   \n",
       "2             2             2              Pretty Sad   \n",
       "3             3             3       Tear In Your Hand   \n",
       "4             4             4                  Canvas   \n",
       "..          ...           ...                     ...   \n",
       "200         200           200       Dog Days Are Over   \n",
       "201         201           201              Good Vibes   \n",
       "202         202           202              High Hopes   \n",
       "203         203           203  Hey Look Ma, I Made It   \n",
       "204         204           204            Take It Easy   \n",
       "\n",
       "                       artist  label  \\\n",
       "0                 Naya Rivera    sad   \n",
       "1          The Rolling Stones    sad   \n",
       "2                        XYLØ    sad   \n",
       "3                   Tori Amos    sad   \n",
       "4    Shane Smith & The Saints    sad   \n",
       "..                        ...    ...   \n",
       "200    Florence + The Machine  happy   \n",
       "201              Chris Janson  happy   \n",
       "202       Panic! At the Disco  happy   \n",
       "203       Panic! At the Disco  happy   \n",
       "204                    Eagles  happy   \n",
       "\n",
       "                                                lyrics  \n",
       "0    Text\\nIf I die young, bury me in satin\\nLay me...  \n",
       "1    Angie, Angie\\nWhen will those clouds all disap...  \n",
       "2    [Intro]\\n(Feeling pretty sad, pretty, pretty s...  \n",
       "3    All the world just stopped now_x000D_\\nSo you ...  \n",
       "4    I had a a brother, who wasn't from my family\\n...  \n",
       "..                                                 ...  \n",
       "200  [Verse 1]\\nHappiness hit her like a train on a...  \n",
       "201  [Verse 1]\\nI ain't watching TV today\\nBad news...  \n",
       "202  [Intro]\\nHigh, high hopes\\n[Chorus]\\nHad to ha...  \n",
       "203  [Verse 1]\\nAll my life, been hustlin' and\\nTon...  \n",
       "204  [Verse 1]\\nWell, I'm running down the road try...  \n",
       "\n",
       "[205 rows x 6 columns]"
      ]
     },
     "execution_count": 45,
     "metadata": {},
     "output_type": "execute_result"
    }
   ],
   "source": [
    "happysad_lyr"
   ]
  },
  {
   "cell_type": "code",
   "execution_count": 163,
   "id": "c9f83365",
   "metadata": {},
   "outputs": [
    {
     "data": {
      "text/plain": [
       "0.6878048780487804"
      ]
     },
     "execution_count": 163,
     "metadata": {},
     "output_type": "execute_result"
    }
   ],
   "source": [
    "X_test = vectorizer.transform(happysad_lyr['lyrics'].apply(clean).replace('\\n', ' '))\n",
    "y_test = happysad_lyr['label'].map(emotion_dict)\n",
    "nb_model.score(X_test, y_test)"
   ]
  },
  {
   "cell_type": "code",
   "execution_count": 60,
   "id": "b42cc3a7",
   "metadata": {},
   "outputs": [],
   "source": [
    "y_pred = nb_model.predict(X_test)"
   ]
  },
  {
   "cell_type": "code",
   "execution_count": 64,
   "id": "e60a5c36",
   "metadata": {},
   "outputs": [
    {
     "data": {
      "text/plain": [
       "<sklearn.metrics._plot.confusion_matrix.ConfusionMatrixDisplay at 0x1265c25b0>"
      ]
     },
     "execution_count": 64,
     "metadata": {},
     "output_type": "execute_result"
    },
    {
     "data": {
      "image/png": "[encoded data removed]",
      "text/plain": [
       "<Figure size 432x288 with 2 Axes>"
      ]
     },
     "metadata": {
      "needs_background": "light"
     },
     "output_type": "display_data"
    }
   ],
   "source": [
    "from sklearn.metrics import confusion_matrix, ConfusionMatrixDisplay\n",
    "ConfusionMatrixDisplay(confusion_matrix(y_test, y_pred), display_labels=nb_model.classes_).plot()"
   ]
  },
  {
   "cell_type": "markdown",
   "id": "b2b6ea2f",
   "metadata": {},
   "source": [
    "# Logistic Regression -- 2 class - happy or sad"
   ]
  },
  {
   "cell_type": "code",
   "execution_count": 177,
   "id": "4650392f",
   "metadata": {},
   "outputs": [],
   "source": [
    "vectorizer = TfidfVectorizer(ngram_range = (1,5), max_df=.9, min_df=25, strip_accents=\"unicode\", max_features=10000, dtype=np.float32)\n",
    "\n",
    "vectorizer = vectorizer.fit(train_df.clean_text)\n",
    "X_train = vectorizer.transform(train_df.clean_text)\n",
    "y_train = train_df.label\n"
   ]
  },
  {
   "cell_type": "code",
   "execution_count": 172,
   "id": "7d852f7c",
   "metadata": {},
   "outputs": [
    {
     "data": {
      "text/plain": [
       "0.8703062699907987"
      ]
     },
     "execution_count": 172,
     "metadata": {},
     "output_type": "execute_result"
    }
   ],
   "source": [
    "lr_model = LogisticRegression()\n",
    "lr_model.fit(X_train, y_train)\n",
    "lr_model.score(X_train, y_train)"
   ]
  },
  {
   "cell_type": "code",
   "execution_count": 173,
   "id": "fbda7db0",
   "metadata": {},
   "outputs": [
    {
     "data": {
      "text/plain": [
       "0.8335085874518051"
      ]
     },
     "execution_count": 173,
     "metadata": {},
     "output_type": "execute_result"
    }
   ],
   "source": [
    "X_val = vectorizer.transform(eval_df.clean_text)\n",
    "y_val = eval_df.label\n",
    "lr_model.score(X_val, y_val)"
   ]
  },
  {
   "cell_type": "code",
   "execution_count": 174,
   "id": "34909e3f",
   "metadata": {},
   "outputs": [
    {
     "data": {
      "text/plain": [
       "0.7170731707317073"
      ]
     },
     "execution_count": 174,
     "metadata": {},
     "output_type": "execute_result"
    }
   ],
   "source": [
    "X_test = vectorizer.transform(happysad_lyr['lyrics'].apply(clean).replace('\\n', ' '))\n",
    "y_test = happysad_lyr['label'].map(emotion_dict)\n",
    "lr_model.score(X_test, y_test)"
   ]
  },
  {
   "cell_type": "code",
   "execution_count": 176,
   "id": "03144943",
   "metadata": {},
   "outputs": [
    {
     "data": {
      "text/plain": [
       "<sklearn.metrics._plot.confusion_matrix.ConfusionMatrixDisplay at 0x129704100>"
      ]
     },
     "execution_count": 176,
     "metadata": {},
     "output_type": "execute_result"
    },
    {
     "data": {
      "image/png": "[encoded data removed]",
      "text/plain": [
       "<Figure size 432x288 with 2 Axes>"
      ]
     },
     "metadata": {
      "needs_background": "light"
     },
     "output_type": "display_data"
    }
   ],
   "source": [
    "y_pred = lr_model.predict(X_test)\n",
    "ConfusionMatrixDisplay(confusion_matrix(y_test, y_pred), display_labels=lr_model.classes_).plot()"
   ]
  },
  {
   "cell_type": "code",
   "execution_count": 186,
   "id": "050ab388",
   "metadata": {},
   "outputs": [
    {
     "data": {
      "text/plain": [
       "GridSearchCV(cv=5, error_score=nan,\n",
       "             estimator=LogisticRegression(C=1.0, class_weight=None, dual=False,\n",
       "                                          fit_intercept=True,\n",
       "                                          intercept_scaling=1, l1_ratio=None,\n",
       "                                          max_iter=300, multi_class='auto',\n",
       "                                          n_jobs=None, penalty='l2',\n",
       "                                          random_state=None, solver='saga',\n",
       "                                          tol=0.0001, verbose=0,\n",
       "                                          warm_start=False),\n",
       "             iid='deprecated', n_jobs=-1,\n",
       "             param_grid={'C': [0.01, 0.1, 0.5, 1], 'penalty': ['l1', 'l2']},\n",
       "             pre_dispatch='2*n_jobs', refit=True, return_train_score=False,\n",
       "             scoring=None, verbose=0)"
      ]
     },
     "execution_count": 186,
     "metadata": {},
     "output_type": "execute_result"
    }
   ],
   "source": [
    "from sklearn.model_selection import GridSearchCV\n",
    "\n",
    "grid={\"C\":[0.01, 0.1, 0.5, 1], \"penalty\":[\"l1\",\"l2\"]}# l1 lasso l2 ridge\n",
    "logreg=LogisticRegression(solver='saga', max_iter=300)\n",
    "logreg_cv2=GridSearchCV(logreg, grid, cv=5, n_jobs=-1)\n",
    "logreg_cv2.fit(X_train,y_train)\n"
   ]
  },
  {
   "cell_type": "code",
   "execution_count": 187,
   "id": "34277244",
   "metadata": {},
   "outputs": [],
   "source": [
    "best1 = logreg_cv.best_estimator_"
   ]
  },
  {
   "cell_type": "code",
   "execution_count": 198,
   "id": "c60de33a",
   "metadata": {},
   "outputs": [
    {
     "data": {
      "text/plain": [
       "LogisticRegression(C=1.023292992280754, class_weight=None, dual=False,\n",
       "                   fit_intercept=True, intercept_scaling=1, l1_ratio=None,\n",
       "                   max_iter=300, multi_class='auto', n_jobs=None, penalty='l1',\n",
       "                   random_state=None, solver='saga', tol=0.0001, verbose=0,\n",
       "                   warm_start=False)"
      ]
     },
     "execution_count": 198,
     "metadata": {},
     "output_type": "execute_result"
    }
   ],
   "source": [
    "best1"
   ]
  },
  {
   "cell_type": "code",
   "execution_count": 197,
   "id": "f629c147",
   "metadata": {},
   "outputs": [
    {
     "data": {
      "text/plain": [
       "0.8490115754790102"
      ]
     },
     "execution_count": 197,
     "metadata": {},
     "output_type": "execute_result"
    }
   ],
   "source": [
    "logreg_cv.best_score_"
   ]
  },
  {
   "cell_type": "code",
   "execution_count": 191,
   "id": "8ed881ca",
   "metadata": {},
   "outputs": [
    {
     "data": {
      "text/plain": [
       "GridSearchCV(cv=5, error_score=nan,\n",
       "             estimator=LogisticRegression(C=1.0, class_weight=None, dual=False,\n",
       "                                          fit_intercept=True,\n",
       "                                          intercept_scaling=1, l1_ratio=None,\n",
       "                                          max_iter=300, multi_class='auto',\n",
       "                                          n_jobs=None, penalty='l2',\n",
       "                                          random_state=None, solver='lbfgs',\n",
       "                                          tol=0.0001, verbose=0,\n",
       "                                          warm_start=False),\n",
       "             iid='deprecated', n_jobs=-1,\n",
       "             param_grid={'C': [0.8, 1, 1.2],\n",
       "                         'solver': ['saga', 'newton-cg', 'sag', 'lbfgs']},\n",
       "             pre_dispatch='2*n_jobs', refit=True, return_train_score=False,\n",
       "             scoring=None, verbose=0)"
      ]
     },
     "execution_count": 191,
     "metadata": {},
     "output_type": "execute_result"
    }
   ],
   "source": [
    "grid={\"C\":[.8, 1, 1.2], 'solver':['saga', 'newton-cg', 'sag', 'lbfgs']}\n",
    "logreg=LogisticRegression(max_iter=300)\n",
    "logreg_cv2=GridSearchCV(logreg, grid, cv=5, n_jobs=-1)\n",
    "logreg_cv2.fit(X_train,y_train)"
   ]
  },
  {
   "cell_type": "code",
   "execution_count": 192,
   "id": "449bf7e7",
   "metadata": {},
   "outputs": [
    {
     "data": {
      "text/plain": [
       "LogisticRegression(C=1.2, class_weight=None, dual=False, fit_intercept=True,\n",
       "                   intercept_scaling=1, l1_ratio=None, max_iter=300,\n",
       "                   multi_class='auto', n_jobs=None, penalty='l2',\n",
       "                   random_state=None, solver='saga', tol=0.0001, verbose=0,\n",
       "                   warm_start=False)"
      ]
     },
     "execution_count": 192,
     "metadata": {},
     "output_type": "execute_result"
    }
   ],
   "source": [
    "logreg_cv2.best_estimator_"
   ]
  },
  {
   "cell_type": "code",
   "execution_count": 193,
   "id": "f3dfda1c",
   "metadata": {},
   "outputs": [
    {
     "data": {
      "text/plain": [
       "GridSearchCV(cv=10, error_score=nan,\n",
       "             estimator=LogisticRegression(C=1.0, class_weight=None, dual=False,\n",
       "                                          fit_intercept=True,\n",
       "                                          intercept_scaling=1, l1_ratio=None,\n",
       "                                          max_iter=300, multi_class='auto',\n",
       "                                          n_jobs=None, penalty='elasticnet',\n",
       "                                          random_state=None, solver='saga',\n",
       "                                          tol=0.0001, verbose=0,\n",
       "                                          warm_start=False),\n",
       "             iid='deprecated', n_jobs=-1,\n",
       "             param_grid={'C': [1, 1.2, 1.5], 'l1_ratio': [0.2, 0.5, 0.8]},\n",
       "             pre_dispatch='2*n_jobs', refit=True, return_train_score=False,\n",
       "             scoring=None, verbose=0)"
      ]
     },
     "execution_count": 193,
     "metadata": {},
     "output_type": "execute_result"
    }
   ],
   "source": [
    "grid={\"l1_ratio\":[.2,.5,.8], \"C\":[1,1.2,1.5]}\n",
    "logreg=LogisticRegression(max_iter=300, solver=\"saga\", penalty=\"elasticnet\")\n",
    "logreg_cv2=GridSearchCV(logreg, grid, cv=10, n_jobs=-1)\n",
    "logreg_cv2.fit(X_train,y_train)"
   ]
  },
  {
   "cell_type": "code",
   "execution_count": 199,
   "id": "ca97a3d8",
   "metadata": {},
   "outputs": [],
   "source": [
    "best2 = logreg_cv2.best_estimator_"
   ]
  },
  {
   "cell_type": "code",
   "execution_count": 196,
   "id": "0a4885a0",
   "metadata": {},
   "outputs": [
    {
     "data": {
      "text/plain": [
       "0.846864489771788"
      ]
     },
     "execution_count": 196,
     "metadata": {},
     "output_type": "execute_result"
    }
   ],
   "source": [
    "logreg_cv2.best_score_"
   ]
  },
  {
   "cell_type": "code",
   "execution_count": 200,
   "id": "606cb04d",
   "metadata": {},
   "outputs": [
    {
     "data": {
      "text/plain": [
       "0.8459516298633017"
      ]
     },
     "execution_count": 200,
     "metadata": {},
     "output_type": "execute_result"
    }
   ],
   "source": [
    "best2.score(X_val, y_val)"
   ]
  },
  {
   "cell_type": "code",
   "execution_count": 201,
   "id": "64b17be4",
   "metadata": {},
   "outputs": [
    {
     "data": {
      "text/plain": [
       "0.697560975609756"
      ]
     },
     "execution_count": 201,
     "metadata": {},
     "output_type": "execute_result"
    }
   ],
   "source": [
    "best2.score(X_test, y_test)"
   ]
  },
  {
   "cell_type": "code",
   "execution_count": 202,
   "id": "61be22bc",
   "metadata": {},
   "outputs": [],
   "source": [
    "cv_result=LogisticRegression(C=1.0, class_weight=None, dual=False,\n",
    "                                          fit_intercept=True,\n",
    "                                          intercept_scaling=1, l1_ratio=None,\n",
    "                                          max_iter=300, multi_class='auto',\n",
    "                                          n_jobs=None, penalty='l2',\n",
    "                                          random_state=None, solver='lbfgs',\n",
    "                                          tol=0.0001, verbose=0,\n",
    "                                          warm_start=False)"
   ]
  },
  {
   "cell_type": "code",
   "execution_count": 204,
   "id": "437a8db3",
   "metadata": {},
   "outputs": [
    {
     "data": {
      "text/plain": [
       "LogisticRegression(C=1.0, class_weight=None, dual=False, fit_intercept=True,\n",
       "                   intercept_scaling=1, l1_ratio=None, max_iter=300,\n",
       "                   multi_class='auto', n_jobs=None, penalty='l2',\n",
       "                   random_state=None, solver='lbfgs', tol=0.0001, verbose=0,\n",
       "                   warm_start=False)"
      ]
     },
     "execution_count": 204,
     "metadata": {},
     "output_type": "execute_result"
    }
   ],
   "source": [
    "cv_result.fit(X_train, y_train)"
   ]
  },
  {
   "cell_type": "code",
   "execution_count": 205,
   "id": "55961132",
   "metadata": {},
   "outputs": [
    {
     "data": {
      "text/plain": [
       "0.7170731707317073"
      ]
     },
     "execution_count": 205,
     "metadata": {},
     "output_type": "execute_result"
    }
   ],
   "source": [
    "cv_result.score(X_test, y_test)"
   ]
  },
  {
   "cell_type": "code",
   "execution_count": 206,
   "id": "f50e3504",
   "metadata": {},
   "outputs": [
    {
     "data": {
      "text/plain": [
       "LogisticRegression(C=1.0, class_weight=None, dual=False, fit_intercept=True,\n",
       "                   intercept_scaling=1, l1_ratio=None, max_iter=300,\n",
       "                   multi_class='auto', n_jobs=None, penalty='l2',\n",
       "                   random_state=None, solver='saga', tol=0.0001, verbose=0,\n",
       "                   warm_start=False)"
      ]
     },
     "execution_count": 206,
     "metadata": {},
     "output_type": "execute_result"
    }
   ],
   "source": [
    "test2 = LogisticRegression(C=1.0, class_weight=None, dual=False,\n",
    "                                          fit_intercept=True,\n",
    "                                          intercept_scaling=1, l1_ratio=None,\n",
    "                                          max_iter=300, multi_class='auto',\n",
    "                                          n_jobs=None, penalty='l2',\n",
    "                                          random_state=None, solver='saga',\n",
    "                                          tol=0.0001, verbose=0,\n",
    "                                          warm_start=False)\n",
    "test2.fit(X_train, y_train)"
   ]
  },
  {
   "cell_type": "code",
   "execution_count": 207,
   "id": "72bb9da6",
   "metadata": {},
   "outputs": [
    {
     "data": {
      "text/plain": [
       "0.7170731707317073"
      ]
     },
     "execution_count": 207,
     "metadata": {},
     "output_type": "execute_result"
    }
   ],
   "source": [
    "test2.score(X_test, y_test)"
   ]
  },
  {
   "cell_type": "code",
   "execution_count": 217,
   "id": "291ee3ff",
   "metadata": {},
   "outputs": [
    {
     "data": {
      "text/plain": [
       "0.7414634146341463"
      ]
     },
     "execution_count": 217,
     "metadata": {},
     "output_type": "execute_result"
    }
   ],
   "source": [
    "best_lr = LogisticRegression(C=2, class_weight=None, dual=False,\n",
    "                                          fit_intercept=True,\n",
    "                                          intercept_scaling=1, l1_ratio=None,\n",
    "                                          max_iter=300, multi_class='auto',\n",
    "                                          n_jobs=None, penalty='l2',\n",
    "                                          random_state=None, solver='saga',\n",
    "                                          tol=0.0001, verbose=0,\n",
    "                                          warm_start=False)\n",
    "best_lr = test2.fit(X_train, y_train)\n",
    "best_lr.score(X_test, y_test)"
   ]
  },
  {
   "cell_type": "markdown",
   "id": "c3c91f22",
   "metadata": {},
   "source": [
    "## Logistic Regression  - 3 Classes"
   ]
  },
  {
   "cell_type": "code",
   "execution_count": 218,
   "id": "6ef6fbb5",
   "metadata": {},
   "outputs": [],
   "source": [
    "train_df, eval_df = train_test_split(df, test_size=0.2)"
   ]
  },
  {
   "cell_type": "code",
   "execution_count": 223,
   "id": "773a2344",
   "metadata": {},
   "outputs": [],
   "source": [
    "vectorizer = TfidfVectorizer(ngram_range = (1,5), max_df=.9, min_df=25, strip_accents=\"unicode\", max_features=10000, dtype=np.float32)\n",
    "\n",
    "vectorizer = vectorizer.fit(train_df.clean_text)\n",
    "X_train = vectorizer.transform(train_df.clean_text)\n",
    "y_train = train_df.label\n",
    "X_val = vectorizer.transform(eval_df.clean_text)\n",
    "y_val = eval_df.label\n",
    "X_test = vectorizer.transform(lyrics['lyrics'].apply(clean))\n",
    "y_test = lyrics['label'].map(emotion_dict)"
   ]
  },
  {
   "cell_type": "code",
   "execution_count": 246,
   "id": "45561527",
   "metadata": {},
   "outputs": [],
   "source": [
    "lr_multi_model = LogisticRegression(C=2, class_weight=None, dual=False,\n",
    "                                          fit_intercept=True,\n",
    "                                          intercept_scaling=1, l1_ratio=None,\n",
    "                                          max_iter=300, multi_class='auto',\n",
    "                                          n_jobs=None, penalty='l1',\n",
    "                                          random_state=None, solver='saga',\n",
    "                                          tol=0.0001, verbose=0,\n",
    "                                          warm_start=False)"
   ]
  },
  {
   "cell_type": "code",
   "execution_count": 247,
   "id": "acf3667b",
   "metadata": {},
   "outputs": [
    {
     "data": {
      "text/plain": [
       "0.8052253736612922"
      ]
     },
     "execution_count": 247,
     "metadata": {},
     "output_type": "execute_result"
    }
   ],
   "source": [
    "lr_multi_model.fit(X_train, y_train)\n",
    "lr_multi_model.score(X_train, y_train)"
   ]
  },
  {
   "cell_type": "code",
   "execution_count": 248,
   "id": "b3a8bada",
   "metadata": {},
   "outputs": [
    {
     "data": {
      "text/plain": [
       "0.7439096151582911"
      ]
     },
     "execution_count": 248,
     "metadata": {},
     "output_type": "execute_result"
    }
   ],
   "source": [
    "lr_multi_model.score(X_val, y_val)"
   ]
  },
  {
   "cell_type": "code",
   "execution_count": 249,
   "id": "3a44e3af",
   "metadata": {},
   "outputs": [
    {
     "data": {
      "text/plain": [
       "0.6230769230769231"
      ]
     },
     "execution_count": 249,
     "metadata": {},
     "output_type": "execute_result"
    }
   ],
   "source": [
    "lr_multi_model.score(X_test, y_test)"
   ]
  },
  {
   "cell_type": "code",
   "execution_count": null,
   "id": "6c024597",
   "metadata": {},
   "outputs": [],
   "source": []
  }
 ],
 "metadata": {
  "kernelspec": {
   "display_name": "Python 3 (ipykernel)",
   "language": "python",
   "name": "python3"
  },
  "language_info": {
   "codemirror_mode": {
    "name": "ipython",
    "version": 3
   },
   "file_extension": ".py",
   "mimetype": "text/x-python",
   "name": "python",
   "nbconvert_exporter": "python",
   "pygments_lexer": "ipython3",
   "version": "3.8.6"
  },
  "toc": {
   "base_numbering": 1,
   "nav_menu": {},
   "number_sections": true,
   "sideBar": true,
   "skip_h1_title": false,
   "title_cell": "Table of Contents",
   "title_sidebar": "Contents",
   "toc_cell": false,
   "toc_position": {},
   "toc_section_display": true,
   "toc_window_display": false
  }
 },
 "nbformat": 4,
 "nbformat_minor": 5
}
