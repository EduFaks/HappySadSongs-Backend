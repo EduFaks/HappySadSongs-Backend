{
    "cells": [
        {
            "cell_type": "code",
            "execution_count": 4,
            "source": [
                "import pandas as pd"
            ],
            "outputs": [],
            "metadata": {}
        },
        {
            "cell_type": "code",
            "execution_count": 3,
            "source": [
                "\n",
                "from bs4 import BeautifulSoup\n",
                "with open(\"../raw_data/sadsongs.html\") as html:\n",
                "    soup = BeautifulSoup(html, \"html.parser\")\n",
                "\n",
                "songs = []\n",
                "\n",
                "for song in soup.find_all('h3'):\n",
                "    songs.append(song.text)\n",
                "\n",
                "print(songs)"
            ],
            "outputs": [
                {
                    "output_type": "stream",
                    "name": "stdout",
                    "text": [
                        "['1. \"If I Die Young\" sung by Naya Rivera on \"Glee\"', '2. \"Angie\" by The Rolling Stones', '3. \"Pretty Sad\" by XYLØ', '4. \"Tear In Your Hand\" by Tori Amos', '5. \"Canvas\" by Shane Smith & The Saints', '6. \"Don\\'t Speak\" by No Doubt', '7. \"Haunt You\" by Social House', '8. \"Heaven\" by Beyoncé', '9. \"Shallow\" by Lady Gaga and Bradley Cooper from \"A Star Is Born\"', '10. \"Just Like Heaven\" by The Cure', '11. \"Edit You\" by KREAM ft. Stella Cole', '12. \"What About Us\" by Pink', '13. \"Everybody Hurts\" by R.E.M.', '14. \"Let You Down\" by NF', '15. \"Stick Around\" by Lukas Graham', '16. \"Into The Ocean\" by Blue October', '17. \"Stay\" by Rihanna ft. Mikky Ekko', '18. \"Lucid Dreams\" by Juice WRLD', '19. \"Cats In The Cradle\" by Harry Chapin', '20. \"Love Lies\" by Khalid and Normani', '21. \"Sad!\" by XXXTentacion', '22. \"Ghost\" by Halsey', '23. \"Chandelier\" by Sia', '24. \"Neon Gravestones\" by 21 Pilots', '25. \"I Will Always Love You\" by Whitney Houston', '26. \"The Night We Met\" by Lord Huron', '27. \"Out Here On My Own\" by Irene Cara (from \"Fame\")', '28. \"Fix You\" by Coldplay', '29. \"When The Party\\'s Over\" by Billie Eilish', '30. \"So Sick\" by Ne-Yo', '31. \"Fast Car\" by Tracy Chapman', '32. \"Someone Like You\" by Adele', '33. \"Let Her Go\" by Passenger', '34. \"Die For Me\" by Post Malone ft. Future and Halsey', '35. \"1-800-273-8255\" by Logic ft. Alessia Cara and Khalid', '36. \"Stay Or Leave\" by Dave Matthews Band', '37. \"My Immortal\" by Evanescense', '38. \"Atmosphere\" by Bebe Rexha', '39. \"Alone\" by Armin van Buuren ft. Lauren Evans', '40. \"On My Own\" by 3LAU ft. Nerve', '41. \"On My Mind\" by Anis Don Demina', '42. \"Candle In The Wind\" by Elton John', '43. \"Her Favorite Song\" by Mayer Hawthorne', '44. \"When I Was Your Man\" by Bruno Mars', '45. \"Your House\" by Alanis Morissette', '46. \"Lightning Crashes\" by Live', '47. \"Dear God\" by XTC', '48. \"Love\\'s Recovey\" by The Indigo Girls', '49. \"Sullen Girl\" by Fiona Apple', '50. \"Say Something\" by A Great Big World ft. Christina Aguilera', '51. \"Back To Black\" by Amy Winehouse', '52. \"Nothing Compares 2U\" by Sinéad O\\'Connor', '53. \"Goodbye My Lover\" by James Blunt', '54. \"Say Goodbye\" by Cheat Codes', '55. \"Stay\" by Zedd and Alessia Cara', '56. \"Apologize\" by Timbaland ft. OneRepublic', '57. \"All We Know\" by The Chainsmokers ft. Phoebe Ryan', '58. \"Heartbreak Warfare\" by John Mayer', '59. \"Blasphemous Rumors\" by Depeche Mode', '60. \"See You Again\" by Wiz Khalifa ft. Charlie Puth', '61. \"Sunset\" by The xx', '62. \"Dancing With Myself\" by The Knocks', '63. \"i hate u, i love u\" by Gnash ft. Olivia O\\'Brien', '64. \"Dancing With A Stranger\" by Sam Smith and Normani', '65. \"Somebody That I Used To Know\" by Gotye ft. Kimbre', '66. \"Heavy\" by Linkin Park ft. Kiiara', 'Subscribe to our newsletter.', '67. \"Used To Love You\" by Gwen Stefani', '68. \"June\" by Florence + The Machine', '69. \"Dark Paradise\" by Lana Del Rey', '70. \"The Man Who Can\\'t Be Moved\" by The Script', '71. \"Imagine\" by Ariana Grande', '72. \"Happier\" by Marshmello ft. Bastille', '73. \"Landslide\" by Fleetwood Mac', '74. \"What About Love\" by Heart', '75. \"Anyone\" by Demi Lovato', '76. \"Million Reasons\" by Lady Gaga', '77. \"Bleeding Love\" by ASTR', '78. \"Always\" by The Him', '79. \"Foolish Games\" by Jewel', '80. \"Jolene\" by Dolly Parton', '81. \"Fake Love\" by Drake', '82. \"A Hard Rain’s A-Gonna Fall\" by Bob Dylan', '83. \"Just A Dream\" by Nelly', '84. \"Secrets\" by OneRepublic', '85. \"Stay (I Missed You)\" by Lisa Loeb', '86. \"The One That Got Away\" by Katy Perry', '87. \"Beloved Wife\" by Natalie Merchant', '88. \"Just A Dream\" by Carrie Underwood', '89. \"OVRBRD\" by HARIZ', '90. \"Dear Society\" by Madison Beer', '91. \"Paranoid\" by Lauv', '92. \"Where Do We Go\" by Xuitcasecity', '93. \"U Remind Me\" by NEØN', '94. \"Cross My Mind, Pt. 2\" by A R I Z O N A ft. Kilara', '95. \"Sad Sad Girl\" by Terror Jr', '96. \"Make Me (Cry)\" by Noah Cyrus ft. Labrinth', '97. \"Cry\" by Alexx Calise', '98. \"Cry Baby\" by Melanie Martinez', '99. \"Wait\" by M83', '100. \"Walk Away\" by LVNDSCAPE ft. Kaptan', 'More for You on YourTango:']\n"
                    ]
                }
            ],
            "metadata": {}
        },
        {
            "cell_type": "code",
            "execution_count": 5,
            "source": [
                "df = pd.DataFrame(columns=['title', 'artist', 'lyrics', 'label'])\n",
                "df"
            ],
            "outputs": [
                {
                    "output_type": "execute_result",
                    "data": {
                        "text/plain": [
                            "Empty DataFrame\n",
                            "Columns: [title, artist, lyrics, label]\n",
                            "Index: []"
                        ],
                        "text/html": [
                            "<div>\n",
                            "<style scoped>\n",
                            "    .dataframe tbody tr th:only-of-type {\n",
                            "        vertical-align: middle;\n",
                            "    }\n",
                            "\n",
                            "    .dataframe tbody tr th {\n",
                            "        vertical-align: top;\n",
                            "    }\n",
                            "\n",
                            "    .dataframe thead th {\n",
                            "        text-align: right;\n",
                            "    }\n",
                            "</style>\n",
                            "<table border=\"1\" class=\"dataframe\">\n",
                            "  <thead>\n",
                            "    <tr style=\"text-align: right;\">\n",
                            "      <th></th>\n",
                            "      <th>title</th>\n",
                            "      <th>artist</th>\n",
                            "      <th>lyrics</th>\n",
                            "      <th>label</th>\n",
                            "    </tr>\n",
                            "  </thead>\n",
                            "  <tbody>\n",
                            "  </tbody>\n",
                            "</table>\n",
                            "</div>"
                        ]
                    },
                    "metadata": {},
                    "execution_count": 5
                }
            ],
            "metadata": {}
        },
        {
            "cell_type": "code",
            "execution_count": 17,
            "source": [
                "import re\n",
                "\n",
                "title_pattern = r'\\\"[a-zA-Z0-9_ ]+\\\"'\n",
                "artist = r'by\\s*([^\\n\\r]*)'\n",
                "\n",
                "titles = []\n",
                "for song in songs:\n",
                "    try:\n",
                "        m = re.search(title_pattern, song)\n",
                "        title = m.group(0)\n",
                "        title = title.strip('\"')\n",
                "        titles.append(title)\n",
                "    except:\n",
                "        continue\n",
                "titles\n"
            ],
            "outputs": [
                {
                    "output_type": "execute_result",
                    "data": {
                        "text/plain": [
                            "['If I Die Young',\n",
                            " 'Angie',\n",
                            " 'Pretty Sad',\n",
                            " 'Tear In Your Hand',\n",
                            " 'Canvas',\n",
                            " 'Haunt You',\n",
                            " 'Heaven',\n",
                            " 'Shallow',\n",
                            " 'Just Like Heaven',\n",
                            " 'Edit You',\n",
                            " 'What About Us',\n",
                            " 'Everybody Hurts',\n",
                            " 'Let You Down',\n",
                            " 'Stick Around',\n",
                            " 'Into The Ocean',\n",
                            " 'Stay',\n",
                            " 'Lucid Dreams',\n",
                            " 'Cats In The Cradle',\n",
                            " 'Love Lies',\n",
                            " 'Ghost',\n",
                            " 'Chandelier',\n",
                            " 'Neon Gravestones',\n",
                            " 'I Will Always Love You',\n",
                            " 'The Night We Met',\n",
                            " 'Out Here On My Own',\n",
                            " 'Fix You',\n",
                            " 'So Sick',\n",
                            " 'Fast Car',\n",
                            " 'Someone Like You',\n",
                            " 'Let Her Go',\n",
                            " 'Die For Me',\n",
                            " 'Stay Or Leave',\n",
                            " 'My Immortal',\n",
                            " 'Atmosphere',\n",
                            " 'Alone',\n",
                            " 'On My Own',\n",
                            " 'On My Mind',\n",
                            " 'Candle In The Wind',\n",
                            " 'Her Favorite Song',\n",
                            " 'When I Was Your Man',\n",
                            " 'Your House',\n",
                            " 'Lightning Crashes',\n",
                            " 'Dear God',\n",
                            " 'Sullen Girl',\n",
                            " 'Say Something',\n",
                            " 'Back To Black',\n",
                            " 'Nothing Compares 2U',\n",
                            " 'Goodbye My Lover',\n",
                            " 'Say Goodbye',\n",
                            " 'Stay',\n",
                            " 'Apologize',\n",
                            " 'All We Know',\n",
                            " 'Heartbreak Warfare',\n",
                            " 'Blasphemous Rumors',\n",
                            " 'See You Again',\n",
                            " 'Sunset',\n",
                            " 'Dancing With Myself',\n",
                            " 'Dancing With A Stranger',\n",
                            " 'Somebody That I Used To Know',\n",
                            " 'Heavy',\n",
                            " 'Used To Love You',\n",
                            " 'June',\n",
                            " 'Dark Paradise',\n",
                            " 'Imagine',\n",
                            " 'Happier',\n",
                            " 'Landslide',\n",
                            " 'What About Love',\n",
                            " 'Anyone',\n",
                            " 'Million Reasons',\n",
                            " 'Bleeding Love',\n",
                            " 'Always',\n",
                            " 'Foolish Games',\n",
                            " 'Jolene',\n",
                            " 'Fake Love',\n",
                            " 'Just A Dream',\n",
                            " 'Secrets',\n",
                            " 'The One That Got Away',\n",
                            " 'Beloved Wife',\n",
                            " 'Just A Dream',\n",
                            " 'OVRBRD',\n",
                            " 'Dear Society',\n",
                            " 'Paranoid',\n",
                            " 'Where Do We Go',\n",
                            " 'U Remind Me',\n",
                            " 'Sad Sad Girl',\n",
                            " 'Cry',\n",
                            " 'Cry Baby',\n",
                            " 'Wait',\n",
                            " 'Walk Away']"
                        ]
                    },
                    "metadata": {},
                    "execution_count": 17
                }
            ],
            "metadata": {}
        },
        {
            "cell_type": "code",
            "execution_count": null,
            "source": [
                "artists = []\n",
                "for song in songs:\n",
                "    try:\n",
                "        m = re.search(artist_pattern, song)\n",
                "        title = m.group(0)\n",
                "        title = title.strip('\"')\n",
                "        titles.append(title)\n",
                "    except:\n",
                "        continue\n",
                "titles"
            ],
            "outputs": [],
            "metadata": {}
        }
    ],
    "metadata": {
        "orig_nbformat": 4,
        "language_info": {
            "name": "python",
            "version": "3.8.6",
            "mimetype": "text/x-python",
            "codemirror_mode": {
                "name": "ipython",
                "version": 3
            },
            "pygments_lexer": "ipython3",
            "nbconvert_exporter": "python",
            "file_extension": ".py"
        },
        "kernelspec": {
            "name": "python3",
            "display_name": "Python 3.8.6 64-bit ('lewagon')"
        },
        "interpreter": {
            "hash": "958d9fd529b4a2849dde25bade0c473cc18e28db4d750fed980ccd0df3ec8cea"
        }
    },
    "nbformat": 4,
    "nbformat_minor": 2
}