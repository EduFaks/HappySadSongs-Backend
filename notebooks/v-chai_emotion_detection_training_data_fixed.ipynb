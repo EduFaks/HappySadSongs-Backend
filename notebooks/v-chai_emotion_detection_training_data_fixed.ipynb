{
 "cells": [
  {
   "cell_type": "markdown",
   "id": "76ca511b",
   "metadata": {},
   "source": [
    "## Hugging Face"
   ]
  },
  {
   "cell_type": "code",
   "execution_count": 127,
   "id": "6b1417ed",
   "metadata": {},
   "outputs": [],
   "source": [
    "import pickle\n"
   ]
  },
  {
   "cell_type": "code",
   "execution_count": 128,
   "id": "f9bd2515",
   "metadata": {},
   "outputs": [
    {
     "name": "stdout",
     "output_type": "stream",
     "text": [
      "Requirement already satisfied: datasets in /Users/vprentice/.pyenv/versions/3.8.6/envs/lewagon/lib/python3.8/site-packages (1.11.0)\n",
      "Requirement already satisfied: multiprocess in /Users/vprentice/.pyenv/versions/3.8.6/envs/lewagon/lib/python3.8/site-packages (from datasets) (0.70.12.2)\n",
      "Requirement already satisfied: xxhash in /Users/vprentice/.pyenv/versions/3.8.6/envs/lewagon/lib/python3.8/site-packages (from datasets) (2.0.2)\n",
      "Requirement already satisfied: numpy>=1.17 in /Users/vprentice/.pyenv/versions/3.8.6/envs/lewagon/lib/python3.8/site-packages (from datasets) (1.18.5)\n",
      "Requirement already satisfied: dill in /Users/vprentice/.pyenv/versions/3.8.6/envs/lewagon/lib/python3.8/site-packages (from datasets) (0.3.4)\n",
      "Requirement already satisfied: tqdm>=4.42 in /Users/vprentice/.pyenv/versions/3.8.6/envs/lewagon/lib/python3.8/site-packages (from datasets) (4.61.2)\n",
      "Requirement already satisfied: packaging in /Users/vprentice/.pyenv/versions/3.8.6/envs/lewagon/lib/python3.8/site-packages (from datasets) (21.0)\n",
      "Requirement already satisfied: pandas in /Users/vprentice/.pyenv/versions/3.8.6/envs/lewagon/lib/python3.8/site-packages (from datasets) (1.3.0)\n",
      "Requirement already satisfied: requests>=2.19.0 in /Users/vprentice/.pyenv/versions/3.8.6/envs/lewagon/lib/python3.8/site-packages (from datasets) (2.25.1)\n",
      "Requirement already satisfied: huggingface-hub<0.1.0 in /Users/vprentice/.pyenv/versions/3.8.6/envs/lewagon/lib/python3.8/site-packages (from datasets) (0.0.16)\n",
      "Requirement already satisfied: fsspec>=2021.05.0 in /Users/vprentice/.pyenv/versions/3.8.6/envs/lewagon/lib/python3.8/site-packages (from datasets) (2021.7.0)\n",
      "Requirement already satisfied: pyarrow!=4.0.0,>=1.0.0 in /Users/vprentice/.pyenv/versions/3.8.6/envs/lewagon/lib/python3.8/site-packages (from datasets) (5.0.0)\n",
      "Requirement already satisfied: typing-extensions in /Users/vprentice/.pyenv/versions/3.8.6/envs/lewagon/lib/python3.8/site-packages (from huggingface-hub<0.1.0->datasets) (3.10.0.1)\n",
      "Requirement already satisfied: filelock in /Users/vprentice/.pyenv/versions/3.8.6/envs/lewagon/lib/python3.8/site-packages (from huggingface-hub<0.1.0->datasets) (3.0.12)\n",
      "Requirement already satisfied: pyparsing>=2.0.2 in /Users/vprentice/.pyenv/versions/3.8.6/envs/lewagon/lib/python3.8/site-packages (from packaging->datasets) (2.4.7)\n",
      "Requirement already satisfied: urllib3<1.27,>=1.21.1 in /Users/vprentice/.pyenv/versions/3.8.6/envs/lewagon/lib/python3.8/site-packages (from requests>=2.19.0->datasets) (1.26.6)\n",
      "Requirement already satisfied: idna<3,>=2.5 in /Users/vprentice/.pyenv/versions/3.8.6/envs/lewagon/lib/python3.8/site-packages (from requests>=2.19.0->datasets) (2.10)\n",
      "Requirement already satisfied: chardet<5,>=3.0.2 in /Users/vprentice/.pyenv/versions/3.8.6/envs/lewagon/lib/python3.8/site-packages (from requests>=2.19.0->datasets) (4.0.0)\n",
      "Requirement already satisfied: certifi>=2017.4.17 in /Users/vprentice/.pyenv/versions/3.8.6/envs/lewagon/lib/python3.8/site-packages (from requests>=2.19.0->datasets) (2021.5.30)\n",
      "Requirement already satisfied: python-dateutil>=2.7.3 in /Users/vprentice/.pyenv/versions/3.8.6/envs/lewagon/lib/python3.8/site-packages (from pandas->datasets) (2.8.2)\n",
      "Requirement already satisfied: pytz>=2017.3 in /Users/vprentice/.pyenv/versions/3.8.6/envs/lewagon/lib/python3.8/site-packages (from pandas->datasets) (2021.1)\n",
      "Requirement already satisfied: six>=1.5 in /Users/vprentice/.pyenv/versions/3.8.6/envs/lewagon/lib/python3.8/site-packages (from python-dateutil>=2.7.3->pandas->datasets) (1.14.0)\n"
     ]
    }
   ],
   "source": [
    "!pip install datasets"
   ]
  },
  {
   "cell_type": "code",
   "execution_count": 129,
   "id": "dabd4d03",
   "metadata": {},
   "outputs": [
    {
     "name": "stderr",
     "output_type": "stream",
     "text": [
      "Using custom data configuration default\n",
      "Reusing dataset emotion (/Users/vprentice/.cache/huggingface/datasets/emotion/default/0.0.0/348f63ca8e27b3713b6c04d723efe6d824a56fb3d1449794716c0f0296072705)\n"
     ]
    }
   ],
   "source": [
    "from datasets import load_dataset\n",
    "dataset = load_dataset(\n",
    "   'emotion')"
   ]
  },
  {
   "cell_type": "code",
   "execution_count": 130,
   "id": "727db2fd",
   "metadata": {},
   "outputs": [
    {
     "data": {
      "text/plain": [
       "dict_keys(['train', 'validation', 'test'])"
      ]
     },
     "execution_count": 130,
     "metadata": {},
     "output_type": "execute_result"
    }
   ],
   "source": [
    "dataset.keys()"
   ]
  },
  {
   "cell_type": "code",
   "execution_count": 131,
   "id": "44b15bbd",
   "metadata": {},
   "outputs": [],
   "source": [
    "import pandas as pd\n",
    "df = pd.DataFrame(dataset['train'])"
   ]
  },
  {
   "cell_type": "code",
   "execution_count": 132,
   "id": "750a00b6",
   "metadata": {},
   "outputs": [
    {
     "data": {
      "text/plain": [
       "1    5362\n",
       "0    4666\n",
       "3    2159\n",
       "4    1937\n",
       "2    1304\n",
       "5     572\n",
       "Name: label, dtype: int64"
      ]
     },
     "execution_count": 132,
     "metadata": {},
     "output_type": "execute_result"
    }
   ],
   "source": [
    "df['label'].value_counts()"
   ]
  },
  {
   "cell_type": "code",
   "execution_count": 133,
   "id": "572882fb",
   "metadata": {},
   "outputs": [],
   "source": [
    "df2 = pd.DataFrame(dataset['validation'])\n",
    "df3 = pd.DataFrame(dataset['test'])"
   ]
  },
  {
   "cell_type": "code",
   "execution_count": 134,
   "id": "b2c43069",
   "metadata": {},
   "outputs": [],
   "source": [
    "full_df = pd.concat([df,df2,df3])"
   ]
  },
  {
   "cell_type": "code",
   "execution_count": 135,
   "id": "9db947a3",
   "metadata": {},
   "outputs": [
    {
     "data": {
      "text/plain": [
       "(20000, 2)"
      ]
     },
     "execution_count": 135,
     "metadata": {},
     "output_type": "execute_result"
    }
   ],
   "source": [
    "full_df.shape"
   ]
  },
  {
   "cell_type": "code",
   "execution_count": 136,
   "id": "362058c5",
   "metadata": {},
   "outputs": [
    {
     "data": {
      "text/plain": [
       "text     object\n",
       "label     int64\n",
       "dtype: object"
      ]
     },
     "execution_count": 136,
     "metadata": {},
     "output_type": "execute_result"
    }
   ],
   "source": [
    "full_df.dtypes"
   ]
  },
  {
   "cell_type": "code",
   "execution_count": 137,
   "id": "16df4a3e",
   "metadata": {},
   "outputs": [],
   "source": [
    "full_df['word_label'] = full_df['label'].map({0:'sad',1:'happy', 2:'love', 3:'angry', 4:'fear', 5:'surprised'})"
   ]
  },
  {
   "cell_type": "code",
   "execution_count": 138,
   "id": "a3a23453",
   "metadata": {},
   "outputs": [
    {
     "data": {
      "text/html": [
       "<div>\n",
       "<style scoped>\n",
       "    .dataframe tbody tr th:only-of-type {\n",
       "        vertical-align: middle;\n",
       "    }\n",
       "\n",
       "    .dataframe tbody tr th {\n",
       "        vertical-align: top;\n",
       "    }\n",
       "\n",
       "    .dataframe thead th {\n",
       "        text-align: right;\n",
       "    }\n",
       "</style>\n",
       "<table border=\"1\" class=\"dataframe\">\n",
       "  <thead>\n",
       "    <tr style=\"text-align: right;\">\n",
       "      <th></th>\n",
       "      <th>text</th>\n",
       "      <th>label</th>\n",
       "      <th>word_label</th>\n",
       "    </tr>\n",
       "  </thead>\n",
       "  <tbody>\n",
       "    <tr>\n",
       "      <th>0</th>\n",
       "      <td>i didnt feel humiliated</td>\n",
       "      <td>0</td>\n",
       "      <td>sad</td>\n",
       "    </tr>\n",
       "    <tr>\n",
       "      <th>1</th>\n",
       "      <td>i can go from feeling so hopeless to so damned...</td>\n",
       "      <td>0</td>\n",
       "      <td>sad</td>\n",
       "    </tr>\n",
       "    <tr>\n",
       "      <th>2</th>\n",
       "      <td>im grabbing a minute to post i feel greedy wrong</td>\n",
       "      <td>3</td>\n",
       "      <td>angry</td>\n",
       "    </tr>\n",
       "    <tr>\n",
       "      <th>3</th>\n",
       "      <td>i am ever feeling nostalgic about the fireplac...</td>\n",
       "      <td>2</td>\n",
       "      <td>love</td>\n",
       "    </tr>\n",
       "    <tr>\n",
       "      <th>4</th>\n",
       "      <td>i am feeling grouchy</td>\n",
       "      <td>3</td>\n",
       "      <td>angry</td>\n",
       "    </tr>\n",
       "    <tr>\n",
       "      <th>...</th>\n",
       "      <td>...</td>\n",
       "      <td>...</td>\n",
       "      <td>...</td>\n",
       "    </tr>\n",
       "    <tr>\n",
       "      <th>1995</th>\n",
       "      <td>i just keep feeling like someone is being unki...</td>\n",
       "      <td>3</td>\n",
       "      <td>angry</td>\n",
       "    </tr>\n",
       "    <tr>\n",
       "      <th>1996</th>\n",
       "      <td>im feeling a little cranky negative after this...</td>\n",
       "      <td>3</td>\n",
       "      <td>angry</td>\n",
       "    </tr>\n",
       "    <tr>\n",
       "      <th>1997</th>\n",
       "      <td>i feel that i am useful to my people and that ...</td>\n",
       "      <td>1</td>\n",
       "      <td>happy</td>\n",
       "    </tr>\n",
       "    <tr>\n",
       "      <th>1998</th>\n",
       "      <td>im feeling more comfortable with derby i feel ...</td>\n",
       "      <td>1</td>\n",
       "      <td>happy</td>\n",
       "    </tr>\n",
       "    <tr>\n",
       "      <th>1999</th>\n",
       "      <td>i feel all weird when i have to meet w people ...</td>\n",
       "      <td>4</td>\n",
       "      <td>fear</td>\n",
       "    </tr>\n",
       "  </tbody>\n",
       "</table>\n",
       "<p>20000 rows × 3 columns</p>\n",
       "</div>"
      ],
      "text/plain": [
       "                                                   text  label word_label\n",
       "0                               i didnt feel humiliated      0        sad\n",
       "1     i can go from feeling so hopeless to so damned...      0        sad\n",
       "2      im grabbing a minute to post i feel greedy wrong      3      angry\n",
       "3     i am ever feeling nostalgic about the fireplac...      2       love\n",
       "4                                  i am feeling grouchy      3      angry\n",
       "...                                                 ...    ...        ...\n",
       "1995  i just keep feeling like someone is being unki...      3      angry\n",
       "1996  im feeling a little cranky negative after this...      3      angry\n",
       "1997  i feel that i am useful to my people and that ...      1      happy\n",
       "1998  im feeling more comfortable with derby i feel ...      1      happy\n",
       "1999  i feel all weird when i have to meet w people ...      4       fear\n",
       "\n",
       "[20000 rows x 3 columns]"
      ]
     },
     "execution_count": 138,
     "metadata": {},
     "output_type": "execute_result"
    }
   ],
   "source": [
    "full_df"
   ]
  },
  {
   "cell_type": "code",
   "execution_count": 139,
   "id": "e9eec595",
   "metadata": {
    "scrolled": true
   },
   "outputs": [],
   "source": [
    "simplified_df = full_df[full_df['word_label'].isin(['sad','angry','happy'])]"
   ]
  },
  {
   "cell_type": "code",
   "execution_count": 140,
   "id": "e57f606b",
   "metadata": {},
   "outputs": [],
   "source": [
    "simplified_df = simplified_df[['text', 'word_label']]"
   ]
  },
  {
   "cell_type": "code",
   "execution_count": 141,
   "id": "cbca72a3",
   "metadata": {},
   "outputs": [
    {
     "data": {
      "text/html": [
       "<div>\n",
       "<style scoped>\n",
       "    .dataframe tbody tr th:only-of-type {\n",
       "        vertical-align: middle;\n",
       "    }\n",
       "\n",
       "    .dataframe tbody tr th {\n",
       "        vertical-align: top;\n",
       "    }\n",
       "\n",
       "    .dataframe thead th {\n",
       "        text-align: right;\n",
       "    }\n",
       "</style>\n",
       "<table border=\"1\" class=\"dataframe\">\n",
       "  <thead>\n",
       "    <tr style=\"text-align: right;\">\n",
       "      <th></th>\n",
       "      <th>text</th>\n",
       "      <th>word_label</th>\n",
       "    </tr>\n",
       "  </thead>\n",
       "  <tbody>\n",
       "    <tr>\n",
       "      <th>0</th>\n",
       "      <td>i didnt feel humiliated</td>\n",
       "      <td>sad</td>\n",
       "    </tr>\n",
       "    <tr>\n",
       "      <th>1</th>\n",
       "      <td>i can go from feeling so hopeless to so damned...</td>\n",
       "      <td>sad</td>\n",
       "    </tr>\n",
       "    <tr>\n",
       "      <th>2</th>\n",
       "      <td>im grabbing a minute to post i feel greedy wrong</td>\n",
       "      <td>angry</td>\n",
       "    </tr>\n",
       "    <tr>\n",
       "      <th>4</th>\n",
       "      <td>i am feeling grouchy</td>\n",
       "      <td>angry</td>\n",
       "    </tr>\n",
       "    <tr>\n",
       "      <th>5</th>\n",
       "      <td>ive been feeling a little burdened lately wasn...</td>\n",
       "      <td>sad</td>\n",
       "    </tr>\n",
       "    <tr>\n",
       "      <th>...</th>\n",
       "      <td>...</td>\n",
       "      <td>...</td>\n",
       "    </tr>\n",
       "    <tr>\n",
       "      <th>1994</th>\n",
       "      <td>i can feel its suffering</td>\n",
       "      <td>sad</td>\n",
       "    </tr>\n",
       "    <tr>\n",
       "      <th>1995</th>\n",
       "      <td>i just keep feeling like someone is being unki...</td>\n",
       "      <td>angry</td>\n",
       "    </tr>\n",
       "    <tr>\n",
       "      <th>1996</th>\n",
       "      <td>im feeling a little cranky negative after this...</td>\n",
       "      <td>angry</td>\n",
       "    </tr>\n",
       "    <tr>\n",
       "      <th>1997</th>\n",
       "      <td>i feel that i am useful to my people and that ...</td>\n",
       "      <td>happy</td>\n",
       "    </tr>\n",
       "    <tr>\n",
       "      <th>1998</th>\n",
       "      <td>im feeling more comfortable with derby i feel ...</td>\n",
       "      <td>happy</td>\n",
       "    </tr>\n",
       "  </tbody>\n",
       "</table>\n",
       "<p>15267 rows × 2 columns</p>\n",
       "</div>"
      ],
      "text/plain": [
       "                                                   text word_label\n",
       "0                               i didnt feel humiliated        sad\n",
       "1     i can go from feeling so hopeless to so damned...        sad\n",
       "2      im grabbing a minute to post i feel greedy wrong      angry\n",
       "4                                  i am feeling grouchy      angry\n",
       "5     ive been feeling a little burdened lately wasn...        sad\n",
       "...                                                 ...        ...\n",
       "1994                           i can feel its suffering        sad\n",
       "1995  i just keep feeling like someone is being unki...      angry\n",
       "1996  im feeling a little cranky negative after this...      angry\n",
       "1997  i feel that i am useful to my people and that ...      happy\n",
       "1998  im feeling more comfortable with derby i feel ...      happy\n",
       "\n",
       "[15267 rows x 2 columns]"
      ]
     },
     "execution_count": 141,
     "metadata": {},
     "output_type": "execute_result"
    }
   ],
   "source": [
    "simplified_df"
   ]
  },
  {
   "cell_type": "code",
   "execution_count": 142,
   "id": "f1823330",
   "metadata": {},
   "outputs": [],
   "source": [
    "simplified_df['source'] = 'HuggingFace'"
   ]
  },
  {
   "cell_type": "code",
   "execution_count": 143,
   "id": "71a10d80",
   "metadata": {},
   "outputs": [
    {
     "data": {
      "text/html": [
       "<div>\n",
       "<style scoped>\n",
       "    .dataframe tbody tr th:only-of-type {\n",
       "        vertical-align: middle;\n",
       "    }\n",
       "\n",
       "    .dataframe tbody tr th {\n",
       "        vertical-align: top;\n",
       "    }\n",
       "\n",
       "    .dataframe thead th {\n",
       "        text-align: right;\n",
       "    }\n",
       "</style>\n",
       "<table border=\"1\" class=\"dataframe\">\n",
       "  <thead>\n",
       "    <tr style=\"text-align: right;\">\n",
       "      <th></th>\n",
       "      <th>text</th>\n",
       "      <th>word_label</th>\n",
       "      <th>source</th>\n",
       "    </tr>\n",
       "  </thead>\n",
       "  <tbody>\n",
       "    <tr>\n",
       "      <th>0</th>\n",
       "      <td>i didnt feel humiliated</td>\n",
       "      <td>sad</td>\n",
       "      <td>HuggingFace</td>\n",
       "    </tr>\n",
       "    <tr>\n",
       "      <th>1</th>\n",
       "      <td>i can go from feeling so hopeless to so damned...</td>\n",
       "      <td>sad</td>\n",
       "      <td>HuggingFace</td>\n",
       "    </tr>\n",
       "    <tr>\n",
       "      <th>2</th>\n",
       "      <td>im grabbing a minute to post i feel greedy wrong</td>\n",
       "      <td>angry</td>\n",
       "      <td>HuggingFace</td>\n",
       "    </tr>\n",
       "    <tr>\n",
       "      <th>4</th>\n",
       "      <td>i am feeling grouchy</td>\n",
       "      <td>angry</td>\n",
       "      <td>HuggingFace</td>\n",
       "    </tr>\n",
       "    <tr>\n",
       "      <th>5</th>\n",
       "      <td>ive been feeling a little burdened lately wasn...</td>\n",
       "      <td>sad</td>\n",
       "      <td>HuggingFace</td>\n",
       "    </tr>\n",
       "    <tr>\n",
       "      <th>...</th>\n",
       "      <td>...</td>\n",
       "      <td>...</td>\n",
       "      <td>...</td>\n",
       "    </tr>\n",
       "    <tr>\n",
       "      <th>1994</th>\n",
       "      <td>i can feel its suffering</td>\n",
       "      <td>sad</td>\n",
       "      <td>HuggingFace</td>\n",
       "    </tr>\n",
       "    <tr>\n",
       "      <th>1995</th>\n",
       "      <td>i just keep feeling like someone is being unki...</td>\n",
       "      <td>angry</td>\n",
       "      <td>HuggingFace</td>\n",
       "    </tr>\n",
       "    <tr>\n",
       "      <th>1996</th>\n",
       "      <td>im feeling a little cranky negative after this...</td>\n",
       "      <td>angry</td>\n",
       "      <td>HuggingFace</td>\n",
       "    </tr>\n",
       "    <tr>\n",
       "      <th>1997</th>\n",
       "      <td>i feel that i am useful to my people and that ...</td>\n",
       "      <td>happy</td>\n",
       "      <td>HuggingFace</td>\n",
       "    </tr>\n",
       "    <tr>\n",
       "      <th>1998</th>\n",
       "      <td>im feeling more comfortable with derby i feel ...</td>\n",
       "      <td>happy</td>\n",
       "      <td>HuggingFace</td>\n",
       "    </tr>\n",
       "  </tbody>\n",
       "</table>\n",
       "<p>15267 rows × 3 columns</p>\n",
       "</div>"
      ],
      "text/plain": [
       "                                                   text word_label  \\\n",
       "0                               i didnt feel humiliated        sad   \n",
       "1     i can go from feeling so hopeless to so damned...        sad   \n",
       "2      im grabbing a minute to post i feel greedy wrong      angry   \n",
       "4                                  i am feeling grouchy      angry   \n",
       "5     ive been feeling a little burdened lately wasn...        sad   \n",
       "...                                                 ...        ...   \n",
       "1994                           i can feel its suffering        sad   \n",
       "1995  i just keep feeling like someone is being unki...      angry   \n",
       "1996  im feeling a little cranky negative after this...      angry   \n",
       "1997  i feel that i am useful to my people and that ...      happy   \n",
       "1998  im feeling more comfortable with derby i feel ...      happy   \n",
       "\n",
       "           source  \n",
       "0     HuggingFace  \n",
       "1     HuggingFace  \n",
       "2     HuggingFace  \n",
       "4     HuggingFace  \n",
       "5     HuggingFace  \n",
       "...           ...  \n",
       "1994  HuggingFace  \n",
       "1995  HuggingFace  \n",
       "1996  HuggingFace  \n",
       "1997  HuggingFace  \n",
       "1998  HuggingFace  \n",
       "\n",
       "[15267 rows x 3 columns]"
      ]
     },
     "execution_count": 143,
     "metadata": {},
     "output_type": "execute_result"
    }
   ],
   "source": [
    "simplified_df"
   ]
  },
  {
   "cell_type": "code",
   "execution_count": 240,
   "id": "c75b3043",
   "metadata": {},
   "outputs": [
    {
     "data": {
      "text/plain": [
       "happy    6761\n",
       "sad      5797\n",
       "angry    2709\n",
       "Name: word_label, dtype: int64"
      ]
     },
     "execution_count": 240,
     "metadata": {},
     "output_type": "execute_result"
    }
   ],
   "source": [
    "simplified_df['word_label'].value_counts()"
   ]
  },
  {
   "cell_type": "code",
   "execution_count": 144,
   "id": "ea4a51e5",
   "metadata": {},
   "outputs": [],
   "source": [
    "simplified_df.to_csv('../raw_data/huggingface_happysadangry.csv')"
   ]
  },
  {
   "cell_type": "markdown",
   "id": "9561c531",
   "metadata": {},
   "source": [
    "## SemEval2018"
   ]
  },
  {
   "cell_type": "code",
   "execution_count": 146,
   "id": "c5c33711",
   "metadata": {},
   "outputs": [],
   "source": [
    "semeval = pd.read_csv('../raw_data/emotion_data/2018-E-c-En-train-dev.csv')"
   ]
  },
  {
   "cell_type": "code",
   "execution_count": 147,
   "id": "78060b57",
   "metadata": {},
   "outputs": [
    {
     "data": {
      "text/html": [
       "<div>\n",
       "<style scoped>\n",
       "    .dataframe tbody tr th:only-of-type {\n",
       "        vertical-align: middle;\n",
       "    }\n",
       "\n",
       "    .dataframe tbody tr th {\n",
       "        vertical-align: top;\n",
       "    }\n",
       "\n",
       "    .dataframe thead th {\n",
       "        text-align: right;\n",
       "    }\n",
       "</style>\n",
       "<table border=\"1\" class=\"dataframe\">\n",
       "  <thead>\n",
       "    <tr style=\"text-align: right;\">\n",
       "      <th></th>\n",
       "      <th>ID</th>\n",
       "      <th>Tweet</th>\n",
       "      <th>anger</th>\n",
       "      <th>joy</th>\n",
       "      <th>sadness</th>\n",
       "    </tr>\n",
       "  </thead>\n",
       "  <tbody>\n",
       "    <tr>\n",
       "      <th>0</th>\n",
       "      <td>2017-En-21441</td>\n",
       "      <td>‚ÄúWorry is a down payment on a problem you ma...</td>\n",
       "      <td>0</td>\n",
       "      <td>0</td>\n",
       "      <td>0</td>\n",
       "    </tr>\n",
       "    <tr>\n",
       "      <th>1</th>\n",
       "      <td>2017-En-31535</td>\n",
       "      <td>Whatever you decide to do make sure it makes y...</td>\n",
       "      <td>0</td>\n",
       "      <td>1</td>\n",
       "      <td>0</td>\n",
       "    </tr>\n",
       "    <tr>\n",
       "      <th>2</th>\n",
       "      <td>2017-En-21068</td>\n",
       "      <td>@Max_Kellerman  it also helps that the majorit...</td>\n",
       "      <td>1</td>\n",
       "      <td>1</td>\n",
       "      <td>0</td>\n",
       "    </tr>\n",
       "    <tr>\n",
       "      <th>3</th>\n",
       "      <td>2017-En-31436</td>\n",
       "      <td>Accept the challenges so that you can literall...</td>\n",
       "      <td>0</td>\n",
       "      <td>1</td>\n",
       "      <td>0</td>\n",
       "    </tr>\n",
       "    <tr>\n",
       "      <th>4</th>\n",
       "      <td>2017-En-22195</td>\n",
       "      <td>My roommate: it's okay that we can't spell bec...</td>\n",
       "      <td>1</td>\n",
       "      <td>0</td>\n",
       "      <td>0</td>\n",
       "    </tr>\n",
       "    <tr>\n",
       "      <th>...</th>\n",
       "      <td>...</td>\n",
       "      <td>...</td>\n",
       "      <td>...</td>\n",
       "      <td>...</td>\n",
       "      <td>...</td>\n",
       "    </tr>\n",
       "    <tr>\n",
       "      <th>7719</th>\n",
       "      <td>2018-En-01993</td>\n",
       "      <td>@BadHombreNPS @SecretaryPerry If this didn't m...</td>\n",
       "      <td>1</td>\n",
       "      <td>0</td>\n",
       "      <td>0</td>\n",
       "    </tr>\n",
       "    <tr>\n",
       "      <th>7720</th>\n",
       "      <td>2018-En-01784</td>\n",
       "      <td>Excited to watch #stateoforigin tonight! Come ...</td>\n",
       "      <td>0</td>\n",
       "      <td>1</td>\n",
       "      <td>0</td>\n",
       "    </tr>\n",
       "    <tr>\n",
       "      <th>7721</th>\n",
       "      <td>2018-En-04047</td>\n",
       "      <td>Blah blah blah Kyrie, IT, etc. @CJC9BOSS leavi...</td>\n",
       "      <td>1</td>\n",
       "      <td>0</td>\n",
       "      <td>1</td>\n",
       "    </tr>\n",
       "    <tr>\n",
       "      <th>7722</th>\n",
       "      <td>2018-En-03041</td>\n",
       "      <td>#ThingsIveLearned The wise #shepherd never tru...</td>\n",
       "      <td>0</td>\n",
       "      <td>0</td>\n",
       "      <td>0</td>\n",
       "    </tr>\n",
       "    <tr>\n",
       "      <th>7723</th>\n",
       "      <td>2018-En-03386</td>\n",
       "      <td>I am really flattered and happy to hear those ...</td>\n",
       "      <td>0</td>\n",
       "      <td>1</td>\n",
       "      <td>0</td>\n",
       "    </tr>\n",
       "  </tbody>\n",
       "</table>\n",
       "<p>7724 rows × 5 columns</p>\n",
       "</div>"
      ],
      "text/plain": [
       "                 ID                                              Tweet  anger  \\\n",
       "0     2017-En-21441  ‚ÄúWorry is a down payment on a problem you ma...      0   \n",
       "1     2017-En-31535  Whatever you decide to do make sure it makes y...      0   \n",
       "2     2017-En-21068  @Max_Kellerman  it also helps that the majorit...      1   \n",
       "3     2017-En-31436  Accept the challenges so that you can literall...      0   \n",
       "4     2017-En-22195  My roommate: it's okay that we can't spell bec...      1   \n",
       "...             ...                                                ...    ...   \n",
       "7719  2018-En-01993  @BadHombreNPS @SecretaryPerry If this didn't m...      1   \n",
       "7720  2018-En-01784  Excited to watch #stateoforigin tonight! Come ...      0   \n",
       "7721  2018-En-04047  Blah blah blah Kyrie, IT, etc. @CJC9BOSS leavi...      1   \n",
       "7722  2018-En-03041  #ThingsIveLearned The wise #shepherd never tru...      0   \n",
       "7723  2018-En-03386  I am really flattered and happy to hear those ...      0   \n",
       "\n",
       "      joy  sadness  \n",
       "0       0        0  \n",
       "1       1        0  \n",
       "2       1        0  \n",
       "3       1        0  \n",
       "4       0        0  \n",
       "...   ...      ...  \n",
       "7719    0        0  \n",
       "7720    1        0  \n",
       "7721    0        1  \n",
       "7722    0        0  \n",
       "7723    1        0  \n",
       "\n",
       "[7724 rows x 5 columns]"
      ]
     },
     "execution_count": 147,
     "metadata": {},
     "output_type": "execute_result"
    }
   ],
   "source": [
    "semeval"
   ]
  },
  {
   "cell_type": "code",
   "execution_count": 148,
   "id": "891b86c8",
   "metadata": {},
   "outputs": [
    {
     "name": "stderr",
     "output_type": "stream",
     "text": [
      "/Users/vprentice/.pyenv/versions/3.8.6/envs/lewagon/lib/python3.8/site-packages/pandas/core/frame.py:3607: SettingWithCopyWarning: \n",
      "A value is trying to be set on a copy of a slice from a DataFrame.\n",
      "Try using .loc[row_indexer,col_indexer] = value instead\n",
      "\n",
      "See the caveats in the documentation: https://pandas.pydata.org/pandas-docs/stable/user_guide/indexing.html#returning-a-view-versus-a-copy\n",
      "  self._set_item(key, value)\n"
     ]
    }
   ],
   "source": [
    "semeval_anger = semeval[semeval['anger'] == 1]\n",
    "semeval_anger['word_label'] = 'angry'\n",
    "semeval_joy = semeval[semeval['joy'] == 1]\n",
    "semeval_joy['word_label'] = 'happy'\n",
    "semeval_sadness =semeval[semeval['sadness'] == 1]\n",
    "semeval_sadness['word_label'] = 'sad'\n"
   ]
  },
  {
   "cell_type": "code",
   "execution_count": 149,
   "id": "97823e5e",
   "metadata": {},
   "outputs": [],
   "source": [
    "semeval_hsa = pd.concat([semeval_anger, semeval_joy, semeval_sadness])\n",
    "semeval_hsa.reset_index(inplace=True)"
   ]
  },
  {
   "cell_type": "code",
   "execution_count": 150,
   "id": "63c867b8",
   "metadata": {},
   "outputs": [],
   "source": [
    "semeval_hsa.drop(columns=['index','anger','joy','sadness'], inplace=True)"
   ]
  },
  {
   "cell_type": "code",
   "execution_count": 151,
   "id": "4fe79c3b",
   "metadata": {},
   "outputs": [],
   "source": [
    "semeval_hsa.drop(columns=['ID'], inplace=True)"
   ]
  },
  {
   "cell_type": "code",
   "execution_count": 152,
   "id": "d87d7e14",
   "metadata": {},
   "outputs": [],
   "source": [
    "semeval_hsa.rename(columns={'Tweet':'text'}, inplace=True)"
   ]
  },
  {
   "cell_type": "code",
   "execution_count": 153,
   "id": "d7641cac",
   "metadata": {},
   "outputs": [
    {
     "data": {
      "text/html": [
       "<div>\n",
       "<style scoped>\n",
       "    .dataframe tbody tr th:only-of-type {\n",
       "        vertical-align: middle;\n",
       "    }\n",
       "\n",
       "    .dataframe tbody tr th {\n",
       "        vertical-align: top;\n",
       "    }\n",
       "\n",
       "    .dataframe thead th {\n",
       "        text-align: right;\n",
       "    }\n",
       "</style>\n",
       "<table border=\"1\" class=\"dataframe\">\n",
       "  <thead>\n",
       "    <tr style=\"text-align: right;\">\n",
       "      <th></th>\n",
       "      <th>text</th>\n",
       "      <th>word_label</th>\n",
       "    </tr>\n",
       "  </thead>\n",
       "  <tbody>\n",
       "    <tr>\n",
       "      <th>0</th>\n",
       "      <td>@Max_Kellerman  it also helps that the majorit...</td>\n",
       "      <td>angry</td>\n",
       "    </tr>\n",
       "    <tr>\n",
       "      <th>1</th>\n",
       "      <td>My roommate: it's okay that we can't spell bec...</td>\n",
       "      <td>angry</td>\n",
       "    </tr>\n",
       "    <tr>\n",
       "      <th>2</th>\n",
       "      <td>Rooneys fucking untouchable isn't he? Been fuc...</td>\n",
       "      <td>angry</td>\n",
       "    </tr>\n",
       "    <tr>\n",
       "      <th>3</th>\n",
       "      <td>@BossUpJaee but your pussy was weak from what ...</td>\n",
       "      <td>angry</td>\n",
       "    </tr>\n",
       "    <tr>\n",
       "      <th>4</th>\n",
       "      <td>S/O to the girl that just hit my car...not onl...</td>\n",
       "      <td>angry</td>\n",
       "    </tr>\n",
       "    <tr>\n",
       "      <th>...</th>\n",
       "      <td>...</td>\n",
       "      <td>...</td>\n",
       "    </tr>\n",
       "    <tr>\n",
       "      <th>8004</th>\n",
       "      <td>@ProfessorF @Mediaite @law_newz Childish tempe...</td>\n",
       "      <td>sad</td>\n",
       "    </tr>\n",
       "    <tr>\n",
       "      <th>8005</th>\n",
       "      <td>Still 19 days left before I go home to the Phi...</td>\n",
       "      <td>sad</td>\n",
       "    </tr>\n",
       "    <tr>\n",
       "      <th>8006</th>\n",
       "      <td>Literally hanging on by a thread need some tay...</td>\n",
       "      <td>sad</td>\n",
       "    </tr>\n",
       "    <tr>\n",
       "      <th>8007</th>\n",
       "      <td>was one moron  driving his oversize tonka truc...</td>\n",
       "      <td>sad</td>\n",
       "    </tr>\n",
       "    <tr>\n",
       "      <th>8008</th>\n",
       "      <td>Blah blah blah Kyrie, IT, etc. @CJC9BOSS leavi...</td>\n",
       "      <td>sad</td>\n",
       "    </tr>\n",
       "  </tbody>\n",
       "</table>\n",
       "<p>8009 rows × 2 columns</p>\n",
       "</div>"
      ],
      "text/plain": [
       "                                                   text word_label\n",
       "0     @Max_Kellerman  it also helps that the majorit...      angry\n",
       "1     My roommate: it's okay that we can't spell bec...      angry\n",
       "2     Rooneys fucking untouchable isn't he? Been fuc...      angry\n",
       "3     @BossUpJaee but your pussy was weak from what ...      angry\n",
       "4     S/O to the girl that just hit my car...not onl...      angry\n",
       "...                                                 ...        ...\n",
       "8004  @ProfessorF @Mediaite @law_newz Childish tempe...        sad\n",
       "8005  Still 19 days left before I go home to the Phi...        sad\n",
       "8006  Literally hanging on by a thread need some tay...        sad\n",
       "8007  was one moron  driving his oversize tonka truc...        sad\n",
       "8008  Blah blah blah Kyrie, IT, etc. @CJC9BOSS leavi...        sad\n",
       "\n",
       "[8009 rows x 2 columns]"
      ]
     },
     "execution_count": 153,
     "metadata": {},
     "output_type": "execute_result"
    }
   ],
   "source": [
    "semeval_hsa"
   ]
  },
  {
   "cell_type": "code",
   "execution_count": 154,
   "id": "fa268117",
   "metadata": {},
   "outputs": [],
   "source": [
    "semeval_hsa['source'] = 'SemEval-2018'"
   ]
  },
  {
   "cell_type": "code",
   "execution_count": 239,
   "id": "731e9c79",
   "metadata": {},
   "outputs": [
    {
     "data": {
      "text/plain": [
       "happy    2877\n",
       "angry    2859\n",
       "sad      2273\n",
       "Name: word_label, dtype: int64"
      ]
     },
     "execution_count": 239,
     "metadata": {},
     "output_type": "execute_result"
    }
   ],
   "source": [
    "semeval_hsa['word_label'].value_counts()"
   ]
  },
  {
   "cell_type": "code",
   "execution_count": 104,
   "id": "07f0c040",
   "metadata": {},
   "outputs": [],
   "source": [
    "semeval_hsa.to_csv('../raw_data/semeval-2018_happysadangry.csv')"
   ]
  },
  {
   "cell_type": "markdown",
   "id": "3499da36",
   "metadata": {},
   "source": [
    "## Add angry data from Google Reddit Dataset"
   ]
  },
  {
   "cell_type": "code",
   "execution_count": 209,
   "id": "eba71b48",
   "metadata": {},
   "outputs": [],
   "source": [
    "google_emotion_dict = {0:'admiration',\n",
    "1:'amusement',\n",
    "2:'anger',\n",
    "3:'annoyance',\n",
    "4:'approval',\n",
    "5:'caring',\n",
    "6:'confusion',\n",
    "7:'curiosity',\n",
    "8:'desire',\n",
    "9:'disappointment',\n",
    "10:'disapproval',\n",
    "11:'disgust',\n",
    "12:'embarrassment',\n",
    "13:'excitement',\n",
    "14:'fear',\n",
    "15:'gratitude',\n",
    "16:'grief',\n",
    "17:'joy',\n",
    "18:'love',\n",
    "19:'nervousness',\n",
    "20:'optimism',\n",
    "21:'pride',\n",
    "22:'realization',\n",
    "23:'relief',\n",
    "24:'remorse',\n",
    "25:'sadness',\n",
    "26:'surprise',\n",
    "27:'neutral'}"
   ]
  },
  {
   "cell_type": "code",
   "execution_count": 155,
   "id": "cfa4b473",
   "metadata": {},
   "outputs": [],
   "source": [
    "import pandas as pd"
   ]
  },
  {
   "cell_type": "code",
   "execution_count": 156,
   "id": "f52d9081",
   "metadata": {
    "scrolled": true
   },
   "outputs": [],
   "source": [
    "google_df = pd.read_excel(\"../raw_data/emotion_data/google_reddit_emotion_data.xls\")"
   ]
  },
  {
   "cell_type": "code",
   "execution_count": 157,
   "id": "72fcd8e6",
   "metadata": {},
   "outputs": [],
   "source": [
    "google_df.drop(columns=['emotion_4', 'emotion_5'], inplace=True)"
   ]
  },
  {
   "cell_type": "code",
   "execution_count": 158,
   "id": "a5f788a1",
   "metadata": {},
   "outputs": [],
   "source": [
    "google_angry = google_df[google_df['emotion_3'].isin([2,3,10])]"
   ]
  },
  {
   "cell_type": "code",
   "execution_count": 159,
   "id": "236f22ce",
   "metadata": {},
   "outputs": [],
   "source": [
    "google_angry = google_angry.append(google_df[google_df['emotion_2'].isin([2,3,10])])"
   ]
  },
  {
   "cell_type": "code",
   "execution_count": 160,
   "id": "23b0c1b0",
   "metadata": {},
   "outputs": [],
   "source": [
    "google_angry = google_angry.append(google_df[google_df['emotion_1'].isin([2,3,10])])"
   ]
  },
  {
   "cell_type": "code",
   "execution_count": 161,
   "id": "f5b96a09",
   "metadata": {},
   "outputs": [
    {
     "data": {
      "text/plain": [
       "484"
      ]
     },
     "execution_count": 161,
     "metadata": {},
     "output_type": "execute_result"
    }
   ],
   "source": [
    "google_angry.duplicated().sum()"
   ]
  },
  {
   "cell_type": "code",
   "execution_count": 162,
   "id": "06a1842f",
   "metadata": {},
   "outputs": [],
   "source": [
    "google_angry.drop_duplicates(inplace=True)"
   ]
  },
  {
   "cell_type": "code",
   "execution_count": 163,
   "id": "f47e56be",
   "metadata": {},
   "outputs": [],
   "source": [
    "google_angry.reset_index(inplace=True, drop=True)"
   ]
  },
  {
   "cell_type": "code",
   "execution_count": 164,
   "id": "2bf46dd2",
   "metadata": {},
   "outputs": [
    {
     "data": {
      "text/html": [
       "<div>\n",
       "<style scoped>\n",
       "    .dataframe tbody tr th:only-of-type {\n",
       "        vertical-align: middle;\n",
       "    }\n",
       "\n",
       "    .dataframe tbody tr th {\n",
       "        vertical-align: top;\n",
       "    }\n",
       "\n",
       "    .dataframe thead th {\n",
       "        text-align: right;\n",
       "    }\n",
       "</style>\n",
       "<table border=\"1\" class=\"dataframe\">\n",
       "  <thead>\n",
       "    <tr style=\"text-align: right;\">\n",
       "      <th></th>\n",
       "      <th>text</th>\n",
       "      <th>emotion_1</th>\n",
       "      <th>emotion_2</th>\n",
       "      <th>emotion_3</th>\n",
       "    </tr>\n",
       "  </thead>\n",
       "  <tbody>\n",
       "    <tr>\n",
       "      <th>0</th>\n",
       "      <td>- But mom! I don‚Äôt wanna go to school today!...</td>\n",
       "      <td>2</td>\n",
       "      <td>3.0</td>\n",
       "      <td>10.0</td>\n",
       "    </tr>\n",
       "    <tr>\n",
       "      <th>1</th>\n",
       "      <td>It's not his fault, it's your wife's. Shes the...</td>\n",
       "      <td>2</td>\n",
       "      <td>3.0</td>\n",
       "      <td>10.0</td>\n",
       "    </tr>\n",
       "    <tr>\n",
       "      <th>2</th>\n",
       "      <td>I'm not the disgusting. I take good care of he...</td>\n",
       "      <td>5</td>\n",
       "      <td>7.0</td>\n",
       "      <td>10.0</td>\n",
       "    </tr>\n",
       "    <tr>\n",
       "      <th>3</th>\n",
       "      <td>\"Feed the wars and fuck the poors\" is pretty m...</td>\n",
       "      <td>2</td>\n",
       "      <td>3.0</td>\n",
       "      <td>10.0</td>\n",
       "    </tr>\n",
       "    <tr>\n",
       "      <th>4</th>\n",
       "      <td>It‚Äôs amazing what they can justify to themse...</td>\n",
       "      <td>0</td>\n",
       "      <td>6.0</td>\n",
       "      <td>10.0</td>\n",
       "    </tr>\n",
       "    <tr>\n",
       "      <th>...</th>\n",
       "      <td>...</td>\n",
       "      <td>...</td>\n",
       "      <td>...</td>\n",
       "      <td>...</td>\n",
       "    </tr>\n",
       "    <tr>\n",
       "      <th>5570</th>\n",
       "      <td>There's doing stupid things when you're young....</td>\n",
       "      <td>3</td>\n",
       "      <td>NaN</td>\n",
       "      <td>NaN</td>\n",
       "    </tr>\n",
       "    <tr>\n",
       "      <th>5571</th>\n",
       "      <td>So now disabled people don‚Äôt have rights . Y...</td>\n",
       "      <td>2</td>\n",
       "      <td>9.0</td>\n",
       "      <td>NaN</td>\n",
       "    </tr>\n",
       "    <tr>\n",
       "      <th>5572</th>\n",
       "      <td>It is. I bet chantex and all the other 'quit s...</td>\n",
       "      <td>10</td>\n",
       "      <td>NaN</td>\n",
       "      <td>NaN</td>\n",
       "    </tr>\n",
       "    <tr>\n",
       "      <th>5573</th>\n",
       "      <td>[NAME] was half-blood but it wasn't a smart id...</td>\n",
       "      <td>10</td>\n",
       "      <td>NaN</td>\n",
       "      <td>NaN</td>\n",
       "    </tr>\n",
       "    <tr>\n",
       "      <th>5574</th>\n",
       "      <td>What are you talking about? Anything bad that ...</td>\n",
       "      <td>3</td>\n",
       "      <td>NaN</td>\n",
       "      <td>NaN</td>\n",
       "    </tr>\n",
       "  </tbody>\n",
       "</table>\n",
       "<p>5575 rows × 4 columns</p>\n",
       "</div>"
      ],
      "text/plain": [
       "                                                   text  emotion_1  emotion_2  \\\n",
       "0     - But mom! I don‚Äôt wanna go to school today!...          2        3.0   \n",
       "1     It's not his fault, it's your wife's. Shes the...          2        3.0   \n",
       "2     I'm not the disgusting. I take good care of he...          5        7.0   \n",
       "3     \"Feed the wars and fuck the poors\" is pretty m...          2        3.0   \n",
       "4     It‚Äôs amazing what they can justify to themse...          0        6.0   \n",
       "...                                                 ...        ...        ...   \n",
       "5570  There's doing stupid things when you're young....          3        NaN   \n",
       "5571  So now disabled people don‚Äôt have rights . Y...          2        9.0   \n",
       "5572  It is. I bet chantex and all the other 'quit s...         10        NaN   \n",
       "5573  [NAME] was half-blood but it wasn't a smart id...         10        NaN   \n",
       "5574  What are you talking about? Anything bad that ...          3        NaN   \n",
       "\n",
       "      emotion_3  \n",
       "0          10.0  \n",
       "1          10.0  \n",
       "2          10.0  \n",
       "3          10.0  \n",
       "4          10.0  \n",
       "...         ...  \n",
       "5570        NaN  \n",
       "5571        NaN  \n",
       "5572        NaN  \n",
       "5573        NaN  \n",
       "5574        NaN  \n",
       "\n",
       "[5575 rows x 4 columns]"
      ]
     },
     "execution_count": 164,
     "metadata": {},
     "output_type": "execute_result"
    }
   ],
   "source": [
    "google_angry"
   ]
  },
  {
   "cell_type": "code",
   "execution_count": 165,
   "id": "2b472908",
   "metadata": {},
   "outputs": [],
   "source": [
    "google_angry_df = google_angry.copy()[['text']]"
   ]
  },
  {
   "cell_type": "code",
   "execution_count": 166,
   "id": "a7c2139e",
   "metadata": {},
   "outputs": [],
   "source": [
    "google_angry_df['word_label'] = 'angry'"
   ]
  },
  {
   "cell_type": "code",
   "execution_count": 167,
   "id": "924b2418",
   "metadata": {},
   "outputs": [],
   "source": [
    "google_angry_df['source'] = 'Google_GoEmotions'"
   ]
  },
  {
   "cell_type": "code",
   "execution_count": 168,
   "id": "7a8760b8",
   "metadata": {},
   "outputs": [
    {
     "data": {
      "text/plain": [
       "'So now disabled people don‚Äôt have rights . You get worse .'"
      ]
     },
     "execution_count": 168,
     "metadata": {},
     "output_type": "execute_result"
    }
   ],
   "source": [
    "google_angry_df.loc[5571, 'text']"
   ]
  },
  {
   "cell_type": "code",
   "execution_count": 169,
   "id": "01f76a33",
   "metadata": {},
   "outputs": [],
   "source": [
    "google_angry_df.to_csv(\"../raw_data/emotion_data/google_angry.csv\")"
   ]
  },
  {
   "cell_type": "markdown",
   "id": "7e998967",
   "metadata": {},
   "source": [
    "### Google Happy and Sad"
   ]
  },
  {
   "cell_type": "code",
   "execution_count": 218,
   "id": "9d018be2",
   "metadata": {},
   "outputs": [],
   "source": [
    "google_happy = pd.DataFrame(google_df[google_df['emotion_1'] == 17]['text']).reset_index(drop=True)"
   ]
  },
  {
   "cell_type": "code",
   "execution_count": 221,
   "id": "efa1cfac",
   "metadata": {},
   "outputs": [],
   "source": [
    "google_happy['word_label'] = 'happy'\n",
    "google_happy['source'] = 'Google_GoEmotions'"
   ]
  },
  {
   "cell_type": "code",
   "execution_count": 230,
   "id": "056ac408",
   "metadata": {},
   "outputs": [],
   "source": [
    "google_sad1 = pd.DataFrame(google_df[google_df['emotion_1'] == 25]['text']).reset_index(drop=True)\n",
    "google_sad2 = pd.DataFrame(google_df[google_df['emotion_2'] == 25]['text']).reset_index(drop=True)\n",
    "google_sad3 = pd.DataFrame(google_df[google_df['emotion_3'] == 25]['text']).reset_index(drop=True)"
   ]
  },
  {
   "cell_type": "code",
   "execution_count": 231,
   "id": "66732f22",
   "metadata": {},
   "outputs": [],
   "source": [
    "google_sad = pd.concat([google_sad1, google_sad2, google_sad3]).reset_index(drop=True)"
   ]
  },
  {
   "cell_type": "code",
   "execution_count": 232,
   "id": "7a8b5426",
   "metadata": {},
   "outputs": [
    {
     "data": {
      "text/html": [
       "<div>\n",
       "<style scoped>\n",
       "    .dataframe tbody tr th:only-of-type {\n",
       "        vertical-align: middle;\n",
       "    }\n",
       "\n",
       "    .dataframe tbody tr th {\n",
       "        vertical-align: top;\n",
       "    }\n",
       "\n",
       "    .dataframe thead th {\n",
       "        text-align: right;\n",
       "    }\n",
       "</style>\n",
       "<table border=\"1\" class=\"dataframe\">\n",
       "  <thead>\n",
       "    <tr style=\"text-align: right;\">\n",
       "      <th></th>\n",
       "      <th>text</th>\n",
       "    </tr>\n",
       "  </thead>\n",
       "  <tbody>\n",
       "    <tr>\n",
       "      <th>0</th>\n",
       "      <td>Pretty sure I‚Äôve seen this. He swings away w...</td>\n",
       "    </tr>\n",
       "    <tr>\n",
       "      <th>1</th>\n",
       "      <td>sorry [NAME]! üòòüòòüòò</td>\n",
       "    </tr>\n",
       "    <tr>\n",
       "      <th>2</th>\n",
       "      <td>my brain hurts...</td>\n",
       "    </tr>\n",
       "    <tr>\n",
       "      <th>3</th>\n",
       "      <td>Go pursue that education. Let [NAME] wallow in...</td>\n",
       "    </tr>\n",
       "    <tr>\n",
       "      <th>4</th>\n",
       "      <td>I was suffering a delirium flu during the phan...</td>\n",
       "    </tr>\n",
       "    <tr>\n",
       "      <th>...</th>\n",
       "      <td>...</td>\n",
       "    </tr>\n",
       "    <tr>\n",
       "      <th>1315</th>\n",
       "      <td>This hurts to hear because we know it's true. ...</td>\n",
       "    </tr>\n",
       "    <tr>\n",
       "      <th>1316</th>\n",
       "      <td>Yep happening to me all the time at my college...</td>\n",
       "    </tr>\n",
       "    <tr>\n",
       "      <th>1317</th>\n",
       "      <td>Shit, I lost the original page. Please forgive...</td>\n",
       "    </tr>\n",
       "    <tr>\n",
       "      <th>1318</th>\n",
       "      <td>I want to die</td>\n",
       "    </tr>\n",
       "    <tr>\n",
       "      <th>1319</th>\n",
       "      <td>I mourn for you anti-intellectuals</td>\n",
       "    </tr>\n",
       "  </tbody>\n",
       "</table>\n",
       "<p>1320 rows × 1 columns</p>\n",
       "</div>"
      ],
      "text/plain": [
       "                                                   text\n",
       "0     Pretty sure I‚Äôve seen this. He swings away w...\n",
       "1                            sorry [NAME]! üòòüòòüòò\n",
       "2                                     my brain hurts...\n",
       "3     Go pursue that education. Let [NAME] wallow in...\n",
       "4     I was suffering a delirium flu during the phan...\n",
       "...                                                 ...\n",
       "1315  This hurts to hear because we know it's true. ...\n",
       "1316  Yep happening to me all the time at my college...\n",
       "1317  Shit, I lost the original page. Please forgive...\n",
       "1318                                      I want to die\n",
       "1319                 I mourn for you anti-intellectuals\n",
       "\n",
       "[1320 rows x 1 columns]"
      ]
     },
     "execution_count": 232,
     "metadata": {},
     "output_type": "execute_result"
    }
   ],
   "source": [
    "google_sad"
   ]
  },
  {
   "cell_type": "code",
   "execution_count": 233,
   "id": "60e6fae4",
   "metadata": {},
   "outputs": [],
   "source": [
    "google_sad['word_label'] = 'sad'\n",
    "google_sad['source'] = 'Google_GoEmotions'"
   ]
  },
  {
   "cell_type": "code",
   "execution_count": 235,
   "id": "be6b295a",
   "metadata": {},
   "outputs": [
    {
     "data": {
      "text/plain": [
       "angry    5575\n",
       "sad      1320\n",
       "happy    1013\n",
       "Name: word_label, dtype: int64"
      ]
     },
     "execution_count": 235,
     "metadata": {},
     "output_type": "execute_result"
    }
   ],
   "source": [
    "google_hsa = pd.concat([google_angry_df, google_happy, google_sad])\n",
    "google_hsa['word_label'].value_counts()"
   ]
  },
  {
   "cell_type": "code",
   "execution_count": 236,
   "id": "e986d89b",
   "metadata": {},
   "outputs": [],
   "source": [
    "google_hsa.to_csv('../raw_data/emotion_data/google_hsa_mostly_angry.csv')"
   ]
  },
  {
   "cell_type": "markdown",
   "id": "23ff7d0a",
   "metadata": {},
   "source": [
    "## Recheck Crowdflower Data "
   ]
  },
  {
   "cell_type": "code",
   "execution_count": 66,
   "id": "6776ced3",
   "metadata": {},
   "outputs": [],
   "source": [
    "crowdflower = pd.read_csv('../raw_data/emotion_data/crowdflower_text_emotion.csv')"
   ]
  },
  {
   "cell_type": "code",
   "execution_count": 68,
   "id": "3a15d668",
   "metadata": {},
   "outputs": [
    {
     "data": {
      "text/plain": [
       "array(['empty', 'sadness', 'enthusiasm', 'neutral', 'worry', 'surprise',\n",
       "       'love', 'fun', 'hate', 'happiness', 'boredom', 'relief', 'anger'],\n",
       "      dtype=object)"
      ]
     },
     "execution_count": 68,
     "metadata": {},
     "output_type": "execute_result"
    }
   ],
   "source": [
    "crowdflower['sentiment'].unique()"
   ]
  },
  {
   "cell_type": "code",
   "execution_count": 69,
   "id": "555c5e68",
   "metadata": {},
   "outputs": [
    {
     "data": {
      "text/plain": [
       "neutral       8638\n",
       "worry         8459\n",
       "happiness     5209\n",
       "sadness       5165\n",
       "love          3842\n",
       "surprise      2187\n",
       "fun           1776\n",
       "relief        1526\n",
       "hate          1323\n",
       "empty          827\n",
       "enthusiasm     759\n",
       "boredom        179\n",
       "anger          110\n",
       "Name: sentiment, dtype: int64"
      ]
     },
     "execution_count": 69,
     "metadata": {},
     "output_type": "execute_result"
    }
   ],
   "source": [
    "crowdflower['sentiment'].value_counts()"
   ]
  },
  {
   "cell_type": "code",
   "execution_count": 178,
   "id": "cb2ddbe9",
   "metadata": {},
   "outputs": [],
   "source": [
    "crowdflower_hate = crowdflower[crowdflower['sentiment'] == 'hate'][['sentiment', 'content']].reset_index(drop=True)"
   ]
  },
  {
   "cell_type": "code",
   "execution_count": 180,
   "id": "72581cea",
   "metadata": {},
   "outputs": [],
   "source": [
    "crowdflower_angry = crowdflower[crowdflower['sentiment'] == 'anger'][['sentiment', 'content']].reset_index(drop=True)"
   ]
  },
  {
   "cell_type": "code",
   "execution_count": 181,
   "id": "69ee2ded",
   "metadata": {},
   "outputs": [],
   "source": [
    "crowdflower_happy = crowdflower[crowdflower['sentiment'] == 'happiness'][['sentiment', 'content']].reset_index(drop=True)"
   ]
  },
  {
   "cell_type": "code",
   "execution_count": 182,
   "id": "153c475c",
   "metadata": {},
   "outputs": [],
   "source": [
    "crowdflower_sad = crowdflower[crowdflower['sentiment'] == 'sadness'][['sentiment', 'content']].reset_index(drop=True)"
   ]
  },
  {
   "cell_type": "code",
   "execution_count": 194,
   "id": "fa698062",
   "metadata": {},
   "outputs": [],
   "source": [
    "crowdflower_hsa = pd.concat([crowdflower_hate, crowdflower_angry, crowdflower_happy, crowdflower_sad])"
   ]
  },
  {
   "cell_type": "code",
   "execution_count": 195,
   "id": "313551bd",
   "metadata": {},
   "outputs": [],
   "source": [
    "crowdflower_hsa = crowdflower_hsa[['content', 'sentiment']]"
   ]
  },
  {
   "cell_type": "code",
   "execution_count": 196,
   "id": "3129b853",
   "metadata": {},
   "outputs": [],
   "source": [
    "crowdflower_hsa.rename(columns={'content':'text','sentiment':'word_label'}, inplace=True)"
   ]
  },
  {
   "cell_type": "code",
   "execution_count": 197,
   "id": "20729aa4",
   "metadata": {},
   "outputs": [],
   "source": [
    "crowdflower_hsa['word_label'] = crowdflower_hsa['word_label'].map({'hate':'angry', 'anger':'angry', 'happiness':'happy', 'sadness':'sad'})"
   ]
  },
  {
   "cell_type": "code",
   "execution_count": 241,
   "id": "4c138a6c",
   "metadata": {},
   "outputs": [
    {
     "data": {
      "text/plain": [
       "happy    5209\n",
       "sad      5165\n",
       "angry    1433\n",
       "Name: word_label, dtype: int64"
      ]
     },
     "execution_count": 241,
     "metadata": {},
     "output_type": "execute_result"
    }
   ],
   "source": [
    "crowdflower_hsa['word_label'].value_counts()"
   ]
  },
  {
   "cell_type": "code",
   "execution_count": 204,
   "id": "0231a383",
   "metadata": {},
   "outputs": [],
   "source": [
    "crowdflower_hsa['source'] = 'CrowdFlower'"
   ]
  },
  {
   "cell_type": "code",
   "execution_count": 205,
   "id": "6ce40e10",
   "metadata": {},
   "outputs": [],
   "source": [
    "crowdflower_hsa.to_csv('../raw_data/emotion_data/crowdflower_hsa.csv')"
   ]
  },
  {
   "cell_type": "markdown",
   "id": "3e55bdbf",
   "metadata": {},
   "source": [
    "## Re-check Friends data"
   ]
  },
  {
   "cell_type": "code",
   "execution_count": 107,
   "id": "f932d141",
   "metadata": {},
   "outputs": [],
   "source": [
    "meld_df = pd.read_excel(\"../raw_data/emotion_data/MELD_train_sent_emo.xls\")"
   ]
  },
  {
   "cell_type": "code",
   "execution_count": 109,
   "id": "23321ec8",
   "metadata": {},
   "outputs": [],
   "source": [
    "meld_happy = meld_df[meld_df['Emotion'] == 'joy']"
   ]
  },
  {
   "cell_type": "code",
   "execution_count": 110,
   "id": "a07b1059",
   "metadata": {},
   "outputs": [],
   "source": [
    "meld_sad = meld_df[meld_df['Emotion'] == 'sadness']"
   ]
  },
  {
   "cell_type": "code",
   "execution_count": 114,
   "id": "4ba45884",
   "metadata": {},
   "outputs": [],
   "source": [
    "meld_angry = meld_df[meld_df['Emotion'].isin(['anger', 'disgust'])]"
   ]
  },
  {
   "cell_type": "code",
   "execution_count": 115,
   "id": "919f3215",
   "metadata": {},
   "outputs": [],
   "source": [
    "meld_hsa = pd.concat([meld_happy, meld_sad, meld_angry])"
   ]
  },
  {
   "cell_type": "code",
   "execution_count": 118,
   "id": "4b8a5290",
   "metadata": {},
   "outputs": [],
   "source": [
    "meld_hsa['word_label'] = meld_hsa['Emotion'].map({'joy':'happy', 'sadness':'sad', 'anger':'angry', 'disgust': 'angry'})"
   ]
  },
  {
   "cell_type": "code",
   "execution_count": 120,
   "id": "5ac23f2b",
   "metadata": {},
   "outputs": [],
   "source": [
    "meld_hsa['source'] = 'MELD-Friends'"
   ]
  },
  {
   "cell_type": "code",
   "execution_count": 122,
   "id": "ec8d0373",
   "metadata": {},
   "outputs": [],
   "source": [
    "meld_hsa.drop(columns=['Emotion'], inplace=True)"
   ]
  },
  {
   "cell_type": "code",
   "execution_count": 124,
   "id": "e13ce130",
   "metadata": {},
   "outputs": [],
   "source": [
    "meld_hsa.rename(columns={'Utterance':'text'}, inplace=True)"
   ]
  },
  {
   "cell_type": "code",
   "execution_count": 242,
   "id": "a7265e18",
   "metadata": {},
   "outputs": [
    {
     "data": {
      "text/plain": [
       "happy    1743\n",
       "angry    1380\n",
       "sad       683\n",
       "Name: word_label, dtype: int64"
      ]
     },
     "execution_count": 242,
     "metadata": {},
     "output_type": "execute_result"
    }
   ],
   "source": [
    "meld_hsa['word_label'].value_counts()"
   ]
  },
  {
   "cell_type": "code",
   "execution_count": 202,
   "id": "4c9df6fb",
   "metadata": {},
   "outputs": [],
   "source": [
    "meld_hsa.to_csv('../raw_data/emotion_data/meld_hsa.csv')"
   ]
  },
  {
   "cell_type": "markdown",
   "id": "2c6c4d13",
   "metadata": {},
   "source": [
    "## Combine"
   ]
  },
  {
   "cell_type": "code",
   "execution_count": 243,
   "id": "db14915f",
   "metadata": {},
   "outputs": [],
   "source": [
    "new_df = pd.concat([simplified_df, semeval_hsa, crowdflower_hsa, meld_hsa, google_hsa])"
   ]
  },
  {
   "cell_type": "code",
   "execution_count": 244,
   "id": "f82ea258",
   "metadata": {},
   "outputs": [
    {
     "data": {
      "text/plain": [
       "happy    17603\n",
       "sad      15238\n",
       "angry    13956\n",
       "Name: word_label, dtype: int64"
      ]
     },
     "execution_count": 244,
     "metadata": {},
     "output_type": "execute_result"
    }
   ],
   "source": [
    "new_df['word_label'].value_counts()"
   ]
  },
  {
   "cell_type": "code",
   "execution_count": 278,
   "id": "95586cf2",
   "metadata": {},
   "outputs": [
    {
     "data": {
      "text/html": [
       "<div>\n",
       "<style scoped>\n",
       "    .dataframe tbody tr th:only-of-type {\n",
       "        vertical-align: middle;\n",
       "    }\n",
       "\n",
       "    .dataframe tbody tr th {\n",
       "        vertical-align: top;\n",
       "    }\n",
       "\n",
       "    .dataframe thead th {\n",
       "        text-align: right;\n",
       "    }\n",
       "</style>\n",
       "<table border=\"1\" class=\"dataframe\">\n",
       "  <thead>\n",
       "    <tr style=\"text-align: right;\">\n",
       "      <th></th>\n",
       "      <th>text</th>\n",
       "      <th>word_label</th>\n",
       "      <th>source</th>\n",
       "    </tr>\n",
       "  </thead>\n",
       "  <tbody>\n",
       "    <tr>\n",
       "      <th>0</th>\n",
       "      <td>i didnt feel humiliated</td>\n",
       "      <td>sad</td>\n",
       "      <td>HuggingFace</td>\n",
       "    </tr>\n",
       "    <tr>\n",
       "      <th>1</th>\n",
       "      <td>i can go from feeling so hopeless to so damned...</td>\n",
       "      <td>sad</td>\n",
       "      <td>HuggingFace</td>\n",
       "    </tr>\n",
       "    <tr>\n",
       "      <th>2</th>\n",
       "      <td>im grabbing a minute to post i feel greedy wrong</td>\n",
       "      <td>angry</td>\n",
       "      <td>HuggingFace</td>\n",
       "    </tr>\n",
       "    <tr>\n",
       "      <th>4</th>\n",
       "      <td>i am feeling grouchy</td>\n",
       "      <td>angry</td>\n",
       "      <td>HuggingFace</td>\n",
       "    </tr>\n",
       "    <tr>\n",
       "      <th>5</th>\n",
       "      <td>ive been feeling a little burdened lately wasn...</td>\n",
       "      <td>sad</td>\n",
       "      <td>HuggingFace</td>\n",
       "    </tr>\n",
       "    <tr>\n",
       "      <th>...</th>\n",
       "      <td>...</td>\n",
       "      <td>...</td>\n",
       "      <td>...</td>\n",
       "    </tr>\n",
       "    <tr>\n",
       "      <th>1315</th>\n",
       "      <td>This hurts to hear because we know it's true. ...</td>\n",
       "      <td>sad</td>\n",
       "      <td>Google_GoEmotions</td>\n",
       "    </tr>\n",
       "    <tr>\n",
       "      <th>1316</th>\n",
       "      <td>Yep happening to me all the time at my college...</td>\n",
       "      <td>sad</td>\n",
       "      <td>Google_GoEmotions</td>\n",
       "    </tr>\n",
       "    <tr>\n",
       "      <th>1317</th>\n",
       "      <td>Shit, I lost the original page. Please forgive...</td>\n",
       "      <td>sad</td>\n",
       "      <td>Google_GoEmotions</td>\n",
       "    </tr>\n",
       "    <tr>\n",
       "      <th>1318</th>\n",
       "      <td>I want to die</td>\n",
       "      <td>sad</td>\n",
       "      <td>Google_GoEmotions</td>\n",
       "    </tr>\n",
       "    <tr>\n",
       "      <th>1319</th>\n",
       "      <td>I mourn for you anti-intellectuals</td>\n",
       "      <td>sad</td>\n",
       "      <td>Google_GoEmotions</td>\n",
       "    </tr>\n",
       "  </tbody>\n",
       "</table>\n",
       "<p>46797 rows × 3 columns</p>\n",
       "</div>"
      ],
      "text/plain": [
       "                                                   text word_label  \\\n",
       "0                               i didnt feel humiliated        sad   \n",
       "1     i can go from feeling so hopeless to so damned...        sad   \n",
       "2      im grabbing a minute to post i feel greedy wrong      angry   \n",
       "4                                  i am feeling grouchy      angry   \n",
       "5     ive been feeling a little burdened lately wasn...        sad   \n",
       "...                                                 ...        ...   \n",
       "1315  This hurts to hear because we know it's true. ...        sad   \n",
       "1316  Yep happening to me all the time at my college...        sad   \n",
       "1317  Shit, I lost the original page. Please forgive...        sad   \n",
       "1318                                      I want to die        sad   \n",
       "1319                 I mourn for you anti-intellectuals        sad   \n",
       "\n",
       "                 source  \n",
       "0           HuggingFace  \n",
       "1           HuggingFace  \n",
       "2           HuggingFace  \n",
       "4           HuggingFace  \n",
       "5           HuggingFace  \n",
       "...                 ...  \n",
       "1315  Google_GoEmotions  \n",
       "1316  Google_GoEmotions  \n",
       "1317  Google_GoEmotions  \n",
       "1318  Google_GoEmotions  \n",
       "1319  Google_GoEmotions  \n",
       "\n",
       "[46797 rows x 3 columns]"
      ]
     },
     "execution_count": 278,
     "metadata": {},
     "output_type": "execute_result"
    }
   ],
   "source": [
    "new_df"
   ]
  },
  {
   "cell_type": "markdown",
   "id": "69fef96c",
   "metadata": {},
   "source": [
    "### Take Subsample of Happy / Sad observations from some sources to balance set"
   ]
  },
  {
   "cell_type": "code",
   "execution_count": 256,
   "id": "9cae946d",
   "metadata": {},
   "outputs": [
    {
     "data": {
      "text/plain": [
       "array(['HuggingFace', 'SemEval-2018', 'CrowdFlower', 'MELD-Friends',\n",
       "       'Google_GoEmotions'], dtype=object)"
      ]
     },
     "execution_count": 256,
     "metadata": {},
     "output_type": "execute_result"
    }
   ],
   "source": [
    "new_df['source'].unique()"
   ]
  },
  {
   "cell_type": "code",
   "execution_count": 263,
   "id": "3f037e61",
   "metadata": {},
   "outputs": [
    {
     "data": {
      "text/html": [
       "<div>\n",
       "<style scoped>\n",
       "    .dataframe tbody tr th:only-of-type {\n",
       "        vertical-align: middle;\n",
       "    }\n",
       "\n",
       "    .dataframe tbody tr th {\n",
       "        vertical-align: top;\n",
       "    }\n",
       "\n",
       "    .dataframe thead th {\n",
       "        text-align: right;\n",
       "    }\n",
       "</style>\n",
       "<table border=\"1\" class=\"dataframe\">\n",
       "  <thead>\n",
       "    <tr style=\"text-align: right;\">\n",
       "      <th></th>\n",
       "      <th>text</th>\n",
       "      <th>word_label</th>\n",
       "      <th>source</th>\n",
       "    </tr>\n",
       "  </thead>\n",
       "  <tbody>\n",
       "    <tr>\n",
       "      <th>5736</th>\n",
       "      <td>it's pretty depressing when u hit pan on ur fa...</td>\n",
       "      <td>sad</td>\n",
       "      <td>SemEval-2018</td>\n",
       "    </tr>\n",
       "    <tr>\n",
       "      <th>5737</th>\n",
       "      <td>Making that yearly transition from excited and...</td>\n",
       "      <td>sad</td>\n",
       "      <td>SemEval-2018</td>\n",
       "    </tr>\n",
       "    <tr>\n",
       "      <th>5738</th>\n",
       "      <td>S/O to the girl that just hit my car...not onl...</td>\n",
       "      <td>sad</td>\n",
       "      <td>SemEval-2018</td>\n",
       "    </tr>\n",
       "    <tr>\n",
       "      <th>5739</th>\n",
       "      <td>People you need to look up the definition of p...</td>\n",
       "      <td>sad</td>\n",
       "      <td>SemEval-2018</td>\n",
       "    </tr>\n",
       "    <tr>\n",
       "      <th>5740</th>\n",
       "      <td>Star trek online has a update to download oh f...</td>\n",
       "      <td>sad</td>\n",
       "      <td>SemEval-2018</td>\n",
       "    </tr>\n",
       "    <tr>\n",
       "      <th>...</th>\n",
       "      <td>...</td>\n",
       "      <td>...</td>\n",
       "      <td>...</td>\n",
       "    </tr>\n",
       "    <tr>\n",
       "      <th>1315</th>\n",
       "      <td>This hurts to hear because we know it's true. ...</td>\n",
       "      <td>sad</td>\n",
       "      <td>Google_GoEmotions</td>\n",
       "    </tr>\n",
       "    <tr>\n",
       "      <th>1316</th>\n",
       "      <td>Yep happening to me all the time at my college...</td>\n",
       "      <td>sad</td>\n",
       "      <td>Google_GoEmotions</td>\n",
       "    </tr>\n",
       "    <tr>\n",
       "      <th>1317</th>\n",
       "      <td>Shit, I lost the original page. Please forgive...</td>\n",
       "      <td>sad</td>\n",
       "      <td>Google_GoEmotions</td>\n",
       "    </tr>\n",
       "    <tr>\n",
       "      <th>1318</th>\n",
       "      <td>I want to die</td>\n",
       "      <td>sad</td>\n",
       "      <td>Google_GoEmotions</td>\n",
       "    </tr>\n",
       "    <tr>\n",
       "      <th>1319</th>\n",
       "      <td>I mourn for you anti-intellectuals</td>\n",
       "      <td>sad</td>\n",
       "      <td>Google_GoEmotions</td>\n",
       "    </tr>\n",
       "  </tbody>\n",
       "</table>\n",
       "<p>4276 rows × 3 columns</p>\n",
       "</div>"
      ],
      "text/plain": [
       "                                                   text word_label  \\\n",
       "5736  it's pretty depressing when u hit pan on ur fa...        sad   \n",
       "5737  Making that yearly transition from excited and...        sad   \n",
       "5738  S/O to the girl that just hit my car...not onl...        sad   \n",
       "5739  People you need to look up the definition of p...        sad   \n",
       "5740  Star trek online has a update to download oh f...        sad   \n",
       "...                                                 ...        ...   \n",
       "1315  This hurts to hear because we know it's true. ...        sad   \n",
       "1316  Yep happening to me all the time at my college...        sad   \n",
       "1317  Shit, I lost the original page. Please forgive...        sad   \n",
       "1318                                      I want to die        sad   \n",
       "1319                 I mourn for you anti-intellectuals        sad   \n",
       "\n",
       "                 source  \n",
       "5736       SemEval-2018  \n",
       "5737       SemEval-2018  \n",
       "5738       SemEval-2018  \n",
       "5739       SemEval-2018  \n",
       "5740       SemEval-2018  \n",
       "...                 ...  \n",
       "1315  Google_GoEmotions  \n",
       "1316  Google_GoEmotions  \n",
       "1317  Google_GoEmotions  \n",
       "1318  Google_GoEmotions  \n",
       "1319  Google_GoEmotions  \n",
       "\n",
       "[4276 rows x 3 columns]"
      ]
     },
     "execution_count": 263,
     "metadata": {},
     "output_type": "execute_result"
    }
   ],
   "source": [
    "new_df[(new_df['word_label'] == 'sad')\\\n",
    "       & (new_df['source'].isin(['SemEval-2018', 'MELD-Friends', 'Google_GoEmotions']))]"
   ]
  },
  {
   "cell_type": "code",
   "execution_count": 282,
   "id": "51adc39a",
   "metadata": {},
   "outputs": [
    {
     "data": {
      "text/html": [
       "<div>\n",
       "<style scoped>\n",
       "    .dataframe tbody tr th:only-of-type {\n",
       "        vertical-align: middle;\n",
       "    }\n",
       "\n",
       "    .dataframe tbody tr th {\n",
       "        vertical-align: top;\n",
       "    }\n",
       "\n",
       "    .dataframe thead th {\n",
       "        text-align: right;\n",
       "    }\n",
       "</style>\n",
       "<table border=\"1\" class=\"dataframe\">\n",
       "  <thead>\n",
       "    <tr style=\"text-align: right;\">\n",
       "      <th></th>\n",
       "      <th>text</th>\n",
       "      <th>word_label</th>\n",
       "      <th>source</th>\n",
       "    </tr>\n",
       "  </thead>\n",
       "  <tbody>\n",
       "    <tr>\n",
       "      <th>8</th>\n",
       "      <td>i have been with petronas for years i feel tha...</td>\n",
       "      <td>happy</td>\n",
       "      <td>HuggingFace</td>\n",
       "    </tr>\n",
       "    <tr>\n",
       "      <th>11</th>\n",
       "      <td>i do feel that running is a divine experience ...</td>\n",
       "      <td>happy</td>\n",
       "      <td>HuggingFace</td>\n",
       "    </tr>\n",
       "    <tr>\n",
       "      <th>14</th>\n",
       "      <td>i have immense sympathy with the general point...</td>\n",
       "      <td>happy</td>\n",
       "      <td>HuggingFace</td>\n",
       "    </tr>\n",
       "    <tr>\n",
       "      <th>15</th>\n",
       "      <td>i do not feel reassured anxiety is on each side</td>\n",
       "      <td>happy</td>\n",
       "      <td>HuggingFace</td>\n",
       "    </tr>\n",
       "    <tr>\n",
       "      <th>22</th>\n",
       "      <td>i have the feeling she was amused and delighted</td>\n",
       "      <td>happy</td>\n",
       "      <td>HuggingFace</td>\n",
       "    </tr>\n",
       "    <tr>\n",
       "      <th>...</th>\n",
       "      <td>...</td>\n",
       "      <td>...</td>\n",
       "      <td>...</td>\n",
       "    </tr>\n",
       "    <tr>\n",
       "      <th>5204</th>\n",
       "      <td>going to watch boy in the striped pj's hope i ...</td>\n",
       "      <td>happy</td>\n",
       "      <td>CrowdFlower</td>\n",
       "    </tr>\n",
       "    <tr>\n",
       "      <th>5205</th>\n",
       "      <td>gave the bikes a thorough wash, degrease it an...</td>\n",
       "      <td>happy</td>\n",
       "      <td>CrowdFlower</td>\n",
       "    </tr>\n",
       "    <tr>\n",
       "      <th>5206</th>\n",
       "      <td>had SUCH and AMAZING time last night, McFly we...</td>\n",
       "      <td>happy</td>\n",
       "      <td>CrowdFlower</td>\n",
       "    </tr>\n",
       "    <tr>\n",
       "      <th>5207</th>\n",
       "      <td>Succesfully following Tayla!!</td>\n",
       "      <td>happy</td>\n",
       "      <td>CrowdFlower</td>\n",
       "    </tr>\n",
       "    <tr>\n",
       "      <th>5208</th>\n",
       "      <td>@niariley WASSUP BEAUTIFUL!!! FOLLOW ME!!  PEE...</td>\n",
       "      <td>happy</td>\n",
       "      <td>CrowdFlower</td>\n",
       "    </tr>\n",
       "  </tbody>\n",
       "</table>\n",
       "<p>11970 rows × 3 columns</p>\n",
       "</div>"
      ],
      "text/plain": [
       "                                                   text word_label  \\\n",
       "8     i have been with petronas for years i feel tha...      happy   \n",
       "11    i do feel that running is a divine experience ...      happy   \n",
       "14    i have immense sympathy with the general point...      happy   \n",
       "15      i do not feel reassured anxiety is on each side      happy   \n",
       "22      i have the feeling she was amused and delighted      happy   \n",
       "...                                                 ...        ...   \n",
       "5204  going to watch boy in the striped pj's hope i ...      happy   \n",
       "5205  gave the bikes a thorough wash, degrease it an...      happy   \n",
       "5206  had SUCH and AMAZING time last night, McFly we...      happy   \n",
       "5207                      Succesfully following Tayla!!      happy   \n",
       "5208  @niariley WASSUP BEAUTIFUL!!! FOLLOW ME!!  PEE...      happy   \n",
       "\n",
       "           source  \n",
       "8     HuggingFace  \n",
       "11    HuggingFace  \n",
       "14    HuggingFace  \n",
       "15    HuggingFace  \n",
       "22    HuggingFace  \n",
       "...           ...  \n",
       "5204  CrowdFlower  \n",
       "5205  CrowdFlower  \n",
       "5206  CrowdFlower  \n",
       "5207  CrowdFlower  \n",
       "5208  CrowdFlower  \n",
       "\n",
       "[11970 rows x 3 columns]"
      ]
     },
     "execution_count": 282,
     "metadata": {},
     "output_type": "execute_result"
    }
   ],
   "source": [
    "new_df[(new_df['word_label'] == 'happy') & (new_df['source'].isin(['HuggingFace', 'CrowdFlower']))]"
   ]
  },
  {
   "cell_type": "code",
   "execution_count": 280,
   "id": "f3d98d1d",
   "metadata": {},
   "outputs": [],
   "source": [
    "hugging_and_crowd_happy = new_df[(new_df['word_label'] == 'happy') & (new_df['source'].isin(['HuggingFace', 'CrowdFlower']))].sample(8896)"
   ]
  },
  {
   "cell_type": "code",
   "execution_count": 259,
   "id": "4e9d9605",
   "metadata": {},
   "outputs": [
    {
     "data": {
      "text/plain": [
       "8867"
      ]
     },
     "execution_count": 259,
     "metadata": {},
     "output_type": "execute_result"
    }
   ],
   "source": [
    "14500 - 5633"
   ]
  },
  {
   "cell_type": "code",
   "execution_count": 281,
   "id": "2e5b6620",
   "metadata": {},
   "outputs": [
    {
     "data": {
      "text/html": [
       "<div>\n",
       "<style scoped>\n",
       "    .dataframe tbody tr th:only-of-type {\n",
       "        vertical-align: middle;\n",
       "    }\n",
       "\n",
       "    .dataframe tbody tr th {\n",
       "        vertical-align: top;\n",
       "    }\n",
       "\n",
       "    .dataframe thead th {\n",
       "        text-align: right;\n",
       "    }\n",
       "</style>\n",
       "<table border=\"1\" class=\"dataframe\">\n",
       "  <thead>\n",
       "    <tr style=\"text-align: right;\">\n",
       "      <th></th>\n",
       "      <th>text</th>\n",
       "      <th>word_label</th>\n",
       "      <th>source</th>\n",
       "    </tr>\n",
       "  </thead>\n",
       "  <tbody>\n",
       "    <tr>\n",
       "      <th>13898</th>\n",
       "      <td>i am thankful that she continues to feel comfo...</td>\n",
       "      <td>happy</td>\n",
       "      <td>HuggingFace</td>\n",
       "    </tr>\n",
       "    <tr>\n",
       "      <th>11115</th>\n",
       "      <td>i want to do it the right way oh orihime whisp...</td>\n",
       "      <td>happy</td>\n",
       "      <td>HuggingFace</td>\n",
       "    </tr>\n",
       "    <tr>\n",
       "      <th>1956</th>\n",
       "      <td>i was gaining weight getting a lot stronger an...</td>\n",
       "      <td>happy</td>\n",
       "      <td>HuggingFace</td>\n",
       "    </tr>\n",
       "    <tr>\n",
       "      <th>7315</th>\n",
       "      <td>i feel that there is no way to determine if a ...</td>\n",
       "      <td>happy</td>\n",
       "      <td>HuggingFace</td>\n",
       "    </tr>\n",
       "    <tr>\n",
       "      <th>11722</th>\n",
       "      <td>i feel sure that i wouldnt have gained so much...</td>\n",
       "      <td>happy</td>\n",
       "      <td>HuggingFace</td>\n",
       "    </tr>\n",
       "    <tr>\n",
       "      <th>...</th>\n",
       "      <td>...</td>\n",
       "      <td>...</td>\n",
       "      <td>...</td>\n",
       "    </tr>\n",
       "    <tr>\n",
       "      <th>2134</th>\n",
       "      <td>I just went to Metro Diner for the first time....</td>\n",
       "      <td>happy</td>\n",
       "      <td>CrowdFlower</td>\n",
       "    </tr>\n",
       "    <tr>\n",
       "      <th>301</th>\n",
       "      <td>Heading to Beaumont</td>\n",
       "      <td>happy</td>\n",
       "      <td>CrowdFlower</td>\n",
       "    </tr>\n",
       "    <tr>\n",
       "      <th>1940</th>\n",
       "      <td>i could feel the radiant heat of emanating fro...</td>\n",
       "      <td>happy</td>\n",
       "      <td>HuggingFace</td>\n",
       "    </tr>\n",
       "    <tr>\n",
       "      <th>2041</th>\n",
       "      <td>i love lots of different kinds of sports and l...</td>\n",
       "      <td>happy</td>\n",
       "      <td>HuggingFace</td>\n",
       "    </tr>\n",
       "    <tr>\n",
       "      <th>15346</th>\n",
       "      <td>i bought a pretty dress and a pair of pretty s...</td>\n",
       "      <td>happy</td>\n",
       "      <td>HuggingFace</td>\n",
       "    </tr>\n",
       "  </tbody>\n",
       "</table>\n",
       "<p>8896 rows × 3 columns</p>\n",
       "</div>"
      ],
      "text/plain": [
       "                                                    text word_label  \\\n",
       "13898  i am thankful that she continues to feel comfo...      happy   \n",
       "11115  i want to do it the right way oh orihime whisp...      happy   \n",
       "1956   i was gaining weight getting a lot stronger an...      happy   \n",
       "7315   i feel that there is no way to determine if a ...      happy   \n",
       "11722  i feel sure that i wouldnt have gained so much...      happy   \n",
       "...                                                  ...        ...   \n",
       "2134   I just went to Metro Diner for the first time....      happy   \n",
       "301                                  Heading to Beaumont      happy   \n",
       "1940   i could feel the radiant heat of emanating fro...      happy   \n",
       "2041   i love lots of different kinds of sports and l...      happy   \n",
       "15346  i bought a pretty dress and a pair of pretty s...      happy   \n",
       "\n",
       "            source  \n",
       "13898  HuggingFace  \n",
       "11115  HuggingFace  \n",
       "1956   HuggingFace  \n",
       "7315   HuggingFace  \n",
       "11722  HuggingFace  \n",
       "...            ...  \n",
       "2134   CrowdFlower  \n",
       "301    CrowdFlower  \n",
       "1940   HuggingFace  \n",
       "2041   HuggingFace  \n",
       "15346  HuggingFace  \n",
       "\n",
       "[8896 rows x 3 columns]"
      ]
     },
     "execution_count": 281,
     "metadata": {},
     "output_type": "execute_result"
    }
   ],
   "source": [
    "hugging_and_crowd_happy"
   ]
  },
  {
   "cell_type": "code",
   "execution_count": 265,
   "id": "5d12285f",
   "metadata": {},
   "outputs": [
    {
     "data": {
      "text/plain": [
       "9724"
      ]
     },
     "execution_count": 265,
     "metadata": {},
     "output_type": "execute_result"
    }
   ],
   "source": [
    "14000 - 4276"
   ]
  },
  {
   "cell_type": "code",
   "execution_count": 268,
   "id": "f8af2b52",
   "metadata": {},
   "outputs": [],
   "source": [
    "hugging_and_crowd_sad = new_df[(new_df['word_label'] == 'sad') & (new_df['source'].isin(['HuggingFace', 'CrowdFlower']))].sample(9724)"
   ]
  },
  {
   "cell_type": "code",
   "execution_count": 283,
   "id": "164f16d6",
   "metadata": {},
   "outputs": [
    {
     "data": {
      "text/html": [
       "<div>\n",
       "<style scoped>\n",
       "    .dataframe tbody tr th:only-of-type {\n",
       "        vertical-align: middle;\n",
       "    }\n",
       "\n",
       "    .dataframe tbody tr th {\n",
       "        vertical-align: top;\n",
       "    }\n",
       "\n",
       "    .dataframe thead th {\n",
       "        text-align: right;\n",
       "    }\n",
       "</style>\n",
       "<table border=\"1\" class=\"dataframe\">\n",
       "  <thead>\n",
       "    <tr style=\"text-align: right;\">\n",
       "      <th></th>\n",
       "      <th>text</th>\n",
       "      <th>word_label</th>\n",
       "      <th>source</th>\n",
       "    </tr>\n",
       "  </thead>\n",
       "  <tbody>\n",
       "    <tr>\n",
       "      <th>0</th>\n",
       "      <td>Layin n bed with a headache  ughhhh...waitin o...</td>\n",
       "      <td>sad</td>\n",
       "      <td>CrowdFlower</td>\n",
       "    </tr>\n",
       "    <tr>\n",
       "      <th>11623</th>\n",
       "      <td>i hate feel needy</td>\n",
       "      <td>sad</td>\n",
       "      <td>HuggingFace</td>\n",
       "    </tr>\n",
       "    <tr>\n",
       "      <th>737</th>\n",
       "      <td>im not used to feeling the dependency or the n...</td>\n",
       "      <td>sad</td>\n",
       "      <td>HuggingFace</td>\n",
       "    </tr>\n",
       "    <tr>\n",
       "      <th>3018</th>\n",
       "      <td>Holidays are now over - not fair!!</td>\n",
       "      <td>sad</td>\n",
       "      <td>CrowdFlower</td>\n",
       "    </tr>\n",
       "    <tr>\n",
       "      <th>7967</th>\n",
       "      <td>im feeling horrible</td>\n",
       "      <td>sad</td>\n",
       "      <td>HuggingFace</td>\n",
       "    </tr>\n",
       "    <tr>\n",
       "      <th>...</th>\n",
       "      <td>...</td>\n",
       "      <td>...</td>\n",
       "      <td>...</td>\n",
       "    </tr>\n",
       "    <tr>\n",
       "      <th>5104</th>\n",
       "      <td>i got shots from as many likely angles as i co...</td>\n",
       "      <td>sad</td>\n",
       "      <td>HuggingFace</td>\n",
       "    </tr>\n",
       "    <tr>\n",
       "      <th>826</th>\n",
       "      <td>ive been feeling kinda gloomy lately</td>\n",
       "      <td>sad</td>\n",
       "      <td>HuggingFace</td>\n",
       "    </tr>\n",
       "    <tr>\n",
       "      <th>195</th>\n",
       "      <td>i died would alex and matt feel regretful for ...</td>\n",
       "      <td>sad</td>\n",
       "      <td>HuggingFace</td>\n",
       "    </tr>\n",
       "    <tr>\n",
       "      <th>910</th>\n",
       "      <td>i know what you feel like that when fake ones ...</td>\n",
       "      <td>sad</td>\n",
       "      <td>HuggingFace</td>\n",
       "    </tr>\n",
       "    <tr>\n",
       "      <th>1482</th>\n",
       "      <td>im well bored  had a great half term and i don...</td>\n",
       "      <td>sad</td>\n",
       "      <td>CrowdFlower</td>\n",
       "    </tr>\n",
       "  </tbody>\n",
       "</table>\n",
       "<p>9724 rows × 3 columns</p>\n",
       "</div>"
      ],
      "text/plain": [
       "                                                    text word_label  \\\n",
       "0      Layin n bed with a headache  ughhhh...waitin o...        sad   \n",
       "11623                                  i hate feel needy        sad   \n",
       "737    im not used to feeling the dependency or the n...        sad   \n",
       "3018                  Holidays are now over - not fair!!        sad   \n",
       "7967                                 im feeling horrible        sad   \n",
       "...                                                  ...        ...   \n",
       "5104   i got shots from as many likely angles as i co...        sad   \n",
       "826                 ive been feeling kinda gloomy lately        sad   \n",
       "195    i died would alex and matt feel regretful for ...        sad   \n",
       "910    i know what you feel like that when fake ones ...        sad   \n",
       "1482   im well bored  had a great half term and i don...        sad   \n",
       "\n",
       "            source  \n",
       "0      CrowdFlower  \n",
       "11623  HuggingFace  \n",
       "737    HuggingFace  \n",
       "3018   CrowdFlower  \n",
       "7967   HuggingFace  \n",
       "...            ...  \n",
       "5104   HuggingFace  \n",
       "826    HuggingFace  \n",
       "195    HuggingFace  \n",
       "910    HuggingFace  \n",
       "1482   CrowdFlower  \n",
       "\n",
       "[9724 rows x 3 columns]"
      ]
     },
     "execution_count": 283,
     "metadata": {},
     "output_type": "execute_result"
    }
   ],
   "source": [
    "hugging_and_crowd_sad"
   ]
  },
  {
   "cell_type": "code",
   "execution_count": 284,
   "id": "e510e8d0",
   "metadata": {},
   "outputs": [],
   "source": [
    "hugging_and_crowd_angry = new_df[(new_df['word_label'] == 'angry') & (new_df['source'].isin(['HuggingFace', 'CrowdFlower']))]"
   ]
  },
  {
   "cell_type": "code",
   "execution_count": 285,
   "id": "630784e7",
   "metadata": {},
   "outputs": [
    {
     "data": {
      "text/html": [
       "<div>\n",
       "<style scoped>\n",
       "    .dataframe tbody tr th:only-of-type {\n",
       "        vertical-align: middle;\n",
       "    }\n",
       "\n",
       "    .dataframe tbody tr th {\n",
       "        vertical-align: top;\n",
       "    }\n",
       "\n",
       "    .dataframe thead th {\n",
       "        text-align: right;\n",
       "    }\n",
       "</style>\n",
       "<table border=\"1\" class=\"dataframe\">\n",
       "  <thead>\n",
       "    <tr style=\"text-align: right;\">\n",
       "      <th></th>\n",
       "      <th>text</th>\n",
       "      <th>word_label</th>\n",
       "      <th>source</th>\n",
       "    </tr>\n",
       "  </thead>\n",
       "  <tbody>\n",
       "    <tr>\n",
       "      <th>2</th>\n",
       "      <td>im grabbing a minute to post i feel greedy wrong</td>\n",
       "      <td>angry</td>\n",
       "      <td>HuggingFace</td>\n",
       "    </tr>\n",
       "    <tr>\n",
       "      <th>4</th>\n",
       "      <td>i am feeling grouchy</td>\n",
       "      <td>angry</td>\n",
       "      <td>HuggingFace</td>\n",
       "    </tr>\n",
       "    <tr>\n",
       "      <th>12</th>\n",
       "      <td>i think it s the easiest time of year to feel ...</td>\n",
       "      <td>angry</td>\n",
       "      <td>HuggingFace</td>\n",
       "    </tr>\n",
       "    <tr>\n",
       "      <th>20</th>\n",
       "      <td>i feel irritated and rejected without anyone d...</td>\n",
       "      <td>angry</td>\n",
       "      <td>HuggingFace</td>\n",
       "    </tr>\n",
       "    <tr>\n",
       "      <th>24</th>\n",
       "      <td>i already feel like i fucked up though because...</td>\n",
       "      <td>angry</td>\n",
       "      <td>HuggingFace</td>\n",
       "    </tr>\n",
       "    <tr>\n",
       "      <th>...</th>\n",
       "      <td>...</td>\n",
       "      <td>...</td>\n",
       "      <td>...</td>\n",
       "    </tr>\n",
       "    <tr>\n",
       "      <th>105</th>\n",
       "      <td>my gawwddd ! 6 headshotss inna row? im on fyaa...</td>\n",
       "      <td>angry</td>\n",
       "      <td>CrowdFlower</td>\n",
       "    </tr>\n",
       "    <tr>\n",
       "      <th>106</th>\n",
       "      <td>I'm way to sleepy.. Ill watch my shows lata..G...</td>\n",
       "      <td>angry</td>\n",
       "      <td>CrowdFlower</td>\n",
       "    </tr>\n",
       "    <tr>\n",
       "      <th>107</th>\n",
       "      <td>@NerdIndian Take that back. I am insulted.</td>\n",
       "      <td>angry</td>\n",
       "      <td>CrowdFlower</td>\n",
       "    </tr>\n",
       "    <tr>\n",
       "      <th>108</th>\n",
       "      <td>@anieszkaa haha i did a ltiitle bit yesterday ...</td>\n",
       "      <td>angry</td>\n",
       "      <td>CrowdFlower</td>\n",
       "    </tr>\n",
       "    <tr>\n",
       "      <th>109</th>\n",
       "      <td>@johncmayer you are one of my favorite musicia...</td>\n",
       "      <td>angry</td>\n",
       "      <td>CrowdFlower</td>\n",
       "    </tr>\n",
       "  </tbody>\n",
       "</table>\n",
       "<p>4142 rows × 3 columns</p>\n",
       "</div>"
      ],
      "text/plain": [
       "                                                  text word_label       source\n",
       "2     im grabbing a minute to post i feel greedy wrong      angry  HuggingFace\n",
       "4                                 i am feeling grouchy      angry  HuggingFace\n",
       "12   i think it s the easiest time of year to feel ...      angry  HuggingFace\n",
       "20   i feel irritated and rejected without anyone d...      angry  HuggingFace\n",
       "24   i already feel like i fucked up though because...      angry  HuggingFace\n",
       "..                                                 ...        ...          ...\n",
       "105  my gawwddd ! 6 headshotss inna row? im on fyaa...      angry  CrowdFlower\n",
       "106  I'm way to sleepy.. Ill watch my shows lata..G...      angry  CrowdFlower\n",
       "107         @NerdIndian Take that back. I am insulted.      angry  CrowdFlower\n",
       "108  @anieszkaa haha i did a ltiitle bit yesterday ...      angry  CrowdFlower\n",
       "109  @johncmayer you are one of my favorite musicia...      angry  CrowdFlower\n",
       "\n",
       "[4142 rows x 3 columns]"
      ]
     },
     "execution_count": 285,
     "metadata": {},
     "output_type": "execute_result"
    }
   ],
   "source": [
    "hugging_and_crowd_angry"
   ]
  },
  {
   "cell_type": "code",
   "execution_count": 286,
   "id": "25e29055",
   "metadata": {},
   "outputs": [],
   "source": [
    "hugging_and_crowd_subsample = pd.concat([hugging_and_crowd_happy, hugging_and_crowd_sad, hugging_and_crowd_angry]).reset_index(drop=True)"
   ]
  },
  {
   "cell_type": "code",
   "execution_count": 287,
   "id": "98ea1820",
   "metadata": {},
   "outputs": [
    {
     "data": {
      "text/html": [
       "<div>\n",
       "<style scoped>\n",
       "    .dataframe tbody tr th:only-of-type {\n",
       "        vertical-align: middle;\n",
       "    }\n",
       "\n",
       "    .dataframe tbody tr th {\n",
       "        vertical-align: top;\n",
       "    }\n",
       "\n",
       "    .dataframe thead th {\n",
       "        text-align: right;\n",
       "    }\n",
       "</style>\n",
       "<table border=\"1\" class=\"dataframe\">\n",
       "  <thead>\n",
       "    <tr style=\"text-align: right;\">\n",
       "      <th></th>\n",
       "      <th>text</th>\n",
       "      <th>word_label</th>\n",
       "      <th>source</th>\n",
       "    </tr>\n",
       "  </thead>\n",
       "  <tbody>\n",
       "    <tr>\n",
       "      <th>0</th>\n",
       "      <td>i am thankful that she continues to feel comfo...</td>\n",
       "      <td>happy</td>\n",
       "      <td>HuggingFace</td>\n",
       "    </tr>\n",
       "    <tr>\n",
       "      <th>1</th>\n",
       "      <td>i want to do it the right way oh orihime whisp...</td>\n",
       "      <td>happy</td>\n",
       "      <td>HuggingFace</td>\n",
       "    </tr>\n",
       "    <tr>\n",
       "      <th>2</th>\n",
       "      <td>i was gaining weight getting a lot stronger an...</td>\n",
       "      <td>happy</td>\n",
       "      <td>HuggingFace</td>\n",
       "    </tr>\n",
       "    <tr>\n",
       "      <th>3</th>\n",
       "      <td>i feel that there is no way to determine if a ...</td>\n",
       "      <td>happy</td>\n",
       "      <td>HuggingFace</td>\n",
       "    </tr>\n",
       "    <tr>\n",
       "      <th>4</th>\n",
       "      <td>i feel sure that i wouldnt have gained so much...</td>\n",
       "      <td>happy</td>\n",
       "      <td>HuggingFace</td>\n",
       "    </tr>\n",
       "    <tr>\n",
       "      <th>...</th>\n",
       "      <td>...</td>\n",
       "      <td>...</td>\n",
       "      <td>...</td>\n",
       "    </tr>\n",
       "    <tr>\n",
       "      <th>22757</th>\n",
       "      <td>my gawwddd ! 6 headshotss inna row? im on fyaa...</td>\n",
       "      <td>angry</td>\n",
       "      <td>CrowdFlower</td>\n",
       "    </tr>\n",
       "    <tr>\n",
       "      <th>22758</th>\n",
       "      <td>I'm way to sleepy.. Ill watch my shows lata..G...</td>\n",
       "      <td>angry</td>\n",
       "      <td>CrowdFlower</td>\n",
       "    </tr>\n",
       "    <tr>\n",
       "      <th>22759</th>\n",
       "      <td>@NerdIndian Take that back. I am insulted.</td>\n",
       "      <td>angry</td>\n",
       "      <td>CrowdFlower</td>\n",
       "    </tr>\n",
       "    <tr>\n",
       "      <th>22760</th>\n",
       "      <td>@anieszkaa haha i did a ltiitle bit yesterday ...</td>\n",
       "      <td>angry</td>\n",
       "      <td>CrowdFlower</td>\n",
       "    </tr>\n",
       "    <tr>\n",
       "      <th>22761</th>\n",
       "      <td>@johncmayer you are one of my favorite musicia...</td>\n",
       "      <td>angry</td>\n",
       "      <td>CrowdFlower</td>\n",
       "    </tr>\n",
       "  </tbody>\n",
       "</table>\n",
       "<p>22762 rows × 3 columns</p>\n",
       "</div>"
      ],
      "text/plain": [
       "                                                    text word_label  \\\n",
       "0      i am thankful that she continues to feel comfo...      happy   \n",
       "1      i want to do it the right way oh orihime whisp...      happy   \n",
       "2      i was gaining weight getting a lot stronger an...      happy   \n",
       "3      i feel that there is no way to determine if a ...      happy   \n",
       "4      i feel sure that i wouldnt have gained so much...      happy   \n",
       "...                                                  ...        ...   \n",
       "22757  my gawwddd ! 6 headshotss inna row? im on fyaa...      angry   \n",
       "22758  I'm way to sleepy.. Ill watch my shows lata..G...      angry   \n",
       "22759         @NerdIndian Take that back. I am insulted.      angry   \n",
       "22760  @anieszkaa haha i did a ltiitle bit yesterday ...      angry   \n",
       "22761  @johncmayer you are one of my favorite musicia...      angry   \n",
       "\n",
       "            source  \n",
       "0      HuggingFace  \n",
       "1      HuggingFace  \n",
       "2      HuggingFace  \n",
       "3      HuggingFace  \n",
       "4      HuggingFace  \n",
       "...            ...  \n",
       "22757  CrowdFlower  \n",
       "22758  CrowdFlower  \n",
       "22759  CrowdFlower  \n",
       "22760  CrowdFlower  \n",
       "22761  CrowdFlower  \n",
       "\n",
       "[22762 rows x 3 columns]"
      ]
     },
     "execution_count": 287,
     "metadata": {},
     "output_type": "execute_result"
    }
   ],
   "source": [
    "hugging_and_crowd_subsample"
   ]
  },
  {
   "cell_type": "code",
   "execution_count": 288,
   "id": "74ee6beb",
   "metadata": {},
   "outputs": [],
   "source": [
    "hugging_and_crowd_subsample.to_csv('../raw_data/emotion_data/hugging_and_crowdflower_subsample_for_balancing.csv')"
   ]
  },
  {
   "cell_type": "code",
   "execution_count": 289,
   "id": "288b1b2b",
   "metadata": {},
   "outputs": [],
   "source": [
    "final_df = pd.concat([hugging_and_crowd_subsample, semeval_hsa, meld_hsa, google_hsa])"
   ]
  },
  {
   "cell_type": "code",
   "execution_count": 290,
   "id": "db28654a",
   "metadata": {},
   "outputs": [
    {
     "data": {
      "text/plain": [
       "happy    14529\n",
       "sad      14000\n",
       "angry    13956\n",
       "Name: word_label, dtype: int64"
      ]
     },
     "execution_count": 290,
     "metadata": {},
     "output_type": "execute_result"
    }
   ],
   "source": [
    "final_df['word_label'].value_counts()"
   ]
  },
  {
   "cell_type": "code",
   "execution_count": 291,
   "id": "5eebdce0",
   "metadata": {},
   "outputs": [],
   "source": [
    "final_df.to_csv('../raw_data/balanced_hsa_dataset.csv')"
   ]
  },
  {
   "cell_type": "code",
   "execution_count": null,
   "id": "b94ec899",
   "metadata": {},
   "outputs": [],
   "source": []
  }
 ],
 "metadata": {
  "kernelspec": {
   "display_name": "Python 3 (ipykernel)",
   "language": "python",
   "name": "python3"
  },
  "language_info": {
   "codemirror_mode": {
    "name": "ipython",
    "version": 3
   },
   "file_extension": ".py",
   "mimetype": "text/x-python",
   "name": "python",
   "nbconvert_exporter": "python",
   "pygments_lexer": "ipython3",
   "version": "3.8.6"
  },
  "toc": {
   "base_numbering": 1,
   "nav_menu": {},
   "number_sections": true,
   "sideBar": true,
   "skip_h1_title": false,
   "title_cell": "Table of Contents",
   "title_sidebar": "Contents",
   "toc_cell": false,
   "toc_position": {
    "height": "438px",
    "left": "29px",
    "top": "110px",
    "width": "208px"
   },
   "toc_section_display": true,
   "toc_window_display": true
  }
 },
 "nbformat": 4,
 "nbformat_minor": 5
}
