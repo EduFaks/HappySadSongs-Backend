{
 "cells": [
  {
   "cell_type": "code",
   "execution_count": 1,
   "metadata": {
    "colab": {
     "base_uri": "https://localhost:8080/"
    },
    "id": "CA8xl5OBS6Ot",
    "outputId": "1d84f5ba-5cab-4744-bce3-ac30ce450871"
   },
   "outputs": [
    {
     "name": "stdout",
     "output_type": "stream",
     "text": [
      "Requirement already satisfied: transformers in /Users/vprentice/.pyenv/versions/3.8.6/envs/lewagon/lib/python3.8/site-packages (4.10.0)\n",
      "Requirement already satisfied: filelock in /Users/vprentice/.pyenv/versions/3.8.6/envs/lewagon/lib/python3.8/site-packages (from transformers) (3.0.12)\n",
      "Requirement already satisfied: tqdm>=4.27 in /Users/vprentice/.pyenv/versions/3.8.6/envs/lewagon/lib/python3.8/site-packages (from transformers) (4.61.2)\n",
      "Requirement already satisfied: requests in /Users/vprentice/.pyenv/versions/3.8.6/envs/lewagon/lib/python3.8/site-packages (from transformers) (2.25.1)\n",
      "Requirement already satisfied: tokenizers<0.11,>=0.10.1 in /Users/vprentice/.pyenv/versions/3.8.6/envs/lewagon/lib/python3.8/site-packages (from transformers) (0.10.3)\n",
      "Requirement already satisfied: regex!=2019.12.17 in /Users/vprentice/.pyenv/versions/3.8.6/envs/lewagon/lib/python3.8/site-packages (from transformers) (2021.8.3)\n",
      "Requirement already satisfied: numpy>=1.17 in /Users/vprentice/.pyenv/versions/3.8.6/envs/lewagon/lib/python3.8/site-packages (from transformers) (1.18.5)\n",
      "Requirement already satisfied: huggingface-hub>=0.0.12 in /Users/vprentice/.pyenv/versions/3.8.6/envs/lewagon/lib/python3.8/site-packages (from transformers) (0.0.16)\n",
      "Requirement already satisfied: pyyaml>=5.1 in /Users/vprentice/.pyenv/versions/3.8.6/envs/lewagon/lib/python3.8/site-packages (from transformers) (5.4.1)\n",
      "Requirement already satisfied: sacremoses in /Users/vprentice/.pyenv/versions/3.8.6/envs/lewagon/lib/python3.8/site-packages (from transformers) (0.0.45)\n",
      "Requirement already satisfied: packaging in /Users/vprentice/.pyenv/versions/3.8.6/envs/lewagon/lib/python3.8/site-packages (from transformers) (21.0)\n",
      "Requirement already satisfied: typing-extensions in /Users/vprentice/.pyenv/versions/3.8.6/envs/lewagon/lib/python3.8/site-packages (from huggingface-hub>=0.0.12->transformers) (3.10.0.1)\n",
      "Requirement already satisfied: pyparsing>=2.0.2 in /Users/vprentice/.pyenv/versions/3.8.6/envs/lewagon/lib/python3.8/site-packages (from packaging->transformers) (2.4.7)\n",
      "Requirement already satisfied: urllib3<1.27,>=1.21.1 in /Users/vprentice/.pyenv/versions/3.8.6/envs/lewagon/lib/python3.8/site-packages (from requests->transformers) (1.26.6)\n",
      "Requirement already satisfied: idna<3,>=2.5 in /Users/vprentice/.pyenv/versions/3.8.6/envs/lewagon/lib/python3.8/site-packages (from requests->transformers) (2.10)\n",
      "Requirement already satisfied: certifi>=2017.4.17 in /Users/vprentice/.pyenv/versions/3.8.6/envs/lewagon/lib/python3.8/site-packages (from requests->transformers) (2021.5.30)\n",
      "Requirement already satisfied: chardet<5,>=3.0.2 in /Users/vprentice/.pyenv/versions/3.8.6/envs/lewagon/lib/python3.8/site-packages (from requests->transformers) (4.0.0)\n",
      "Requirement already satisfied: joblib in /Users/vprentice/.pyenv/versions/3.8.6/envs/lewagon/lib/python3.8/site-packages (from sacremoses->transformers) (1.0.1)\n",
      "Requirement already satisfied: six in /Users/vprentice/.pyenv/versions/3.8.6/envs/lewagon/lib/python3.8/site-packages (from sacremoses->transformers) (1.14.0)\n",
      "Requirement already satisfied: click in /Users/vprentice/.pyenv/versions/3.8.6/envs/lewagon/lib/python3.8/site-packages (from sacremoses->transformers) (7.1.2)\n",
      "Collecting seqeval\n",
      "  Downloading seqeval-1.2.2.tar.gz (43 kB)\n",
      "\u001b[K     |████████████████████████████████| 43 kB 2.1 MB/s eta 0:00:01\n",
      "\u001b[?25hRequirement already satisfied: numpy>=1.14.0 in /Users/vprentice/.pyenv/versions/3.8.6/envs/lewagon/lib/python3.8/site-packages (from seqeval) (1.18.5)\n",
      "Requirement already satisfied: scikit-learn>=0.21.3 in /Users/vprentice/.pyenv/versions/3.8.6/envs/lewagon/lib/python3.8/site-packages (from seqeval) (0.22)\n",
      "Requirement already satisfied: joblib>=0.11 in /Users/vprentice/.pyenv/versions/3.8.6/envs/lewagon/lib/python3.8/site-packages (from scikit-learn>=0.21.3->seqeval) (1.0.1)\n",
      "Requirement already satisfied: scipy>=0.17.0 in /Users/vprentice/.pyenv/versions/3.8.6/envs/lewagon/lib/python3.8/site-packages (from scikit-learn>=0.21.3->seqeval) (1.7.0)\n",
      "Building wheels for collected packages: seqeval\n",
      "  Building wheel for seqeval (setup.py) ... \u001b[?25ldone\n",
      "\u001b[?25h  Created wheel for seqeval: filename=seqeval-1.2.2-py3-none-any.whl size=16170 sha256=0bf8e6963af393377716a205ffbee5197d5baa8393d0553066e384a584566114\n",
      "  Stored in directory: /Users/vprentice/Library/Caches/pip/wheels/ad/5c/ba/05fa33fa5855777b7d686e843ec07452f22a66a138e290e732\n",
      "Successfully built seqeval\n",
      "Installing collected packages: seqeval\n",
      "Successfully installed seqeval-1.2.2\n",
      "Collecting tensorboardx\n",
      "  Downloading tensorboardX-2.4-py2.py3-none-any.whl (124 kB)\n",
      "\u001b[K     |████████████████████████████████| 124 kB 4.7 MB/s eta 0:00:01\n",
      "\u001b[?25hRequirement already satisfied: numpy in /Users/vprentice/.pyenv/versions/3.8.6/envs/lewagon/lib/python3.8/site-packages (from tensorboardx) (1.18.5)\n",
      "Requirement already satisfied: protobuf>=3.8.0 in /Users/vprentice/.pyenv/versions/3.8.6/envs/lewagon/lib/python3.8/site-packages (from tensorboardx) (3.17.3)\n",
      "Requirement already satisfied: six>=1.9 in /Users/vprentice/.pyenv/versions/3.8.6/envs/lewagon/lib/python3.8/site-packages (from protobuf>=3.8.0->tensorboardx) (1.14.0)\n",
      "Installing collected packages: tensorboardx\n",
      "Successfully installed tensorboardx-2.4\n"
     ]
    }
   ],
   "source": [
    "!pip install transformers\n",
    "!pip install seqeval\n",
    "!pip install tensorboardx"
   ]
  },
  {
   "cell_type": "code",
   "execution_count": 2,
   "metadata": {
    "colab": {
     "base_uri": "https://localhost:8080/",
     "height": 1000
    },
    "id": "2twPNiUyTEMS",
    "outputId": "19776784-3c08-4ee3-a0f9-eee81cd1730e"
   },
   "outputs": [
    {
     "name": "stdout",
     "output_type": "stream",
     "text": [
      "Collecting simpletransformers\n",
      "  Downloading simpletransformers-0.61.13-py3-none-any.whl (221 kB)\n",
      "\u001b[K     |████████████████████████████████| 221 kB 5.7 MB/s eta 0:00:01\n",
      "\u001b[?25hRequirement already satisfied: tensorboardx in /Users/vprentice/.pyenv/versions/3.8.6/envs/lewagon/lib/python3.8/site-packages (from simpletransformers) (2.4)\n",
      "Requirement already satisfied: requests in /Users/vprentice/.pyenv/versions/3.8.6/envs/lewagon/lib/python3.8/site-packages (from simpletransformers) (2.25.1)\n",
      "Requirement already satisfied: pandas in /Users/vprentice/.pyenv/versions/3.8.6/envs/lewagon/lib/python3.8/site-packages (from simpletransformers) (1.3.0)\n",
      "Requirement already satisfied: scipy in /Users/vprentice/.pyenv/versions/3.8.6/envs/lewagon/lib/python3.8/site-packages (from simpletransformers) (1.7.0)\n",
      "Requirement already satisfied: datasets in /Users/vprentice/.pyenv/versions/3.8.6/envs/lewagon/lib/python3.8/site-packages (from simpletransformers) (1.11.0)\n",
      "Requirement already satisfied: seqeval in /Users/vprentice/.pyenv/versions/3.8.6/envs/lewagon/lib/python3.8/site-packages (from simpletransformers) (1.2.2)\n",
      "Requirement already satisfied: scikit-learn in /Users/vprentice/.pyenv/versions/3.8.6/envs/lewagon/lib/python3.8/site-packages (from simpletransformers) (0.22)\n",
      "Requirement already satisfied: numpy in /Users/vprentice/.pyenv/versions/3.8.6/envs/lewagon/lib/python3.8/site-packages (from simpletransformers) (1.18.5)\n",
      "Requirement already satisfied: streamlit in /Users/vprentice/.pyenv/versions/3.8.6/envs/lewagon/lib/python3.8/site-packages (from simpletransformers) (0.87.0)\n",
      "Collecting sentencepiece\n",
      "  Downloading sentencepiece-0.1.96-cp38-cp38-macosx_10_6_x86_64.whl (1.1 MB)\n",
      "\u001b[K     |████████████████████████████████| 1.1 MB 21.6 MB/s eta 0:00:01\n",
      "\u001b[?25hRequirement already satisfied: tokenizers in /Users/vprentice/.pyenv/versions/3.8.6/envs/lewagon/lib/python3.8/site-packages (from simpletransformers) (0.10.3)\n",
      "Requirement already satisfied: transformers>=4.2.0 in /Users/vprentice/.pyenv/versions/3.8.6/envs/lewagon/lib/python3.8/site-packages (from simpletransformers) (4.10.0)\n",
      "Requirement already satisfied: tqdm>=4.47.0 in /Users/vprentice/.pyenv/versions/3.8.6/envs/lewagon/lib/python3.8/site-packages (from simpletransformers) (4.61.2)\n",
      "Requirement already satisfied: regex in /Users/vprentice/.pyenv/versions/3.8.6/envs/lewagon/lib/python3.8/site-packages (from simpletransformers) (2021.8.3)\n",
      "Collecting wandb>=0.10.32\n",
      "  Downloading wandb-0.12.1-py2.py3-none-any.whl (1.7 MB)\n",
      "\u001b[K     |████████████████████████████████| 1.7 MB 16.3 MB/s eta 0:00:01    |█▋                              | 81 kB 23.2 MB/s eta 0:00:01\n",
      "\u001b[?25hRequirement already satisfied: packaging in /Users/vprentice/.pyenv/versions/3.8.6/envs/lewagon/lib/python3.8/site-packages (from transformers>=4.2.0->simpletransformers) (21.0)\n",
      "Requirement already satisfied: filelock in /Users/vprentice/.pyenv/versions/3.8.6/envs/lewagon/lib/python3.8/site-packages (from transformers>=4.2.0->simpletransformers) (3.0.12)\n",
      "Requirement already satisfied: pyyaml>=5.1 in /Users/vprentice/.pyenv/versions/3.8.6/envs/lewagon/lib/python3.8/site-packages (from transformers>=4.2.0->simpletransformers) (5.4.1)\n",
      "Requirement already satisfied: sacremoses in /Users/vprentice/.pyenv/versions/3.8.6/envs/lewagon/lib/python3.8/site-packages (from transformers>=4.2.0->simpletransformers) (0.0.45)\n",
      "Requirement already satisfied: huggingface-hub>=0.0.12 in /Users/vprentice/.pyenv/versions/3.8.6/envs/lewagon/lib/python3.8/site-packages (from transformers>=4.2.0->simpletransformers) (0.0.16)\n",
      "Requirement already satisfied: typing-extensions in /Users/vprentice/.pyenv/versions/3.8.6/envs/lewagon/lib/python3.8/site-packages (from huggingface-hub>=0.0.12->transformers>=4.2.0->simpletransformers) (3.10.0.1)\n",
      "Requirement already satisfied: pyparsing>=2.0.2 in /Users/vprentice/.pyenv/versions/3.8.6/envs/lewagon/lib/python3.8/site-packages (from packaging->transformers>=4.2.0->simpletransformers) (2.4.7)\n",
      "Requirement already satisfied: Click!=8.0.0,>=7.0 in /Users/vprentice/.pyenv/versions/3.8.6/envs/lewagon/lib/python3.8/site-packages (from wandb>=0.10.32->simpletransformers) (7.1.2)\n",
      "Collecting configparser>=3.8.1\n",
      "  Downloading configparser-5.0.2-py3-none-any.whl (19 kB)\n",
      "Requirement already satisfied: python-dateutil>=2.6.1 in /Users/vprentice/.pyenv/versions/3.8.6/envs/lewagon/lib/python3.8/site-packages (from wandb>=0.10.32->simpletransformers) (2.8.2)\n",
      "Requirement already satisfied: GitPython>=1.0.0 in /Users/vprentice/.pyenv/versions/3.8.6/envs/lewagon/lib/python3.8/site-packages (from wandb>=0.10.32->simpletransformers) (3.1.18)\n",
      "Collecting shortuuid>=0.5.0\n",
      "  Downloading shortuuid-1.0.1-py3-none-any.whl (7.5 kB)\n",
      "Collecting docker-pycreds>=0.4.0\n",
      "  Downloading docker_pycreds-0.4.0-py2.py3-none-any.whl (9.0 kB)\n",
      "Collecting sentry-sdk>=1.0.0\n",
      "  Downloading sentry_sdk-1.3.1-py2.py3-none-any.whl (133 kB)\n",
      "\u001b[K     |████████████████████████████████| 133 kB 38.4 MB/s eta 0:00:01\n",
      "\u001b[?25hRequirement already satisfied: six>=1.13.0 in /Users/vprentice/.pyenv/versions/3.8.6/envs/lewagon/lib/python3.8/site-packages (from wandb>=0.10.32->simpletransformers) (1.14.0)\n",
      "Collecting pathtools\n",
      "  Downloading pathtools-0.1.2.tar.gz (11 kB)\n",
      "Requirement already satisfied: promise<3,>=2.0 in /Users/vprentice/.pyenv/versions/3.8.6/envs/lewagon/lib/python3.8/site-packages (from wandb>=0.10.32->simpletransformers) (2.3)\n",
      "Collecting subprocess32>=3.5.3\n",
      "  Downloading subprocess32-3.5.4.tar.gz (97 kB)\n",
      "\u001b[K     |████████████████████████████████| 97 kB 13.7 MB/s eta 0:00:01\n",
      "\u001b[?25hRequirement already satisfied: psutil>=5.0.0 in /Users/vprentice/.pyenv/versions/3.8.6/envs/lewagon/lib/python3.8/site-packages (from wandb>=0.10.32->simpletransformers) (5.8.0)\n",
      "Requirement already satisfied: protobuf>=3.12.0 in /Users/vprentice/.pyenv/versions/3.8.6/envs/lewagon/lib/python3.8/site-packages (from wandb>=0.10.32->simpletransformers) (3.17.3)\n",
      "Requirement already satisfied: gitdb<5,>=4.0.1 in /Users/vprentice/.pyenv/versions/3.8.6/envs/lewagon/lib/python3.8/site-packages (from GitPython>=1.0.0->wandb>=0.10.32->simpletransformers) (4.0.7)\n",
      "Requirement already satisfied: smmap<5,>=3.0.1 in /Users/vprentice/.pyenv/versions/3.8.6/envs/lewagon/lib/python3.8/site-packages (from gitdb<5,>=4.0.1->GitPython>=1.0.0->wandb>=0.10.32->simpletransformers) (4.0.0)\n",
      "Requirement already satisfied: idna<3,>=2.5 in /Users/vprentice/.pyenv/versions/3.8.6/envs/lewagon/lib/python3.8/site-packages (from requests->simpletransformers) (2.10)\n",
      "Requirement already satisfied: certifi>=2017.4.17 in /Users/vprentice/.pyenv/versions/3.8.6/envs/lewagon/lib/python3.8/site-packages (from requests->simpletransformers) (2021.5.30)\n",
      "Requirement already satisfied: chardet<5,>=3.0.2 in /Users/vprentice/.pyenv/versions/3.8.6/envs/lewagon/lib/python3.8/site-packages (from requests->simpletransformers) (4.0.0)\n",
      "Requirement already satisfied: urllib3<1.27,>=1.21.1 in /Users/vprentice/.pyenv/versions/3.8.6/envs/lewagon/lib/python3.8/site-packages (from requests->simpletransformers) (1.26.6)\n",
      "Requirement already satisfied: dill in /Users/vprentice/.pyenv/versions/3.8.6/envs/lewagon/lib/python3.8/site-packages (from datasets->simpletransformers) (0.3.4)\n",
      "Requirement already satisfied: fsspec>=2021.05.0 in /Users/vprentice/.pyenv/versions/3.8.6/envs/lewagon/lib/python3.8/site-packages (from datasets->simpletransformers) (2021.7.0)\n",
      "Requirement already satisfied: pyarrow!=4.0.0,>=1.0.0 in /Users/vprentice/.pyenv/versions/3.8.6/envs/lewagon/lib/python3.8/site-packages (from datasets->simpletransformers) (5.0.0)\n",
      "Requirement already satisfied: multiprocess in /Users/vprentice/.pyenv/versions/3.8.6/envs/lewagon/lib/python3.8/site-packages (from datasets->simpletransformers) (0.70.12.2)\n",
      "Requirement already satisfied: xxhash in /Users/vprentice/.pyenv/versions/3.8.6/envs/lewagon/lib/python3.8/site-packages (from datasets->simpletransformers) (2.0.2)\n",
      "Requirement already satisfied: pytz>=2017.3 in /Users/vprentice/.pyenv/versions/3.8.6/envs/lewagon/lib/python3.8/site-packages (from pandas->simpletransformers) (2021.1)\n",
      "Requirement already satisfied: joblib in /Users/vprentice/.pyenv/versions/3.8.6/envs/lewagon/lib/python3.8/site-packages (from sacremoses->transformers>=4.2.0->simpletransformers) (1.0.1)\n"
     ]
    },
    {
     "name": "stdout",
     "output_type": "stream",
     "text": [
      "Requirement already satisfied: pillow>=6.2.0 in /Users/vprentice/.pyenv/versions/3.8.6/envs/lewagon/lib/python3.8/site-packages (from streamlit->simpletransformers) (8.3.1)\n",
      "Requirement already satisfied: tornado>=5.0 in /Users/vprentice/.pyenv/versions/3.8.6/envs/lewagon/lib/python3.8/site-packages (from streamlit->simpletransformers) (6.1)\n",
      "Requirement already satisfied: base58 in /Users/vprentice/.pyenv/versions/3.8.6/envs/lewagon/lib/python3.8/site-packages (from streamlit->simpletransformers) (2.1.0)\n",
      "Requirement already satisfied: cachetools>=4.0 in /Users/vprentice/.pyenv/versions/3.8.6/envs/lewagon/lib/python3.8/site-packages (from streamlit->simpletransformers) (4.2.2)\n",
      "Requirement already satisfied: toml in /Users/vprentice/.pyenv/versions/3.8.6/envs/lewagon/lib/python3.8/site-packages (from streamlit->simpletransformers) (0.10.2)\n",
      "Requirement already satisfied: altair>=3.2.0 in /Users/vprentice/.pyenv/versions/3.8.6/envs/lewagon/lib/python3.8/site-packages (from streamlit->simpletransformers) (4.1.0)\n",
      "Requirement already satisfied: blinker in /Users/vprentice/.pyenv/versions/3.8.6/envs/lewagon/lib/python3.8/site-packages (from streamlit->simpletransformers) (1.4)\n",
      "Requirement already satisfied: pydeck>=0.1.dev5 in /Users/vprentice/.pyenv/versions/3.8.6/envs/lewagon/lib/python3.8/site-packages (from streamlit->simpletransformers) (0.7.0)\n",
      "Requirement already satisfied: attrs in /Users/vprentice/.pyenv/versions/3.8.6/envs/lewagon/lib/python3.8/site-packages (from streamlit->simpletransformers) (21.2.0)\n",
      "Requirement already satisfied: validators in /Users/vprentice/.pyenv/versions/3.8.6/envs/lewagon/lib/python3.8/site-packages (from streamlit->simpletransformers) (0.18.2)\n",
      "Requirement already satisfied: astor in /Users/vprentice/.pyenv/versions/3.8.6/envs/lewagon/lib/python3.8/site-packages (from streamlit->simpletransformers) (0.8.1)\n",
      "Requirement already satisfied: tzlocal in /Users/vprentice/.pyenv/versions/3.8.6/envs/lewagon/lib/python3.8/site-packages (from streamlit->simpletransformers) (3.0)\n",
      "Requirement already satisfied: entrypoints in /Users/vprentice/.pyenv/versions/3.8.6/envs/lewagon/lib/python3.8/site-packages (from altair>=3.2.0->streamlit->simpletransformers) (0.3)\n",
      "Requirement already satisfied: jsonschema in /Users/vprentice/.pyenv/versions/3.8.6/envs/lewagon/lib/python3.8/site-packages (from altair>=3.2.0->streamlit->simpletransformers) (3.2.0)\n",
      "Requirement already satisfied: jinja2 in /Users/vprentice/.pyenv/versions/3.8.6/envs/lewagon/lib/python3.8/site-packages (from altair>=3.2.0->streamlit->simpletransformers) (3.0.1)\n",
      "Requirement already satisfied: toolz in /Users/vprentice/.pyenv/versions/3.8.6/envs/lewagon/lib/python3.8/site-packages (from altair>=3.2.0->streamlit->simpletransformers) (0.11.1)\n",
      "Requirement already satisfied: ipykernel>=5.1.2 in /Users/vprentice/.pyenv/versions/3.8.6/envs/lewagon/lib/python3.8/site-packages (from pydeck>=0.1.dev5->streamlit->simpletransformers) (6.0.1)\n",
      "Requirement already satisfied: traitlets>=4.3.2 in /Users/vprentice/.pyenv/versions/3.8.6/envs/lewagon/lib/python3.8/site-packages (from pydeck>=0.1.dev5->streamlit->simpletransformers) (5.0.5)\n",
      "Requirement already satisfied: ipywidgets>=7.0.0 in /Users/vprentice/.pyenv/versions/3.8.6/envs/lewagon/lib/python3.8/site-packages (from pydeck>=0.1.dev5->streamlit->simpletransformers) (7.6.3)\n",
      "Requirement already satisfied: debugpy>=1.0.0 in /Users/vprentice/.pyenv/versions/3.8.6/envs/lewagon/lib/python3.8/site-packages (from ipykernel>=5.1.2->pydeck>=0.1.dev5->streamlit->simpletransformers) (1.3.0)\n",
      "Requirement already satisfied: matplotlib-inline<0.2.0appnope,>=0.1.0 in /Users/vprentice/.pyenv/versions/3.8.6/envs/lewagon/lib/python3.8/site-packages (from ipykernel>=5.1.2->pydeck>=0.1.dev5->streamlit->simpletransformers) (0.1.2)\n",
      "Requirement already satisfied: ipython>=7.23.1 in /Users/vprentice/.pyenv/versions/3.8.6/envs/lewagon/lib/python3.8/site-packages (from ipykernel>=5.1.2->pydeck>=0.1.dev5->streamlit->simpletransformers) (7.25.0)\n",
      "Requirement already satisfied: jupyter-client in /Users/vprentice/.pyenv/versions/3.8.6/envs/lewagon/lib/python3.8/site-packages (from ipykernel>=5.1.2->pydeck>=0.1.dev5->streamlit->simpletransformers) (6.1.12)\n",
      "Requirement already satisfied: backcall in /Users/vprentice/.pyenv/versions/3.8.6/envs/lewagon/lib/python3.8/site-packages (from ipython>=7.23.1->ipykernel>=5.1.2->pydeck>=0.1.dev5->streamlit->simpletransformers) (0.2.0)\n",
      "Requirement already satisfied: pexpect>4.3 in /Users/vprentice/.pyenv/versions/3.8.6/envs/lewagon/lib/python3.8/site-packages (from ipython>=7.23.1->ipykernel>=5.1.2->pydeck>=0.1.dev5->streamlit->simpletransformers) (4.8.0)\n",
      "Requirement already satisfied: setuptools>=18.5 in /Users/vprentice/.pyenv/versions/3.8.6/envs/lewagon/lib/python3.8/site-packages (from ipython>=7.23.1->ipykernel>=5.1.2->pydeck>=0.1.dev5->streamlit->simpletransformers) (49.2.1)\n",
      "Requirement already satisfied: decorator in /Users/vprentice/.pyenv/versions/3.8.6/envs/lewagon/lib/python3.8/site-packages (from ipython>=7.23.1->ipykernel>=5.1.2->pydeck>=0.1.dev5->streamlit->simpletransformers) (4.4.2)\n",
      "Requirement already satisfied: jedi>=0.16 in /Users/vprentice/.pyenv/versions/3.8.6/envs/lewagon/lib/python3.8/site-packages (from ipython>=7.23.1->ipykernel>=5.1.2->pydeck>=0.1.dev5->streamlit->simpletransformers) (0.18.0)\n",
      "Requirement already satisfied: pickleshare in /Users/vprentice/.pyenv/versions/3.8.6/envs/lewagon/lib/python3.8/site-packages (from ipython>=7.23.1->ipykernel>=5.1.2->pydeck>=0.1.dev5->streamlit->simpletransformers) (0.7.5)\n",
      "Requirement already satisfied: appnope in /Users/vprentice/.pyenv/versions/3.8.6/envs/lewagon/lib/python3.8/site-packages (from ipython>=7.23.1->ipykernel>=5.1.2->pydeck>=0.1.dev5->streamlit->simpletransformers) (0.1.2)\n",
      "Requirement already satisfied: prompt-toolkit!=3.0.0,!=3.0.1,<3.1.0,>=2.0.0 in /Users/vprentice/.pyenv/versions/3.8.6/envs/lewagon/lib/python3.8/site-packages (from ipython>=7.23.1->ipykernel>=5.1.2->pydeck>=0.1.dev5->streamlit->simpletransformers) (3.0.19)\n",
      "Requirement already satisfied: pygments in /Users/vprentice/.pyenv/versions/3.8.6/envs/lewagon/lib/python3.8/site-packages (from ipython>=7.23.1->ipykernel>=5.1.2->pydeck>=0.1.dev5->streamlit->simpletransformers) (2.9.0)\n",
      "Requirement already satisfied: nbformat>=4.2.0 in /Users/vprentice/.pyenv/versions/3.8.6/envs/lewagon/lib/python3.8/site-packages (from ipywidgets>=7.0.0->pydeck>=0.1.dev5->streamlit->simpletransformers) (5.1.3)\n",
      "Requirement already satisfied: jupyterlab-widgets>=1.0.0 in /Users/vprentice/.pyenv/versions/3.8.6/envs/lewagon/lib/python3.8/site-packages (from ipywidgets>=7.0.0->pydeck>=0.1.dev5->streamlit->simpletransformers) (1.0.0)\n",
      "Requirement already satisfied: widgetsnbextension~=3.5.0 in /Users/vprentice/.pyenv/versions/3.8.6/envs/lewagon/lib/python3.8/site-packages (from ipywidgets>=7.0.0->pydeck>=0.1.dev5->streamlit->simpletransformers) (3.5.1)\n",
      "Requirement already satisfied: parso<0.9.0,>=0.8.0 in /Users/vprentice/.pyenv/versions/3.8.6/envs/lewagon/lib/python3.8/site-packages (from jedi>=0.16->ipython>=7.23.1->ipykernel>=5.1.2->pydeck>=0.1.dev5->streamlit->simpletransformers) (0.8.2)\n",
      "Requirement already satisfied: MarkupSafe>=2.0 in /Users/vprentice/.pyenv/versions/3.8.6/envs/lewagon/lib/python3.8/site-packages (from jinja2->altair>=3.2.0->streamlit->simpletransformers) (2.0.1)\n",
      "Requirement already satisfied: jupyter-core in /Users/vprentice/.pyenv/versions/3.8.6/envs/lewagon/lib/python3.8/site-packages (from nbformat>=4.2.0->ipywidgets>=7.0.0->pydeck>=0.1.dev5->streamlit->simpletransformers) (4.7.1)\n",
      "Requirement already satisfied: ipython-genutils in /Users/vprentice/.pyenv/versions/3.8.6/envs/lewagon/lib/python3.8/site-packages (from nbformat>=4.2.0->ipywidgets>=7.0.0->pydeck>=0.1.dev5->streamlit->simpletransformers) (0.2.0)\n",
      "Requirement already satisfied: pyrsistent>=0.14.0 in /Users/vprentice/.pyenv/versions/3.8.6/envs/lewagon/lib/python3.8/site-packages (from jsonschema->altair>=3.2.0->streamlit->simpletransformers) (0.18.0)\n",
      "Requirement already satisfied: ptyprocess>=0.5 in /Users/vprentice/.pyenv/versions/3.8.6/envs/lewagon/lib/python3.8/site-packages (from pexpect>4.3->ipython>=7.23.1->ipykernel>=5.1.2->pydeck>=0.1.dev5->streamlit->simpletransformers) (0.7.0)\n"
     ]
    },
    {
     "name": "stdout",
     "output_type": "stream",
     "text": [
      "Requirement already satisfied: wcwidth in /Users/vprentice/.pyenv/versions/3.8.6/envs/lewagon/lib/python3.8/site-packages (from prompt-toolkit!=3.0.0,!=3.0.1,<3.1.0,>=2.0.0->ipython>=7.23.1->ipykernel>=5.1.2->pydeck>=0.1.dev5->streamlit->simpletransformers) (0.2.5)\n",
      "Requirement already satisfied: notebook>=4.4.1 in /Users/vprentice/.pyenv/versions/3.8.6/envs/lewagon/lib/python3.8/site-packages (from widgetsnbextension~=3.5.0->ipywidgets>=7.0.0->pydeck>=0.1.dev5->streamlit->simpletransformers) (6.4.0)\n",
      "Requirement already satisfied: nbconvert in /Users/vprentice/.pyenv/versions/3.8.6/envs/lewagon/lib/python3.8/site-packages (from notebook>=4.4.1->widgetsnbextension~=3.5.0->ipywidgets>=7.0.0->pydeck>=0.1.dev5->streamlit->simpletransformers) (6.1.0)\n",
      "Requirement already satisfied: prometheus-client in /Users/vprentice/.pyenv/versions/3.8.6/envs/lewagon/lib/python3.8/site-packages (from notebook>=4.4.1->widgetsnbextension~=3.5.0->ipywidgets>=7.0.0->pydeck>=0.1.dev5->streamlit->simpletransformers) (0.11.0)\n",
      "Requirement already satisfied: argon2-cffi in /Users/vprentice/.pyenv/versions/3.8.6/envs/lewagon/lib/python3.8/site-packages (from notebook>=4.4.1->widgetsnbextension~=3.5.0->ipywidgets>=7.0.0->pydeck>=0.1.dev5->streamlit->simpletransformers) (20.1.0)\n",
      "Requirement already satisfied: Send2Trash>=1.5.0 in /Users/vprentice/.pyenv/versions/3.8.6/envs/lewagon/lib/python3.8/site-packages (from notebook>=4.4.1->widgetsnbextension~=3.5.0->ipywidgets>=7.0.0->pydeck>=0.1.dev5->streamlit->simpletransformers) (1.7.1)\n",
      "Requirement already satisfied: pyzmq>=17 in /Users/vprentice/.pyenv/versions/3.8.6/envs/lewagon/lib/python3.8/site-packages (from notebook>=4.4.1->widgetsnbextension~=3.5.0->ipywidgets>=7.0.0->pydeck>=0.1.dev5->streamlit->simpletransformers) (22.1.0)\n",
      "Requirement already satisfied: terminado>=0.8.3 in /Users/vprentice/.pyenv/versions/3.8.6/envs/lewagon/lib/python3.8/site-packages (from notebook>=4.4.1->widgetsnbextension~=3.5.0->ipywidgets>=7.0.0->pydeck>=0.1.dev5->streamlit->simpletransformers) (0.10.1)\n",
      "Requirement already satisfied: cffi>=1.0.0 in /Users/vprentice/.pyenv/versions/3.8.6/envs/lewagon/lib/python3.8/site-packages (from argon2-cffi->notebook>=4.4.1->widgetsnbextension~=3.5.0->ipywidgets>=7.0.0->pydeck>=0.1.dev5->streamlit->simpletransformers) (1.14.6)\n",
      "Requirement already satisfied: pycparser in /Users/vprentice/.pyenv/versions/3.8.6/envs/lewagon/lib/python3.8/site-packages (from cffi>=1.0.0->argon2-cffi->notebook>=4.4.1->widgetsnbextension~=3.5.0->ipywidgets>=7.0.0->pydeck>=0.1.dev5->streamlit->simpletransformers) (2.20)\n",
      "Requirement already satisfied: defusedxml in /Users/vprentice/.pyenv/versions/3.8.6/envs/lewagon/lib/python3.8/site-packages (from nbconvert->notebook>=4.4.1->widgetsnbextension~=3.5.0->ipywidgets>=7.0.0->pydeck>=0.1.dev5->streamlit->simpletransformers) (0.7.1)\n",
      "Requirement already satisfied: nbclient<0.6.0,>=0.5.0 in /Users/vprentice/.pyenv/versions/3.8.6/envs/lewagon/lib/python3.8/site-packages (from nbconvert->notebook>=4.4.1->widgetsnbextension~=3.5.0->ipywidgets>=7.0.0->pydeck>=0.1.dev5->streamlit->simpletransformers) (0.5.3)\n",
      "Requirement already satisfied: bleach in /Users/vprentice/.pyenv/versions/3.8.6/envs/lewagon/lib/python3.8/site-packages (from nbconvert->notebook>=4.4.1->widgetsnbextension~=3.5.0->ipywidgets>=7.0.0->pydeck>=0.1.dev5->streamlit->simpletransformers) (3.3.0)\n",
      "Requirement already satisfied: jupyterlab-pygments in /Users/vprentice/.pyenv/versions/3.8.6/envs/lewagon/lib/python3.8/site-packages (from nbconvert->notebook>=4.4.1->widgetsnbextension~=3.5.0->ipywidgets>=7.0.0->pydeck>=0.1.dev5->streamlit->simpletransformers) (0.1.2)\n",
      "Requirement already satisfied: mistune<2,>=0.8.1 in /Users/vprentice/.pyenv/versions/3.8.6/envs/lewagon/lib/python3.8/site-packages (from nbconvert->notebook>=4.4.1->widgetsnbextension~=3.5.0->ipywidgets>=7.0.0->pydeck>=0.1.dev5->streamlit->simpletransformers) (0.8.4)\n",
      "Requirement already satisfied: pandocfilters>=1.4.1 in /Users/vprentice/.pyenv/versions/3.8.6/envs/lewagon/lib/python3.8/site-packages (from nbconvert->notebook>=4.4.1->widgetsnbextension~=3.5.0->ipywidgets>=7.0.0->pydeck>=0.1.dev5->streamlit->simpletransformers) (1.4.3)\n",
      "Requirement already satisfied: testpath in /Users/vprentice/.pyenv/versions/3.8.6/envs/lewagon/lib/python3.8/site-packages (from nbconvert->notebook>=4.4.1->widgetsnbextension~=3.5.0->ipywidgets>=7.0.0->pydeck>=0.1.dev5->streamlit->simpletransformers) (0.5.0)\n",
      "Requirement already satisfied: async-generator in /Users/vprentice/.pyenv/versions/3.8.6/envs/lewagon/lib/python3.8/site-packages (from nbclient<0.6.0,>=0.5.0->nbconvert->notebook>=4.4.1->widgetsnbextension~=3.5.0->ipywidgets>=7.0.0->pydeck>=0.1.dev5->streamlit->simpletransformers) (1.10)\n",
      "Requirement already satisfied: nest-asyncio in /Users/vprentice/.pyenv/versions/3.8.6/envs/lewagon/lib/python3.8/site-packages (from nbclient<0.6.0,>=0.5.0->nbconvert->notebook>=4.4.1->widgetsnbextension~=3.5.0->ipywidgets>=7.0.0->pydeck>=0.1.dev5->streamlit->simpletransformers) (1.5.1)\n",
      "Requirement already satisfied: webencodings in /Users/vprentice/.pyenv/versions/3.8.6/envs/lewagon/lib/python3.8/site-packages (from bleach->nbconvert->notebook>=4.4.1->widgetsnbextension~=3.5.0->ipywidgets>=7.0.0->pydeck>=0.1.dev5->streamlit->simpletransformers) (0.5.1)\n",
      "Requirement already satisfied: backports.zoneinfo in /Users/vprentice/.pyenv/versions/3.8.6/envs/lewagon/lib/python3.8/site-packages (from tzlocal->streamlit->simpletransformers) (0.2.1)\n",
      "Building wheels for collected packages: subprocess32, pathtools\n",
      "  Building wheel for subprocess32 (setup.py) ... \u001b[?25ldone\n",
      "\u001b[?25h  Created wheel for subprocess32: filename=subprocess32-3.5.4-py3-none-any.whl size=6488 sha256=024b032da53fa24ebf6d83b105416ac9b7d18565d8cc9b0ddfd5e2d3785af90d\n",
      "  Stored in directory: /Users/vprentice/Library/Caches/pip/wheels/9f/69/d1/50b39b308a87998eaf5c1d9095e5a5bd2ad98501e2b7936d36\n",
      "  Building wheel for pathtools (setup.py) ... \u001b[?25ldone\n",
      "\u001b[?25h  Created wheel for pathtools: filename=pathtools-0.1.2-py3-none-any.whl size=8784 sha256=b839b2989ed144edae8b2039a1dc866011a65766ecc23e127634b1a40ee2ac19\n",
      "  Stored in directory: /Users/vprentice/Library/Caches/pip/wheels/4c/8e/7e/72fbc243e1aeecae64a96875432e70d4e92f3d2d18123be004\n",
      "Successfully built subprocess32 pathtools\n",
      "Installing collected packages: subprocess32, shortuuid, sentry-sdk, pathtools, docker-pycreds, configparser, wandb, sentencepiece, simpletransformers\n",
      "Successfully installed configparser-5.0.2 docker-pycreds-0.4.0 pathtools-0.1.2 sentencepiece-0.1.96 sentry-sdk-1.3.1 shortuuid-1.0.1 simpletransformers-0.61.13 subprocess32-3.5.4 wandb-0.12.1\n"
     ]
    }
   ],
   "source": [
    "!pip install simpletransformers"
   ]
  },
  {
   "cell_type": "code",
   "execution_count": 4,
   "metadata": {
    "id": "forcTu_WUidx"
   },
   "outputs": [],
   "source": [
    "import pandas as pd\n",
    "import re\n",
    "from sklearn.model_selection import train_test_split\n",
    "from happysadsongs.data import *"
   ]
  },
  {
   "cell_type": "code",
   "execution_count": 5,
   "metadata": {
    "id": "_dvacn6TT70V"
   },
   "outputs": [],
   "source": [
    "data = get_training_data()"
   ]
  },
  {
   "cell_type": "code",
   "execution_count": 6,
   "metadata": {
    "colab": {
     "base_uri": "https://localhost:8080/",
     "height": 204
    },
    "id": "0aXLBXUpU80B",
    "outputId": "e54654cd-db6a-4d1b-f1a8-86cc2d5fdb14"
   },
   "outputs": [
    {
     "data": {
      "text/html": [
       "<div>\n",
       "<style scoped>\n",
       "    .dataframe tbody tr th:only-of-type {\n",
       "        vertical-align: middle;\n",
       "    }\n",
       "\n",
       "    .dataframe tbody tr th {\n",
       "        vertical-align: top;\n",
       "    }\n",
       "\n",
       "    .dataframe thead th {\n",
       "        text-align: right;\n",
       "    }\n",
       "</style>\n",
       "<table border=\"1\" class=\"dataframe\">\n",
       "  <thead>\n",
       "    <tr style=\"text-align: right;\">\n",
       "      <th></th>\n",
       "      <th>Unnamed: 0</th>\n",
       "      <th>text</th>\n",
       "      <th>word_label</th>\n",
       "      <th>source</th>\n",
       "    </tr>\n",
       "  </thead>\n",
       "  <tbody>\n",
       "    <tr>\n",
       "      <th>0</th>\n",
       "      <td>0</td>\n",
       "      <td>i am thankful that she continues to feel comfo...</td>\n",
       "      <td>happy</td>\n",
       "      <td>HuggingFace</td>\n",
       "    </tr>\n",
       "    <tr>\n",
       "      <th>1</th>\n",
       "      <td>1</td>\n",
       "      <td>i want to do it the right way oh orihime whisp...</td>\n",
       "      <td>happy</td>\n",
       "      <td>HuggingFace</td>\n",
       "    </tr>\n",
       "    <tr>\n",
       "      <th>2</th>\n",
       "      <td>2</td>\n",
       "      <td>i was gaining weight getting a lot stronger an...</td>\n",
       "      <td>happy</td>\n",
       "      <td>HuggingFace</td>\n",
       "    </tr>\n",
       "    <tr>\n",
       "      <th>3</th>\n",
       "      <td>3</td>\n",
       "      <td>i feel that there is no way to determine if a ...</td>\n",
       "      <td>happy</td>\n",
       "      <td>HuggingFace</td>\n",
       "    </tr>\n",
       "    <tr>\n",
       "      <th>4</th>\n",
       "      <td>4</td>\n",
       "      <td>i feel sure that i wouldnt have gained so much...</td>\n",
       "      <td>happy</td>\n",
       "      <td>HuggingFace</td>\n",
       "    </tr>\n",
       "  </tbody>\n",
       "</table>\n",
       "</div>"
      ],
      "text/plain": [
       "   Unnamed: 0                                               text word_label  \\\n",
       "0           0  i am thankful that she continues to feel comfo...      happy   \n",
       "1           1  i want to do it the right way oh orihime whisp...      happy   \n",
       "2           2  i was gaining weight getting a lot stronger an...      happy   \n",
       "3           3  i feel that there is no way to determine if a ...      happy   \n",
       "4           4  i feel sure that i wouldnt have gained so much...      happy   \n",
       "\n",
       "        source  \n",
       "0  HuggingFace  \n",
       "1  HuggingFace  \n",
       "2  HuggingFace  \n",
       "3  HuggingFace  \n",
       "4  HuggingFace  "
      ]
     },
     "execution_count": 6,
     "metadata": {},
     "output_type": "execute_result"
    }
   ],
   "source": [
    "data.head()"
   ]
  },
  {
   "cell_type": "code",
   "execution_count": 7,
   "metadata": {
    "id": "Ekta9K4rVqsn"
   },
   "outputs": [],
   "source": [
    "def clean2(text):\n",
    "    # lowercase\n",
    "    new_text = text.lower()\n",
    "\n",
    "    # remove twitter handles\n",
    "    new_text = re.sub(r\"@\\w+\", '', new_text)\n",
    "\n",
    "    # remove urls\n",
    "    new_text = re.sub(r'http:\\S+', '', new_text)\n",
    "    new_text = re.sub(r'https:\\S+', '', new_text)\n",
    "\n",
    "    # remove punctuation\n",
    "#     for punctuation in punctuations:\n",
    "#         new_text = new_text.replace(punctuation, '')\n",
    "\n",
    "    # remove numbers\n",
    "    new_text = ''.join(word for word in new_text if not word.isdigit())\n",
    "\n",
    "    return new_text\n",
    "\n",
    "data['clean_text'] = data['text'].apply(clean2)"
   ]
  },
  {
   "cell_type": "code",
   "execution_count": 8,
   "metadata": {
    "id": "pi2DJuCkU8l9"
   },
   "outputs": [],
   "source": [
    "emotion_dict = {'happy': 0, 'sad': 1, 'angry': 2}\n",
    "data['label'] = data.word_label.replace(emotion_dict)"
   ]
  },
  {
   "cell_type": "code",
   "execution_count": 9,
   "metadata": {
    "colab": {
     "base_uri": "https://localhost:8080/",
     "height": 391
    },
    "id": "rTPn9IsJZxUz",
    "outputId": "22a11c4d-8e5b-4ea8-cf55-cc1a2ad0716f"
   },
   "outputs": [
    {
     "data": {
      "text/html": [
       "<div>\n",
       "<style scoped>\n",
       "    .dataframe tbody tr th:only-of-type {\n",
       "        vertical-align: middle;\n",
       "    }\n",
       "\n",
       "    .dataframe tbody tr th {\n",
       "        vertical-align: top;\n",
       "    }\n",
       "\n",
       "    .dataframe thead th {\n",
       "        text-align: right;\n",
       "    }\n",
       "</style>\n",
       "<table border=\"1\" class=\"dataframe\">\n",
       "  <thead>\n",
       "    <tr style=\"text-align: right;\">\n",
       "      <th></th>\n",
       "      <th>Unnamed: 0</th>\n",
       "      <th>text</th>\n",
       "      <th>word_label</th>\n",
       "      <th>source</th>\n",
       "      <th>clean_text</th>\n",
       "      <th>label</th>\n",
       "    </tr>\n",
       "  </thead>\n",
       "  <tbody>\n",
       "    <tr>\n",
       "      <th>0</th>\n",
       "      <td>0</td>\n",
       "      <td>i am thankful that she continues to feel comfo...</td>\n",
       "      <td>happy</td>\n",
       "      <td>HuggingFace</td>\n",
       "      <td>i am thankful that she continues to feel comfo...</td>\n",
       "      <td>0</td>\n",
       "    </tr>\n",
       "    <tr>\n",
       "      <th>1</th>\n",
       "      <td>1</td>\n",
       "      <td>i want to do it the right way oh orihime whisp...</td>\n",
       "      <td>happy</td>\n",
       "      <td>HuggingFace</td>\n",
       "      <td>i want to do it the right way oh orihime whisp...</td>\n",
       "      <td>0</td>\n",
       "    </tr>\n",
       "    <tr>\n",
       "      <th>2</th>\n",
       "      <td>2</td>\n",
       "      <td>i was gaining weight getting a lot stronger an...</td>\n",
       "      <td>happy</td>\n",
       "      <td>HuggingFace</td>\n",
       "      <td>i was gaining weight getting a lot stronger an...</td>\n",
       "      <td>0</td>\n",
       "    </tr>\n",
       "    <tr>\n",
       "      <th>3</th>\n",
       "      <td>3</td>\n",
       "      <td>i feel that there is no way to determine if a ...</td>\n",
       "      <td>happy</td>\n",
       "      <td>HuggingFace</td>\n",
       "      <td>i feel that there is no way to determine if a ...</td>\n",
       "      <td>0</td>\n",
       "    </tr>\n",
       "    <tr>\n",
       "      <th>4</th>\n",
       "      <td>4</td>\n",
       "      <td>i feel sure that i wouldnt have gained so much...</td>\n",
       "      <td>happy</td>\n",
       "      <td>HuggingFace</td>\n",
       "      <td>i feel sure that i wouldnt have gained so much...</td>\n",
       "      <td>0</td>\n",
       "    </tr>\n",
       "  </tbody>\n",
       "</table>\n",
       "</div>"
      ],
      "text/plain": [
       "   Unnamed: 0                                               text word_label  \\\n",
       "0           0  i am thankful that she continues to feel comfo...      happy   \n",
       "1           1  i want to do it the right way oh orihime whisp...      happy   \n",
       "2           2  i was gaining weight getting a lot stronger an...      happy   \n",
       "3           3  i feel that there is no way to determine if a ...      happy   \n",
       "4           4  i feel sure that i wouldnt have gained so much...      happy   \n",
       "\n",
       "        source                                         clean_text  label  \n",
       "0  HuggingFace  i am thankful that she continues to feel comfo...      0  \n",
       "1  HuggingFace  i want to do it the right way oh orihime whisp...      0  \n",
       "2  HuggingFace  i was gaining weight getting a lot stronger an...      0  \n",
       "3  HuggingFace  i feel that there is no way to determine if a ...      0  \n",
       "4  HuggingFace  i feel sure that i wouldnt have gained so much...      0  "
      ]
     },
     "execution_count": 9,
     "metadata": {},
     "output_type": "execute_result"
    }
   ],
   "source": [
    "data.head()"
   ]
  },
  {
   "cell_type": "code",
   "execution_count": 10,
   "metadata": {
    "colab": {
     "base_uri": "https://localhost:8080/",
     "height": 419
    },
    "id": "Ag9-DvieZmda",
    "outputId": "8f8d04df-385b-4d42-ad49-8fa1761867e0"
   },
   "outputs": [
    {
     "data": {
      "text/html": [
       "<div>\n",
       "<style scoped>\n",
       "    .dataframe tbody tr th:only-of-type {\n",
       "        vertical-align: middle;\n",
       "    }\n",
       "\n",
       "    .dataframe tbody tr th {\n",
       "        vertical-align: top;\n",
       "    }\n",
       "\n",
       "    .dataframe thead th {\n",
       "        text-align: right;\n",
       "    }\n",
       "</style>\n",
       "<table border=\"1\" class=\"dataframe\">\n",
       "  <thead>\n",
       "    <tr style=\"text-align: right;\">\n",
       "      <th></th>\n",
       "      <th>clean_text</th>\n",
       "      <th>label</th>\n",
       "    </tr>\n",
       "  </thead>\n",
       "  <tbody>\n",
       "    <tr>\n",
       "      <th>0</th>\n",
       "      <td>i am thankful that she continues to feel comfo...</td>\n",
       "      <td>0</td>\n",
       "    </tr>\n",
       "    <tr>\n",
       "      <th>1</th>\n",
       "      <td>i want to do it the right way oh orihime whisp...</td>\n",
       "      <td>0</td>\n",
       "    </tr>\n",
       "    <tr>\n",
       "      <th>2</th>\n",
       "      <td>i was gaining weight getting a lot stronger an...</td>\n",
       "      <td>0</td>\n",
       "    </tr>\n",
       "    <tr>\n",
       "      <th>3</th>\n",
       "      <td>i feel that there is no way to determine if a ...</td>\n",
       "      <td>0</td>\n",
       "    </tr>\n",
       "    <tr>\n",
       "      <th>4</th>\n",
       "      <td>i feel sure that i wouldnt have gained so much...</td>\n",
       "      <td>0</td>\n",
       "    </tr>\n",
       "    <tr>\n",
       "      <th>...</th>\n",
       "      <td>...</td>\n",
       "      <td>...</td>\n",
       "    </tr>\n",
       "    <tr>\n",
       "      <th>42480</th>\n",
       "      <td>this hurts to hear because we know it's true. ...</td>\n",
       "      <td>1</td>\n",
       "    </tr>\n",
       "    <tr>\n",
       "      <th>42481</th>\n",
       "      <td>yep happening to me all the time at my college...</td>\n",
       "      <td>1</td>\n",
       "    </tr>\n",
       "    <tr>\n",
       "      <th>42482</th>\n",
       "      <td>shit, i lost the original page. please forgive...</td>\n",
       "      <td>1</td>\n",
       "    </tr>\n",
       "    <tr>\n",
       "      <th>42483</th>\n",
       "      <td>i want to die</td>\n",
       "      <td>1</td>\n",
       "    </tr>\n",
       "    <tr>\n",
       "      <th>42484</th>\n",
       "      <td>i mourn for you anti-intellectuals</td>\n",
       "      <td>1</td>\n",
       "    </tr>\n",
       "  </tbody>\n",
       "</table>\n",
       "<p>42485 rows × 2 columns</p>\n",
       "</div>"
      ],
      "text/plain": [
       "                                              clean_text  label\n",
       "0      i am thankful that she continues to feel comfo...      0\n",
       "1      i want to do it the right way oh orihime whisp...      0\n",
       "2      i was gaining weight getting a lot stronger an...      0\n",
       "3      i feel that there is no way to determine if a ...      0\n",
       "4      i feel sure that i wouldnt have gained so much...      0\n",
       "...                                                  ...    ...\n",
       "42480  this hurts to hear because we know it's true. ...      1\n",
       "42481  yep happening to me all the time at my college...      1\n",
       "42482  shit, i lost the original page. please forgive...      1\n",
       "42483                                      i want to die      1\n",
       "42484                 i mourn for you anti-intellectuals      1\n",
       "\n",
       "[42485 rows x 2 columns]"
      ]
     },
     "execution_count": 10,
     "metadata": {},
     "output_type": "execute_result"
    }
   ],
   "source": [
    "base_data = data[['clean_text','label']]\n",
    "base_data"
   ]
  },
  {
   "cell_type": "code",
   "execution_count": 11,
   "metadata": {
    "id": "qTpZgdwgT-V0"
   },
   "outputs": [],
   "source": [
    "train_df, eval_df = train_test_split(base_data, test_size=0.2)"
   ]
  },
  {
   "cell_type": "code",
   "execution_count": 16,
   "metadata": {
    "colab": {
     "base_uri": "https://localhost:8080/"
    },
    "id": "pMY36fk_T-Cw",
    "outputId": "ec60a4ef-ed06-429f-ee05-3356766ec155"
   },
   "outputs": [
    {
     "data": {
      "application/vnd.jupyter.widget-view+json": {
       "model_id": "82f8e9f017ad4e2f91f4d94b6c4f7aa8",
       "version_major": 2,
       "version_minor": 0
      },
      "text/plain": [
       "Downloading:   0%|          | 0.00/501M [00:00<?, ?B/s]"
      ]
     },
     "metadata": {},
     "output_type": "display_data"
    },
    {
     "name": "stderr",
     "output_type": "stream",
     "text": [
      "Some weights of the model checkpoint at roberta-base were not used when initializing RobertaForSequenceClassification: ['lm_head.layer_norm.bias', 'lm_head.dense.weight', 'lm_head.bias', 'lm_head.decoder.weight', 'lm_head.dense.bias', 'lm_head.layer_norm.weight']\n",
      "- This IS expected if you are initializing RobertaForSequenceClassification from the checkpoint of a model trained on another task or with another architecture (e.g. initializing a BertForSequenceClassification model from a BertForPreTraining model).\n",
      "- This IS NOT expected if you are initializing RobertaForSequenceClassification from the checkpoint of a model that you expect to be exactly identical (initializing a BertForSequenceClassification model from a BertForSequenceClassification model).\n",
      "Some weights of RobertaForSequenceClassification were not initialized from the model checkpoint at roberta-base and are newly initialized: ['classifier.dense.bias', 'classifier.out_proj.bias', 'classifier.out_proj.weight', 'classifier.dense.weight']\n",
      "You should probably TRAIN this model on a down-stream task to be able to use it for predictions and inference.\n"
     ]
    },
    {
     "data": {
      "application/vnd.jupyter.widget-view+json": {
       "model_id": "28c4c3e350f847659162dba08a10246b",
       "version_major": 2,
       "version_minor": 0
      },
      "text/plain": [
       "Downloading:   0%|          | 0.00/899k [00:00<?, ?B/s]"
      ]
     },
     "metadata": {},
     "output_type": "display_data"
    },
    {
     "data": {
      "application/vnd.jupyter.widget-view+json": {
       "model_id": "a82b415aad454bc089bf9dbf10f8920f",
       "version_major": 2,
       "version_minor": 0
      },
      "text/plain": [
       "Downloading:   0%|          | 0.00/456k [00:00<?, ?B/s]"
      ]
     },
     "metadata": {},
     "output_type": "display_data"
    },
    {
     "data": {
      "application/vnd.jupyter.widget-view+json": {
       "model_id": "923ad62ce41249d6977b71a5cb26f860",
       "version_major": 2,
       "version_minor": 0
      },
      "text/plain": [
       "Downloading:   0%|          | 0.00/1.36M [00:00<?, ?B/s]"
      ]
     },
     "metadata": {},
     "output_type": "display_data"
    }
   ],
   "source": [
    "from simpletransformers.classification import ClassificationModel\n",
    "\n",
    "args={\n",
    "    'train_batch_size': 8,\n",
    "    'eval_batch_size': 8,\n",
    "    'learning_rate': 3e-5, \n",
    "    'num_train_epochs': 1, \n",
    "    'max_seq_length': 500\n",
    "    }\n",
    "model = ClassificationModel('roberta', 'roberta-base', num_labels=4, args=args, use_cuda=False)"
   ]
  },
  {
   "cell_type": "code",
   "execution_count": 17,
   "metadata": {
    "id": "DHioFnBZWNcS",
    "scrolled": true
   },
   "outputs": [
    {
     "name": "stderr",
     "output_type": "stream",
     "text": [
      "/Users/vprentice/.pyenv/versions/3.8.6/envs/lewagon/lib/python3.8/site-packages/simpletransformers/classification/classification_model.py:615: UserWarning: Dataframe headers not specified. Falling back to using column 0 as text and column 1 as labels.\n",
      "  warnings.warn(\n"
     ]
    },
    {
     "data": {
      "application/vnd.jupyter.widget-view+json": {
       "model_id": "9635cc82d5614eeb9693007f25e7ecf4",
       "version_major": 2,
       "version_minor": 0
      },
      "text/plain": [
       "  0%|          | 0/33988 [00:00<?, ?it/s]"
      ]
     },
     "metadata": {},
     "output_type": "display_data"
    },
    {
     "name": "stdout",
     "output_type": "stream",
     "text": [
      "huggingface/tokenizers: The current process just got forked, after parallelism has already been used. Disabling parallelism to avoid deadlocks...\n",
      "To disable this warning, you can either:\n",
      "\t- Avoid using `tokenizers` before the fork if possible\n",
      "\t- Explicitly set the environment variable TOKENIZERS_PARALLELISM=(true | false)\n",
      "huggingface/tokenizers: The current process just got forked, after parallelism has already been used. Disabling parallelism to avoid deadlocks...\n",
      "To disable this warning, you can either:\n",
      "\t- Avoid using `tokenizers` before the fork if possible\n",
      "\t- Explicitly set the environment variable TOKENIZERS_PARALLELISM=(true | false)\n"
     ]
    },
    {
     "data": {
      "application/vnd.jupyter.widget-view+json": {
       "model_id": "c38b48b4170348ab85c9b69f84a63b78",
       "version_major": 2,
       "version_minor": 0
      },
      "text/plain": [
       "Epoch:   0%|          | 0/1 [00:00<?, ?it/s]"
      ]
     },
     "metadata": {},
     "output_type": "display_data"
    },
    {
     "data": {
      "application/vnd.jupyter.widget-view+json": {
       "model_id": "5668c670200b4374bdc0f156ecdae2f0",
       "version_major": 2,
       "version_minor": 0
      },
      "text/plain": [
       "Running Epoch 0 of 1:   0%|          | 0/4249 [00:00<?, ?it/s]"
      ]
     },
     "metadata": {},
     "output_type": "display_data"
    },
    {
     "ename": "KeyboardInterrupt",
     "evalue": "",
     "output_type": "error",
     "traceback": [
      "\u001b[0;31m---------------------------------------------------------------------------\u001b[0m",
      "\u001b[0;31mKeyboardInterrupt\u001b[0m                         Traceback (most recent call last)",
      "\u001b[0;32m/var/folders/p2/1nklzft14ks6y1znpqsgsvlm0000gn/T/ipykernel_8892/3344536261.py\u001b[0m in \u001b[0;36m<module>\u001b[0;34m\u001b[0m\n\u001b[0;32m----> 1\u001b[0;31m \u001b[0mmodel\u001b[0m\u001b[0;34m.\u001b[0m\u001b[0mtrain_model\u001b[0m\u001b[0;34m(\u001b[0m\u001b[0mtrain_df\u001b[0m\u001b[0;34m)\u001b[0m\u001b[0;34m\u001b[0m\u001b[0;34m\u001b[0m\u001b[0m\n\u001b[0m",
      "\u001b[0;32m~/.pyenv/versions/3.8.6/envs/lewagon/lib/python3.8/site-packages/simpletransformers/classification/classification_model.py\u001b[0m in \u001b[0;36mtrain_model\u001b[0;34m(self, train_df, multi_label, output_dir, show_running_loss, args, eval_df, verbose, **kwargs)\u001b[0m\n\u001b[1;32m    633\u001b[0m         \u001b[0mos\u001b[0m\u001b[0;34m.\u001b[0m\u001b[0mmakedirs\u001b[0m\u001b[0;34m(\u001b[0m\u001b[0moutput_dir\u001b[0m\u001b[0;34m,\u001b[0m \u001b[0mexist_ok\u001b[0m\u001b[0;34m=\u001b[0m\u001b[0;32mTrue\u001b[0m\u001b[0;34m)\u001b[0m\u001b[0;34m\u001b[0m\u001b[0;34m\u001b[0m\u001b[0m\n\u001b[1;32m    634\u001b[0m \u001b[0;34m\u001b[0m\u001b[0m\n\u001b[0;32m--> 635\u001b[0;31m         global_step, training_details = self.train(\n\u001b[0m\u001b[1;32m    636\u001b[0m             \u001b[0mtrain_dataloader\u001b[0m\u001b[0;34m,\u001b[0m\u001b[0;34m\u001b[0m\u001b[0;34m\u001b[0m\u001b[0m\n\u001b[1;32m    637\u001b[0m             \u001b[0moutput_dir\u001b[0m\u001b[0;34m,\u001b[0m\u001b[0;34m\u001b[0m\u001b[0;34m\u001b[0m\u001b[0m\n",
      "\u001b[0;32m~/.pyenv/versions/3.8.6/envs/lewagon/lib/python3.8/site-packages/simpletransformers/classification/classification_model.py\u001b[0m in \u001b[0;36mtrain\u001b[0;34m(self, train_dataloader, output_dir, multi_label, show_running_loss, eval_df, verbose, **kwargs)\u001b[0m\n\u001b[1;32m    932\u001b[0m                     \u001b[0mscaler\u001b[0m\u001b[0;34m.\u001b[0m\u001b[0mscale\u001b[0m\u001b[0;34m(\u001b[0m\u001b[0mloss\u001b[0m\u001b[0;34m)\u001b[0m\u001b[0;34m.\u001b[0m\u001b[0mbackward\u001b[0m\u001b[0;34m(\u001b[0m\u001b[0;34m)\u001b[0m\u001b[0;34m\u001b[0m\u001b[0;34m\u001b[0m\u001b[0m\n\u001b[1;32m    933\u001b[0m                 \u001b[0;32melse\u001b[0m\u001b[0;34m:\u001b[0m\u001b[0;34m\u001b[0m\u001b[0;34m\u001b[0m\u001b[0m\n\u001b[0;32m--> 934\u001b[0;31m                     \u001b[0mloss\u001b[0m\u001b[0;34m.\u001b[0m\u001b[0mbackward\u001b[0m\u001b[0;34m(\u001b[0m\u001b[0;34m)\u001b[0m\u001b[0;34m\u001b[0m\u001b[0;34m\u001b[0m\u001b[0m\n\u001b[0m\u001b[1;32m    935\u001b[0m \u001b[0;34m\u001b[0m\u001b[0m\n\u001b[1;32m    936\u001b[0m                 \u001b[0mtr_loss\u001b[0m \u001b[0;34m+=\u001b[0m \u001b[0mloss\u001b[0m\u001b[0;34m.\u001b[0m\u001b[0mitem\u001b[0m\u001b[0;34m(\u001b[0m\u001b[0;34m)\u001b[0m\u001b[0;34m\u001b[0m\u001b[0;34m\u001b[0m\u001b[0m\n",
      "\u001b[0;32m~/.pyenv/versions/3.8.6/envs/lewagon/lib/python3.8/site-packages/torch/_tensor.py\u001b[0m in \u001b[0;36mbackward\u001b[0;34m(self, gradient, retain_graph, create_graph, inputs)\u001b[0m\n\u001b[1;32m    253\u001b[0m                 \u001b[0mcreate_graph\u001b[0m\u001b[0;34m=\u001b[0m\u001b[0mcreate_graph\u001b[0m\u001b[0;34m,\u001b[0m\u001b[0;34m\u001b[0m\u001b[0;34m\u001b[0m\u001b[0m\n\u001b[1;32m    254\u001b[0m                 inputs=inputs)\n\u001b[0;32m--> 255\u001b[0;31m         \u001b[0mtorch\u001b[0m\u001b[0;34m.\u001b[0m\u001b[0mautograd\u001b[0m\u001b[0;34m.\u001b[0m\u001b[0mbackward\u001b[0m\u001b[0;34m(\u001b[0m\u001b[0mself\u001b[0m\u001b[0;34m,\u001b[0m \u001b[0mgradient\u001b[0m\u001b[0;34m,\u001b[0m \u001b[0mretain_graph\u001b[0m\u001b[0;34m,\u001b[0m \u001b[0mcreate_graph\u001b[0m\u001b[0;34m,\u001b[0m \u001b[0minputs\u001b[0m\u001b[0;34m=\u001b[0m\u001b[0minputs\u001b[0m\u001b[0;34m)\u001b[0m\u001b[0;34m\u001b[0m\u001b[0;34m\u001b[0m\u001b[0m\n\u001b[0m\u001b[1;32m    256\u001b[0m \u001b[0;34m\u001b[0m\u001b[0m\n\u001b[1;32m    257\u001b[0m     \u001b[0;32mdef\u001b[0m \u001b[0mregister_hook\u001b[0m\u001b[0;34m(\u001b[0m\u001b[0mself\u001b[0m\u001b[0;34m,\u001b[0m \u001b[0mhook\u001b[0m\u001b[0;34m)\u001b[0m\u001b[0;34m:\u001b[0m\u001b[0;34m\u001b[0m\u001b[0;34m\u001b[0m\u001b[0m\n",
      "\u001b[0;32m~/.pyenv/versions/3.8.6/envs/lewagon/lib/python3.8/site-packages/torch/autograd/__init__.py\u001b[0m in \u001b[0;36mbackward\u001b[0;34m(tensors, grad_tensors, retain_graph, create_graph, grad_variables, inputs)\u001b[0m\n\u001b[1;32m    145\u001b[0m         \u001b[0mretain_graph\u001b[0m \u001b[0;34m=\u001b[0m \u001b[0mcreate_graph\u001b[0m\u001b[0;34m\u001b[0m\u001b[0;34m\u001b[0m\u001b[0m\n\u001b[1;32m    146\u001b[0m \u001b[0;34m\u001b[0m\u001b[0m\n\u001b[0;32m--> 147\u001b[0;31m     Variable._execution_engine.run_backward(\n\u001b[0m\u001b[1;32m    148\u001b[0m         \u001b[0mtensors\u001b[0m\u001b[0;34m,\u001b[0m \u001b[0mgrad_tensors_\u001b[0m\u001b[0;34m,\u001b[0m \u001b[0mretain_graph\u001b[0m\u001b[0;34m,\u001b[0m \u001b[0mcreate_graph\u001b[0m\u001b[0;34m,\u001b[0m \u001b[0minputs\u001b[0m\u001b[0;34m,\u001b[0m\u001b[0;34m\u001b[0m\u001b[0;34m\u001b[0m\u001b[0m\n\u001b[1;32m    149\u001b[0m         allow_unreachable=True, accumulate_grad=True)  # allow_unreachable flag\n",
      "\u001b[0;31mKeyboardInterrupt\u001b[0m: "
     ]
    }
   ],
   "source": [
    "model.train_model(train_df)"
   ]
  },
  {
   "cell_type": "code",
   "execution_count": null,
   "metadata": {
    "id": "Nbuk77WbTp4J"
   },
   "outputs": [],
   "source": [
    "#     #torch.save(model.state_dict(), f'finetuned_BERT_epoch_{epoch}.model')\n",
    "# model_save_name = 'bert_epoch4.model'\n",
    "# path = F\"/content/gdrive/My Drive/{model_save_name}\" \n",
    "# torch.save(model.state_dict(), path)"
   ]
  }
 ],
 "metadata": {
  "accelerator": "GPU",
  "colab": {
   "name": "simpletransformer.ipynb",
   "provenance": []
  },
  "kernelspec": {
   "display_name": "Python 3 (ipykernel)",
   "language": "python",
   "name": "python3"
  },
  "language_info": {
   "codemirror_mode": {
    "name": "ipython",
    "version": 3
   },
   "file_extension": ".py",
   "mimetype": "text/x-python",
   "name": "python",
   "nbconvert_exporter": "python",
   "pygments_lexer": "ipython3",
   "version": "3.8.6"
  },
  "toc": {
   "base_numbering": 1,
   "nav_menu": {},
   "number_sections": true,
   "sideBar": true,
   "skip_h1_title": false,
   "title_cell": "Table of Contents",
   "title_sidebar": "Contents",
   "toc_cell": false,
   "toc_position": {},
   "toc_section_display": true,
   "toc_window_display": false
  }
 },
 "nbformat": 4,
 "nbformat_minor": 2
}
